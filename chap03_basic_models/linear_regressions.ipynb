{
 "cells": [
  {
   "cell_type": "markdown",
   "metadata": {},
   "source": [
    "# 선형회귀(Linear Regression)   \n",
    "그럼 가장 간단한 Linear Regression 을 Tensorflow 로 한번 구현해 보자. 단순 선형회귀를 가정하면 우리가 구하고자 하는 모델은 아마도 y = wx+b 형태가 될 것이고, 우리가 찾고자 하는 값은 주어진 데이터를 가장 잘 설명하는 w와 b 값을 찾는 것이 될 것이다. 그 말은 즉 주어진 데이터와 모델이 차이(Error)를 Minimize 하는 방향으로 w,b 값을 Train 해가면 되는 것이다. Tensorflow 는 기본적으로 이러한 이론을 그대로 코딩하는 형태로 동작한다. 이해를 돕기위하여 아래의 코드를 설명하도록 하겠다. "
   ]
  },
  {
   "cell_type": "markdown",
   "metadata": {},
   "source": [
    "<H3>(1) Hyper Parameter</H3>   \n",
    "- learning_rate : weight 값이 너무 적으면 Train 이 되지 않을 수 있고 weight 값이 너무 크면 Overshooting 이 발생할 수 있으니 적절히 조정필요\n",
    "- training_epochs : Data Set에 대한 Training 반복 횟수 \n",
    "- display_step : Log 를 찍는 step 단위 "
   ]
  },
  {
   "cell_type": "code",
   "execution_count": 6,
   "metadata": {
    "collapsed": false
   },
   "outputs": [
    {
     "name": "stdout",
     "output_type": "stream",
     "text": [
      "Hyper Parameter set\n"
     ]
    }
   ],
   "source": [
    "from __future__ import print_function\n",
    "\n",
    "import tensorflow as tf\n",
    "import numpy\n",
    "import matplotlib.pyplot as plt\n",
    "rng = numpy.random\n",
    "\n",
    "# Parameters\n",
    "learning_rate = 0.01\n",
    "training_epochs = 1000\n",
    "display_step = 50\n",
    "logs_path = '/tmp/tensorflow_logs/chap2-linear'\n",
    "print (\"Hyper Parameter set\")"
   ]
  },
  {
   "cell_type": "markdown",
   "metadata": {},
   "source": [
    "<H3>(2) Train Data</H3>    \n"
   ]
  },
  {
   "cell_type": "code",
   "execution_count": 11,
   "metadata": {
    "collapsed": false
   },
   "outputs": [
    {
     "name": "stdout",
     "output_type": "stream",
     "text": [
      "Train Data set\n"
     ]
    }
   ],
   "source": [
    "# Training Data\n",
    "train_X = numpy.asarray([3.3,4.4,5.5,6.71,6.93,4.168,9.779,6.182,7.59,2.167,\n",
    "                         7.042,10.791,5.313,7.997,5.654,9.27,3.1])\n",
    "train_Y = numpy.asarray([1.7,2.76,2.09,3.19,1.694,1.573,3.366,2.596,2.53,1.221,\n",
    "                         2.827,3.465,1.65,2.904,2.42,2.94,1.3])\n",
    "n_samples = train_X.shape[0]\n",
    "print (\"Train Data set\")"
   ]
  },
  {
   "cell_type": "markdown",
   "metadata": {},
   "source": [
    "<H3>(3) Graph Design</H3>   \n",
    "아래 내용을 요약하자면 Y=WX + b 의 Cost가 최소가 되는 W,b 를 Gradient Descent 알고리즘을 사용하여 최적화하는 것이다.    \n",
    "[1] 은 위에 정의한 train_X, train_Y 를 Feed 하기 위한 placeholder 정의   \n",
    "[2] Weight, bias 값을 Random 으로 정의한다.   \n",
    "[3] pred = W * X + b   \n",
    "[4] cost 함수를 정의한다.   \n",
    "[5] cost 최소화에 GradientDescentOptimizer 를 사용한다   "
   ]
  },
  {
   "cell_type": "code",
   "execution_count": 12,
   "metadata": {
    "collapsed": false
   },
   "outputs": [
    {
     "name": "stdout",
     "output_type": "stream",
     "text": [
      "Graph Design set\n"
     ]
    }
   ],
   "source": [
    "# [1] : tf Graph Input\n",
    "\n",
    "X = tf.placeholder(\"float\")\n",
    "Y = tf.placeholder(\"float\")\n",
    "\n",
    "# [2] : Set model weights\n",
    "W = tf.Variable(rng.randn(), name=\"weight\")\n",
    "b = tf.Variable(rng.randn(), name=\"bias\")\n",
    "\n",
    "with tf.name_scope('Pred'):\n",
    "    # [3] : Construct a linear model\n",
    "    pred = tf.add(tf.multiply(X, W), b)\n",
    "\n",
    "with tf.name_scope('Cost'):\n",
    "    # [4] : Mean squared error\n",
    "    cost = tf.reduce_sum(tf.pow(pred-Y, 2))/(2*n_samples)\n",
    "\n",
    "with tf.name_scope('Optimizer'):\n",
    "    # [5] : Gradient descent\n",
    "    optimizer = tf.train.GradientDescentOptimizer(learning_rate).minimize(cost)\n",
    "\n",
    "init = tf.global_variables_initializer()\n",
    "print(\"Graph Design set\")"
   ]
  },
  {
   "cell_type": "markdown",
   "metadata": {},
   "source": [
    "<H3>(4) Session Run - Train </H3>    \n",
    "원 예제 코드는 뭔가 코드가 많지만 사실은 아래 내용만 실행해서 optimizer 에 Data 를 Feed 해주면 Train 은 끝나는 것이다."
   ]
  },
  {
   "cell_type": "code",
   "execution_count": 13,
   "metadata": {
    "collapsed": false
   },
   "outputs": [
    {
     "name": "stdout",
     "output_type": "stream",
     "text": [
      "Train Finish\n",
      "weight : 0.2544313669204712\n",
      "bias : 0.7666639089584351\n"
     ]
    }
   ],
   "source": [
    "# Launch the graph\n",
    "with tf.Session() as sess:\n",
    "    sess.run(init)\n",
    "    tf.summary.FileWriter(logs_path, graph=tf.get_default_graph())\n",
    "    \n",
    "    # Fit all training data\n",
    "    for epoch in range(training_epochs):\n",
    "        for (x, y) in zip(train_X, train_Y):\n",
    "            sess.run(optimizer, feed_dict={X: x, Y: y})\n",
    "                                   \n",
    "    print(\"Train Finish\")\n",
    "    print(\"weight : {0}\".format(sess.run(W)))\n",
    "    print(\"bias : {0}\".format(sess.run(b)))"
   ]
  },
  {
   "cell_type": "markdown",
   "metadata": {},
   "source": [
    "<H3>(4) Session Run - LOG 및 테스트</H3>   \n",
    "원래 예제 코드를 다 돌려보자. 아래는 Train 도중 Log 출력, Plot 그래프 출력, Test 데이터 출력 등 코드를 추가한 것이다.  "
   ]
  },
  {
   "cell_type": "code",
   "execution_count": 14,
   "metadata": {
    "collapsed": false
   },
   "outputs": [
    {
     "name": "stdout",
     "output_type": "stream",
     "text": [
      "Epoch: 0050 cost= 0.077739373 W= 0.265108 b= 0.689859\n",
      "Epoch: 0100 cost= 0.077651680 W= 0.264185 b= 0.696496\n",
      "Epoch: 0150 cost= 0.077574193 W= 0.263317 b= 0.702739\n",
      "Epoch: 0200 cost= 0.077505693 W= 0.262501 b= 0.708611\n",
      "Epoch: 0250 cost= 0.077445187 W= 0.261733 b= 0.714134\n",
      "Epoch: 0300 cost= 0.077391729 W= 0.261011 b= 0.719328\n",
      "Epoch: 0350 cost= 0.077344514 W= 0.260332 b= 0.724213\n",
      "Epoch: 0400 cost= 0.077302769 W= 0.259693 b= 0.728809\n",
      "Epoch: 0450 cost= 0.077265933 W= 0.259093 b= 0.733131\n",
      "Epoch: 0500 cost= 0.077233374 W= 0.258528 b= 0.737196\n",
      "Epoch: 0550 cost= 0.077204615 W= 0.257996 b= 0.741018\n",
      "Epoch: 0600 cost= 0.077179231 W= 0.257496 b= 0.744614\n",
      "Epoch: 0650 cost= 0.077156812 W= 0.257026 b= 0.747997\n",
      "Epoch: 0700 cost= 0.077137023 W= 0.256584 b= 0.751178\n",
      "Epoch: 0750 cost= 0.077119537 W= 0.256168 b= 0.75417\n",
      "Epoch: 0800 cost= 0.077104129 W= 0.255777 b= 0.756984\n",
      "Epoch: 0850 cost= 0.077090524 W= 0.255409 b= 0.759631\n",
      "Epoch: 0900 cost= 0.077078529 W= 0.255063 b= 0.76212\n",
      "Epoch: 0950 cost= 0.077067919 W= 0.254737 b= 0.764462\n",
      "Epoch: 1000 cost= 0.077058598 W= 0.254431 b= 0.766664\n",
      "Optimization Finished!\n",
      "Training cost= 0.0770586 W= 0.254431 b= 0.766664 \n",
      "\n"
     ]
    },
    {
     "data": {
      "image/png": "[encoded data removed]",
      "text/plain": [
       "<matplotlib.figure.Figure at 0x7f05e5c36828>"
      ]
     },
     "metadata": {},
     "output_type": "display_data"
    },
    {
     "name": "stdout",
     "output_type": "stream",
     "text": [
      "Testing... (Mean square loss Comparison)\n",
      "Testing cost= 0.078227\n",
      "Absolute mean square loss difference: 0.00116844\n"
     ]
    },
    {
     "data": {
      "image/png": "[encoded data removed]",
      "text/plain": [
       "<matplotlib.figure.Figure at 0x7f05e1b10b70>"
      ]
     },
     "metadata": {},
     "output_type": "display_data"
    }
   ],
   "source": [
    "# Launch the graph\n",
    "with tf.Session() as sess:\n",
    "    sess.run(init)\n",
    "    \n",
    "    # Fit all training data\n",
    "    for epoch in range(training_epochs):\n",
    "        for (x, y) in zip(train_X, train_Y):\n",
    "            sess.run(optimizer, feed_dict={X: x, Y: y})\n",
    "        \n",
    "        # Display logs per epoch step\n",
    "        if (epoch+1) % display_step == 0:\n",
    "            c = sess.run(cost, feed_dict={X: train_X, Y:train_Y})\n",
    "            print(\"Epoch:\", '%04d' % (epoch+1), \"cost=\", \"{:.9f}\".format(c), \\\n",
    "                \"W=\", sess.run(W), \"b=\", sess.run(b))\n",
    "\n",
    "    print(\"Optimization Finished!\")\n",
    "    training_cost = sess.run(cost, feed_dict={X: train_X, Y: train_Y})\n",
    "    print(\"Training cost=\", training_cost, \"W=\", sess.run(W), \"b=\", sess.run(b), '\\n')\n",
    "\n",
    "    # 그래프 PLOT 출력 \n",
    "    plt.plot(train_X, train_Y, 'ro', label='Original data')\n",
    "    plt.plot(train_X, sess.run(W) * train_X + sess.run(b), label='Fitted line')\n",
    "    plt.legend()\n",
    "    plt.show()\n",
    "\n",
    "    # TEST 코드 \n",
    "    test_X = numpy.asarray([6.83, 4.668, 8.9, 7.91, 5.7, 8.7, 3.1, 2.1])\n",
    "    test_Y = numpy.asarray([1.84, 2.273, 3.2, 2.831, 2.92, 3.24, 1.35, 1.03])\n",
    "\n",
    "    print(\"Testing... (Mean square loss Comparison)\")\n",
    "    testing_cost = sess.run(\n",
    "        tf.reduce_sum(tf.pow(pred - Y, 2)) / (2 * test_X.shape[0]),\n",
    "        feed_dict={X: test_X, Y: test_Y})  # same function as cost above\n",
    "    print(\"Testing cost=\", testing_cost)\n",
    "    print(\"Absolute mean square loss difference:\", abs(\n",
    "        training_cost - testing_cost))\n",
    "\n",
    "    plt.plot(test_X, test_Y, 'bo', label='Testing data')\n",
    "    plt.plot(train_X, sess.run(W) * train_X + sess.run(b), label='Fitted line')\n",
    "    plt.legend()\n",
    "    plt.show()\n",
    "    "
   ]
  },
  {
   "cell_type": "markdown",
   "metadata": {},
   "source": [
    "<H3>(5) TensorBoard</H3>   \n",
    "- 실행 : tensorboard --logdir=/tmp/tensorflow_logs/\n",
    "- 접속 : http://localhost:6006"
   ]
  },
  {
   "cell_type": "code",
   "execution_count": null,
   "metadata": {
    "collapsed": true
   },
   "outputs": [],
   "source": []
  }
 ],
 "metadata": {
  "anaconda-cloud": {},
  "kernelspec": {
   "display_name": "Python 3",
   "language": "python",
   "name": "python3"
  },
  "language_info": {
   "codemirror_mode": {
    "name": "ipython",
    "version": 3
   },
   "file_extension": ".py",
   "mimetype": "text/x-python",
   "name": "python",
   "nbconvert_exporter": "python",
   "pygments_lexer": "ipython3",
   "version": "3.5.2"
  }
 },
 "nbformat": 4,
 "nbformat_minor": 1
}

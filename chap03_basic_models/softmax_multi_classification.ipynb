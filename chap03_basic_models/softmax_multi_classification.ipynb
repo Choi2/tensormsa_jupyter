{
 "cells": [
  {
   "cell_type": "markdown",
   "metadata": {
    "collapsed": true
   },
   "source": [
    "# Softmax Multinomial Classification\n",
    "그럼 가장 간단한 Linear Regression 에서는 선형적인 관계가 있는 수요와 공급, 수요와 가격 등과 같은 Linear 한 관계를 예측하기 위한 용도로 주로 사용이 된다. 하지만 Email 내용이 Spam 인지 아닌지? Boolean 형태로 예측을 하는 것과 같이 논리적인 예측을 수행하고자 한다면 Logistic 분석을 사용하여 예측 결과를 0~1 사이에 수렴하도록 처리할 필요가 있다. "
   ]
  },
  {
   "cell_type": "code",
   "execution_count": null,
   "metadata": {
    "collapsed": true
   },
   "outputs": [],
   "source": []
  },
  {
   "cell_type": "code",
   "execution_count": 1,
   "metadata": {
    "collapsed": false
   },
   "outputs": [
    {
     "name": "stdout",
     "output_type": "stream",
     "text": [
      "Extracting MNIST_data/train-images-idx3-ubyte.gz\n",
      "Extracting MNIST_data/train-labels-idx1-ubyte.gz\n",
      "Extracting MNIST_data/t10k-images-idx3-ubyte.gz\n",
      "Extracting MNIST_data/t10k-labels-idx1-ubyte.gz\n",
      "0 0.1976\n",
      "1 0.3348\n",
      "2 0.4647\n",
      "3 0.5668\n",
      "4 0.6372\n",
      "5 0.6793\n",
      "6 0.707\n",
      "7 0.7263\n",
      "8 0.7373\n",
      "9 0.7456\n",
      "10 0.7525\n",
      "11 0.7552\n",
      "12 0.7585\n",
      "13 0.7614\n",
      "14 0.7665\n",
      "15 0.7692\n",
      "16 0.7726\n",
      "17 0.7747\n",
      "18 0.7793\n",
      "19 0.7828\n",
      "20 0.7853\n",
      "21 0.7884\n",
      "22 0.7905\n",
      "23 0.7925\n",
      "24 0.7959\n",
      "25 0.7976\n",
      "26 0.7992\n",
      "27 0.8013\n",
      "28 0.803\n",
      "29 0.8043\n"
     ]
    }
   ],
   "source": [
    "import tensorflow as tf\n",
    "import numpy as np\n",
    "from tensorflow.examples.tutorials.mnist import input_data\n",
    "\n",
    "logs_path = '/tmp/tensorflow_logs/chap2-softmax'\n",
    "\n",
    "mnist = input_data.read_data_sets(\"MNIST_data/\", one_hot=True)\n",
    "trX = mnist.train.images\n",
    "trY = mnist.train.labels\n",
    "teX = mnist.test.images\n",
    "teY = mnist.test.labels\n",
    "\n",
    "X = tf.placeholder(\"float\", [None, 784]) \n",
    "Y = tf.placeholder(\"float\", [None, 10])\n",
    "w = tf.Variable(tf.random_normal([784, 10], stddev=0.01))\n",
    "\n",
    "with tf.name_scope('PredFunc'):\n",
    "    py_x = tf.matmul(X, w)\n",
    "\n",
    "with tf.name_scope('CostFunc'):\n",
    "    cost = tf.reduce_mean(tf.nn.softmax_cross_entropy_with_logits(logits=py_x, labels=Y)) \n",
    "    #hyp = tf.div(1.,1.+tf.exp(-py_x))\n",
    "    #cost = tf.reduce_mean(-tf.reduce_sum(Y*tf.log(hyp)) + (1-Y)*tf.log(1-hyp))\n",
    "    \n",
    "with tf.name_scope('Optimize'):\n",
    "    # Train : Gradient Descent 를 사용하여 훈련 \n",
    "    train_op = tf.train.GradientDescentOptimizer(0.05).minimize(cost) \n",
    "\n",
    "with tf.name_scope('Predict'):\n",
    "    # Predict : Feed forwarding 을 통해 예측 \n",
    "    predict_op = tf.argmax(py_x, 1) \n",
    "\n",
    "# Launch the graph in a session\n",
    "with tf.Session() as sess:\n",
    "    # you need to initialize all variables\n",
    "    tf.global_variables_initializer().run()\n",
    "    tf.summary.FileWriter(logs_path, graph=tf.get_default_graph())\n",
    "    \n",
    "    for i in range(30):\n",
    "        # 128개씩 Train 수행 \n",
    "        #for start, end in zip(range(0, len(trX), 128), range(128, len(trX)+1, 128)):\n",
    "            #sess.run(train_op, feed_dict={X: trX[start:end], Y: trY[start:end]})\n",
    "        \n",
    "        # 한번에 Train 수행 \n",
    "        sess.run(train_op, feed_dict={X: trX, Y: trY})\n",
    "   \n",
    "        # Intertaion별 정확도 테스트 \n",
    "        print(i, np.mean(np.argmax(teY, axis=1) ==\n",
    "                         sess.run(predict_op, feed_dict={X: teX})))"
   ]
  },
  {
   "cell_type": "code",
   "execution_count": null,
   "metadata": {
    "collapsed": true
   },
   "outputs": [],
   "source": []
  }
 ],
 "metadata": {
  "anaconda-cloud": {},
  "kernelspec": {
   "display_name": "Python [conda root]",
   "language": "python",
   "name": "conda-root-py"
  },
  "language_info": {
   "codemirror_mode": {
    "name": "ipython",
    "version": 3
   },
   "file_extension": ".py",
   "mimetype": "text/x-python",
   "name": "python",
   "nbconvert_exporter": "python",
   "pygments_lexer": "ipython3",
   "version": "3.5.2"
  }
 },
 "nbformat": 4,
 "nbformat_minor": 1
}

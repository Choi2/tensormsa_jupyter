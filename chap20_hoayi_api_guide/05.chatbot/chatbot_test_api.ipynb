{
 "cells": [
  {
   "cell_type": "markdown",
   "metadata": {},
   "source": []
  },
  {
   "cell_type": "code",
   "execution_count": 13,
   "metadata": {
    "collapsed": false
   },
   "outputs": [
    {
     "name": "stdout",
     "output_type": "stream",
     "text": [
      "evaluation result : {\"output_data\": \"\", \"story_board_id\": \"\", \"unique_id\": \"1111\", \"intent_history\": [], \"opt_sel_list\": {}, \"story_req_entity\": {}, \"service_type\": \"\", \"intent_id\": \"6\", \"ontology_set_parms\": {}, \"package_id\": \"abcd\", \"ontology_id\": \"\", \"story_set_entity\": {\"이름\": \"김승우\", \"근태코드\": \"휴가\", \"직급\": \"과장\"}, \"convert_data\": \" [이름] [직급] [근태코드]\", \"request_type\": \"text\", \"input_data\": \"김승우 과장 휴가\", \"ontology_req_parms\": {}, \"intent_name\": \"\"}\n"
     ]
    }
   ],
   "source": [
    "#-*- coding: utf-8 -*-\n",
    "import requests\n",
    "import json, os\n",
    "url = \"{0}:{1}\".format(os.environ['HOSTNAME'] , \"8000\")\n",
    "\n",
    "resp = requests.put('http://' + url + '/api/v1/type/service/chatbot/2222/', \n",
    "                    json={  \"unique_id\" : \"1111\",\n",
    "                            \"package_id\" : \"abcd\",\n",
    "                            \"intent_id\" : \"\",\n",
    "                            \"intent_name\" : \"\",\n",
    "                            \"input_data\" : \"김승우 과장 휴가\",\n",
    "                            \"convert_data\" : \"\",\n",
    "                            \"intent_history\" : [],\n",
    "                            \"request_type\" : \"text\",\n",
    "                            \"service_type\" : \"\",\n",
    "                            \"story_board_id\" : \"\", \n",
    "                            \"story_req_entity\" : {}, \n",
    "                            \"story_set_entity\" : {},\n",
    "                            \"opt_sel_list\" : {},\n",
    "                            \"ontology_id\" : \"\", \n",
    "                            \"ontology_req_parms\" : {}, \n",
    "                            \"ontology_set_parms\" : {},\n",
    "                            \"output_data\" : \"\"\n",
    "                          })\n",
    "data = json.loads(resp.json())\n",
    "print(\"evaluation result : {0}\".format(data))"
   ]
  },
  {
   "cell_type": "code",
   "execution_count": null,
   "metadata": {
    "collapsed": true
   },
   "outputs": [],
   "source": []
  },
  {
   "cell_type": "code",
   "execution_count": null,
   "metadata": {
    "collapsed": true
   },
   "outputs": [],
   "source": []
  }
 ],
 "metadata": {
  "anaconda-cloud": {},
  "kernelspec": {
   "display_name": "Python [conda root]",
   "language": "python",
   "name": "conda-root-py"
  },
  "language_info": {
   "codemirror_mode": {
    "name": "ipython",
    "version": 3
   },
   "file_extension": ".py",
   "mimetype": "text/x-python",
   "name": "python",
   "nbconvert_exporter": "python",
   "pygments_lexer": "ipython3",
   "version": "3.5.2"
  }
 },
 "nbformat": 4,
 "nbformat_minor": 1
}

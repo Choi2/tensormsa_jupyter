{
 "cells": [
  {
   "cell_type": "markdown",
   "metadata": {
    "collapsed": true
   },
   "source": [
    "# Resnet Train Predict"
   ]
  },
  {
   "cell_type": "code",
   "execution_count": 2,
   "metadata": {
    "collapsed": false
   },
   "outputs": [
    {
     "name": "stdout",
     "output_type": "stream",
     "text": [
      "insert workflow node conf info netconf result : {'config': {'num_classes': 1, 'eval_type': 'category', 'optimizer': 'adam', 'layeroutputs': 18, 'learnrate': 0.001}, 'param': {'augmentation': 'Y', 'batch_size': 200, 'predictlog': 'N', 'epoch': 1, 'traincnt': 1, 'predictcnt': 2}, 'labels': ['airplane', 'bolt', 'car', 'AC Geared Motor', 'AC Induction Motor', 'Air Filter', 'Aux Relay', 'Bolt']}\n",
      "\n",
      "insert workflow node conf info dataconf result : {'preprocess': {'channel': 3, 'x_size': 32, 'y_size': 32, 'filesize': 1000000, 'yolo': 'n'}, 'store_path': '/hoya_str_root/mro001/7/datasrc', 'source_path': '/hoya_src_root/mro001/7/datasrc'}\n"
     ]
    }
   ],
   "source": [
    "import requests\n",
    "import json, os\n",
    "\n",
    "def spaceprint(val, cnt):\n",
    "    leng = len(str(val))\n",
    "    cnt = cnt - leng\n",
    "    restr = \"\"\n",
    "    for i in range(cnt):\n",
    "        restr += \" \"\n",
    "    restr = restr+str(val)\n",
    "    return restr\n",
    "\n",
    "url = \"{0}:{1}\".format(os.environ['HOSTNAME'] , \"8000\")\n",
    "nn_id = \"mro001\"\n",
    "wf_ver_id = 7\n",
    "wf_ver_id = str(wf_ver_id)\n",
    "\n",
    "# CNN Network WorkFlow Node : Network Config Setup\n",
    "resp = requests.put('http://' + url + '/api/v1/type/wf/state/netconf/detail/renet/nnid/'+nn_id+'/ver/'+wf_ver_id+'/node/netconf_node/',\n",
    "                 json={\n",
    "                     \"param\":{\"traincnt\": 1\n",
    "                              ,\"epoch\": 1\n",
    "                              ,\"batch_size\":200\n",
    "                              ,\"predictcnt\": 2\n",
    "                              ,\"predictlog\": \"N\"  # T:Ture, F:False, A:True&False, TT:Ture, FF:False, AA:True&False, N:None\n",
    "                              ,\"augmentation\": \"Y\"\n",
    "                     },\n",
    "                     \"config\": {\"num_classes\":1,\n",
    "                                \"learnrate\": 0.001,\n",
    "                                \"layeroutputs\":18, #18, 34, 50, 101, 152, 200\n",
    "                                \"optimizer\":\"adam\", #\n",
    "                                \"eval_type\":\"category\"\n",
    "                                 }\n",
    "                     ,\"labels\":[]\n",
    "                    })\n",
    "netconf = json.loads(resp.json())\n",
    "print(\"insert workflow node conf info netconf result : {0}\".format(netconf))\n",
    "\n",
    "# CNN Network WorkFlow Node :  Eval Config Setup\n",
    "resp = requests.put('http://' + url + '/api/v1/type/wf/state/netconf/detail/renet/nnid/'+nn_id+'/ver/'+wf_ver_id+'/node/eval_node/'\n",
    "                    ,json={})\n",
    "evalconf = json.loads(resp.json())\n",
    "########################################################################################################################\n",
    "# yolo min image size 385 and %7 = 0\n",
    "datajson = {\"preprocess\": {\"x_size\": 32,\n",
    "                           \"y_size\": 32,\n",
    "                           \"channel\":3,\n",
    "                           \"filesize\": 1000000,\n",
    "                           \"yolo\": \"n\"}\n",
    "            }\n",
    "\n",
    "# CNN Network WorkFlow Node :  Data Config Setup\n",
    "resp = requests.put('http://' + url + '/api/v1/type/wf/state/imgdata/src/local/form/file/prg/source/nnid/'+nn_id+'/ver/'+wf_ver_id+'/node/datasrc/',\n",
    "                     json=datajson)\n",
    "dataconf = json.loads(resp.json())\n",
    "\n",
    "print(\"\")\n",
    "print(\"insert workflow node conf info dataconf result : {0}\".format(dataconf))\n",
    "\n",
    "# CNN Network WorkFlow Node :  Eval Data Config Setup\n",
    "resp = requests.put('http://' + url + '/api/v1/type/wf/state/imgdata/src/local/form/file/prg/source/nnid/'+nn_id+'/ver/'+wf_ver_id+'/node/evaldata/'\n",
    "                     ,json=datajson)\n",
    "edataconf = json.loads(resp.json())"
   ]
  },
  {
   "cell_type": "markdown",
   "metadata": {},
   "source": [
    "# Network Training\n",
    "(Network Training을 실행한다.)<br> "
   ]
  },
  {
   "cell_type": "code",
   "execution_count": 3,
   "metadata": {
    "collapsed": false
   },
   "outputs": [
    {
     "name": "stdout",
     "output_type": "stream",
     "text": [
      "Trainning ..................................................\n",
      "['Global Step: 1, Training Loss: 130.57%, Training Accuracy: 70.5%, Test Loss: 1237.71%, Test Accuracy: 21.61%']\n",
      "                     ['            airplane', '                bolt', '                 car', '     AC Geared Motor', '  AC Induction Motor', '          Air Filter', '           Aux Relay', '                Bolt']\n",
      "                     ================================================================================================================================================================================================\n",
      "            airplane ['                   0', '                   0', '                   0', '                   0', '                   0', '                   0', '                   0', '                   0'] 0%\n",
      "                bolt ['                   0', '                   0', '                   0', '                   0', '                   0', '                   0', '                   0', '                   0'] 0%\n",
      "                 car ['                   0', '                   0', '                   0', '                   0', '                   0', '                   0', '                   0', '                   0'] 0%\n",
      "     AC Geared Motor ['                   0', '                   0', '                   0', '                   0', '                   0', '                   0', '                   0', '                  46'] 0.0%\n",
      "  AC Induction Motor ['                   0', '                   0', '                   0', '                   0', '                   0', '                   0', '                   0', '                  45'] 0.0%\n",
      "          Air Filter ['                   0', '                   0', '                   0', '                   0', '                   0', '                   2', '                   0', '                  46'] 4.17%\n",
      "           Aux Relay ['                   0', '                   0', '                   0', '                   0', '                   0', '                   4', '                   0', '                  43'] 0.0%\n",
      "                Bolt ['                   0', '                   0', '                   0', '                   0', '                   0', '                   1', '                   0', '                  49'] 98.0%\n"
     ]
    }
   ],
   "source": [
    "resp = requests.post('http://' + url + '/api/v1/type/runmanager/state/train/nnid/'+nn_id+'/ver/'+wf_ver_id+'/')\n",
    "data = json.loads(resp.json())\n",
    "\n",
    "if data == None:\n",
    "    print(data)\n",
    "else:\n",
    "    try:\n",
    "        if data[\"status\"] == \"404\":\n",
    "            print(data[\"result\"])\n",
    "    except:\n",
    "        for train in data:\n",
    "            if train != None and train != \"\" and train != {} and train != \"status\" and train != \"result\":\n",
    "                try:\n",
    "                    for tr in train[\"TrainResult\"]:\n",
    "                        print(tr)\n",
    "                except:\n",
    "                    maxcnt = 0\n",
    "                    line = \"\"\n",
    "                    for label in train[\"labels\"]:\n",
    "                        if maxcnt<len(label)+2:\n",
    "                            maxcnt = len(label)+2\n",
    "\n",
    "                    for i in range(len(train[\"labels\"])):\n",
    "                        for j in range(maxcnt+4):\n",
    "                            line += \"=\"\n",
    "\n",
    "                    label_sub = []\n",
    "                    for label in train[\"labels\"]:\n",
    "                        label = spaceprint(label,maxcnt)\n",
    "                        label_sub.append(label)\n",
    "\n",
    "                    space = \"\"\n",
    "                    for s in range(maxcnt):\n",
    "                        space +=\" \"\n",
    "\n",
    "                    print(space, label_sub)\n",
    "                    print(space, line)\n",
    "                    for i in range(len(train[\"labels\"])):\n",
    "                        truecnt = 0\n",
    "                        totcnt = 0\n",
    "                        predict_sub = []\n",
    "                        for j in range(len(train[\"predicts\"][i])):\n",
    "                            pred = spaceprint(train[\"predicts\"][i][j],maxcnt)\n",
    "\n",
    "                            predict_sub.append(pred)\n",
    "                            totcnt += int(pred)\n",
    "                            # print(train[\"labels\"].index(train[\"labels\"][i]))\n",
    "                            if train[\"labels\"].index(train[\"labels\"][i]) == j:\n",
    "                                truecnt = int(pred)\n",
    "                        if totcnt == 0:\n",
    "                            percent = 0\n",
    "                        else:\n",
    "                            percent = round(truecnt/totcnt*100,2)\n",
    "                        print(spaceprint(train[\"labels\"][i],maxcnt), predict_sub, str(percent)+\"%\")"
   ]
  },
  {
   "cell_type": "markdown",
   "metadata": {},
   "source": [
    "# Network Predict\n",
    "(Network Predict를 실행한다.)<br>"
   ]
  },
  {
   "cell_type": "code",
   "execution_count": 6,
   "metadata": {
    "collapsed": false
   },
   "outputs": [
    {
     "name": "stdout",
     "output_type": "stream",
     "text": [
      "FileName = 2air.jpg\n",
      "['Bolt', 'Air Filter']\n",
      "[100.0, 0.0]\n",
      "\n",
      "FileName = 1air.jpg\n",
      "['Bolt', 'Air Filter']\n",
      "[100.0, 0.0]\n",
      "\n"
     ]
    }
   ],
   "source": [
    "files = {'files000001':  open('/home/dev/hoyai/demo/data/airplane/1air.jpg','rb')\n",
    "    ,'files000002':  open('/home/dev/hoyai/demo/data/airplane/2air.jpg','rb')}\n",
    "resp = requests.post('http://' + url + '/api/v1/type/service/state/predict/type/renet/nnid/'+nn_id+'/ver/'+wf_ver_id+'/',\n",
    "                     files=files)\n",
    "data = json.loads(resp.json())\n",
    "\n",
    "try:\n",
    "    if data[\"status\"] == \"404\":\n",
    "        print(data[\"result\"])\n",
    "except:\n",
    "    for train in data:\n",
    "        print(\"FileName = \"+train)\n",
    "        print(data[train]['key'])\n",
    "        print(data[train]['val'])\n",
    "        print('')"
   ]
  },
  {
   "cell_type": "code",
   "execution_count": null,
   "metadata": {
    "collapsed": true
   },
   "outputs": [],
   "source": []
  }
 ],
 "metadata": {
  "anaconda-cloud": {},
  "kernelspec": {
   "display_name": "Python [conda root]",
   "language": "python",
   "name": "conda-root-py"
  },
  "language_info": {
   "codemirror_mode": {
    "name": "ipython",
    "version": 3
   },
   "file_extension": ".py",
   "mimetype": "text/x-python",
   "name": "python",
   "nbconvert_exporter": "python",
   "pygments_lexer": "ipython3",
   "version": "3.5.2"
  }
 },
 "nbformat": 4,
 "nbformat_minor": 0
}

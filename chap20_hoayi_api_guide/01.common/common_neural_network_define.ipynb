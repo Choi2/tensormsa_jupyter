{
 "cells": [
  {
   "cell_type": "markdown",
   "metadata": {
    "collapsed": true
   },
   "source": [
    "# Neural Network 정의\n",
    "Hoya F/W 은 기본적으로 실시간으로 지속적인 데이터 수집, 모델 최신화를 통한 서비스 제공을 Concept으로 하고 있으며, 이를 위해서 기본적으로 만들고자하는 AI 의 속성을 정의하는 작업이 필요하다. Hoya 에서 AI 모델에 대한 관리는 크게 3가지 Step 으로 나누어 진행이 된다. <br>\n",
    "<b>STEP1 : </b> AI 모델의 비지니스적인 용도를 정의하는 작업이다. (Example : 이메일의 Spam 여부를 판단하는 모델정의와 같은 형태) <br>\n",
    "<b>STEP2 : </b> Step 1 에서 정의한 모델에 대한 버전을 관리한다. 버전에서는 어떤식으로 데이터를 수집하고 분석을 할 것인지를 정의하는데, \n",
    "동일한 비지니스 목적을 가지고 있는 AI 모델이라고 할지라도 다양한 방법으로 목적을 달성할 수 있기 때문에 그 방법에 따라 다른 버전을 가지고 관리하게 되는것이다. 이렇게 정의된 버전은 가장 잘 동작하는 버전을 선택하여 Active Flag 를 지정할 수 있는데, Active 한 버전은 실제 Predict 서비스를 요청하였을 때, 동작하게 된다. <br>\n",
    "<b>STEP3 : </b> Step 2 에서 정의된 버전은 또 다시 Batch Version 으로 관리가 되는데, 이는 어떤 데이터를 가지고 훈련을 하였느냐에 따라 AI 모델의 정확도가 달라지기 때문이다. Batch Version 또한 Active Flag 을 가지게 되는데, Active Version 은 자동적인 평가로직을 통해서 예전 버전보다 정확도가 좋은 경우 자동적으로 변경되거나 유저가 수동으로 변경할 수 있도록 한다.  <br><br><br>\n",
    "<b>[그림1] 아래는 위에 설명한 3개 Step 을 설명하는 도표 <b> <br>\n",
    "<img src=\"../../images/NeuralNet_Management.jpg\">"
   ]
  },
  {
   "cell_type": "markdown",
   "metadata": {},
   "source": [
    "# REST API 란? \n",
    "Hoyai 는 가지고 있는 기능의 99%가 REST API로 연동이 가능한 형태로 초기부터 설계/구축되어 모바일, Legacy 서버 등.. 어디에서도 모든 기능을 완벽하게 연동하여 사용할 수 있다. 이러한 특징은 User 측의 서버에서 원하는 시점에 데이터를 보내고, 모델을 훈련시키고, Active Version 을 바꾸는 등 모든 행위를 수행할 수 있다라는 측면에서 대단한 확장성을 갖는다고 볼 수 있다. 현재 UI 서비스가 구성되지 않은 상황임에도 제공되는 API 를 규격에 맞추어 Java 에서든, Python 에서는 서버에서든 Local 에서는 실행하여 준다면 언제든지 Hoyai 서버와 연동하여 개발을 진행 할 수 있다. \n",
    "Local 에서 테스트 목적으로 연동 및 Biz Pilot 시스템 개발에도 동일한 형태로 수행이 가능할 것이다. \n",
    "\n",
    "<b>[그림2] REST API 란? <b> <br>\n",
    "<img src=\"../../images/sematime-bulksms-rest-api.png\">"
   ]
  },
  {
   "cell_type": "markdown",
   "metadata": {},
   "source": [
    "# Hoyai REST API \n",
    "향후에는 User Security 및 권한등에 대한 보안 처리가 이루어져야 하지만, 현재 기준에서는 아무런 제약없이 서버에 접근이 가능한 상태이다. \n",
    "아래는 Step 1의 비지니스 Level 에서 AI 모델을 정의하는 API 인데, 아래와 같은 파라메터를 갖는다. <br>\n",
    "REST API 라 함은 기본적으로 Key/Value 형태의 Url 설계를 기본으로 한다. 예를들면 아래와 같다. <br>\n",
    "<b>예) /api/v1/type/common/target/nninfo/ </b><br>\n",
    "○ api = v1 <br>\n",
    "○ type = common <br>\n",
    "○ target = nninfo  <br>  \n",
    "해석을 해보면 다음과 같다. 위의 예제의 Request 는 API v1 을 요청하고 있으며, 전체 서비스중에서 common (공통) 기능을 호출하고 있는데, 상세하게는 nninfo (신경망 정보)를 관리하는 기능을 사용하고 싶다라는 의미가 된다. <br>\n",
    "모든 REST API 는 명사형으로 정의가 되어야 하며, 동작에 대해서는 크게 4가지의 호출 Type 을 갖고 있다. post, get, put, delete 이다. <br>\n",
    "○ post : insert 작업 <br>\n",
    "○ get : find 작업 <br>\n",
    "○ put : update 작업 <br>\n",
    "○ delete : 삭제 작업 <br>\n",
    "그러면 최종적으로 명사 + 동사로 조합을 해서 예를 들어보겠다. <br>\n",
    "<b>resp = requests.post('http://' + url + '/api/v1/type/common/target/nninfo/')</b> <br>\n",
    "=> hoyai API version 1 에서 제공하는 기능중에 공통 기능의 한 부류인 네트워크 등록 기능에 대해서 insert 하는 작업을 수행하겠다. <br> \n",
    "<b>resp = requests.get('http://' + url + '/api/v1/type/common/target/nninfo/')</b> <br>\n",
    "=> hoyai API version 1 에서 제공하는 기능중에 공통 기능의 한 부류인 네트워크 등록 기능에 대해서 조회하는 작업을 수행하겠다. <br> \n",
    "\n",
    "hoyai 의 모든 기능은 위와 같은 API 로 99% 접근 가능하게 설계되어 있으며, jupyter guide 를 통해서 설명 방법을 하나씩 설명할 예정이다. <br>\n",
    "JAVA 의 경우 wrapping Client 공통 Class 를 개발예정에 있으며, 다른 시스템의 경우 REST 규격을 참조하여 얼마든지 연동이 가능하다. <br>"
   ]
  },
  {
   "cell_type": "markdown",
   "metadata": {},
   "source": [
    "# STEP1 : 기 등록된 AI Model 확인 \n",
    "기존의 등록된 AI 모델들을 확인할 필요가 있다. 중복되는 ID 를 허용하지 않고, ID 자체를 사용자가 입력하도록 되어 있기 때문에 중독되지 않는 Key를 확인하여 사용할 필요가 있다. 조회시 Return 되는 데이터는 List-Dict Format 이기 때문에 보기 편한 형태로 얼마든지 가공하여 사용이 가능하다. 아래의 예를 보면 모든 데이터를 출력할 경우 너무 복잡하여 식별이 어렵기 때문에 ID 값만 출력하도록 하겠다.  "
   ]
  },
  {
   "cell_type": "code",
   "execution_count": 41,
   "metadata": {
    "collapsed": false
   },
   "outputs": [
    {
     "name": "stdout",
     "output_type": "stream",
     "text": [
      "['nn00004', 'nn00009', 'nn00000', 'nn00001', 'nn00002', 'nn00005', 'nn00006', 'nn00007', 'nn00008', 'nn000010', 'nn000011', 'nn000012', 'nn000013', 'nn000014', 'nn000015', 'nn000016', 'nn000017', 'nn000018', 'nn000019', 'nn00003', 'nn00016', 'nn00016', 'nnid/nn00016']\n"
     ]
    }
   ],
   "source": [
    "import requests\n",
    "import json, os\n",
    "\n",
    "url = \"{0}:{1}\".format(os.environ['HOSTNAME'] , \"8000\")\n",
    "\n",
    "resp = requests.get('http://' + url + '/api/v1/type/common/target/nninfo/nnid/%/' )\n",
    "data = json.loads(resp.json())\n",
    "return_list = []\n",
    "for row in data :\n",
    "    return_list.append(row['nn_id'])\n",
    "print (return_list)"
   ]
  },
  {
   "cell_type": "markdown",
   "metadata": {},
   "source": [
    "# STEP1 : 비지니스 Level 의 AI 모델 정의\n",
    "첫 번째 Step 은 위에서 설명한 것과 같이 비지니스의 종류를 정의하는 작업이다. 아래와 같이 파라메터를 json 형태로 정의하여 post 로 REST API 를 호출하면 중복되는 ID 가 아닌 경우 요청한 내용이 신규로 추가된다. \n",
    "\n",
    "nn_id : Neural Network ID<br>\n",
    "biz_cate : Business 대분류<br>\n",
    "biz_sub_cate : Business 소분류<br>\n",
    "nn_title : Neural Network Title<br>\n",
    "nn_desc : Neural Network Description<br>\n",
    "use_flag : 사용여부<br> \n",
    "dir : 문제유형<br>\n",
    "config : Custom 여부 "
   ]
  },
  {
   "cell_type": "code",
   "execution_count": 42,
   "metadata": {
    "collapsed": false
   },
   "outputs": [
    {
     "name": "stdout",
     "output_type": "stream",
     "text": [
      "evaluation result : nn00016\n"
     ]
    }
   ],
   "source": [
    "resp = requests.post('http://' + url + '/api/v1/type/common/target/nninfo/nnid/nn00016/',\n",
    "                     json={\n",
    "                         \"nn_id\": \"nn00016\",\n",
    "                         \"biz_cate\": \"MES\",\n",
    "                         \"biz_sub_cate\": \"M60\",\n",
    "                         \"nn_title\" : \"test\",\n",
    "                         \"nn_desc\": \"test desc\",\n",
    "                         \"use_flag\" : \"Y\",\n",
    "                         \"dir\": \"purpose?\",\n",
    "                         \"config\": \"N\"\n",
    "                     })\n",
    "data = json.loads(resp.json())\n",
    "print(\"evaluation result : {0}\".format(data))"
   ]
  },
  {
   "cell_type": "markdown",
   "metadata": {},
   "source": [
    "# STEP1 : 등록된 Model 확인 \n",
    "우리가 생성한 신규 Network ID 를 지정하여 조회하고자 할 경우 아래와 같이 ID를 지정하여 REST API 를 호출하면 된다. <br>\n",
    "<b>/api/v1/type/common/target/nninfo/nnid/nn00016/</b> "
   ]
  },
  {
   "cell_type": "code",
   "execution_count": 38,
   "metadata": {
    "collapsed": false
   },
   "outputs": [
    {
     "name": "stdout",
     "output_type": "stream",
     "text": [
      "evaluation result : [{'nn_batch_ver_info': None, 'config': 'N', 'nn_desc': 'test desc', 'id': 60, 'nn_wf_ver_id_id': None, 'nn_def_list_info_nn_id': '', 'nn_title': 'test', 'nn_ver_wflist_info_nn_ver': None, 'active_flag': None, 'nn_id': 'nn00016', 'nn_batch_ver_id': None, 'biz_cate': 'MES', 'last_updated_by': None, 'creation_date': None, 'train_progress': None, 'condition': '1', 'model_acc': None, 'biz_sub_cate': 'M60', 'nn_wf_ver_id': 1, 'job_end_time': None, 'dir': 'purpose?', 'created_by': None, 'nn_id_id': 'nn00016', 'use_flag': 'Y', 'last_update_date': None, 'nn_wf_ver_info': 'test version info'}, {'nn_batch_ver_info': None, 'config': 'N', 'nn_desc': 'test desc', 'id': 61, 'nn_wf_ver_id_id': None, 'nn_def_list_info_nn_id': '', 'nn_title': 'test', 'nn_ver_wflist_info_nn_ver': None, 'active_flag': None, 'nn_id': 'nn00016', 'nn_batch_ver_id': None, 'biz_cate': 'MES', 'last_updated_by': None, 'creation_date': None, 'train_progress': None, 'condition': '1', 'model_acc': None, 'biz_sub_cate': 'M60', 'nn_wf_ver_id': 2, 'job_end_time': None, 'dir': 'purpose?', 'created_by': None, 'nn_id_id': 'nn00016', 'use_flag': 'Y', 'last_update_date': None, 'nn_wf_ver_info': 'test version info'}, {'nn_batch_ver_info': None, 'config': 'N', 'nn_desc': 'test desc', 'id': None, 'nn_wf_ver_id_id': None, 'nn_def_list_info_nn_id': None, 'nn_title': 'test', 'nn_ver_wflist_info_nn_ver': None, 'active_flag': None, 'nn_id': 'nnid/nn00016', 'nn_batch_ver_id': None, 'biz_cate': 'MES', 'last_updated_by': None, 'creation_date': None, 'train_progress': None, 'condition': None, 'model_acc': None, 'biz_sub_cate': 'M60', 'nn_wf_ver_id': None, 'job_end_time': None, 'dir': 'purpose?', 'created_by': None, 'nn_id_id': None, 'use_flag': 'Y', 'last_update_date': None, 'nn_wf_ver_info': None}]\n"
     ]
    }
   ],
   "source": [
    "resp = requests.get('http://' + url + '/api/v1/type/common/target/nninfo/nnid/nn00016/')\n",
    "data = json.loads(resp.json())\n",
    "print(\"evaluation result : {0}\".format(data))"
   ]
  },
  {
   "cell_type": "markdown",
   "metadata": {},
   "source": [
    "# STEP2 : Graph Version 등록\n",
    "버전의 경우 POST 호출시 자동으로 Index 가 증가하여 생성되며, 별도의 version 지정등의 행위는 필요하지 않지만, 중요한 행위는 Active Version 을 지정하는 것으로써, 지정된 버전을 기준으로 모든 기능이 동작한다는 점에서 매우 중요하다. "
   ]
  },
  {
   "cell_type": "code",
   "execution_count": 27,
   "metadata": {
    "collapsed": false
   },
   "outputs": [
    {
     "name": "stdout",
     "output_type": "stream",
     "text": [
      "evaluation result : nn00016\n"
     ]
    }
   ],
   "source": [
    "resp = requests.post('http://' + url + '/api/v1/type/common/target/nninfo/nnid/nn00016/version/',\n",
    "                     json={\n",
    "                         \"nn_def_list_info_nn_id\": \"\",\n",
    "                         \"nn_wf_ver_info\": \"test version info\",\n",
    "                         \"condition\": \"1\",\n",
    "                         \"active_flag\": \"Y\"\n",
    "                     })\n",
    "data = json.loads(resp.json())\n",
    "print(\"evaluation result : {0}\".format(data))"
   ]
  }
 ],
 "metadata": {
  "anaconda-cloud": {},
  "kernelspec": {
   "display_name": "Python [conda root]",
   "language": "python",
   "name": "conda-root-py"
  },
  "language_info": {
   "codemirror_mode": {
    "name": "ipython",
    "version": 3
   },
   "file_extension": ".py",
   "mimetype": "text/x-python",
   "name": "python",
   "nbconvert_exporter": "python",
   "pygments_lexer": "ipython3",
   "version": "3.5.2"
  }
 },
 "nbformat": 4,
 "nbformat_minor": 1
}

{
 "cells": [
  {
   "cell_type": "markdown",
   "metadata": {},
   "source": [
    "# SetUp Target Server Info"
   ]
  },
  {
   "cell_type": "code",
   "execution_count": 36,
   "metadata": {
    "collapsed": false
   },
   "outputs": [
    {
     "name": "stdout",
     "output_type": "stream",
     "text": [
      "done\n"
     ]
    }
   ],
   "source": [
    "import requests\n",
    "import json, os\n",
    "\n",
    "nn_id = 'lstmcrf024'  # put some key value you want to test\n",
    "\n",
    "url = \"{0}:{1}\".format(os.environ['HOSTNAME'] , \"8000\")\n",
    "print(\"done\")"
   ]
  },
  {
   "cell_type": "markdown",
   "metadata": {},
   "source": [
    "# Net & Version Create"
   ]
  },
  {
   "cell_type": "code",
   "execution_count": 37,
   "metadata": {
    "collapsed": false
   },
   "outputs": [
    {
     "name": "stdout",
     "output_type": "stream",
     "text": [
      "evaluation result : lstmcrf024\n",
      "evaluation result : lstmcrf024\n"
     ]
    }
   ],
   "source": [
    "####(1) 네트워크 생성 ####\n",
    "resp = requests.post('http://' + url + '/api/v1/type/common/target/nninfo/nnid/' + nn_id + '/',\n",
    "                     json={\n",
    "                         \"biz_cate\": \"MES\",\n",
    "                         \"biz_sub_cate\": \"M60\",\n",
    "                         \"nn_title\" : \"test\",\n",
    "                         \"nn_desc\": \"test desc\",\n",
    "                         \"use_flag\" : \"Y\",\n",
    "                         \"dir\": \"purpose?\",\n",
    "                         \"config\": \"N\"\n",
    "                     })\n",
    "data = json.loads(resp.json())\n",
    "print(\"evaluation result : {0}\".format(data))\n",
    "\n",
    "####(2) 버전 생성 ####\n",
    "resp = requests.post('http://' + url + '/api/v1/type/common/target/nninfo/nnid/' + nn_id + '/version/',\n",
    "                 json={\n",
    "                     \"nn_def_list_info_nn_id\": \"\",\n",
    "                     \"nn_wf_ver_info\": \"test version info\",\n",
    "                     \"condition\": \"1\",\n",
    "                     \"active_flag\": \"Y\"\n",
    "                 })\n",
    "data = json.loads(resp.json())\n",
    "print(\"evaluation result : {0}\".format(data))\n"
   ]
  },
  {
   "cell_type": "markdown",
   "metadata": {},
   "source": [
    "# Graph Flow 정의 "
   ]
  },
  {
   "cell_type": "code",
   "execution_count": 38,
   "metadata": {
    "collapsed": false
   },
   "outputs": [
    {
     "name": "stdout",
     "output_type": "stream",
     "text": [
      "evaluation result : bilstmcrf_iob\n"
     ]
    }
   ],
   "source": [
    "# Work Flow 틀을 구성하도로고 지시한다. (정해진 틀을 강제로 생성)\n",
    "resp = requests.post('http://' + url + '/api/v1/type/wf/target/init/mode/simple/' + nn_id +'/wfver/1/',\n",
    "                     json={\n",
    "                         \"type\": 'bilstmcrf_iob'\n",
    "                     })\n",
    "data = json.loads(resp.json())\n",
    "print(\"evaluation result : {0}\".format(data))"
   ]
  },
  {
   "cell_type": "markdown",
   "metadata": {},
   "source": [
    "# 데이터 업로드 "
   ]
  },
  {
   "cell_type": "code",
   "execution_count": 39,
   "metadata": {
    "collapsed": false
   },
   "outputs": [
    {
     "name": "stdout",
     "output_type": "stream",
     "text": [
      "evaluation result : ['1 file upload success']\n"
     ]
    }
   ],
   "source": [
    "return_dict = {}\n",
    "return_dict['test'] = open('../../data/ner_train.iob', 'rb')\n",
    "\n",
    "resp = requests.post('http://' + url + '/api/v1/type/wf/state/framedata/src/local/form/raw/prg/source/nnid/'+nn_id+'/ver/1/node/data_node/',\n",
    "                     files = return_dict)\n",
    "\n",
    "data = json.loads(resp.json())\n",
    "print(\"evaluation result : {0}\".format(data))"
   ]
  },
  {
   "cell_type": "markdown",
   "metadata": {},
   "source": [
    "# 데이터 노드 정의 "
   ]
  },
  {
   "cell_type": "code",
   "execution_count": 40,
   "metadata": {
    "collapsed": false
   },
   "outputs": [
    {
     "name": "stdout",
     "output_type": "stream",
     "text": [
      "evaluation result : /hoya_str_root/lstmcrf024/1/data_node\n"
     ]
    }
   ],
   "source": [
    "# (1) Train Data Node 의 속성을 정의\n",
    "# 어디서 Source 를 어떻게 가지고 올것인지 파라메터 정의 \n",
    "resp = requests.put('http://' + url + '/api/v1/type/wf/state/iobdata/src/local/form/iob/prg/source/nnid/'+nn_id+'/ver/1/node/data_node/',\n",
    "                     json={\n",
    "                         \"type\": \"local\",\n",
    "                         \"source_server\": \"local\",\n",
    "                         \"source_sql\": \"all\",\n",
    "                     })\n",
    "\n",
    "# 전처리는 어떤 것을 할지 정의\n",
    "resp = requests.put('http://' + url + '/api/v1/type/wf/state/iobdata/src/local/form/iob/prg/pre/nnid/'+nn_id+'/ver/1/node/data_node/',\n",
    "                      json={\n",
    "                          \"preprocess\":  \"None\",\n",
    "                          \"word_embed_model\" : \"w2v0003\"\n",
    "                      })\n",
    "# 전처리가 완료된 데이터는 어디에 저장을 할지 \n",
    "resp = requests.put('http://' + url + '/api/v1/type/wf/state/iobdata/src/local/form/iob/prg/store/nnid/'+nn_id+'/ver/1/node/data_node/',)\n",
    "\n",
    "data = json.loads(resp.json())\n",
    "print(\"evaluation result : {0}\".format(data))"
   ]
  },
  {
   "cell_type": "markdown",
   "metadata": {},
   "source": [
    "# 데이터 Feeder 정의"
   ]
  },
  {
   "cell_type": "code",
   "execution_count": 41,
   "metadata": {
    "collapsed": false
   },
   "outputs": [
    {
     "name": "stdout",
     "output_type": "stream",
     "text": [
      "evaluation result : {'word_embed_id': '', 'seperator': ' ', 'language': 'kor', 'col_len': 2, 'char_embed_id': ''}\n"
     ]
    }
   ],
   "source": [
    "# (2) Network 에 데이터를 Feed하는 Node 의 속성을 정의 \n",
    "resp = requests.post('http://' + url + '/api/v1/type/wf/state/pre/detail/feed/src/iob/net/bilstmcrf/nnid/'+nn_id+'/ver/1/node/pre_feed_train/',\n",
    "                     json={\n",
    "                         \"seperator\" : \" \",\n",
    "                         \"col_len\" : 2,\n",
    "                         \"word_embed_id\" : \"\",\n",
    "                         \"char_embed_id\":  \"\",\n",
    "                         \"language\" : 'kor'\n",
    "                     })\n",
    "data = json.loads(resp.json())\n",
    "print(\"evaluation result : {0}\".format(data))"
   ]
  },
  {
   "cell_type": "markdown",
   "metadata": {},
   "source": [
    "# Bi-Lstm crf 모델 정의\n",
    "    - lowercase : 영문의 경우 소문자 변환 옵션 사용여부 (Boolean) \n",
    "    - max_iter : 최대 반복 횟수 지정 (무제한 인경우 None)\n",
    "    - crf : CRF Layer 사용 여부 (Boolean)\n",
    "    - chars : Char 단위 Bi LSTM 로직 사용 여부 (Boolean)\n",
    "    - dim : Word Embedding Size (Word Embedding Net Work 설정과 일치 해야 함) \n",
    "    - dim_char : Char Embedding Size (Default 로 120으로 설정, 별도 Embedding 로직 지정 불가)\n",
    "    - train_embeddings : Word Embedding Vector 에 대한 훈련 여부 (Defulat False) \n",
    "    - nepochs : 훈련 반복 횟수 \n",
    "    - p_dropout : Drop Out Percentage (0  ~ 1)\n",
    "    - batch_size : 한번에 훈련에 사용할 데이터 수 \n",
    "    - p_lr : Learning Rate \n",
    "    - lr_decay : Learning Rate 를 동적으로 조정하는 비율 \n",
    "    - nepoch_no_imprv : Early Stopping 판단 기준 \n",
    "    - hidden_size : Word 단위 Bi LSTM 구성시 Cell 의 Matrix Size \n",
    "    - char_hidden_size : Char 단위 Bi LSTM 구성시 Cell 의 Matrix Size "
   ]
  },
  {
   "cell_type": "code",
   "execution_count": 42,
   "metadata": {
    "collapsed": false
   },
   "outputs": [
    {
     "name": "stdout",
     "output_type": "stream",
     "text": [
      "evaluation result : {'hidden_size': 300, 'train_embeddings': False, 'char_hidden_size': 100, 'max_iter': None, 'dim_char': 120, 'lr_decay': 0.9, 'crf': True, 'chars': True, 'model_path': '/hoya_model_root/lstmcrf024/1/netconf_node', 'nepoch_no_imprv': 3, 'batch_size': 50, 'lowercase': False, 'p_dropout': 0.5, 'p_lr': 0.001, 'nepochs': 5, 'dim': 300}\n"
     ]
    }
   ],
   "source": [
    "resp = requests.put('http://' + url + '/api/v1/type/wf/state/netconf/detail/bilstmcrf/nnid/' + nn_id + '/ver/1/node/netconf_node/',\n",
    "                     json={\n",
    "                        \"lowercase\" : False,\n",
    "                        \"max_iter\" : None,\n",
    "                        \"crf\" : True,\n",
    "                        \"chars\" : True,\n",
    "                        \"dim\" : 300,\n",
    "                        \"dim_char\" : 120,\n",
    "                        \"train_embeddings\" : False,\n",
    "                        \"nepochs\" : 5,\n",
    "                        \"p_dropout\" : 0.5,\n",
    "                        \"batch_size\" : 50,\n",
    "                        \"p_lr\" : 0.001,\n",
    "                        \"lr_decay\" : 0.9,\n",
    "                        \"nepoch_no_imprv\" : 3,\n",
    "                        \"hidden_size\" : 300,\n",
    "                        \"char_hidden_size\" : 100\n",
    "                     })\n",
    "data = json.loads(resp.json())\n",
    "print(\"evaluation result : {0}\".format(data))"
   ]
  },
  {
   "cell_type": "markdown",
   "metadata": {},
   "source": [
    "# Eval Process "
   ]
  },
  {
   "cell_type": "code",
   "execution_count": 43,
   "metadata": {
    "collapsed": false
   },
   "outputs": [
    {
     "name": "stdout",
     "output_type": "stream",
     "text": [
      "evaluation result : ['1 file upload success']\n",
      "evaluation result : {'source_path': '/hoya_src_root/lstmcrf024/1/test_data_node', 'source_parse_type': 'raw', 'source_sql': 'all', 'source_server': 'local', 'source_type': 'local'}\n",
      "evaluation result : None\n",
      "evaluation result : /hoya_str_root/lstmcrf024/1/test_data_node\n",
      "evaluation result : /hoya_str_root/lstmcrf024/1/test_data_node\n",
      "evaluation result : {'type': 'category'}\n"
     ]
    }
   ],
   "source": [
    "return_dict = {}\n",
    "return_dict['test'] = open('../../data/ner_train.iob', 'rb')\n",
    "\n",
    "resp = requests.post('http://' + url + '/api/v1/type/wf/state/iobdata/src/local/form/raw/prg/source/nnid/'+nn_id+'/ver/1/node/test_data_node/',\n",
    "                     files = return_dict)\n",
    "\n",
    "data = json.loads(resp.json())\n",
    "print(\"evaluation result : {0}\".format(data))\n",
    "\n",
    "# 데이터 - 소스 정의\n",
    "resp = requests.put('http://' + url + '/api/v1/type/wf/state/iobdata/src/local/form/raw/prg/source/nnid/'+nn_id+'/ver/1/node/test_data_node/',\n",
    "                     json={\n",
    "                         \"type\": \"local\",\n",
    "                         \"source_server\": \"local\",\n",
    "                         \"source_sql\": \"all\",\n",
    "                     })\n",
    "data = json.loads(resp.json())\n",
    "print(\"evaluation result : {0}\".format(data))\n",
    "\n",
    "# 데이터 - 전처리 정의\n",
    "resp = requests.put('http://' + url + '/api/v1/type/wf/state/iobdata/src/local/form/raw/prg/pre/nnid/'+nn_id+'/ver/1/node/test_data_node/',\n",
    "                      json={\n",
    "                          \"preprocess\":  \"None\",\n",
    "                          \"word_embed_model\" : \"w2v0003\"\n",
    "                      })\n",
    "data = json.loads(resp.json())\n",
    "print(\"evaluation result : {0}\".format(data))\n",
    "\n",
    "# 데이터 - 저장 정의\n",
    "resp = requests.put('http://' + url + '/api/v1/type/wf/state/iobdata/src/local/form/raw/prg/store/nnid/'+nn_id+'/ver/1/node/test_data_node/',)\n",
    "\n",
    "data = json.loads(resp.json())\n",
    "print(\"evaluation result : {0}\".format(data))\n",
    "\n",
    "\n",
    "# Feeder 정의\n",
    "resp = requests.post('http://' + url + '/api/v1/type/wf/state/pre/detail/feed/src/iob/net/bilstmcrf/nnid/'+nn_id+'/ver/1/node/pre_feed_test/',\n",
    "                     json={\n",
    "                         \"seperator\" : \" \",\n",
    "                         \"col_len\" : 2,\n",
    "                         \"word_embed_id\" : \"\",\n",
    "                         \"char_embed_id\":  \"\",\n",
    "                         \"language\" : 'kor'\n",
    "                     })\n",
    "print(\"evaluation result : {0}\".format(data))\n",
    "\n",
    "node_name = 'eval_node'\n",
    "resp = requests.put('http://' + url + '/api/v1/type/wf/state/eval/nnid/'+nn_id+'/ver/1/node/eval_node/',\n",
    "                    json={\n",
    "                        \"type\": \"category\",\n",
    "                    })\n",
    "\n",
    "data = json.loads(resp.json())\n",
    "print(\"evaluation result : {0}\".format(data))"
   ]
  },
  {
   "cell_type": "markdown",
   "metadata": {},
   "source": [
    "# Train "
   ]
  },
  {
   "cell_type": "code",
   "execution_count": 50,
   "metadata": {
    "collapsed": false
   },
   "outputs": [
    {
     "name": "stdout",
     "output_type": "stream",
     "text": [
      "evaluation result : [None, None, [0.45161290322580644], None, None, {'predicts': [[0, 0, 0, 0, 0], [0, 0, 0, 0, 1], [0, 0, 0, 0, 0], [0, 0, 0, 0, 0], [0, 0, 0, 0, 7]], 'labels': ['O/', 'COMMAND', 'TARGET', 'O', 'PERSON']}]\n"
     ]
    }
   ],
   "source": [
    "# Run All Workflow\n",
    "resp = requests.post('http://' + url + '/api/v1/type/runmanager/state/train/nnid/'+nn_id+'/ver/1/')\n",
    "data = json.loads(resp.json())\n",
    "print(\"evaluation result : {0}\".format(data))"
   ]
  },
  {
   "cell_type": "markdown",
   "metadata": {
    "collapsed": true
   },
   "source": [
    "# Predict"
   ]
  },
  {
   "cell_type": "code",
   "execution_count": 81,
   "metadata": {
    "collapsed": false
   },
   "outputs": [
    {
     "name": "stdout",
     "output_type": "stream",
     "text": [
      "evaluation result(2) : ['B-PERSON', 'B-TARGET', 'O']\n"
     ]
    }
   ],
   "source": [
    "resp = requests.post('http://' + url + '/api/v1/type/service/state/predict/type/bilstmcrf/nnid/'+nn_id+'/ver/active/',\n",
    "                     json={\"input_data\" : \"이태영의 전화번호 검색\" , \"num\": 0, \"clean_ans\":False}\n",
    "                     )\n",
    "data = json.loads(resp.json())\n",
    "print(\"evaluation result(2) : {0}\".format(data))"
   ]
  }
 ],
 "metadata": {
  "anaconda-cloud": {},
  "kernelspec": {
   "display_name": "Python [conda root]",
   "language": "python",
   "name": "conda-root-py"
  },
  "language_info": {
   "codemirror_mode": {
    "name": "ipython",
    "version": 3
   },
   "file_extension": ".py",
   "mimetype": "text/x-python",
   "name": "python",
   "nbconvert_exporter": "python",
   "pygments_lexer": "ipython3",
   "version": "3.5.2"
  }
 },
 "nbformat": 4,
 "nbformat_minor": 1
}

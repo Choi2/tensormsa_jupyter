{
 "cells": [
  {
   "cell_type": "markdown",
   "metadata": {
    "collapsed": true
   },
   "source": [
    "# Neural Network 정의\n",
    "nn_id : Neural Network ID<br>\n",
    "biz_cate : Business 대분류<br>\n",
    "biz_sub_cate : Business 소분류<br>\n",
    "nn_title : Neural Network Title<br>\n",
    "nn_desc : Neural Network Description<br>\n",
    "use_flag : 사용여부<br> \n",
    "dir : 문제유형<br>\n",
    "config : Custom 여부 "
   ]
  },
  {
   "cell_type": "code",
   "execution_count": 2,
   "metadata": {
    "collapsed": false
   },
   "outputs": [
    {
     "name": "stdout",
     "output_type": "stream",
     "text": [
      "evaluation result : nn00007\n"
     ]
    }
   ],
   "source": [
    "import requests\n",
    "import json, os\n",
    "\n",
    "url = \"{0}:{1}\".format(os.environ['HOSTNAME'] , \"8000\")\n",
    "nnid = \"nn00007\"\n",
    "ver = \"1\"\n",
    "resp = requests.post('http://' + url + '/api/v1/type/common/target/nninfo/nnid/' + nnid +'/',\n",
    "                     json={\n",
    "                         \"nn_id\": nnid,\n",
    "                         \"biz_cate\": \"MES\",\n",
    "                         \"biz_sub_cate\": \"M60\",\n",
    "                         \"nn_title\" : \"test\",\n",
    "                         \"nn_desc\": \"test desc\",\n",
    "                         \"use_flag\" : \"Y\",\n",
    "                         \"dir\": \"purpose?\",\n",
    "                         \"config\": \"N\"\n",
    "                     })\n",
    "data = json.loads(resp.json())\n",
    "print(\"evaluation result : {0}\".format(data))"
   ]
  },
  {
   "cell_type": "markdown",
   "metadata": {},
   "source": [
    "# Work Flow Version 정의\n",
    "nn_def_list_info_nn_id :<br>\n",
    "nn_wf_ver_info : Work Flow Version Description<br>\n",
    "condition :<br>\n",
    "active_flag : 사용여부"
   ]
  },
  {
   "cell_type": "code",
   "execution_count": 6,
   "metadata": {
    "collapsed": false
   },
   "outputs": [
    {
     "name": "stdout",
     "output_type": "stream",
     "text": [
      "evaluation result : nn00007\n"
     ]
    }
   ],
   "source": [
    "resp = requests.post('http://' + url + '/api/v1/type/common/target/nninfo/nnid/'+nnid+'/version/',\n",
    "                     json={\n",
    "                         \"nn_def_list_info_nn_id\": \"\",\n",
    "                         \"nn_wf_ver_info\": \"test version info\",\n",
    "                         \"condition\": \"1\",\n",
    "                         \"active_flag\": \"Y\"\n",
    "                     })\n",
    "data = json.loads(resp.json())\n",
    "print(\"evaluation result : {0}\".format(data))"
   ]
  },
  {
   "cell_type": "markdown",
   "metadata": {},
   "source": [
    "# Work Flow Node  Initialize\n",
    "type : Neural Network Type<br>\n",
    "1. Train Data Node<br>\n",
    "2. Train Data Feeder Node<br>\n",
    "3. Eval Data Node<br>\n",
    "4. Eval Data Feeder Node<br>\n",
    "5. Neural Network Node<br>\n",
    "6. Evaluation Node<br>"
   ]
  },
  {
   "cell_type": "code",
   "execution_count": 3,
   "metadata": {
    "collapsed": false
   },
   "outputs": [
    {
     "name": "stdout",
     "output_type": "stream",
     "text": [
      "evaluation result : renet\n"
     ]
    }
   ],
   "source": [
    "resp = requests.post('http://' + url + '/api/v1/type/wf/target/init/mode/simple/'+nnid+'/wfver/'+ver+'/',\n",
    "                     json={\n",
    "                         \"type\": \"renet\"\n",
    "                     })\n",
    "data = json.loads(resp.json())\n",
    "print(\"evaluation result : {0}\".format(data))"
   ]
  },
  {
   "cell_type": "markdown",
   "metadata": {},
   "source": [
    "# Train Data Node Config\n",
    "type : Image Source Type<br>\n",
    "source_path : Image Source Path<br>\n",
    "preprocess : Image Preprocess Config<br>\n",
    "store_path : Image Store Path"
   ]
  },
  {
   "cell_type": "code",
   "execution_count": 10,
   "metadata": {
    "collapsed": false
   },
   "outputs": [
    {
     "name": "stdout",
     "output_type": "stream",
     "text": [
      "evaluation result : {'store_path': '/hoya_str_root/nn00007/1/datasrc', 'preprocess': {'x_size': 32, 'channel': 3, 'y_size': 32}, 'source_path': '/hoya_src_root/nn00007/1/datasrc', 'type': 'local image', 'key': {'nn_id': 'nn00007', 'node': 'datasrc', 'wf_ver_id': '1'}}\n"
     ]
    }
   ],
   "source": [
    "resp = requests.put('http://' + url + '/api/v1/type/wf/state/imgdata/src/local/form/file/prg/source/nnid/'+nnid+'/ver/'+ver+'/node/datasrc/',\n",
    "                     json={\n",
    "                         \"key\" : {\"node\": 'datasrc',\n",
    "                                  \"nn_id\": nnid,\n",
    "                                  \"wf_ver_id\": ver\n",
    "                                  },\n",
    "                         \"type\": \"local image\",\n",
    "                         \"source_path\": \"/hoya_src_root/\"+nnid+\"/\"+ver+\"/datasrc\",\n",
    "                         \"preprocess\": {\"x_size\": 32,\n",
    "                                        \"y_size\": 32,\n",
    "                                        \"channel\":3},\n",
    "                         \"store_path\": \"/hoya_str_root/\"+nnid+\"/\"+ver+\"/datasrc\"\n",
    "                     })\n",
    "data = json.loads(resp.json())\n",
    "print(\"evaluation result : {0}\".format(data))"
   ]
  },
  {
   "cell_type": "markdown",
   "metadata": {},
   "source": [
    "# Eval Data Node Config\n",
    "type : Image Source Type<br>\n",
    "source_path : Image Source Path<br>\n",
    "preprocess : Image Preprocess Config<br>\n",
    "store_path : Image Store Path"
   ]
  },
  {
   "cell_type": "code",
   "execution_count": 11,
   "metadata": {
    "collapsed": false
   },
   "outputs": [
    {
     "name": "stdout",
     "output_type": "stream",
     "text": [
      "evaluation result : {'store_path': '/hoya_str_root/nn00007/1/evaldata', 'preprocess': {'x_size': 32, 'channel': 3, 'y_size': 32}, 'source_path': '/hoya_src_root/nn00007/1/evaldata', 'type': 'local image', 'key': {'nn_id': 'nn00007', 'node': 'evaldata', 'wf_ver_id': '1'}}\n"
     ]
    }
   ],
   "source": [
    "resp = requests.put('http://' + url + '/api/v1/type/wf/state/imgdata/src/local/form/file/prg/source/nnid/'+nnid+'/ver/'+ver+'/node/evaldata/',\n",
    "                     json={\n",
    "                         \"key\" : {\"node\": 'evaldata',\n",
    "                                  \"nn_id\": nnid,\n",
    "                                  \"wf_ver_id\": ver\n",
    "                                  },\n",
    "                         \"type\": \"local image\",\n",
    "                         \"source_path\": \"/hoya_src_root/\"+nnid+\"/\"+ver+\"/evaldata\",\n",
    "                         \"preprocess\": {\"x_size\": 32,\n",
    "                                        \"y_size\": 32,\n",
    "                                        \"channel\":3},\n",
    "                         \"store_path\": \"/hoya_str_root/\"+nnid+\"/\"+ver+\"/evaldata\"\n",
    "                     })\n",
    "data = json.loads(resp.json())\n",
    "print(\"evaluation result : {0}\".format(data))"
   ]
  },
  {
   "cell_type": "markdown",
   "metadata": {},
   "source": [
    "# Neural Network Node Config\n",
    "model_path : Model Save Path<br>\n",
    "batch_size : Batch Size<br>\n",
    "nb_classes : Classfication Category Number<br>\n",
    "nb_epoch : Trainning Iteration<br>\n",
    "data_augmentation : Data Augmentation<br>\n",
    "pred_cnt : Prediction Category Number<br>\n",
    "train_feed_node : Train Data Feeder Node Name<br>\n",
    "eval_feed_node : Eval Data Feeder Node Name"
   ]
  },
  {
   "cell_type": "code",
   "execution_count": 3,
   "metadata": {
    "collapsed": false
   },
   "outputs": [
    {
     "name": "stdout",
     "output_type": "stream",
     "text": [
      "evaluation result : {'nb_classes': 7, 'batch_size': 1000, 'nb_epoch': 200, 'data_augmentation': 'False', 'model_path': '/hoya_model_root/nn00007/1/netconf_node/', 'labels': [], 'train_data_node': 'datasrc', 'eval_data_node': 'evaldata', 'pred_cnt': 2}\n"
     ]
    }
   ],
   "source": [
    "resp = requests.put('http://' + url + '/api/v1/type/wf/state/netconf/detail/renet/nnid/'+nnid+'/ver/'+ver+'/node/netconf_node/',\n",
    "                     json={\n",
    "                         \"model_path\" : \"/hoya_model_root/\"+nnid+\"/\"+ver+\"/netconf_node/\"\n",
    "                         ,\"labels\":[]\n",
    "                         ,\"batch_size\":1000\n",
    "                         ,\"nb_classes\":7\n",
    "                         ,\"nb_epoch\":200\n",
    "                         ,\"data_augmentation\":\"False\"\n",
    "                         ,\"pred_cnt\":2\n",
    "                         ,\"train_feed_node\":\"pre_feed_img2renet_train\"\n",
    "                         ,\"eval_feed_node\":\"pre_feed_img2renet_eval\"\n",
    "                        })\n",
    "data = json.loads(resp.json())\n",
    "print(\"evaluation result : {0}\".format(data))"
   ]
  },
  {
   "cell_type": "markdown",
   "metadata": {},
   "source": [
    "# Eval Node Config"
   ]
  },
  {
   "cell_type": "code",
   "execution_count": 15,
   "metadata": {
    "collapsed": false
   },
   "outputs": [
    {
     "name": "stdout",
     "output_type": "stream",
     "text": [
      "evaluation result : {'type': 'category'}\n"
     ]
    }
   ],
   "source": [
    "resp = requests.put('http://' + url + '/api/v1/type/wf/state/eval/nnid/'+nnid+'/ver/'+ver+'/node/eval_node/',\n",
    "                    json={\n",
    "                        \"type\": \"category\",\n",
    "                    })\n",
    "\n",
    "data = json.loads(resp.json())\n",
    "print(\"evaluation result : {0}\".format(data))"
   ]
  },
  {
   "cell_type": "markdown",
   "metadata": {},
   "source": [
    "# Training & Evaluate"
   ]
  },
  {
   "cell_type": "code",
   "execution_count": 31,
   "metadata": {
    "collapsed": false
   },
   "outputs": [
    {
     "name": "stdout",
     "output_type": "stream",
     "text": [
      "evaluation result : [None, None, None]\n"
     ]
    }
   ],
   "source": [
    "resp = requests.post('http://' + url + '/api/v1/type/runmanager/state/train/nnid/'+nnid+'/ver/'+ver+'/')\n",
    "data = json.loads(resp.json())\n",
    "print(\"evaluation result : {0}\".format(data))"
   ]
  },
  {
   "cell_type": "markdown",
   "metadata": {},
   "source": [
    "# Prediction"
   ]
  },
  {
   "cell_type": "code",
   "execution_count": 38,
   "metadata": {
    "collapsed": false
   },
   "outputs": [
    {
     "name": "stdout",
     "output_type": "stream",
     "text": [
      "evaluation result : {'air.jpg': {'0val': 0.9999924898147583, '1val': 7.4916215453413315e-06, '1key': 'car', '0key': 'airplane'}}\n"
     ]
    }
   ],
   "source": [
    "files = {'file': open('/hoya_src_root/air.jpg','rb')}\n",
    "resp = requests.post('http://' + url + '/api/v1/type/service/state/predict/type/renet/nnid/'+nnid+'/ver/'+ver+'/',\n",
    "                     files=files)\n",
    "data = json.loads(resp.json())\n",
    "print(\"evaluation result : {0}\".format(data))"
   ]
  }
 ],
 "metadata": {
  "anaconda-cloud": {},
  "kernelspec": {
   "display_name": "Python [conda root]",
   "language": "python",
   "name": "conda-root-py"
  },
  "language_info": {
   "codemirror_mode": {
    "name": "ipython",
    "version": 3
   },
   "file_extension": ".py",
   "mimetype": "text/x-python",
   "name": "python",
   "nbconvert_exporter": "python",
   "pygments_lexer": "ipython3",
   "version": "3.5.2"
  }
 },
 "nbformat": 4,
 "nbformat_minor": 1
}

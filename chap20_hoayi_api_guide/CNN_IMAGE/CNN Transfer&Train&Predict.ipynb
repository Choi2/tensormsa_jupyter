{
 "cells": [
  {
   "cell_type": "markdown",
   "metadata": {},
   "source": [
    "# CNN Transfer&Train&Predict"
   ]
  },
  {
   "cell_type": "code",
   "execution_count": 10,
   "metadata": {
    "collapsed": false
   },
   "outputs": [
    {
     "name": "stdout",
     "output_type": "stream",
     "text": [
      "Network ID=nn00004\n",
      "Active Version Workflow ID=44\n",
      "\n",
      "Network Config : {'modelname': 'model_nn00004_44', 'layer1': {'maxpoolmatrix': [2, 2], 'layercnt': 2, 'type': 'cnn', 'padding': 'SAME', 'cnnstride': [1, 1], 'maxpoolstride': [2, 2], 'active': 'relu', 'droprate': '0.8', 'cnnfilter': [3, 3]}, 'modelpath': '/hoya_model_root/nn00004/44/netconf_node', 'out': {'node_out': 625, 'active': 'softmax', 'padding': 'SAME'}, 'layer2': {'maxpoolmatrix': [2, 2], 'layercnt': 1, 'type': 'cnn', 'padding': 'SAME', 'cnnstride': [1, 1], 'maxpoolstride': [2, 2], 'active': 'relu', 'droprate': '0.8', 'cnnfilter': [3, 3]}, 'config': {'layeroutputs': 32, 'num_classes': 10, 'predictcnt': 10, 'learnrate': 0.001, 'batch_size': 10000, 'traincnt': 100}}\n",
      "\n",
      "Train Data Config : {'preprocess': {'y_size': 32, 'x_size': 32, 'channel': 3}, 'source_path': '/hoya_src_root/nn00004/44/datasrc', 'labels': [], 'store_path': '/hoya_str_root/nn00004/44/datasrc'}\n",
      "\n",
      "Eval Config : {'modelname': 'model_nn00004_44', 'modelpath': '/hoya_model_root/nn00004/44/eval_node'}\n",
      "\n",
      "Eval Data Config : {'preprocess': {'y_size': 32, 'x_size': 32, 'channel': 3}, 'source_path': '/hoya_src_root/nn00004/44/evaldata', 'labels': [], 'store_path': '/hoya_str_root/nn00004/44/evaldata'}\n",
      "\n"
     ]
    }
   ],
   "source": [
    "import requests\n",
    "import json, os\n",
    "\n",
    "url = \"{0}:{1}\".format(os.environ['HOSTNAME'] , \"8000\")\n",
    "\n",
    "nn_id = \"nn00004\"\n",
    "biz_cate = \"ERP\"\n",
    "biz_sub_cate = \"MRO\"\n",
    "nn_title = \"MRO Image Classification\"\n",
    "nn_desc = \"MRO Image Classification\"\n",
    "nn_wf_ver_info = \"MRO Image Classification\"\n",
    "use_flag = \"Y\"\n",
    "dirstr = \"purpose?\"\n",
    "config = \"N\"\n",
    "network_type = \"cnn\"\n",
    "node_sub_menu = \"data_image\"\n",
    "\n",
    "# get workflow version info\n",
    "resp = requests.get('http://' + url + '/api/v1/type/common/target/nninfo/'+nn_id+'/version/')\n",
    "data = json.loads(resp.json())\n",
    "\n",
    "# get Active workflow version\n",
    "wf_ver_id = 0\n",
    "data = sorted(data, key=lambda k: k['pk'])\n",
    "for config in data:\n",
    "    if config[\"fields\"][\"active_flag\"] == \"Y\":\n",
    "        wf_ver_id = config[\"pk\"]\n",
    "\n",
    "wf_ver_id = str(wf_ver_id)\n",
    "print(\"Network ID=\"+nn_id)\n",
    "print(\"Active Version Workflow ID=\"+wf_ver_id)\n",
    "print(\"\")\n",
    "\n",
    "node = \"netconf_node\"\n",
    "resp = requests.put('http://' + url + '/api/v1/type/wf/state/netconf/detail/cnn/nnid/'+nn_id+'/ver/'+wf_ver_id+'/node/'+node+'/',\n",
    "                     json={\n",
    "                         \"config\": {\"learnrate\": 0.001,\n",
    "                                     \"traincnt\": 100,\n",
    "                                     \"batch_size\":10000,\n",
    "                                     \"num_classes\":10,\n",
    "                                     \"predictcnt\": 10,\n",
    "                                     \"layeroutputs\":32\n",
    "                                     }\n",
    "                         ,\"layer1\": {\"type\": \"cnn\",\n",
    "                                     \"active\": \"relu\",\n",
    "                                     \"cnnfilter\": [3, 3],\n",
    "                                     \"cnnstride\": [1, 1],\n",
    "                                     \"maxpoolmatrix\": [2, 2],\n",
    "                                     \"maxpoolstride\": [2, 2],\n",
    "                                     \"padding\": \"SAME\",\n",
    "                                     \"droprate\": \"0.8\",\n",
    "                                     \"layercnt\":2\n",
    "                                    }\n",
    "                         ,\"layer2\": {\"type\": \"cnn\",\n",
    "                                     \"active\": \"relu\",\n",
    "                                     \"cnnfilter\": [3, 3],\n",
    "                                     \"cnnstride\": [1, 1],\n",
    "                                     \"maxpoolmatrix\": [2, 2],\n",
    "                                     \"maxpoolstride\": [2, 2],\n",
    "                                     \"padding\": \"SAME\",\n",
    "                                     \"droprate\": \"0.8\",\n",
    "                                     \"layercnt\":1\n",
    "                                    }\n",
    "                          ,\"out\": {\"active\": \"softmax\",\n",
    "                                   \"node_out\": 625,\n",
    "                                   \"padding\": \"SAME\"\n",
    "                                }\n",
    "                        })\n",
    "netconf = json.loads(resp.json())\n",
    "print(\"Network Config : {0}\".format(netconf))\n",
    "print(\"\")\n",
    "\n",
    "node = \"datasrc\"\n",
    "resp = requests.put('http://' + url + '/api/v1/type/wf/state/imgdata/src/local/form/file/prg/source/nnid/'+nn_id+'/ver/'+wf_ver_id+'/node/'+node+'/',\n",
    "                     json={\n",
    "                            \"preprocess\": {\"x_size\": 32,\n",
    "                                        \"y_size\": 32,\n",
    "                                        \"channel\":3}\n",
    "                         ,\"labels\":[]\n",
    "\n",
    "                     })\n",
    "dataconf = json.loads(resp.json())\n",
    "print(\"Train Data Config : {0}\".format(dataconf))\n",
    "print(\"\")\n",
    "\n",
    "node = \"eval_node\"\n",
    "resp = requests.put('http://' + url + '/api/v1/type/wf/state/netconf/detail/cnn/nnid/'+nn_id+'/ver/'+wf_ver_id+'/node/'+node+'/',json={})\n",
    "evalconf = json.loads(resp.json())\n",
    "print(\"Eval Config : {0}\".format(evalconf))\n",
    "print(\"\")\n",
    "\n",
    "node = 'evaldata'\n",
    "resp = requests.put('http://' + url + '/api/v1/type/wf/state/imgdata/src/local/form/file/prg/source/nnid/'+nn_id+'/ver/'+wf_ver_id+'/node/'+node+'/',\n",
    "                     json={\n",
    "                            \"preprocess\": {\"x_size\": 32,\n",
    "                                        \"y_size\": 32,\n",
    "                                        \"channel\":3}\n",
    "                         ,\"labels\":[]\n",
    "\n",
    "                     })\n",
    "edataconf = json.loads(resp.json())\n",
    "print(\"Eval Data Config : {0}\".format(edataconf))\n",
    "print(\"\")"
   ]
  },
  {
   "cell_type": "markdown",
   "metadata": {},
   "source": [
    "# Trainning & Eval Data Transfer\n",
    "(CNN Network Train을 할 수 있게 Data를 특정 장소에 전송해 준다.)<br>"
   ]
  },
  {
   "cell_type": "code",
   "execution_count": 11,
   "metadata": {
    "collapsed": false
   },
   "outputs": [
    {
     "name": "stdout",
     "output_type": "stream",
     "text": [
      "get file node list\n",
      "{'nn_wf_node_name': 'evaldata', 'nn_wf_node_id': 'nn00004_44_evaldata', 'nn_wf_node_desc': 'Evaluation Data Node'}\n",
      "{'nn_wf_node_name': 'datasrc', 'nn_wf_node_id': 'nn00004_44_datasrc', 'nn_wf_node_desc': 'Train Data Node'}\n",
      "\n"
     ]
    }
   ],
   "source": [
    "# get workflow node list info (train, eval)\n",
    "resp = requests.get('http://' + url + '/api/v1/type/wf/state/data/detail/upload/file/nnid/'+nn_id+'/ver/'+wf_ver_id+'/dir/'+node_sub_menu+'/')\n",
    "datalist = json.loads(resp.json())\n",
    "\n",
    "print(\"get file node list\")\n",
    "for node in datalist:\n",
    "    print(datalist[node])\n",
    "print(\"\")"
   ]
  },
  {
   "cell_type": "code",
   "execution_count": 13,
   "metadata": {
    "collapsed": false
   },
   "outputs": [
    {
     "name": "stdout",
     "output_type": "stream",
     "text": [
      "create file node list\n",
      "{'File1': {'File': 'File Create.(/hoya_src_root/nn00004/44/evaldata/cat_vs_dog.zip1)'}, 'File0': {'File': 'File Create.(/hoya_src_root/nn00004/44/evaldata/cat_vs_dog.zip1)'}}\n",
      "{'File1': {'File': 'File Create.(/hoya_src_root/nn00004/44/datasrc/cat_vs_dog.zip1)'}, 'File0': {'File': 'File Create.(/hoya_src_root/nn00004/44/datasrc/cat_vs_dog.zip1)'}}\n"
     ]
    }
   ],
   "source": [
    "# Train Folder에 Data를 위치 시킬지 Eval Folder에 Data를 위치 시킬지 결정후 전송해야 한다.\n",
    "print(\"create file node list\")\n",
    "for node in datalist:\n",
    "    typepath = datalist[node][\"nn_wf_node_name\"]\n",
    "\n",
    "    files = {'file1': open('/home/dev/hoyai/demo/data/cat_vs_dog.zip','rb'),\n",
    "             'file2': open('/home/dev/hoyai/demo/data/sample_cnn_img.zip','rb')}\n",
    "\n",
    "    resp = requests.post('http://' + url + '/api/v1/type/wf/state/data/detail/upload/file/nnid/'+nn_id+'/ver/'+wf_ver_id+'/dir/'+typepath+'/',\n",
    "                         files=files)\n",
    "    data = json.loads(resp.json())\n",
    "    print(data)"
   ]
  },
  {
   "cell_type": "markdown",
   "metadata": {},
   "source": [
    "# CNN Network Training\n",
    "(CNN Network Training을 실행한다.)<br> "
   ]
  },
  {
   "cell_type": "code",
   "execution_count": null,
   "metadata": {
    "collapsed": true
   },
   "outputs": [],
   "source": [
    "resp = requests.post('http://' + url + '/api/v1/type/runmanager/state/train/nnid/'+nn_id+'/ver/'+wf_ver_id+'/')\n",
    "data = json.loads(resp.json())\n",
    "\n",
    "for train in data:\n",
    "    if train != None and train != \"\" and train != {} and train != \"status\" and train != \"result\" and train[\"TrainResult\"] != None:\n",
    "        for tr in train[\"TrainResult\"]:\n",
    "            print(tr)"
   ]
  },
  {
   "cell_type": "markdown",
   "metadata": {},
   "source": [
    "# CNN Network Predict\n",
    "(CNN Network Predict를 실행한다.)<br>"
   ]
  },
  {
   "cell_type": "code",
   "execution_count": 15,
   "metadata": {
    "collapsed": true
   },
   "outputs": [],
   "source": [
    "files = {\n",
    "         'files000001':  open('/home/dev/hoyai/demo/data/airplane/1air.jpg','rb')\n",
    "        ,'files000002':  open('/home/dev/hoyai/demo/data/airplane/2air.jpg','rb')\n",
    "        ,'files000003':  open('/home/dev/hoyai/demo/data/bolt/1bolt.jpg','rb')\n",
    "        ,'files000004':  open('/home/dev/hoyai/demo/data/bolt/2bolt.jpg','rb')\n",
    "        ,'files000005':  open('/home/dev/hoyai/demo/data/car/1car.jpg','rb')\n",
    "        ,'files000006':  open('/home/dev/hoyai/demo/data/car/2car.jpg','rb')\n",
    "        ,'files000007':  open('/home/dev/hoyai/demo/data/glove/1glove.jpg','rb')\n",
    "        ,'files000008':  open('/home/dev/hoyai/demo/data/glove/2glove.jpg','rb')\n",
    "        ,'files000009':  open('/home/dev/hoyai/demo/data/motor/1motor.jpg','rb')\n",
    "        ,'files000010':  open('/home/dev/hoyai/demo/data/motor/2motor.jpg','rb')\n",
    "        }\n",
    "restURL = 'http://' + url + '/api/v1/type/service/state/predict/type/'+network_type+'/nnid/'+nn_id+'/ver/'+wf_ver_id+'/'\n",
    "\n",
    "resp = requests.post(restURL,\n",
    "                     files=files\n",
    "                     )\n",
    "data = json.loads(resp.json())\n",
    "\n",
    "for train in data:\n",
    "    print(\"FileName = \"+train)\n",
    "    print(data[train]['key'])\n",
    "    print(data[train]['val'])\n",
    "    print('')"
   ]
  },
  {
   "cell_type": "code",
   "execution_count": null,
   "metadata": {
    "collapsed": true
   },
   "outputs": [],
   "source": []
  }
 ],
 "metadata": {
  "anaconda-cloud": {},
  "kernelspec": {
   "display_name": "Python [default]",
   "language": "python",
   "name": "python3"
  },
  "language_info": {
   "codemirror_mode": {
    "name": "ipython",
    "version": 3
   },
   "file_extension": ".py",
   "mimetype": "text/x-python",
   "name": "python",
   "nbconvert_exporter": "python",
   "pygments_lexer": "ipython3",
   "version": "3.5.2"
  }
 },
 "nbformat": 4,
 "nbformat_minor": 1
}

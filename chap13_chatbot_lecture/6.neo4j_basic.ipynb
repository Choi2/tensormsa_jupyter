{
 "cells": [
  {
   "cell_type": "markdown",
   "metadata": {
    "collapsed": true
   },
   "source": [
    "# Graph DataBase <br>\n",
    "그래프 DB는 NoSql 의 한 종류로 다양한 OpenSource 가 존재하지만, 그중 가장 유명한 neo4j 를 가지고 개발중인 F/W 에 적용하고자 기본적인 기능들은 Jupyter 로 사전에 테스트 하고자 한다. 개발 환경은 Python, Django 기반으로 \"Neo4j Python Driver\"라는 Python 라이브러리를 사용하여 Server 형태로 구축된 Graph Db 에 접속하여 일반적인 Node 생성, Relation 생성, Match 를 사용한 조회 작업등을 테스트할 예정이다. <br>\n",
    "Neo4j 의 설치는 https://neo4j.com/download/community-edition/ 를 참조하면 간단하게 설치가 가능하며, 별다른 Setting 을 하지 않을 경우 기본 포트는 (api :7687, web:7474)가 된다. 아래의 예제들은 Neo4j가 설치되어 있다는 가정하에 수행된다.<br> \n",
    "<br><b>[그림1. graph data base]</b><br>\n",
    "<img src=\"../../images/graphdb.png\"><br>\n",
    "[가이드(Docker)](http://neo4j.com/docs/operations-manual/current/installation/docker/)"
   ]
  },
  {
   "cell_type": "code",
   "execution_count": 10,
   "metadata": {
    "collapsed": false
   },
   "outputs": [],
   "source": [
    "from neo4j.v1 import GraphDatabase, basic_auth\n",
    "driver = GraphDatabase.driver(\"bolt://13.124.78.189:7687\", auth=basic_auth(\"neo4j\", \"1234\"))\n",
    "session = driver.session()"
   ]
  },
  {
   "cell_type": "markdown",
   "metadata": {},
   "source": [
    "# (1) Record 생성 \n",
    "아래와 같이 Simple 하게 Lable 이 Person 이고 Property 가 name 인 Node를 만들어 보자. <br>"
   ]
  },
  {
   "cell_type": "code",
   "execution_count": 11,
   "metadata": {
    "collapsed": false
   },
   "outputs": [
    {
     "name": "stdout",
     "output_type": "stream",
     "text": [
      "you : <Node id=9 labels={'Person'} properties={'name': 'You'}>\n"
     ]
    }
   ],
   "source": [
    "result = session.run(\"CREATE (you:Person {name:'You'})\"\n",
    "                     \"RETURN you\")\n",
    "for record in result : \n",
    "    print(\"you : {0}\".format(record[\"you\"]))\n"
   ]
  },
  {
   "cell_type": "markdown",
   "metadata": {},
   "source": [
    "# (2) Relation 생성 - 직업\n",
    "Record 를 만들고 Relation 을 만들면 http://localhost:7474 에서 아래와 같은 그래프를 확인 할 수 있다.<br> 실행을 두번하여서 Person:you Node와 DataBase:Neo4j Node 사이에 관계가 Like 가 정의된 것을 확인 할 수 있다. <br> \n",
    "<img src=\"../../images/graph_1.png\"><br>"
   ]
  },
  {
   "cell_type": "code",
   "execution_count": 4,
   "metadata": {
    "collapsed": false
   },
   "outputs": [
    {
     "name": "stdout",
     "output_type": "stream",
     "text": [
      "<Node id=0 labels={'Person'} properties={'name': 'You'}>/<Relationship id=0 start=0 end=1 type='LIKE' properties={}>/<Node id=1 labels={'Database'} properties={'name': 'Neo4j'}>\n"
     ]
    }
   ],
   "source": [
    "result = session.run(\"MATCH  (you:Person {name:'You'})\"\n",
    "                     \"CREATE (you)-[like:LIKE]->(neo:Database {name:'Neo4j' })\"\n",
    "                     \"RETURN you,like,neo\")\n",
    "\n",
    "for record in result : \n",
    "    print(\"{0}/{1}/{2}\".format(record[\"you\"], record[\"like\"], record[\"neo\"]))"
   ]
  },
  {
   "cell_type": "markdown",
   "metadata": {},
   "source": [
    "# (3) Relation 생성 - 친구\n",
    "아래와 같이 (you)-[:FRIEND]->(:Person {name:name} 관계를 추가적으로 생성하여 보자. <br>\n",
    "아래와 같이 친구들이 추가된 것을 볼 수 있다. <br>\n",
    "<img src=\"../../images/graph_2.png\"><br>"
   ]
  },
  {
   "cell_type": "code",
   "execution_count": 5,
   "metadata": {
    "collapsed": false
   },
   "outputs": [
    {
     "name": "stdout",
     "output_type": "stream",
     "text": [
      "you : You , friends : Andrew\n",
      "you : You , friends : Julia\n",
      "you : You , friends : Anna\n",
      "you : You , friends : Rajesh\n",
      "you : You , friends : Johan\n"
     ]
    }
   ],
   "source": [
    "session.run(\"MATCH (you:Person {name:'You'})\"\n",
    "            \"FOREACH (name in ['Johan','Rajesh','Anna','Julia','Andrew'] |\"\n",
    "            \"  CREATE (you)-[:FRIEND]->(:Person {name:name}))\")\n",
    "result = session.run(\"MATCH (you {name:'You'})-[:FRIEND]->(yourFriends)\"\n",
    "                     \"RETURN you, yourFriends\")\n",
    "for record in result :\n",
    "    print(\"you : {0} , friends : {1}\".format(record['you']['name'],record['yourFriends']['name'] ))"
   ]
  },
  {
   "cell_type": "markdown",
   "metadata": {},
   "source": [
    "# (4) 친구의 친구 검색\n",
    "위에서 만든 친구중에 Anna 라는 친구의 친구 Amanda 를 추가하고 Amanda 의 직업은 Neo4j 로 설정한다. <br>\n",
    "그리고 당신의 친구중에 전문분야가 Neo4j 인 친구를 찾는 Path를 탐색한다. "
   ]
  },
  {
   "cell_type": "code",
   "execution_count": 6,
   "metadata": {
    "collapsed": false
   },
   "outputs": [
    {
     "name": "stdout",
     "output_type": "stream",
     "text": [
      "expert:<Node id=7 labels={'Expert', 'Person'} properties={'name': 'Amanda'}>\n",
      "path:<Path start=0 end=7 size=2>\n"
     ]
    }
   ],
   "source": [
    "session.run(\"MATCH (neo:Database {name:'Neo4j'})\"\n",
    "            \"MATCH (anna:Person {name:'Anna'})\"\n",
    "            \"CREATE (anna)-[:FRIEND]->(:Person:Expert {name:'Amanda'})-[:WORKED_WITH]->(neo)\")\n",
    "\n",
    "result = session.run(\"MATCH (you {name:'You'})\"\n",
    "                     \"MATCH (expert)-[:WORKED_WITH]->(db:Database {name:'Neo4j'})\"\n",
    "                     \"MATCH path = shortestPath( (you)-[:FRIEND*..5]-(expert) )\"\n",
    "                     \"RETURN db,expert,path\")\n",
    "\n",
    "for record in result :\n",
    "    print(\"expert:{0}\".format(record['expert'] ))\n",
    "    print(\"path:{0}\".format(record['path'] ))"
   ]
  },
  {
   "cell_type": "code",
   "execution_count": 7,
   "metadata": {
    "collapsed": false
   },
   "outputs": [
    {
     "name": "stdout",
     "output_type": "stream",
     "text": [
      "close\n"
     ]
    }
   ],
   "source": [
    "session.close()\n",
    "print(\"close\")"
   ]
  },
  {
   "cell_type": "code",
   "execution_count": null,
   "metadata": {
    "collapsed": true
   },
   "outputs": [],
   "source": []
  }
 ],
 "metadata": {
  "anaconda-cloud": {},
  "kernelspec": {
   "display_name": "Python [conda root]",
   "language": "python",
   "name": "conda-root-py"
  },
  "language_info": {
   "codemirror_mode": {
    "name": "ipython",
    "version": 3
   },
   "file_extension": ".py",
   "mimetype": "text/x-python",
   "name": "python",
   "nbconvert_exporter": "python",
   "pygments_lexer": "ipython3",
   "version": "3.5.2"
  }
 },
 "nbformat": 4,
 "nbformat_minor": 1
}

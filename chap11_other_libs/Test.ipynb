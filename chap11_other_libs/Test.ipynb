{
 "cells": [
  {
   "cell_type": "markdown",
   "metadata": {},
   "source": [
    "# Create  Spark Context "
   ]
  },
  {
   "cell_type": "code",
   "execution_count": 1,
   "metadata": {
    "collapsed": true
   },
   "outputs": [],
   "source": [
    "import pyspark\n",
    "from pyspark.sql import SQLContext"
   ]
  },
  {
   "cell_type": "code",
   "execution_count": 84,
   "metadata": {},
   "outputs": [
    {
     "name": "stdout",
     "output_type": "stream",
     "text": [
      "done\n"
     ]
    }
   ],
   "source": [
    "try : \n",
    "    sc = pyspark.SparkContext('local[*]')\n",
    "except Exception as e : \n",
    "    print( \"sc already exists \")\n",
    "sqlContext = SQLContext(sc)\n",
    "print(\"done\")"
   ]
  },
  {
   "cell_type": "markdown",
   "metadata": {},
   "source": [
    "# Let's see SC works fine "
   ]
  },
  {
   "cell_type": "code",
   "execution_count": 83,
   "metadata": {},
   "outputs": [
    {
     "name": "stdout",
     "output_type": "stream",
     "text": [
      "[0, 1, 2, 3, 4, 5, 6, 7, 8, 9, 10, 11, 12, 13, 14, 15, 16, 17, 18, 19, 20, 21, 22, 23, 24, 25, 26, 27, 28, 29, 30, 31, 32, 33, 34, 35, 36, 37, 38, 39, 40, 41, 42, 43, 44, 45, 46, 47, 48, 49, 50, 51, 52, 53, 54, 55, 56, 57, 58, 59, 60, 61, 62, 63, 64, 65, 66, 67, 68, 69, 70, 71, 72, 73, 74, 75, 76, 77, 78, 79, 80, 81, 82, 83, 84, 85, 86, 87, 88, 89, 90, 91, 92, 93, 94, 95, 96, 97, 98, 99, 100, 101, 102, 103, 104, 105, 106, 107, 108, 109, 110, 111, 112, 113, 114, 115, 116, 117, 118, 119, 120, 121, 122, 123, 124, 125, 126, 127, 128, 129, 130, 131, 132, 133, 134, 135, 136, 137, 138, 139, 140, 141, 142, 143, 144, 145, 146, 147, 148, 149, 150, 151, 152, 153, 154, 155, 156, 157, 158, 159, 160, 161, 162, 163, 164, 165, 166, 167, 168, 169, 170, 171, 172, 173, 174, 175, 176, 177, 178, 179, 180, 181, 182, 183, 184, 185, 186, 187, 188, 189, 190, 191, 192, 193, 194, 195, 196, 197, 198, 199, 200, 201, 202, 203, 204, 205, 206, 207, 208, 209, 210, 211, 212, 213, 214, 215, 216, 217, 218, 219, 220, 221, 222, 223, 224, 225, 226, 227, 228, 229, 230, 231, 232, 233, 234, 235, 236, 237, 238, 239, 240, 241, 242, 243, 244, 245, 246, 247, 248, 249, 250, 251, 252, 253, 254, 255, 256, 257, 258, 259, 260, 261, 262, 263, 264, 265, 266, 267, 268, 269, 270, 271, 272, 273, 274, 275, 276, 277, 278, 279, 280, 281, 282, 283, 284, 285, 286, 287, 288, 289, 290, 291, 292, 293, 294, 295, 296, 297, 298, 299, 300, 301, 302, 303, 304, 305, 306, 307, 308, 309, 310, 311, 312, 313, 314, 315, 316, 317, 318, 319, 320, 321, 322, 323, 324, 325, 326, 327, 328, 329, 330, 331, 332, 333, 334, 335, 336, 337, 338, 339, 340, 341, 342, 343, 344, 345, 346, 347, 348, 349, 350, 351, 352, 353, 354, 355, 356, 357, 358, 359, 360, 361, 362, 363, 364, 365, 366, 367, 368, 369, 370, 371, 372, 373, 374, 375, 376, 377, 378, 379, 380, 381, 382, 383, 384, 385, 386, 387, 388, 389, 390, 391, 392, 393, 394, 395, 396, 397, 398, 399, 400, 401, 402, 403, 404, 405, 406, 407, 408, 409, 410, 411, 412, 413, 414, 415, 416, 417, 418, 419, 420, 421, 422, 423, 424, 425, 426, 427, 428, 429, 430, 431, 432, 433, 434, 435, 436, 437, 438, 439, 440, 441, 442, 443, 444, 445, 446, 447, 448, 449, 450, 451, 452, 453, 454, 455, 456, 457, 458, 459, 460, 461, 462, 463, 464, 465, 466, 467, 468, 469, 470, 471, 472, 473, 474, 475, 476, 477, 478, 479, 480, 481, 482, 483, 484, 485, 486, 487, 488, 489, 490, 491, 492, 493, 494, 495, 496, 497, 498, 499, 500, 501, 502, 503, 504, 505, 506, 507, 508, 509, 510, 511, 512, 513, 514, 515, 516, 517, 518, 519, 520, 521, 522, 523, 524, 525, 526, 527, 528, 529, 530, 531, 532, 533, 534, 535, 536, 537, 538, 539, 540, 541, 542, 543, 544, 545, 546, 547, 548, 549, 550, 551, 552, 553, 554, 555, 556, 557, 558, 559, 560, 561, 562, 563, 564, 565, 566, 567, 568, 569, 570, 571, 572, 573, 574, 575, 576, 577, 578, 579, 580, 581, 582, 583, 584, 585, 586, 587, 588, 589, 590, 591, 592, 593, 594, 595, 596, 597, 598, 599, 600, 601, 602, 603, 604, 605, 606, 607, 608, 609, 610, 611, 612, 613, 614, 615, 616, 617, 618, 619, 620, 621, 622, 623, 624, 625, 626, 627, 628, 629, 630, 631, 632, 633, 634, 635, 636, 637, 638, 639, 640, 641, 642, 643, 644, 645, 646, 647, 648, 649, 650, 651, 652, 653, 654, 655, 656, 657, 658, 659, 660, 661, 662, 663, 664, 665, 666, 667, 668, 669, 670, 671, 672, 673, 674, 675, 676, 677, 678, 679, 680, 681, 682, 683, 684, 685, 686, 687, 688, 689, 690, 691, 692, 693, 694, 695, 696, 697, 698, 699, 700, 701, 702, 703, 704, 705, 706, 707, 708, 709, 710, 711, 712, 713, 714, 715, 716, 717, 718, 719, 720, 721, 722, 723, 724, 725, 726, 727, 728, 729, 730, 731, 732, 733, 734, 735, 736, 737, 738, 739, 740, 741, 742, 743, 744, 745, 746, 747, 748, 749, 750, 751, 752, 753, 754, 755, 756, 757, 758, 759, 760, 761, 762, 763, 764, 765, 766, 767, 768, 769, 770, 771, 772, 773, 774, 775, 776, 777, 778, 779, 780, 781, 782, 783, 784, 785, 786, 787, 788, 789, 790, 791, 792, 793, 794, 795, 796, 797, 798, 799, 800, 801, 802, 803, 804, 805, 806, 807, 808, 809, 810, 811, 812, 813, 814, 815, 816, 817, 818, 819, 820, 821, 822, 823, 824, 825, 826, 827, 828, 829, 830, 831, 832, 833, 834, 835, 836, 837, 838, 839, 840, 841, 842, 843, 844, 845, 846, 847, 848, 849, 850, 851, 852, 853, 854, 855, 856, 857, 858, 859, 860, 861, 862, 863, 864, 865, 866, 867, 868, 869, 870, 871, 872, 873, 874, 875, 876, 877, 878, 879, 880, 881, 882, 883, 884, 885, 886, 887, 888, 889, 890, 891, 892, 893, 894, 895, 896, 897, 898, 899, 900, 901, 902, 903, 904, 905, 906, 907, 908, 909, 910, 911, 912, 913, 914, 915, 916, 917, 918, 919, 920, 921, 922, 923, 924, 925, 926, 927, 928, 929, 930, 931, 932, 933, 934, 935, 936, 937, 938, 939, 940, 941, 942, 943, 944, 945, 946, 947, 948, 949, 950, 951, 952, 953, 954, 955, 956, 957, 958, 959, 960, 961, 962, 963, 964, 965, 966, 967, 968, 969, 970, 971, 972, 973, 974, 975, 976, 977, 978, 979, 980, 981, 982, 983, 984, 985, 986, 987, 988, 989, 990, 991, 992, 993, 994, 995, 996, 997, 998, 999]\n"
     ]
    }
   ],
   "source": [
    "# do something to prove it works\n",
    "rdd = sc.parallelize(range(1000))\n",
    "rdd.takeSample(False, 5)\n",
    "print(rdd.collect())\n",
    "sc.stop()"
   ]
  },
  {
   "cell_type": "markdown",
   "metadata": {},
   "source": [
    "# Collect Data from Web REST API \n",
    "- url : https://openweathermap.org/forecast5 <br>\n",
    "※ Let's check out how the data looks like \n",
    "\n",
    "온도, 파도, 기압, 습도 등등 을 가지고 결국 기상청에서 예보한 기상 정보를 카테고리를 예측하는 모델을 만들기 위해서 기존에 조금 복잡한 구조의 Json 데이터에서 훈련이 용이하도록 편집한다. "
   ]
  },
  {
   "cell_type": "code",
   "execution_count": 89,
   "metadata": {},
   "outputs": [
    {
     "name": "stdout",
     "output_type": "stream",
     "text": [
      "x_data : [{'pressure': 1011.5, 'grnd_level': 1011.5, 'temp_kf': 2.55, 'temp': 25.82, 'temp_max': 25.82, 'temp_min': 23.27, 'sea_level': 1027.32, 'humidity': 57}, {'pressure': 1010.24, 'grnd_level': 1010.24, 'temp_kf': 1.91, 'temp': 27.5, 'temp_max': 27.5, 'temp_min': 25.59, 'sea_level': 1026.07, 'humidity': 49}]\n",
      "y_data : ['Clear', 'Clear']\n"
     ]
    }
   ],
   "source": [
    "import requests\n",
    "from bs4 import BeautifulSoup\n",
    "import re, json, os, random\n",
    "import matplotlib.pyplot as plt\n",
    "import numpy as np\n",
    "from functools import reduce \n",
    "import pandas as pd\n",
    "from io import StringIO\n",
    "from sklearn.cross_validation import train_test_split\n",
    "\n",
    "resp = requests.get('http://openweathermap.org/data/2.5/forecast?q=London,us&mode=json&appid=b1b15e88fa797225412429c1c50c122a1')\n",
    "data = resp.json()\n",
    "\n",
    "x_data = []\n",
    "y_data = []\n",
    "data_list = data['list']\n",
    "for raw in data_list :\n",
    "    x_data.append(raw['main'])\n",
    "    y_data.append(raw['weather'][0]['main'])\n",
    "\n",
    "print(\"x_data : {0}\".format(x_data[0:2]))\n",
    "print(\"y_data : {0}\".format(y_data[0:2]))"
   ]
  },
  {
   "cell_type": "markdown",
   "metadata": {},
   "source": [
    "# Train /Test 데이터 분리 \n",
    "정확한 테스트를 위해 Train 데이터와 Test 데이터를 분리한다 ."
   ]
  },
  {
   "cell_type": "code",
   "execution_count": 93,
   "metadata": {},
   "outputs": [
    {
     "name": "stdout",
     "output_type": "stream",
     "text": [
      "data_train : [{'pressure': 1016.84, 'grnd_level': 1016.84, 'temp_kf': 0, 'temp': 20.29, 'temp_max': 20.29, 'temp_min': 20.29, 'sea_level': 1032.73, 'humidity': 66}, {'pressure': 1015.57, 'grnd_level': 1015.57, 'temp_kf': 0, 'temp': 19.37, 'temp_max': 19.37, 'temp_min': 19.37, 'sea_level': 1031.56, 'humidity': 76}, {'pressure': 1009.6, 'grnd_level': 1009.6, 'temp_kf': 0, 'temp': 23.19, 'temp_max': 23.19, 'temp_min': 23.19, 'sea_level': 1025.51, 'humidity': 62}, {'pressure': 1014.58, 'grnd_level': 1014.58, 'temp_kf': 0, 'temp': 15.14, 'temp_max': 15.14, 'temp_min': 15.14, 'sea_level': 1030.62, 'humidity': 88}, {'pressure': 1012.83, 'grnd_level': 1012.83, 'temp_kf': 0, 'temp': 14.99, 'temp_max': 14.99, 'temp_min': 14.99, 'sea_level': 1028.85, 'humidity': 99}]\n",
      "data_test : [{'pressure': 1015.77, 'grnd_level': 1015.77, 'temp_kf': 0, 'temp': 21.1, 'temp_max': 21.1, 'temp_min': 21.1, 'sea_level': 1031.67, 'humidity': 71}, {'pressure': 1013.25, 'grnd_level': 1013.25, 'temp_kf': 0, 'temp': 14.35, 'temp_max': 14.35, 'temp_min': 14.35, 'sea_level': 1029.29, 'humidity': 86}, {'pressure': 1008.46, 'grnd_level': 1008.46, 'temp_kf': 0, 'temp': 17.7, 'temp_max': 17.7, 'temp_min': 17.7, 'sea_level': 1024.46, 'humidity': 65}, {'pressure': 1014.44, 'grnd_level': 1014.44, 'temp_kf': 0, 'temp': 14.69, 'temp_max': 14.69, 'temp_min': 14.69, 'sea_level': 1030.58, 'humidity': 76}, {'pressure': 1012.24, 'grnd_level': 1012.24, 'temp_kf': 0, 'temp': 22.12, 'temp_max': 22.12, 'temp_min': 22.12, 'sea_level': 1028.2, 'humidity': 76}]\n",
      "labels_train : [1, 1, 0, 1, 1]\n",
      "labels_test : [0, 1, 0, 0, 0]\n"
     ]
    }
   ],
   "source": [
    "data_train, data_test, labels_train, labels_test = train_test_split(x_data, y_data, test_size=0.20, random_state=42)\n",
    "def change (x) :\n",
    "    if(x == 'Clear') :\n",
    "        return 0\n",
    "    if(x in ['Rain', 'Clouds']) :\n",
    "        return 1\n",
    "#     idx = ['Clear', 'Rain', 'Clouds']\n",
    "#     return idx.index(x)\n",
    "\n",
    "labels_train = list(map(lambda x : change(x), labels_train ))\n",
    "labels_test = list(map(lambda x : change(x), labels_test ))\n",
    "\n",
    "print(\"data_train : {0}\".format(data_train[0:5]))\n",
    "print(\"data_test : {0}\".format(data_test[0:5]))\n",
    "print(\"labels_train : {0}\".format(labels_train[0:5]))\n",
    "print(\"labels_test : {0}\".format(labels_test[0:5]))"
   ]
  },
  {
   "cell_type": "markdown",
   "metadata": {},
   "source": [
    "# Save Data as file"
   ]
  },
  {
   "cell_type": "code",
   "execution_count": 94,
   "metadata": {},
   "outputs": [],
   "source": [
    "with open('/home/jovyan/work/train6.data', 'w') as fp : \n",
    "    for data, label in zip(data_train, labels_train) :\n",
    "        x_data = []\n",
    "        x_data.append(label)\n",
    "        for raw in data.keys() :\n",
    "            x_data.append(data[raw])\n",
    "        x_data.append('\\n')\n",
    "        #train_feed_data.append(LabeledPoint(label, x_data))\n",
    "        fp.write(' '.join(map(lambda x: str(x) ,x_data)))\n",
    "               "
   ]
  },
  {
   "cell_type": "markdown",
   "metadata": {},
   "source": [
    "# Train Model"
   ]
  },
  {
   "cell_type": "code",
   "execution_count": 95,
   "metadata": {},
   "outputs": [],
   "source": [
    "from pyspark.mllib.classification import LogisticRegressionWithLBFGS, LogisticRegressionModel\n",
    "from pyspark.mllib.regression import LabeledPoint\n",
    "\n",
    "# 파일이 있는지 확인 \n",
    "# with open('/home/jovyan/work/train5.data', 'r') as fp : \n",
    "#     print(fp.read())\n",
    "    \n",
    "data = sc.textFile(\"file:///home/jovyan/work/train6.data\")\n",
    "#print(data.collect())"
   ]
  },
  {
   "cell_type": "code",
   "execution_count": 128,
   "metadata": {},
   "outputs": [
    {
     "name": "stdout",
     "output_type": "stream",
     "text": [
      "(weights=[-0.81230598677,-0.81230598677,-100.271879002,-0.603157535245,-0.603157535245,1.97910338392,1.55627691027,0.415274547681], intercept=0.0)\n"
     ]
    }
   ],
   "source": [
    "def parsePoint(line):\n",
    "    values = [float(x) for x in line.split(' ')[0:len(line.split(' '))-1]] \n",
    "    return LabeledPoint(values[0], values[1:])\n",
    "\n",
    "parsedData = data.map(parsePoint)\n",
    "model = LogisticRegressionWithLBFGS.train(parsedData)\n",
    "print(model)"
   ]
  },
  {
   "cell_type": "markdown",
   "metadata": {},
   "source": [
    "# Test Model\n",
    "Test Model Accuracy  "
   ]
  },
  {
   "cell_type": "code",
   "execution_count": 132,
   "metadata": {},
   "outputs": [
    {
     "name": "stdout",
     "output_type": "stream",
     "text": [
      "Training Error = 0.13793103448275862\n"
     ]
    }
   ],
   "source": [
    "# print(\"labels_train : {0}\".format(labels_train[0:5]))\n",
    "# print(\"labels_test : {0}\".format(labels_test[0:5]))\n",
    "# Evaluating the model on training data\n",
    "labelsAndPreds = parsedData.map(lambda p: (p.label, model.predict(p.features)))\n",
    "trainErr = labelsAndPreds.filter(lambda x: x[0] != x[1]).count() / float(parsedData.count())\n",
    "print(\"Training Error = \" + str(trainErr))"
   ]
  },
  {
   "cell_type": "markdown",
   "metadata": {},
   "source": [
    "# Save Model"
   ]
  },
  {
   "cell_type": "code",
   "execution_count": 125,
   "metadata": {},
   "outputs": [
    {
     "name": "stdout",
     "output_type": "stream",
     "text": [
      "save model\n"
     ]
    }
   ],
   "source": [
    "import random \n",
    "model.save(sc, \"/home/jovyan/work/\" + str(random.randrange(1,50)) + '/')\n",
    "print(\"save model\")"
   ]
  }
 ],
 "metadata": {
  "kernelspec": {
   "display_name": "Python 3",
   "language": "python",
   "name": "python3"
  },
  "language_info": {
   "codemirror_mode": {
    "name": "ipython",
    "version": 3
   },
   "file_extension": ".py",
   "mimetype": "text/x-python",
   "name": "python",
   "nbconvert_exporter": "python",
   "pygments_lexer": "ipython3",
   "version": "3.5.2"
  }
 },
 "nbformat": 4,
 "nbformat_minor": 2
}

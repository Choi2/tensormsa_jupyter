{
 "cells": [
  {
   "cell_type": "markdown",
   "metadata": {},
   "source": [
    "# 배열 초기화 \n",
    "<b> 1. np.zeros : 0으로 초기화 </b> <br>\n",
    "<b> 2. np.ones : 1으로 초기화 </b> <br>\n",
    "<b> 3. np.full : 지정한 수로 초기화 </b> <br>\n",
    "<b> 4. np.eye : 대각선으로 대칭되는 Matrix 생성 </b> <br>\n",
    "<b> 5. np.random.random : Rnadom 값으로 초기화 </b> <br>"
   ]
  },
  {
   "cell_type": "code",
   "execution_count": 26,
   "metadata": {
    "collapsed": false
   },
   "outputs": [
    {
     "name": "stdout",
     "output_type": "stream",
     "text": [
      "[[ 0.  0.]\n",
      " [ 0.  0.]]\n",
      "[[ 1.  1.]]\n",
      "[[ 7.  7.]\n",
      " [ 7.  7.]]\n",
      "[[ 1.  0.  0.  0.]\n",
      " [ 0.  1.  0.  0.]\n",
      " [ 0.  0.  1.  0.]\n",
      " [ 0.  0.  0.  1.]]\n",
      "[[ 0.02649794  0.26402113]\n",
      " [ 0.13781099  0.4178478 ]]\n"
     ]
    },
    {
     "name": "stderr",
     "output_type": "stream",
     "text": [
      "/opt/conda/lib/python3.5/site-packages/numpy/core/numeric.py:301: FutureWarning: in the future, full((2, 2), 7) will return an array of dtype('int64')\n",
      "  format(shape, fill_value, array(fill_value).dtype), FutureWarning)\n"
     ]
    }
   ],
   "source": [
    "import numpy as np \n",
    "a = np.zeros((2,2))  \n",
    "print (a)              \n",
    "    \n",
    "b = np.ones((1,2))   # Create an array of all ones\n",
    "print (b)              \n",
    "\n",
    "c = np.full((2,2), 7) # Create a constant array\n",
    "print (c)               # \n",
    "\n",
    "d = np.eye(4)        # Create a 2x2 identity matrix\n",
    "print (d)              \n",
    "    \n",
    "e = np.random.random((2,2)) # Create an array filled with random values\n",
    "print (e)                     "
   ]
  },
  {
   "cell_type": "markdown",
   "metadata": {},
   "source": [
    "# 배열 접근 \n",
    "기본적으로 Numpy는 Python 과 동일하게 메모리 참조를 사용하기 때문에 별도로 Clone 등을 하지 않는한 같은 메모리를 참조하게 된다. <br>\n",
    "아래의 예제는 배열에 접근하는 두가지 방법을 보여준다. a[0] 과 같이 0번 배열에 접근하거나, a[0:2] 과 같이 특정 범위에 접근 할 수 있다. "
   ]
  },
  {
   "cell_type": "code",
   "execution_count": 28,
   "metadata": {
    "collapsed": false
   },
   "outputs": [
    {
     "name": "stdout",
     "output_type": "stream",
     "text": [
      "1\n",
      "2\n",
      "[1 2]\n",
      "[[2 3]\n",
      " [6 7]]\n",
      "2\n",
      "77\n"
     ]
    }
   ],
   "source": [
    "#1차원 배열의 예 \n",
    "x = np.array([1,2,3,4])\n",
    "print(x[0])\n",
    "print(x[1])\n",
    "print(x[0:2])\n",
    "\n",
    "a = np.array([[1,2,3,4], [5,6,7,8], [9,10,11,12]])\n",
    "b = a[:2, 1:3]\n",
    "print(b)\n",
    "print (a[0, 1])   # Prints \"2\"\n",
    "b[0, 0] = 77    # b[0, 0] is the same piece of data as a[0, 1]\n",
    "print (a[0, 1])   # Prints \"77\""
   ]
  },
  {
   "cell_type": "markdown",
   "metadata": {},
   "source": [
    "# 특정 Row, Col 선택 \n",
    "a[:] 와 같은 형태로 배열을 지정하면 전체 선택의 의미로, a[:, 0:2] 와 같이 지정하면 y 축이 0,1 인 데이터 전체를 가지고 온다. 이런 패턴을 응용하면 아래와 같이 특정 row, col 을 선택해서 가지고 오는 것은 어렵지 않다. "
   ]
  },
  {
   "cell_type": "code",
   "execution_count": 10,
   "metadata": {
    "collapsed": false
   },
   "outputs": [
    {
     "name": "stdout",
     "output_type": "stream",
     "text": [
      "[5 6 7 8] (4,)\n",
      "[[5 6 7 8]] (1, 4)\n",
      "[ 2  6 10] (3,)\n",
      "[[ 2]\n",
      " [ 6]\n",
      " [10]] (3, 1)\n"
     ]
    }
   ],
   "source": [
    "a = np.array([[1,2,3,4], [5,6,7,8], [9,10,11,12]])\n",
    "\n",
    "\n",
    "row_r1 = a[1, :]    # Rank 1 view of the second row of a  \n",
    "row_r2 = a[1:2, :]  # Rank 2 view of the second row of a\n",
    "print (row_r1, row_r1.shape ) # Prints \"[5 6 7 8] (4,)\"\n",
    "print (row_r2, row_r2.shape)  # Prints \"[[5 6 7 8]] (1, 4)\"\n",
    "\n",
    "# We can make the same distinction when accessing columns of an array:\n",
    "col_r1 = a[:, 1]\n",
    "col_r2 = a[:, 1:2]\n",
    "print (col_r1, col_r1.shape)  # Prints \"[ 2  6 10] (3,)\"\n",
    "print (col_r2, col_r2.shape)  # Prints \"[[ 2]             "
   ]
  },
  {
   "cell_type": "markdown",
   "metadata": {},
   "source": [
    "# 배열 Index 로 접근 \n",
    "당연히 범위가 아니라 특정 포인트를 선택하여 접근할 수도 있다. a[0:2] 와 a[[0,1]은 같은 결과를 출력한다. <br>\n",
    "같은 방법으로 특정 데이터 Index만 추출할 수 있다.  "
   ]
  },
  {
   "cell_type": "code",
   "execution_count": 25,
   "metadata": {
    "collapsed": false
   },
   "outputs": [
    {
     "name": "stdout",
     "output_type": "stream",
     "text": [
      "[1 3 5]\n",
      "[2 4 6]\n",
      "[1 4]\n",
      "[1 4 5]\n",
      "[1 4 5]\n",
      "[2 2]\n",
      "[2 2]\n"
     ]
    }
   ],
   "source": [
    "a = np.array([[1,2], [3, 4], [5, 6]])\n",
    "\n",
    "# 배열 포인터 접근을 다시 배열로 할 수 있다. \n",
    "# 배열 접근은 첫번재 파라메터가 1차원, 두번째가 2차원 이런 식이다. \n",
    "print(a[[0,1,2], 0])\n",
    "print(a[[0,1,2], 1])\n",
    "print(a[[0,1], [0,1]])\n",
    "\n",
    "# 아래의 두개는 같다. \n",
    "print (a[[0, 1, 2], [0, 1, 0]])  # Prints \"[1 4 5]\"\n",
    "print (np.array([a[0, 0], a[1, 1], a[2, 0]]))  # Prints \"[1 4 5]\"\n",
    "\n",
    "# 당연히 아래의 두개도 같다. \n",
    "print (a[[0, 0], [1, 1]])  # Prints \"[2 2]\"\n",
    "print (np.array([a[0, 1], a[0, 1]]))  # Prints \"[2 2]\""
   ]
  },
  {
   "cell_type": "markdown",
   "metadata": {},
   "source": [
    "# 특정 배열의 값을 변경 \n",
    "위와 같이 특정 배열에 접근하여 그 값을 변경할 수 있다. "
   ]
  },
  {
   "cell_type": "code",
   "execution_count": 30,
   "metadata": {
    "collapsed": false
   },
   "outputs": [
    {
     "name": "stdout",
     "output_type": "stream",
     "text": [
      "[[ 1  2  3]\n",
      " [ 4  5  6]\n",
      " [ 7  8  9]\n",
      " [10 11 12]]\n",
      "[ 1  6  7 11]\n",
      "[[11  2  3]\n",
      " [ 4  5 16]\n",
      " [17  8  9]\n",
      " [10 21 12]]\n"
     ]
    }
   ],
   "source": [
    "# Create a new array from which we will select elements\n",
    "a = np.array([[1,2,3], [4,5,6], [7,8,9], [10, 11, 12]])\n",
    "\n",
    "print (a)  # prints \"array([[ 1,  2,  3],\n",
    "         #                [ 4,  5,  6],\n",
    "         #                [ 7,  8,  9],\n",
    "         #                [10, 11, 12]])\"\n",
    "\n",
    "# Create an array of indices\n",
    "b = np.array([0, 2, 0, 1])\n",
    "\n",
    "# Select one element from each row of a using the indices in b\n",
    "print (a[np.arange(4), b])  # Prints \"[ 1  6  7 11]\"\n",
    "\n",
    "# Mutate one element from each row of a using the indices in b\n",
    "a[np.arange(4), b] += 10\n",
    "\n",
    "print (a)  # prints \"array([[11,  2,  3],"
   ]
  },
  {
   "cell_type": "markdown",
   "metadata": {},
   "source": [
    "# 조건판단\n",
    "조건판단을 통해 조건에 부합하는 데이터만 추출 할 수 있다 ."
   ]
  },
  {
   "cell_type": "code",
   "execution_count": 31,
   "metadata": {
    "collapsed": false
   },
   "outputs": [
    {
     "name": "stdout",
     "output_type": "stream",
     "text": [
      "[[False False]\n",
      " [ True  True]\n",
      " [ True  True]]\n",
      "[3 4 5 6]\n",
      "[3 4 5 6]\n"
     ]
    }
   ],
   "source": [
    "a = np.array([[1,2], [3, 4], [5, 6]])\n",
    "\n",
    "bool_idx = (a > 2)  # Find the elements of a that are bigger than 2;\n",
    "print (bool_idx )     # Prints \"[[False False]\n",
    "print (a[bool_idx] ) # Prints \"[3 4 5 6]\"\n",
    "\n",
    "# We can do all of the above in a single concise statement:\n",
    "print (a[a > 2])     # Prints \"[3 4 5 6]\""
   ]
  },
  {
   "cell_type": "markdown",
   "metadata": {},
   "source": [
    "# 데이터 타입\n",
    "데이터 타입은 데이터의 형태혹은 dtype 파라메터를 통해서 강제로 지정 가능하다. "
   ]
  },
  {
   "cell_type": "code",
   "execution_count": 33,
   "metadata": {
    "collapsed": false
   },
   "outputs": [
    {
     "name": "stdout",
     "output_type": "stream",
     "text": [
      "int64\n",
      "float64\n",
      "int64\n"
     ]
    }
   ],
   "source": [
    "\n",
    "x = np.array([1, 2])  # Let numpy choose the datatype\n",
    "print (x.dtype)         # Prints \"int64\"\n",
    "\n",
    "x = np.array([1.0, 2.0])  # Let numpy choose the datatype\n",
    "print (x.dtype)             # Prints \"float64\"\n",
    "\n",
    "x = np.array([1, 2], dtype=np.int64)  # Force a particular datatype\n",
    "print (x.dtype)                         # Prints \"int64\""
   ]
  },
  {
   "cell_type": "markdown",
   "metadata": {},
   "source": [
    "# Array 사칙연산 \n",
    "더하기 곱하기 나누기 루트 등 다양한 연산 수행 가능 "
   ]
  },
  {
   "cell_type": "code",
   "execution_count": null,
   "metadata": {
    "collapsed": true
   },
   "outputs": [],
   "source": [
    "x = np.array([[1,2],[3,4]])\n",
    "y = np.array([[5,6],[7,8]])\n",
    "\n",
    "v = np.array([9,10])\n",
    "w = np.array([11, 12])\n",
    "\n",
    "print x + y\n",
    "print np.add(x, y)\n",
    "\n",
    "# Array 간의 빼기 연산 \n",
    "# [[-4.0 -4.0]\n",
    "#  [-4.0 -4.0]]\n",
    "print x - y\n",
    "print np.subtract(x, y)\n",
    "\n",
    "# 곱하기 연산\n",
    "# [[ 5.0 12.0]\n",
    "#  [21.0 32.0]]\n",
    "print x * y\n",
    "print np.multiply(x, y)\n",
    "\n",
    "# E나누기 연산\n",
    "# [[ 0.2         0.33333333]\n",
    "#  [ 0.42857143  0.5       ]]\n",
    "print x / y\n",
    "print np.divide(x, y)\n",
    "\n",
    "# 루트 연산 \n",
    "# [[ 1.          1.41421356]\n",
    "#  [ 1.73205081  2.        ]]\n",
    "print np.sqrt(x)"
   ]
  },
  {
   "cell_type": "markdown",
   "metadata": {},
   "source": [
    "# 간단한 연산 기능 \n",
    "sum, avg, min, max 등 간단한 연산 기능을 사용할 수 있다. "
   ]
  },
  {
   "cell_type": "code",
   "execution_count": 59,
   "metadata": {
    "collapsed": false
   },
   "outputs": [
    {
     "name": "stdout",
     "output_type": "stream",
     "text": [
      "10\n",
      "[4 6]\n",
      "[3 7]\n",
      "[3 4]\n",
      "[1 2]\n",
      "[2 4]\n",
      "[1 3]\n"
     ]
    }
   ],
   "source": [
    "x = np.array([[1,2],[3,4]])\n",
    "print (np.sum(x))  # Compute sum of all elements; prints \"10\"\n",
    "print (np.sum(x, axis=0))  \n",
    "print (np.sum(x, axis=1))  \n",
    "\n",
    "print (np.max(x, axis=0))  \n",
    "print (np.min(x, axis=0))  \n",
    "print (np.max(x, axis=1))  \n",
    "print (np.min(x, axis=1))  \n"
   ]
  },
  {
   "cell_type": "markdown",
   "metadata": {},
   "source": [
    "# Transpose \n",
    "T method 를 사용해서 메트릭스를 변환할 수 있다. 단, 1차원 Matrix 에서는 동작하지 않는다. "
   ]
  },
  {
   "cell_type": "code",
   "execution_count": 60,
   "metadata": {
    "collapsed": false
   },
   "outputs": [
    {
     "name": "stdout",
     "output_type": "stream",
     "text": [
      "[[1 2]\n",
      " [3 4]]\n",
      "[[1 3]\n",
      " [2 4]]\n",
      "[1 2 3]\n",
      "[1 2 3]\n"
     ]
    }
   ],
   "source": [
    "x = np.array([[1,2], [3,4]])\n",
    "print (x)    # Prints \"[[1 2]\n",
    "           #          [3 4]]\"\n",
    "print (x.T)  # Prints \"[[1 3]\n",
    "           #          [2 4]]\"\n",
    "\n",
    "# Note that taking the transpose of a rank 1 array does nothing:\n",
    "v = np.array([1,2,3])\n",
    "print (v)    # Prints \"[1 2 3]\"\n",
    "print (v.T)  # Prints \"[1 2 3]\""
   ]
  },
  {
   "cell_type": "markdown",
   "metadata": {},
   "source": [
    "# Broadcasting\n",
    "서로다른 차원의 Matrix 을 연산 할 수 있다. "
   ]
  },
  {
   "cell_type": "code",
   "execution_count": 61,
   "metadata": {
    "collapsed": false
   },
   "outputs": [
    {
     "name": "stdout",
     "output_type": "stream",
     "text": [
      "[[ 2  2  4]\n",
      " [ 5  5  7]\n",
      " [ 8  8 10]\n",
      " [11 11 13]]\n"
     ]
    }
   ],
   "source": [
    "x = np.array([[1,2,3], [4,5,6], [7,8,9], [10, 11, 12]])\n",
    "v = np.array([1, 0, 1])\n",
    "y = np.empty_like(x)   # Create an empty matrix with the same shape as x\n",
    "\n",
    "# Add the vector v to each row of the matrix x with an explicit loop\n",
    "for i in range(4):\n",
    "    y[i, :] = x[i, :] + v\n",
    "\n",
    "# Now y is the following\n",
    "# [[ 2  2  4]\n",
    "#  [ 5  5  7]\n",
    "#  [ 8  8 10]\n",
    "#  [11 11 13]]\n",
    "print (y)"
   ]
  },
  {
   "cell_type": "markdown",
   "metadata": {},
   "source": [
    "# Broadcasting \n",
    "위와 같이 Loop 연산 없이 동일한 Matrix 를 tile 메서드를 이용하여 큰 Matrix 와 동일한 사이즈가 되도록 쌓은 후 연산을 할 수 있다. "
   ]
  },
  {
   "cell_type": "code",
   "execution_count": 63,
   "metadata": {
    "collapsed": false
   },
   "outputs": [
    {
     "name": "stdout",
     "output_type": "stream",
     "text": [
      "[[1 0 1]\n",
      " [1 0 1]\n",
      " [1 0 1]\n",
      " [1 0 1]]\n",
      "[[ 2  2  4]\n",
      " [ 5  5  7]\n",
      " [ 8  8 10]\n",
      " [11 11 13]]\n"
     ]
    }
   ],
   "source": [
    "x = np.array([[1,2,3], [4,5,6], [7,8,9], [10, 11, 12]])\n",
    "v = np.array([1, 0, 1])\n",
    "vv = np.tile(v, (4, 1))  # Stack 4 copies of v on top of each other\n",
    "print (vv)                 \n",
    "y = x + vv  # Add x and vv elementwise\n",
    "print (y) "
   ]
  },
  {
   "cell_type": "markdown",
   "metadata": {},
   "source": [
    "# reshape \n",
    "reshape method 를 통해 배열의 Shape 을 바꾸고 연산을 할 수 있다. <br> ※ reshape 시 -1 은 무한대와 같은 역할을 하게 된다. "
   ]
  },
  {
   "cell_type": "code",
   "execution_count": 70,
   "metadata": {
    "collapsed": false
   },
   "outputs": [
    {
     "name": "stdout",
     "output_type": "stream",
     "text": [
      "[[1]\n",
      " [2]\n",
      " [3]]\n",
      "[[1]\n",
      " [2]\n",
      " [3]]\n",
      "[[ 4  5]\n",
      " [ 8 10]\n",
      " [12 15]]\n",
      "[[2 4 6]\n",
      " [5 7 9]]\n",
      "[[ 5  6  7]\n",
      " [ 9 10 11]]\n",
      "[[ 5  6  7]\n",
      " [ 9 10 11]]\n",
      "[[ 2  4  6]\n",
      " [ 8 10 12]]\n"
     ]
    }
   ],
   "source": [
    "# Compute outer product of vectors\n",
    "v = np.array([1,2,3])  # v has shape (3,)\n",
    "w = np.array([4,5])    # w has shape (2,)\n",
    "print (np.reshape(v, (3, 1)))\n",
    "print (np.reshape(v, (-1, 1)))\n",
    "print (np.reshape(v, (3, 1)) * w)\n",
    "\n",
    "# Add a vector to each row of a matrix\n",
    "v = np.array([1,2,3])\n",
    "x = np.array([[1,2,3], [4,5,6]])\n",
    "print (x + v)\n",
    "\n",
    "# Add a vector to each column of a matrix\n",
    "print ((x.T + w).T)\n",
    "# output.\n",
    "print (x + np.reshape(w, (2, 1)))\n",
    "\n",
    "# Multiply a matrix by a constant:\n",
    "print (x * 2)"
   ]
  },
  {
   "cell_type": "code",
   "execution_count": null,
   "metadata": {
    "collapsed": true
   },
   "outputs": [],
   "source": []
  }
 ],
 "metadata": {
  "kernelspec": {
   "display_name": "Python [conda root]",
   "language": "python",
   "name": "conda-root-py"
  },
  "language_info": {
   "codemirror_mode": {
    "name": "ipython",
    "version": 3
   },
   "file_extension": ".py",
   "mimetype": "text/x-python",
   "name": "python",
   "nbconvert_exporter": "python",
   "pygments_lexer": "ipython3",
   "version": "3.5.2"
  }
 },
 "nbformat": 4,
 "nbformat_minor": 1
}

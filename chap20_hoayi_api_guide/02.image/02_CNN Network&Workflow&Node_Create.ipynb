{
 "cells": [
  {
   "cell_type": "markdown",
   "metadata": {},
   "source": [
    "# CNN Network&Workflow&Node Create"
   ]
  },
  {
   "cell_type": "code",
   "execution_count": 1,
   "metadata": {
    "collapsed": false
   },
   "outputs": [
    {
     "name": "stdout",
     "output_type": "stream",
     "text": [
      "Create Network : nn00004\n",
      "Create Workflow Version : 18\n",
      "Create Workflow Version Node : cnn\n"
     ]
    }
   ],
   "source": [
    "import requests\n",
    "import json, os\n",
    "\n",
    "url = \"{0}:{1}\".format(os.environ['HOSTNAME'] , \"8000\")\n",
    "\n",
    "nn_id = \"nn00004\"\n",
    "biz_cate = \"ERP\"\n",
    "biz_sub_cate = \"MRO\"\n",
    "nn_title = \"MRO Image Classification\"\n",
    "nn_desc = \"MRO Image Classification\"\n",
    "nn_wf_ver_info = \"MRO Image Classification\"\n",
    "use_flag = \"Y\"\n",
    "dirstr = \"purpose?\"\n",
    "config = \"N\"\n",
    "network_type = \"cnn\"\n",
    "node_sub_menu = \"data_image\"\n",
    "\n",
    "# Create Network\n",
    "resp = requests.post('http://' + url + '/api/v1/type/common/target/nninfo/nnid/'+nn_id+ '/',\n",
    "                     json={\n",
    "                         \"nn_id\": nn_id,\n",
    "                         \"biz_cate\": biz_cate,\n",
    "                         \"biz_sub_cate\": biz_sub_cate,\n",
    "                         \"nn_title\" : nn_title,\n",
    "                         \"nn_desc\": nn_desc,\n",
    "                         \"use_flag\" : use_flag,\n",
    "                         \"dir\": dirstr,\n",
    "                         \"config\": config\n",
    "                     })\n",
    "data = json.loads(resp.json())\n",
    "print(\"Create Network : {0}\".format(data))\n",
    "\n",
    "# Create Workflow \n",
    "resp = requests.post('http://' + url + '/api/v1/type/common/target/nninfo/nnid/'+nn_id+'/version/',\n",
    "                     json={\n",
    "                         \"nn_def_list_info_nn_id\": \"\",\n",
    "                         \"nn_wf_ver_info\": nn_wf_ver_info,\n",
    "                         \"condition\": \"1\",\n",
    "                         \"active_flag\": \"N\"\n",
    "                     })\n",
    "data = json.loads(resp.json())\n",
    "\n",
    "# Get Workflow Version\n",
    "resp = requests.get('http://' + url + '/api/v1/type/common/target/nninfo/nnid/'+nn_id+'/version/')\n",
    "data = json.loads(resp.json())\n",
    "\n",
    "# Get Max Workflow Version\n",
    "wf_ver_id = 0\n",
    "for i in data:\n",
    "    if i[\"pk\"] > wf_ver_id:\n",
    "        wf_ver_id = i[\"pk\"]\n",
    "\n",
    "wf_ver_id = str(wf_ver_id)\n",
    "\n",
    "# Set Active Workflow Version\n",
    "resp = requests.put('http://' + url + '/api/v1/type/common/target/nninfo/nnid/'+nn_id+'/version/',\n",
    "                     json={\n",
    "                         \"nn_wf_ver_id\": wf_ver_id,\n",
    "                         \"nn_def_list_info_nn_id\": \"\",\n",
    "                         \"nn_wf_ver_info\": nn_wf_ver_info,\n",
    "                         \"condition\": \"1\",\n",
    "                         \"active_flag\": \"Y\"\n",
    "                     })\n",
    "data = json.loads(resp.json())\n",
    "print(\"Create Workflow Version : {0}\".format(data))\n",
    "\n",
    "# Create Workflow Node\n",
    "resp = requests.post('http://' + url + '/api/v1/type/wf/target/init/mode/simple/'+nn_id+'/wfver/'+wf_ver_id+'/',\n",
    "                     json={\n",
    "                         \"type\": network_type\n",
    "                     })\n",
    "data = json.loads(resp.json())\n",
    "print(\"Create Workflow Version Node : {0}\".format(data))"
   ]
  },
  {
   "cell_type": "code",
   "execution_count": null,
   "metadata": {
    "collapsed": true
   },
   "outputs": [],
   "source": [
    ""
   ]
  }
 ],
 "metadata": {
  "anaconda-cloud": {},
  "kernelspec": {
   "display_name": "Python [default]",
   "language": "python",
   "name": "python3"
  },
  "language_info": {
   "codemirror_mode": {
    "name": "ipython",
    "version": 3.0
   },
   "file_extension": ".py",
   "mimetype": "text/x-python",
   "name": "python",
   "nbconvert_exporter": "python",
   "pygments_lexer": "ipython3",
   "version": "3.5.2"
  }
 },
 "nbformat": 4,
 "nbformat_minor": 0
}
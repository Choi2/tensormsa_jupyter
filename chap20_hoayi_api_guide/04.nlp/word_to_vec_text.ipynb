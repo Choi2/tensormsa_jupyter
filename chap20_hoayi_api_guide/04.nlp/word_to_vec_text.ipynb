{
 "cells": [
  {
   "cell_type": "markdown",
   "metadata": {
    "collapsed": true
   },
   "source": [
    "# Neural Network 정의\n",
    "nn_id : Neural Network ID<br>\n",
    "biz_cate : Business 대분류<br>\n",
    "biz_sub_cate : Business 소분류<br>\n",
    "nn_title : Neural Network Title<br>\n",
    "nn_desc : Neural Network Description<br>\n",
    "use_flag : 사용여부<br> \n",
    "dir : 문제유형<br>\n",
    "config : Custom 여부 "
   ]
  },
  {
   "cell_type": "code",
   "execution_count": 21,
   "metadata": {
    "collapsed": false
   },
   "outputs": [
    {
     "name": "stdout",
     "output_type": "stream",
     "text": [
      "1.evaluation result : w2v0014\n"
     ]
    }
   ],
   "source": [
    "import requests\n",
    "import json, os\n",
    "\n",
    "url = \"{0}:{1}\".format(os.environ['HOSTNAME'] , \"8000\")\n",
    "\n",
    "nn_id = \"w2v0014\"\n",
    "nn_wf_ver_id =\"1\"\n",
    "\n",
    "# Seq - 1\n",
    "resp = requests.post('http://' + url + '/api/v1/type/common/target/nninfo/nnid/' + nn_id + '/',\n",
    "                     json={\n",
    "                         \"biz_cate\": \"MES\",\n",
    "                         \"biz_sub_cate\": \"M60\",\n",
    "                         \"nn_title\" : \"test\",\n",
    "                         \"nn_desc\": \"test desc\",\n",
    "                         \"use_flag\" : \"Y\",\n",
    "                         \"dir\": \"purpose?\",\n",
    "                         \"config\": \"N\"\n",
    "                     })\n",
    "data = json.loads(resp.json())\n",
    "print(\"1.evaluation result : {0}\".format(data))"
   ]
  },
  {
   "cell_type": "markdown",
   "metadata": {},
   "source": [
    "# Work Flow Version 정의\n",
    "nn_def_list_info_nn_id :<br>\n",
    "nn_wf_ver_info : Work Flow Version Description<br>\n",
    "condition :<br>\n",
    "active_flag : 사용여부\n",
    "master_nn_ver_wflist_info insert"
   ]
  },
  {
   "cell_type": "code",
   "execution_count": 22,
   "metadata": {
    "collapsed": false
   },
   "outputs": [
    {
     "name": "stdout",
     "output_type": "stream",
     "text": [
      "2.evaluation result : w2v0014\n"
     ]
    }
   ],
   "source": [
    "# Seq - 2\n",
    "resp = requests.post('http://' + url + '/api/v1/type/common/target/nninfo/nnid/' + nn_id + '/version/',\n",
    "                 json={\n",
    "                     \"nn_def_list_info_nn_id\": \"\",\n",
    "                     \"nn_wf_ver_info\": \"test version info\",\n",
    "                     \"condition\": \"1\",\n",
    "                     \"active_flag\": \"Y\"\n",
    "                 })\n",
    "data = json.loads(resp.json())\n",
    "print(\"2.evaluation result : {0}\".format(data))"
   ]
  },
  {
   "cell_type": "markdown",
   "metadata": {},
   "source": [
    "# Work Flow Node  Initialize\n",
    "type : Neural Network Type<br>\n",
    "1. Data Node<br>\n",
    "2. Neural Network Node<br>\n",
    "3. Evaluation Node<br>"
   ]
  },
  {
   "cell_type": "code",
   "execution_count": 23,
   "metadata": {
    "collapsed": false
   },
   "outputs": [
    {
     "name": "stdout",
     "output_type": "stream",
     "text": [
      "3.evaluation result : word2vec\n"
     ]
    }
   ],
   "source": [
    "# Seq - 3\n",
    "resp = requests.post('http://' + url + '/api/v1/type/wf/target/init/mode/simple/'+ nn_id + '/wfver/1/',\n",
    "                     json={\n",
    "                         \"type\": \"word2vec\"\n",
    "                     })\n",
    "data = json.loads(resp.json())\n",
    "print(\"3.evaluation result : {0}\".format(data))"
   ]
  },
  {
   "cell_type": "markdown",
   "metadata": {},
   "source": [
    "# Data Node Config\n",
    "type : Image Source Type<br>\n",
    "labels : Classfication Labels<br>\n",
    "source_path : Image Source Path<br>\n",
    "preprocess : Image Preprocess Config<br>\n",
    "store_path : Image Store Path"
   ]
  },
  {
   "cell_type": "code",
   "execution_count": 24,
   "metadata": {
    "collapsed": false
   },
   "outputs": [
    {
     "name": "stdout",
     "output_type": "stream",
     "text": [
      "4.evaluation result : ['1 file upload success']\n",
      "5.evaluation result : {'source_sql': 'all', 'source_path': '/hoya_src_root/w2v0014/1/data_node', 'source_server': 'local', 'source_type': 'local', 'source_parse_type': 'raw', 'max_sentence_len': 10}\n"
     ]
    }
   ],
   "source": [
    "# Seq - 4\n",
    "return_dict = {}\n",
    "return_dict['test'] = open('../../data/novel_1.txt', 'rb')\n",
    "\n",
    "resp = requests.post('http://' + url + '/api/v1/type/wf/state/textdata/src/local/form/raw/prg/source/nnid/'+nn_id+'/ver/1/node/data_node/',\n",
    "                     files = return_dict)\n",
    "\n",
    "data = json.loads(resp.json())\n",
    "print(\"4.evaluation result : {0}\".format(data))\n",
    "\n",
    "# Seq - 5\n",
    "resp = requests.put('http://' + url + '/api/v1/type/wf/state/textdata/src/local/form/raw/prg/source/nnid/'+ nn_id + '/ver/1/node/data_node/',\n",
    "                     json={\n",
    "                         \"source_server\": \"local\",\n",
    "                         \"source_sql\": \"all\",\n",
    "                         \"max_sentence_len\" : 10\n",
    "                     })\n",
    "data = json.loads(resp.json())\n",
    "print(\"5.evaluation result : {0}\".format(data))\n"
   ]
  },
  {
   "cell_type": "markdown",
   "metadata": {
    "collapsed": true
   },
   "source": [
    "# Select Preprocess Type\n",
    "preprocess : kkma, twiter, mecab, nltk<br>"
   ]
  },
  {
   "cell_type": "code",
   "execution_count": 25,
   "metadata": {
    "collapsed": false
   },
   "outputs": [
    {
     "name": "stdout",
     "output_type": "stream",
     "text": [
      "6.evaluation result : None\n",
      "7.evaluation result : /hoya_str_root/w2v0014/1/data_node\n",
      "8.evaluation result : {'source_sql': 'all', 'source_path': '/hoya_src_root/w2v0014/1/data_node', 'source_parse_type': 'raw', 'preprocess': 'None', 'source_type': 'local', 'store_path': '/hoya_str_root/w2v0014/1/data_node', 'source_server': 'local', 'max_sentence_len': 10}\n"
     ]
    }
   ],
   "source": [
    "# Seq - 6\n",
    "resp = requests.put('http://' + url + '/api/v1/type/wf/state/textdata/src/local/form/raw/prg/pre/nnid/'+ nn_id + '/ver/1/node/data_node/',\n",
    "                     json={\n",
    "                         \"preprocess\":  \"None\",\n",
    "                     })\n",
    "data = json.loads(resp.json())\n",
    "print(\"6.evaluation result : {0}\".format(data))\n",
    "\n",
    "# Seq - 7\n",
    "resp = requests.put('http://' + url + '/api/v1/type/wf/state/textdata/src/local/form/raw/prg/store/nnid/'+ nn_id + '/ver/1/node/data_node/')\n",
    "data = json.loads(resp.json())\n",
    "print(\"7.evaluation result : {0}\".format(data))\n",
    "\n",
    "# Seq - 8\n",
    "resp = requests.get('http://' + url + '/api/v1/type/wf/state/textdata/src/local/form/raw/prg/source/nnid/'+ nn_id + '/ver/1/node/data_node/')\n",
    "data = json.loads(resp.json())\n",
    "print(\"8.evaluation result : {0}\".format(data))"
   ]
  },
  {
   "cell_type": "markdown",
   "metadata": {},
   "source": [
    "# Neural Network Node Config\n",
    "model_path : Model Save Path<br>\n",
    "window_size : 문장 내의 현재 단어와 예측 단어 사이의 최대 거리.<br>\n",
    "vector_size : 백터사이즈.<br>\n",
    "batch_size : Batch Size (Vocabary Distance)<br>\n",
    "iter : Trainning Iteration<br>"
   ]
  },
  {
   "cell_type": "code",
   "execution_count": 39,
   "metadata": {
    "collapsed": false
   },
   "outputs": [
    {
     "name": "stdout",
     "output_type": "stream",
     "text": [
      "9.evaluation result : {'batch_size': 100, 'min_count': 1, 'preprocess': 'None', 'model_path': '/hoya_model_root/w2v0014/1/netconf_node', 'window_size': 5, 'iter': 5, 'vector_size': 100}\n"
     ]
    }
   ],
   "source": [
    "# Seq - 9\n",
    "resp = requests.put('http://' + url + '/api/v1/type/wf/state/netconf/detail/w2v/nnid/' + nn_id + '/ver/' + nn_wf_ver_id + '/node/netconf_node/',\n",
    "                     json={\n",
    "                        \"window_size\" : 5,\n",
    "                        \"vector_size\" : 100,\n",
    "                        \"batch_size\" : 100,\n",
    "                        \"iter\" : 5,\n",
    "                        \"min_count\" : 1,\n",
    "                        \"preprocess\" : \"None\"\n",
    "                     })\n",
    "data = json.loads(resp.json())\n",
    "print(\"9.evaluation result : {0}\".format(data))"
   ]
  },
  {
   "cell_type": "markdown",
   "metadata": {},
   "source": [
    "# Eval Network Node Config"
   ]
  },
  {
   "cell_type": "code",
   "execution_count": 27,
   "metadata": {
    "collapsed": false
   },
   "outputs": [
    {
     "name": "stdout",
     "output_type": "stream",
     "text": [
      "10.evaluation result : ['1 file upload success']\n",
      "11.evaluation result : {'source_sql': 'all', 'source_path': '/hoya_src_root/w2v0014/1/test_data_node', 'source_server': 'local', 'source_type': 'local', 'source_parse_type': 'raw', 'max_sentence_len': 50}\n",
      "12.evaluation result : None\n",
      "13.evaluation result : /hoya_str_root/w2v0014/1/test_data_node\n",
      "14.evaluation result : {'type': 'w2v'}\n"
     ]
    }
   ],
   "source": [
    "# Seq - 10\n",
    "return_dict = {}\n",
    "return_dict['test'] = open('../../data/novel_1.txt', 'rb')\n",
    "resp = requests.post('http://' + url + '/api/v1/type/wf/state/textdata/src/local/form/raw/prg/source/nnid/'+ nn_id + '/ver/1/node/test_data_node/',\n",
    "                     files = return_dict)\n",
    "data = json.loads(resp.json())\n",
    "print(\"10.evaluation result : {0}\".format(data))\n",
    "\n",
    "# Seq - 11\n",
    "resp = requests.put('http://' + url + '/api/v1/type/wf/state/textdata/src/local/form/raw/prg/source/nnid/'+ nn_id + '/ver/1/node/test_data_node/',\n",
    "                     json={\n",
    "                         \"source_server\": \"local\",\n",
    "                         \"source_sql\": \"all\",\n",
    "                         \"max_sentence_len\" : 50\n",
    "                     })\n",
    "data = json.loads(resp.json())\n",
    "print(\"11.evaluation result : {0}\".format(data))\n",
    "\n",
    "# Seq - 12\n",
    "resp = requests.put('http://' + url + '/api/v1/type/wf/state/textdata/src/local/form/raw/prg/pre/nnid/'+ nn_id + '/ver/1/node/test_data_node/',\n",
    "                     json={\n",
    "                         \"preprocess\":  \"None\",\n",
    "                     })\n",
    "data = json.loads(resp.json())\n",
    "print(\"12.evaluation result : {0}\".format(data))\n",
    "\n",
    "# Seq - 13\n",
    "resp = requests.put('http://' + url + '/api/v1/type/wf/state/textdata/src/local/form/raw/prg/store/nnid/'+ nn_id + '/ver/1/node/test_data_node/')\n",
    "data = json.loads(resp.json())\n",
    "print(\"13.evaluation result : {0}\".format(data))\n",
    "\n",
    "node_name = 'eval_node'\n",
    "resp = requests.put('http://' + url + '/api/v1/type/wf/state/eval/nnid/'+nn_id+'/ver/1/node/eval_node/',\n",
    "                    json={\n",
    "                        \"type\": \"w2v\",\n",
    "                    })\n",
    "data = json.loads(resp.json())\n",
    "print(\"14.evaluation result : {0}\".format(data))"
   ]
  },
  {
   "cell_type": "markdown",
   "metadata": {},
   "source": [
    "# Training"
   ]
  },
  {
   "cell_type": "code",
   "execution_count": 28,
   "metadata": {
    "collapsed": false
   },
   "outputs": [
    {
     "name": "stdout",
     "output_type": "stream",
     "text": [
      "14.evaluation result : [None, None, True, None, None, {'y': [], 'x': [], 'word': []}]\n"
     ]
    }
   ],
   "source": [
    "# Seq - 14\n",
    "resp = requests.post('http://' + url + '/api/v1/type/runmanager/state/train/nnid/'+nn_id+'/ver/'+nn_wf_ver_id+'/')\n",
    "data = json.loads(resp.json())\n",
    "print(\"14.evaluation result : {0}\".format(data))"
   ]
  },
  {
   "cell_type": "markdown",
   "metadata": {},
   "source": [
    "# Prediction\n",
    "type :  sim\n",
    "val_1 : [철강,권오준,연구원,포스코]\n",
    "\n",
    "\n",
    "포스코-적자\n",
    "철강-포스코\n"
   ]
  },
  {
   "cell_type": "code",
   "execution_count": 45,
   "metadata": {
    "collapsed": false
   },
   "outputs": [
    {
     "name": "stdout",
     "output_type": "stream",
     "text": [
      "evaluation result : [[-0.020525163039565086, 0.04692612960934639, 0.05030370131134987, -0.012286012060940266, -0.0037592644803225994, -0.030842192471027374, 0.01674736849963665, -0.054970309138298035, -0.08577895909547806, 0.1255255788564682, -0.02777358889579773, 0.03695392981171608, 0.044458433985710144, -0.007728930562734604, 0.08414790034294128, 0.058133892714977264, 0.04944032430648804, 0.01613127626478672, -0.040425531566143036, 0.004654400981962681, -0.03939636051654816, -0.0019560905639082193, -0.009940450079739094, -0.06451232731342316, 0.0569504015147686, -0.014093209989368916, 0.09073378145694733, 0.09947685152292252, 0.006592847406864166, -0.008854197338223457, 0.12631729245185852, 0.04848669841885567, 0.06378431618213654, -0.04620460793375969, 0.008887161500751972, -0.030518099665641785, -0.01516534760594368, 0.044853076338768005, -0.05782085284590721, -0.08027826994657516, 0.014025202952325344, 0.044981539249420166, 0.004896924365311861, -0.028371311724185944, -0.05109790712594986, -0.07373176515102386, -0.10512163490056992, 0.08453123271465302, -0.013461959548294544, 0.021848665550351143, -0.008970526047050953, -0.04527459293603897, -0.017793165519833565, 0.01753085106611252, 0.02533436194062233, 0.035888779908418655, 0.026869671419262886, 0.07286906987428665, -0.09840452671051025, 0.08030493557453156, 0.020363574847579002, 0.05747954919934273, -0.04360934719443321, -0.007815506309270859, 0.05689325928688049, 0.05190270394086838, -0.018432151526212692, 0.009586657397449017, -0.08955849707126617, -0.015274081379175186, 0.06507446616888046, -0.04223490506410599, -0.047457266598939896, -0.05493870750069618, 0.03036578930914402, -0.012590847909450531, 0.10204384475946426, -0.07904526591300964, -0.0001657690154388547, -0.09601821005344391, 0.018075214698910713, 0.05400990694761276, 0.0034184586256742477, 0.002286079805344343, 0.02704218029975891, -0.044543638825416565, 0.07505488395690918, 0.04921184480190277, -0.05573805049061775, 0.0022162178065627813, 0.03275308758020401, -0.11974544078111649, 0.0004437191819306463, -0.01948268711566925, 0.03747180849313736, 0.006018102169036865, -0.02106001414358616, -0.0002090744092129171, -0.01121156569570303, 0.012898841872811317]]\n"
     ]
    }
   ],
   "source": [
    "# Run All Workflow\n",
    "resp = requests.post('http://' + url + '/api/v1/type/service/state/predict/type/w2v/nnid/' + nn_id + '/ver/active/',\n",
    "                     json={\n",
    "                         \"type\": \"vector\",\n",
    "                         \"val_1\":[\"관심\"],\n",
    "                         \"val_2\":[]\n",
    "                        }\n",
    "                     )\n",
    "data = json.loads(resp.json())\n",
    "print(\"evaluation result : {0}\".format(data))"
   ]
  },
  {
   "cell_type": "code",
   "execution_count": null,
   "metadata": {
    "collapsed": true
   },
   "outputs": [],
   "source": []
  }
 ],
 "metadata": {
  "anaconda-cloud": {},
  "kernelspec": {
   "display_name": "Python [conda root]",
   "language": "python",
   "name": "conda-root-py"
  },
  "language_info": {
   "codemirror_mode": {
    "name": "ipython",
    "version": 3
   },
   "file_extension": ".py",
   "mimetype": "text/x-python",
   "name": "python",
   "nbconvert_exporter": "python",
   "pygments_lexer": "ipython3",
   "version": "3.5.2"
  }
 },
 "nbformat": 4,
 "nbformat_minor": 1
}

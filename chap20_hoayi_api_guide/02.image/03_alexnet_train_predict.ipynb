{
 "cells": [
  {
   "cell_type": "markdown",
   "metadata": {},
   "source": [
    "# Alexnet Train Predict"
   ]
  },
  {
   "cell_type": "markdown",
   "metadata": {},
   "source": [
    "# Init Config Setup"
   ]
  },
  {
   "cell_type": "code",
   "execution_count": 8,
   "metadata": {
    "collapsed": false,
    "scrolled": true
   },
   "outputs": [
    {
     "name": "stdout",
     "output_type": "stream",
     "text": [
      "insert workflow node conf info netconf result : {'labels': ['airplane', 'bolt', 'car', 'AC Geared Motor', 'AC Induction Motor', 'Air Filter', 'Aux Relay', 'Bolt', 'Bolt-Nut', 'Centrifugal Pump', 'Check Valve', 'Circuit Breaker', 'Compressor Accessories', 'Control Valve', 'Controller', 'DC Power Supply'], 'config': {'layeroutputs': 32, 'num_classes': 10, 'net_type': 'cnn', 'eval_type': 'category', 'optimizer': 'AdamOptimizer', 'learnrate': 0.001}, 'layer1': {'layercnt': 4, 'maxpoolstride': [2, 2], 'cnnfilter': [3, 3], 'padding': 'SAME', 'active': 'relu', 'cnnstride': [1, 1], 'droprate': '0.8', 'maxpoolmatrix': [2, 2]}, 'layer2': {'layercnt': 1, 'maxpoolstride': [2, 2], 'cnnfilter': [3, 3], 'padding': 'SAME', 'active': 'relu', 'cnnstride': [1, 1], 'droprate': '0.8', 'maxpoolmatrix': [1, 1]}, 'out': {'node_out': 625, 'padding': 'SAME', 'active': 'softmax'}, 'param': {'predlog': 'N', 'traincnt': 1, 'batch_size': 1000000, 'epoch': 1, 'predictcnt': 5}}\n",
      "\n",
      "insert workflow node conf info dataconf result : {'source_path': '/hoya_src_root/mro001/1/datasrc', 'preprocess': {'channel': 3, 'x_size': 32, 'filesize': 1000000, 'y_size': 32, 'yolo': 'n'}, 'store_path': '/hoya_str_root/mro001/1/datasrc'}\n"
     ]
    }
   ],
   "source": [
    "import requests\n",
    "import json, os\n",
    "\n",
    "def spaceprint(val, cnt):\n",
    "    leng = len(str(val))\n",
    "    cnt = cnt - leng\n",
    "    restr = \"\"\n",
    "    for i in range(cnt):\n",
    "        restr += \" \"\n",
    "    restr = restr+str(val)\n",
    "    return restr\n",
    "\n",
    "url = \"{0}:{1}\".format(os.environ['HOSTNAME'] , \"8000\")\n",
    "nn_id = \"mro001\"\n",
    "net_type = \"cnn\"\n",
    "wf_ver_id = 1\n",
    "wf_ver_id = str(wf_ver_id)\n",
    "\n",
    "# CNN Network WorkFlow Node : Network Config Setup\n",
    "resp = requests.put('http://' + url + '/api/v1/type/wf/state/netconf/detail/cnn/nnid/'+nn_id+'/ver/'+wf_ver_id+'/node/netconf_node/',\n",
    "                     json={\n",
    "                         \"param\":{\"traincnt\": 1\n",
    "                                  ,\"epoch\": 1\n",
    "                                  ,\"batch_size\":1000000\n",
    "                                  ,\"predictcnt\": 5\n",
    "                                  ,\"predlog\": \"N\" # T:Ture, F:False, A:True&False, N:None\n",
    "                         },\n",
    "                         \"config\": {\"num_classes\":10,\n",
    "                                    \"learnrate\": 0.001,\n",
    "                                    \"layeroutputs\":32,\n",
    "                                    \"net_type\":\"cnn\",\n",
    "                                    \"eval_type\":\"category\",\n",
    "                                    \"optimizer\":\"AdamOptimizer\" #RMSPropOptimizer\n",
    "                                     }\n",
    "                         ,\"layer1\": {\"active\": \"relu\",\n",
    "                                     \"cnnfilter\": [3, 3],\n",
    "                                     \"cnnstride\": [1, 1],\n",
    "                                     \"maxpoolmatrix\": [2, 2],\n",
    "                                     \"maxpoolstride\": [2, 2],\n",
    "                                     \"padding\": \"SAME\",\n",
    "                                     \"droprate\": \"0.8\",\n",
    "                                     \"layercnt\":4\n",
    "                                    }\n",
    "                         ,\"layer2\": {\"active\": \"relu\",\n",
    "                                     \"cnnfilter\": [3, 3],\n",
    "                                     \"cnnstride\": [1, 1],\n",
    "                                     \"maxpoolmatrix\": [1, 1],\n",
    "                                     \"maxpoolstride\": [2, 2],\n",
    "                                     \"padding\": \"SAME\",\n",
    "                                     \"droprate\": \"0.8\",\n",
    "                                     \"layercnt\":1\n",
    "                                    }\n",
    "                         ,\"out\": {\"active\": \"softmax\",\n",
    "                                   \"node_out\": 625,\n",
    "                                   \"padding\": \"SAME\"\n",
    "                                }\n",
    "                         ,\"labels\":[]\n",
    "                        })\n",
    "\n",
    "netconf = json.loads(resp.json())\n",
    "print(\"insert workflow node conf info netconf result : {0}\".format(netconf))\n",
    "\n",
    "# CNN Network WorkFlow Node :  Eval Config Setup\n",
    "node = \"eval_node\"\n",
    "resp = requests.put('http://' + url + '/api/v1/type/wf/state/netconf/detail/cnn/nnid/'+nn_id+'/ver/'+wf_ver_id+'/node/'+node+'/'\n",
    "                    ,json={})\n",
    "evalconf = json.loads(resp.json())\n",
    "\n",
    "# yolo min image size 385 and %7 = 0\n",
    "datajson = {\"preprocess\": {\"x_size\": 32,\n",
    "                           \"y_size\": 32,\n",
    "                           \"channel\":3,\n",
    "                           \"filesize\": 1000000,\n",
    "                           \"yolo\": \"n\"}\n",
    "            }\n",
    "\n",
    "# CNN Network WorkFlow Node :  Data Config Setup\n",
    "# yolo min image size 385 and %7 = 0\n",
    "node = \"datasrc\"\n",
    "resp = requests.put('http://' + url + '/api/v1/type/wf/state/imgdata/src/local/form/file/prg/source/nnid/'+nn_id+'/ver/'+wf_ver_id+'/node/'+node+'/',\n",
    "                     json=datajson)\n",
    "dataconf = json.loads(resp.json())\n",
    "print(\"\")\n",
    "print(\"insert workflow node conf info dataconf result : {0}\".format(dataconf))\n",
    "\n",
    "# CNN Network WorkFlow Node :  Eval Data Config Setup\n",
    "node = 'evaldata'\n",
    "resp = requests.put('http://' + url + '/api/v1/type/wf/state/imgdata/src/local/form/file/prg/source/nnid/'+nn_id+'/ver/'+wf_ver_id+'/node/'+node+'/'\n",
    "                    ,json=datajson)\n",
    "edataconf = json.loads(resp.json())\n"
   ]
  },
  {
   "cell_type": "markdown",
   "metadata": {},
   "source": [
    "# Network Training\n",
    "(Network Training을 실행한다.)<br> "
   ]
  },
  {
   "cell_type": "code",
   "execution_count": 10,
   "metadata": {
    "collapsed": false
   },
   "outputs": [
    {
     "name": "stdout",
     "output_type": "stream",
     "text": [
      "Trainning ..................................................\n",
      "['Global Step: 11, Training Batch Accuracy: 5.92%, Cost: 54.8884']\n",
      "                         ['                airplane', '                    bolt', '                     car', '         AC Geared Motor', '      AC Induction Motor', '              Air Filter', '               Aux Relay', '                    Bolt', '                Bolt-Nut', '        Centrifugal Pump', '             Check Valve', '         Circuit Breaker', '  Compressor Accessories', '           Control Valve', '              Controller', '         DC Power Supply']\n",
      "                         ================================================================================================================================================================================================================================================================================================================================================================================================================================================================\n",
      "                airplane ['                       0', '                       0', '                       0', '                       0', '                       0', '                       0', '                       0', '                       0', '                       0', '                       0', '                       0', '                       0', '                       0', '                       0', '                       0', '                       0'] 0%\n",
      "                    bolt ['                       0', '                       0', '                       0', '                       0', '                       0', '                       0', '                       0', '                       0', '                       0', '                       0', '                       0', '                       0', '                       0', '                       0', '                       0', '                       0'] 0%\n",
      "                     car ['                       0', '                       0', '                       0', '                       0', '                       0', '                       0', '                       0', '                       0', '                       0', '                       0', '                       0', '                       0', '                       0', '                       0', '                       0', '                       0'] 0%\n",
      "         AC Geared Motor ['                       0', '                       0', '                       0', '                       0', '                       0', '                      47', '                       6', '                       0', '                      63', '                       2', '                       1', '                       5', '                       1', '                       8', '                       4', '                      12'] 0.0%\n",
      "      AC Induction Motor ['                       0', '                       0', '                       2', '                       0', '                       0', '                      41', '                       5', '                       0', '                      68', '                       0', '                       1', '                      11', '                       0', '                       8', '                       6', '                       8'] 0.0%\n",
      "              Air Filter ['                       0', '                       0', '                       1', '                       0', '                       0', '                      40', '                       4', '                       0', '                      70', '                       2', '                       0', '                       7', '                       1', '                      11', '                       6', '                       8'] 26.67%\n",
      "               Aux Relay ['                       0', '                       0', '                       0', '                       0', '                       0', '                      29', '                       8', '                       0', '                      66', '                       0', '                       2', '                      10', '                       2', '                       7', '                       9', '                      14'] 5.44%\n",
      "                    Bolt ['                       1', '                       0', '                       0', '                       0', '                       0', '                      31', '                       1', '                       0', '                      71', '                       1', '                       2', '                      14', '                       0', '                       8', '                       4', '                       8'] 0.0%\n",
      "                Bolt-Nut ['                       0', '                       0', '                       0', '                       0', '                       0', '                      42', '                       4', '                       0', '                      69', '                       0', '                       0', '                      14', '                       0', '                       6', '                       7', '                       8'] 46.0%\n",
      "        Centrifugal Pump ['                       1', '                       0', '                       1', '                       0', '                       0', '                      34', '                       3', '                       0', '                      64', '                       0', '                       1', '                      17', '                       0', '                      16', '                       5', '                       7'] 0.0%\n",
      "             Check Valve ['                       1', '                       0', '                       2', '                       0', '                       0', '                      38', '                       3', '                       0', '                      62', '                       1', '                       1', '                      13', '                       1', '                       8', '                       9', '                      10'] 0.67%\n",
      "         Circuit Breaker ['                       1', '                       0', '                       2', '                       1', '                       0', '                      39', '                       1', '                       0', '                      54', '                       0', '                       1', '                      11', '                       1', '                       9', '                       7', '                       7'] 8.21%\n",
      "  Compressor Accessories ['                       1', '                       0', '                       2', '                       0', '                       0', '                      42', '                       3', '                       0', '                      59', '                       2', '                       2', '                      11', '                       0', '                      16', '                       9', '                       3'] 0.0%\n",
      "           Control Valve ['                       1', '                       0', '                       0', '                       0', '                       0', '                      31', '                       5', '                       0', '                      71', '                       3', '                       2', '                      13', '                       0', '                      11', '                       8', '                       5'] 7.33%\n",
      "              Controller ['                       2', '                       0', '                       0', '                       0', '                       0', '                      32', '                       6', '                       0', '                      58', '                       1', '                       3', '                      13', '                       0', '                      12', '                      12', '                       5'] 8.33%\n",
      "         DC Power Supply ['                       1', '                       0', '                       1', '                       0', '                       0', '                      35', '                       2', '                       0', '                      64', '                       3', '                       0', '                      10', '                       1', '                       4', '                      11', '                      14'] 9.59%\n"
     ]
    }
   ],
   "source": [
    "resp = requests.post('http://' + url + '/api/v1/type/runmanager/state/train/nnid/'+nn_id+'/ver/'+wf_ver_id+'/')\n",
    "data = json.loads(resp.json())\n",
    "\n",
    "if data == None:\n",
    "    print(data)\n",
    "else:\n",
    "    try:\n",
    "        if data[\"status\"] == \"404\":\n",
    "            print(data[\"result\"])\n",
    "    except:\n",
    "        for train in data:\n",
    "            if train != None and train != \"\" and train != {} and train != \"status\" and train != \"result\":\n",
    "                try:\n",
    "                    for tr in train[\"TrainResult\"]:\n",
    "                        print(tr)\n",
    "                except:\n",
    "                    maxcnt = 0\n",
    "                    line = \"\"\n",
    "                    for label in train[\"labels\"]:\n",
    "                        if maxcnt<len(label)+2:\n",
    "                            maxcnt = len(label)+2\n",
    "\n",
    "                    for i in range(len(train[\"labels\"])):\n",
    "                        for j in range(maxcnt+4):\n",
    "                            line += \"=\"\n",
    "\n",
    "                    label_sub = []\n",
    "                    for label in train[\"labels\"]:\n",
    "                        label = spaceprint(label,maxcnt)\n",
    "                        label_sub.append(label)\n",
    "\n",
    "                    space = \"\"\n",
    "                    for s in range(maxcnt):\n",
    "                        space +=\" \"\n",
    "\n",
    "                    print(space, label_sub)\n",
    "                    print(space, line)\n",
    "                    for i in range(len(train[\"labels\"])):\n",
    "                        truecnt = 0\n",
    "                        totcnt = 0\n",
    "                        predict_sub = []\n",
    "                        for j in range(len(train[\"predicts\"][i])):\n",
    "                            pred = spaceprint(train[\"predicts\"][i][j],maxcnt)\n",
    "\n",
    "                            predict_sub.append(pred)\n",
    "                            totcnt += int(pred)\n",
    "                            # print(train[\"labels\"].index(train[\"labels\"][i]))\n",
    "                            if train[\"labels\"].index(train[\"labels\"][i]) == j:\n",
    "                                truecnt = int(pred)\n",
    "                        if totcnt == 0:\n",
    "                            percent = 0\n",
    "                        else:\n",
    "                            percent = round(truecnt/totcnt*100,2)\n",
    "                        print(spaceprint(train[\"labels\"][i],maxcnt), predict_sub, str(percent)+\"%\")\n"
   ]
  },
  {
   "cell_type": "markdown",
   "metadata": {},
   "source": [
    "# Network Predict\n",
    "(Network Predict를 실행한다.)<br>"
   ]
  },
  {
   "cell_type": "code",
   "execution_count": 12,
   "metadata": {
    "collapsed": false
   },
   "outputs": [
    {
     "name": "stdout",
     "output_type": "stream",
     "text": [
      "FileName = 2motor.jpg\n",
      "['DC Power Supply', 'Centrifugal Pump', 'car', 'Control Valve', 'Aux Relay']\n",
      "[71.0, 28.999999999999996, 0.0, 0.0, 0.0]\n",
      "\n",
      "FileName = 1motor.jpg\n",
      "['DC Power Supply', 'Centrifugal Pump', 'car', 'Control Valve', 'AC Geared Motor']\n",
      "[100.0, 0.0, 0.0, 0.0, 0.0]\n",
      "\n",
      "FileName = 1car.jpg\n",
      "['DC Power Supply', 'Centrifugal Pump', 'car', 'Control Valve', 'Compressor Accessories']\n",
      "[97.0, 3.0, 1.0, 0.0, 0.0]\n",
      "\n",
      "FileName = 2bolt.jpg\n",
      "['DC Power Supply', 'Centrifugal Pump', 'car', 'Control Valve', 'Circuit Breaker']\n",
      "[100.0, 0.0, 0.0, 0.0, 0.0]\n",
      "\n",
      "FileName = 2car.jpg\n",
      "['DC Power Supply', 'Centrifugal Pump', 'car', 'Compressor Accessories', 'Control Valve']\n",
      "[82.0, 18.0, 0.0, 0.0, 0.0]\n",
      "\n",
      "FileName = 1glove.jpg\n",
      "['DC Power Supply', 'Centrifugal Pump', 'car', 'Control Valve', 'Aux Relay']\n",
      "[100.0, 0.0, 0.0, 0.0, 0.0]\n",
      "\n",
      "FileName = 2air.jpg\n",
      "['DC Power Supply', 'Centrifugal Pump', 'car', 'Control Valve', 'AC Geared Motor']\n",
      "[68.0, 31.0, 0.0, 0.0, 0.0]\n",
      "\n",
      "FileName = 1bolt.jpg\n",
      "['DC Power Supply', 'Centrifugal Pump', 'car', 'Control Valve', 'Aux Relay']\n",
      "[100.0, 0.0, 0.0, 0.0, 0.0]\n",
      "\n",
      "FileName = 1air.jpg\n",
      "['DC Power Supply', 'Centrifugal Pump', 'car', 'Control Valve', 'Aux Relay']\n",
      "[92.0, 8.0, 0.0, 0.0, 0.0]\n",
      "\n",
      "FileName = 2glove.jpg\n",
      "['DC Power Supply', 'Centrifugal Pump', 'car', 'Control Valve', 'AC Geared Motor']\n",
      "[100.0, 0.0, 0.0, 0.0, 0.0]\n",
      "\n"
     ]
    }
   ],
   "source": [
    "files = {\n",
    "         'files000001':  open('/home/dev/hoyai/demo/data/airplane/1air.jpg','rb')\n",
    "        ,'files000002':  open('/home/dev/hoyai/demo/data/airplane/2air.jpg','rb')\n",
    "        ,'files000003':  open('/home/dev/hoyai/demo/data/bolt/1bolt.jpg','rb')\n",
    "        ,'files000004':  open('/home/dev/hoyai/demo/data/bolt/2bolt.jpg','rb')\n",
    "        ,'files000005':  open('/home/dev/hoyai/demo/data/car/1car.jpg','rb')\n",
    "        ,'files000006':  open('/home/dev/hoyai/demo/data/car/2car.jpg','rb')\n",
    "        ,'files000007':  open('/home/dev/hoyai/demo/data/glove/1glove.jpg','rb')\n",
    "        ,'files000008':  open('/home/dev/hoyai/demo/data/glove/2glove.jpg','rb')\n",
    "        ,'files000009':  open('/home/dev/hoyai/demo/data/motor/1motor.jpg','rb')\n",
    "        ,'files000010':  open('/home/dev/hoyai/demo/data/motor/2motor.jpg','rb')\n",
    "        }\n",
    "restURL = 'http://' + url + '/api/v1/type/service/state/predict/type/cnn/nnid/'+nn_id+'/ver/'+wf_ver_id+'/'\n",
    "\n",
    "resp = requests.post(restURL,\n",
    "                     files=files\n",
    "                     )\n",
    "data = json.loads(resp.json())\n",
    "\n",
    "for train in data:\n",
    "    print(\"FileName = \"+train)\n",
    "    print(data[train]['key'])\n",
    "    print(data[train]['val'])\n",
    "    print('')"
   ]
  },
  {
   "cell_type": "code",
   "execution_count": null,
   "metadata": {
    "collapsed": true
   },
   "outputs": [],
   "source": []
  }
 ],
 "metadata": {
  "anaconda-cloud": {},
  "kernelspec": {
   "display_name": "Python [default]",
   "language": "python",
   "name": "python3"
  },
  "language_info": {
   "codemirror_mode": {
    "name": "ipython",
    "version": 3
   },
   "file_extension": ".py",
   "mimetype": "text/x-python",
   "name": "python",
   "nbconvert_exporter": "python",
   "pygments_lexer": "ipython3",
   "version": "3.5.2"
  }
 },
 "nbformat": 4,
 "nbformat_minor": 0
}

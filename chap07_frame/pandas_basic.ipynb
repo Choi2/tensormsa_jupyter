{
 "cells": [
  {
   "cell_type": "code",
   "execution_count": 1,
   "metadata": {
    "collapsed": true
   },
   "outputs": [],
   "source": [
    "import pandas as pd\n",
    "\n",
    "import numpy as np\n",
    "import matplotlib.pyplot as plt"
   ]
  },
  {
   "cell_type": "code",
   "execution_count": 2,
   "metadata": {
    "collapsed": false
   },
   "outputs": [
    {
     "name": "stdout",
     "output_type": "stream",
     "text": [
      "RangeIndex(start=0, stop=5, step=1)\n"
     ]
    }
   ],
   "source": [
    "s = pd.Series([3.0, 2, 1.0, 6.7, 8.1])\n",
    "print s.index"
   ]
  },
  {
   "cell_type": "code",
   "execution_count": 3,
   "metadata": {
    "collapsed": false
   },
   "outputs": [
    {
     "name": "stdout",
     "output_type": "stream",
     "text": [
      "0    3.0\n",
      "1    2.0\n",
      "2    1.0\n",
      "3    6.7\n",
      "4    8.1\n",
      "dtype: float64\n",
      "float64\n",
      "2\n",
      "3.0\n",
      "6.7\n"
     ]
    }
   ],
   "source": [
    "print s\n",
    "print s.dtype\n",
    "print s.index[2]\n",
    "print s[0]\n",
    "print s[3]"
   ]
  },
  {
   "cell_type": "code",
   "execution_count": 4,
   "metadata": {
    "collapsed": true
   },
   "outputs": [],
   "source": [
    "s = s.astype(np.int)"
   ]
  },
  {
   "cell_type": "code",
   "execution_count": 5,
   "metadata": {
    "collapsed": false
   },
   "outputs": [
    {
     "name": "stdout",
     "output_type": "stream",
     "text": [
      "0    3\n",
      "1    2\n",
      "2    1\n",
      "3    6\n",
      "4    8\n",
      "dtype: int64\n"
     ]
    }
   ],
   "source": [
    "print s"
   ]
  },
  {
   "cell_type": "code",
   "execution_count": 25,
   "metadata": {
    "collapsed": true
   },
   "outputs": [],
   "source": [
    "indices = list(range(5))\n",
    "dates = pd.date_range('20170712', periods=6)"
   ]
  },
  {
   "cell_type": "code",
   "execution_count": 26,
   "metadata": {
    "collapsed": false
   },
   "outputs": [
    {
     "name": "stdout",
     "output_type": "stream",
     "text": [
      "[0, 1, 2, 3, 4]\n",
      "DatetimeIndex(['2017-07-12', '2017-07-13', '2017-07-14', '2017-07-15',\n",
      "               '2017-07-16', '2017-07-17'],\n",
      "              dtype='datetime64[ns]', freq='D')\n"
     ]
    }
   ],
   "source": [
    "print indices\n",
    "print dates"
   ]
  },
  {
   "cell_type": "code",
   "execution_count": 27,
   "metadata": {
    "collapsed": true
   },
   "outputs": [],
   "source": [
    "time_1 = pd.date_range('1/1/2017', periods=5, freq='M')\n",
    "time_2 = pd.date_range('1/1/2017', periods=72, freq='H')\n",
    "time_3 = pd.period_range('2000Q1', '2017Q4', freq='Q-NOV')"
   ]
  },
  {
   "cell_type": "code",
   "execution_count": 28,
   "metadata": {
    "collapsed": false
   },
   "outputs": [
    {
     "name": "stdout",
     "output_type": "stream",
     "text": [
      "DatetimeIndex(['2017-01-31', '2017-02-28', '2017-03-31', '2017-04-30',\n",
      "               '2017-05-31'],\n",
      "              dtype='datetime64[ns]', freq='M')\n",
      "DatetimeIndex(['2017-01-01 00:00:00', '2017-01-01 01:00:00',\n",
      "               '2017-01-01 02:00:00', '2017-01-01 03:00:00',\n",
      "               '2017-01-01 04:00:00', '2017-01-01 05:00:00',\n",
      "               '2017-01-01 06:00:00', '2017-01-01 07:00:00',\n",
      "               '2017-01-01 08:00:00', '2017-01-01 09:00:00',\n",
      "               '2017-01-01 10:00:00', '2017-01-01 11:00:00',\n",
      "               '2017-01-01 12:00:00', '2017-01-01 13:00:00',\n",
      "               '2017-01-01 14:00:00', '2017-01-01 15:00:00',\n",
      "               '2017-01-01 16:00:00', '2017-01-01 17:00:00',\n",
      "               '2017-01-01 18:00:00', '2017-01-01 19:00:00',\n",
      "               '2017-01-01 20:00:00', '2017-01-01 21:00:00',\n",
      "               '2017-01-01 22:00:00', '2017-01-01 23:00:00',\n",
      "               '2017-01-02 00:00:00', '2017-01-02 01:00:00',\n",
      "               '2017-01-02 02:00:00', '2017-01-02 03:00:00',\n",
      "               '2017-01-02 04:00:00', '2017-01-02 05:00:00',\n",
      "               '2017-01-02 06:00:00', '2017-01-02 07:00:00',\n",
      "               '2017-01-02 08:00:00', '2017-01-02 09:00:00',\n",
      "               '2017-01-02 10:00:00', '2017-01-02 11:00:00',\n",
      "               '2017-01-02 12:00:00', '2017-01-02 13:00:00',\n",
      "               '2017-01-02 14:00:00', '2017-01-02 15:00:00',\n",
      "               '2017-01-02 16:00:00', '2017-01-02 17:00:00',\n",
      "               '2017-01-02 18:00:00', '2017-01-02 19:00:00',\n",
      "               '2017-01-02 20:00:00', '2017-01-02 21:00:00',\n",
      "               '2017-01-02 22:00:00', '2017-01-02 23:00:00',\n",
      "               '2017-01-03 00:00:00', '2017-01-03 01:00:00',\n",
      "               '2017-01-03 02:00:00', '2017-01-03 03:00:00',\n",
      "               '2017-01-03 04:00:00', '2017-01-03 05:00:00',\n",
      "               '2017-01-03 06:00:00', '2017-01-03 07:00:00',\n",
      "               '2017-01-03 08:00:00', '2017-01-03 09:00:00',\n",
      "               '2017-01-03 10:00:00', '2017-01-03 11:00:00',\n",
      "               '2017-01-03 12:00:00', '2017-01-03 13:00:00',\n",
      "               '2017-01-03 14:00:00', '2017-01-03 15:00:00',\n",
      "               '2017-01-03 16:00:00', '2017-01-03 17:00:00',\n",
      "               '2017-01-03 18:00:00', '2017-01-03 19:00:00',\n",
      "               '2017-01-03 20:00:00', '2017-01-03 21:00:00',\n",
      "               '2017-01-03 22:00:00', '2017-01-03 23:00:00'],\n",
      "              dtype='datetime64[ns]', freq='H')\n",
      "PeriodIndex(['2000Q1', '2000Q2', '2000Q3', '2000Q4', '2001Q1', '2001Q2',\n",
      "             '2001Q3', '2001Q4', '2002Q1', '2002Q2', '2002Q3', '2002Q4',\n",
      "             '2003Q1', '2003Q2', '2003Q3', '2003Q4', '2004Q1', '2004Q2',\n",
      "             '2004Q3', '2004Q4', '2005Q1', '2005Q2', '2005Q3', '2005Q4',\n",
      "             '2006Q1', '2006Q2', '2006Q3', '2006Q4', '2007Q1', '2007Q2',\n",
      "             '2007Q3', '2007Q4', '2008Q1', '2008Q2', '2008Q3', '2008Q4',\n",
      "             '2009Q1', '2009Q2', '2009Q3', '2009Q4', '2010Q1', '2010Q2',\n",
      "             '2010Q3', '2010Q4', '2011Q1', '2011Q2', '2011Q3', '2011Q4',\n",
      "             '2012Q1', '2012Q2', '2012Q3', '2012Q4', '2013Q1', '2013Q2',\n",
      "             '2013Q3', '2013Q4', '2014Q1', '2014Q2', '2014Q3', '2014Q4',\n",
      "             '2015Q1', '2015Q2', '2015Q3', '2015Q4', '2016Q1', '2016Q2',\n",
      "             '2016Q3', '2016Q4', '2017Q1', '2017Q2', '2017Q3', '2017Q4'],\n",
      "            dtype='period[Q-NOV]', freq='Q-NOV')\n"
     ]
    }
   ],
   "source": [
    "print time_1\n",
    "print time_2\n",
    "print time_3"
   ]
  },
  {
   "cell_type": "code",
   "execution_count": 10,
   "metadata": {
    "collapsed": false
   },
   "outputs": [
    {
     "name": "stdout",
     "output_type": "stream",
     "text": [
      "DatetimeIndex(['2017-07-10 00:00:00+09:00', '2017-07-11 00:00:00+09:00',\n",
      "               '2017-07-12 00:00:00+09:00', '2017-07-13 00:00:00+09:00',\n",
      "               '2017-07-14 00:00:00+09:00', '2017-07-15 00:00:00+09:00',\n",
      "               '2017-07-16 00:00:00+09:00', '2017-07-17 00:00:00+09:00',\n",
      "               '2017-07-18 00:00:00+09:00', '2017-07-19 00:00:00+09:00'],\n",
      "              dtype='datetime64[ns, Asia/Seoul]', freq='D')\n",
      "DatetimeIndex(['2017-07-09 11:00:00-04:00', '2017-07-10 11:00:00-04:00',\n",
      "               '2017-07-11 11:00:00-04:00', '2017-07-12 11:00:00-04:00',\n",
      "               '2017-07-13 11:00:00-04:00', '2017-07-14 11:00:00-04:00',\n",
      "               '2017-07-15 11:00:00-04:00', '2017-07-16 11:00:00-04:00',\n",
      "               '2017-07-17 11:00:00-04:00', '2017-07-18 11:00:00-04:00'],\n",
      "              dtype='datetime64[ns, US/Eastern]', freq='D')\n"
     ]
    }
   ],
   "source": [
    "time_tz = pd.date_range('7/10/2017 00:00', periods=10, freq='D', tz='Asia/Seoul')\n",
    "print time_tz\n",
    "\n",
    "time_tz = time_tz.tz_convert('US/Eastern')\n",
    "print time_tz"
   ]
  },
  {
   "cell_type": "code",
   "execution_count": 11,
   "metadata": {
    "collapsed": true
   },
   "outputs": [],
   "source": [
    "df = pd.DataFrame(np.random.randn(6, 5), columns=['A', 'B', 'C', 'D', 'E'])"
   ]
  },
  {
   "cell_type": "code",
   "execution_count": 12,
   "metadata": {
    "collapsed": false
   },
   "outputs": [
    {
     "name": "stdout",
     "output_type": "stream",
     "text": [
      "          A         B         C         D         E\n",
      "0 -1.004824 -0.857459  2.234826 -0.052256  0.061753\n",
      "1 -0.392013  0.127883 -0.020937 -0.319964 -0.179254\n",
      "2 -1.287230  0.781345 -0.292301 -0.201859  1.185461\n",
      "3  1.451478  0.553273 -0.897596  0.527624  0.101935\n",
      "4 -0.449188  0.585480 -0.431205 -1.888056  1.365469\n",
      "5 -0.357452  0.278294 -2.529528 -0.963286 -2.005755\n"
     ]
    }
   ],
   "source": [
    "print df"
   ]
  },
  {
   "cell_type": "code",
   "execution_count": 13,
   "metadata": {
    "collapsed": true
   },
   "outputs": [],
   "source": [
    "dates = pd.date_range('20170712', periods=6)\n",
    "df = pd.DataFrame(np.random.randn(6, 5), index=dates, columns=['A', 'B', 'C', 'D', 'E'])"
   ]
  },
  {
   "cell_type": "code",
   "execution_count": 14,
   "metadata": {
    "collapsed": false
   },
   "outputs": [
    {
     "name": "stdout",
     "output_type": "stream",
     "text": [
      "                   A         B         C         D         E\n",
      "2017-07-12  1.416640  1.893944  2.037789  0.069003 -0.733824\n",
      "2017-07-13  0.940881  1.114379 -0.120911  0.337107  1.265182\n",
      "2017-07-14 -1.331856 -0.542862 -1.104357  0.583695 -0.345093\n",
      "2017-07-15 -1.149290 -0.861712  1.015710 -0.365496  0.469231\n",
      "2017-07-16 -1.693425 -0.937190 -0.549094  1.068468 -0.542238\n",
      "2017-07-17  0.359008  0.533766  0.427190  0.242231 -0.708215\n"
     ]
    }
   ],
   "source": [
    "print df"
   ]
  },
  {
   "cell_type": "code",
   "execution_count": 15,
   "metadata": {
    "collapsed": false
   },
   "outputs": [
    {
     "name": "stdout",
     "output_type": "stream",
     "text": [
      "              A          B   C  D  E              F\n",
      "2017-07-12  1.0 2017-07-12 NaN  3  a  Hello, world!\n",
      "2017-07-13  1.0 2017-07-12 NaN  3  b  Hello, world!\n",
      "2017-07-14  1.0 2017-07-12 NaN  3  c  Hello, world!\n",
      "2017-07-15  1.0 2017-07-12 NaN  3  d  Hello, world!\n",
      "A           float64\n",
      "B    datetime64[ns]\n",
      "C           float32\n",
      "D             int32\n",
      "E          category\n",
      "F            object\n",
      "dtype: object\n",
      "Index([u'A', u'B', u'C', u'D', u'E', u'F'], dtype='object')\n",
      "DatetimeIndex(['2017-07-12', '2017-07-13', '2017-07-14', '2017-07-15'], dtype='datetime64[ns]', freq='D')\n"
     ]
    }
   ],
   "source": [
    "df2 = pd.DataFrame({\n",
    "    'A': 1.,\n",
    "    'B': pd.Timestamp('20170712'),\n",
    "    'C': pd.Series(1, index=list(range(0, 4)), dtype=np.float32),\n",
    "    'D': np.array([3] * 4, dtype=np.int32), \n",
    "    'E': pd.Categorical(['a', 'b', 'c', 'd']), \n",
    "    'F': 'Hello, world!'\n",
    "}, index=pd.date_range('20170712', periods=4))\n",
    "print df2\n",
    "print df2.dtypes\n",
    "print df2.columns\n",
    "print df2.index"
   ]
  },
  {
   "cell_type": "code",
   "execution_count": 16,
   "metadata": {
    "collapsed": false
   },
   "outputs": [
    {
     "name": "stdout",
     "output_type": "stream",
     "text": [
      "              A          B   C  D  E              F\n",
      "2017-07-12  1.0 2017-07-12 NaN  3  a  Hello, world!\n",
      "2017-07-13 -1.0 2017-07-12 NaN  3  b  Hello, world!\n",
      "              A          B   C  D  E              F\n",
      "2017-07-13 -1.0 2017-07-12 NaN  3  b  Hello, world!\n",
      "2017-07-14  3.0 2017-07-12 NaN  3  c  Hello, world!\n",
      "2017-07-15  5.0 2017-07-12 NaN  3  d  Hello, world!\n",
      "DatetimeIndex(['2017-07-12', '2017-07-13', '2017-07-14', '2017-07-15'], dtype='datetime64[ns]', freq='D')\n",
      "Index([u'A', u'B', u'C', u'D', u'E', u'F'], dtype='object')\n",
      "[[1.0 Timestamp('2017-07-12 00:00:00') nan 3 'a' 'Hello, world!']\n",
      " [-1.0 Timestamp('2017-07-12 00:00:00') nan 3 'b' 'Hello, world!']\n",
      " [3.0 Timestamp('2017-07-12 00:00:00') nan 3 'c' 'Hello, world!']\n",
      " [5.0 Timestamp('2017-07-12 00:00:00') nan 3 'd' 'Hello, world!']]\n",
      "              A    C    D\n",
      "count  4.000000  0.0  4.0\n",
      "mean   2.000000  NaN  3.0\n",
      "std    2.581989  NaN  0.0\n",
      "min   -1.000000  NaN  3.0\n",
      "25%    0.500000  NaN  3.0\n",
      "50%    2.000000  NaN  3.0\n",
      "75%    3.500000  NaN  3.0\n",
      "max    5.000000  NaN  3.0\n",
      "            2017-07-12           2017-07-13           2017-07-14  \\\n",
      "A                    1                   -1                    3   \n",
      "B  2017-07-12 00:00:00  2017-07-12 00:00:00  2017-07-12 00:00:00   \n",
      "C                  NaN                  NaN                  NaN   \n",
      "D                    3                    3                    3   \n",
      "E                    a                    b                    c   \n",
      "F        Hello, world!        Hello, world!        Hello, world!   \n",
      "\n",
      "            2017-07-15  \n",
      "A                    5  \n",
      "B  2017-07-12 00:00:00  \n",
      "C                  NaN  \n",
      "D                    3  \n",
      "E                    d  \n",
      "F        Hello, world!  \n",
      "              A          B   C  D  E              F\n",
      "2017-07-15  5.0 2017-07-12 NaN  3  d  Hello, world!\n",
      "2017-07-14  3.0 2017-07-12 NaN  3  c  Hello, world!\n",
      "2017-07-12  1.0 2017-07-12 NaN  3  a  Hello, world!\n",
      "2017-07-13 -1.0 2017-07-12 NaN  3  b  Hello, world!\n"
     ]
    }
   ],
   "source": [
    "df2 = pd.DataFrame({\n",
    "    'A': [1.0, -1.0, 3.0, 5.0],\n",
    "    'B': pd.Timestamp('20170712'),\n",
    "    'C': pd.Series(1, index=list(range(0, 4)), dtype=np.float32),\n",
    "    'D': np.array([3] * 4, dtype=np.int32), \n",
    "    'E': pd.Categorical(['a', 'b', 'c', 'd']), \n",
    "    'F': 'Hello, world!'\n",
    "}, index=pd.date_range('20170712', periods=4))\n",
    "\n",
    "print df2.head(2)\n",
    "print df2.tail(3)\n",
    "print df2.index\n",
    "print df2.columns\n",
    "print df2.values\n",
    "print df2.describe()\n",
    "print df2.T\n",
    "print df2.sort_values(by='A', ascending=False)"
   ]
  },
  {
   "cell_type": "code",
   "execution_count": 17,
   "metadata": {
    "collapsed": false
   },
   "outputs": [
    {
     "name": "stdout",
     "output_type": "stream",
     "text": [
      "2017-07-12    1.0\n",
      "2017-07-13   -1.0\n",
      "2017-07-14    3.0\n",
      "2017-07-15    5.0\n",
      "Freq: D, Name: A, dtype: float64\n",
      "              A  D\n",
      "2017-07-12  1.0  3\n",
      "2017-07-13 -1.0  3\n",
      "2017-07-14  3.0  3\n",
      "2017-07-15  5.0  3\n",
      "              A          B   C  D  E              F\n",
      "2017-07-12  1.0 2017-07-12 NaN  3  a  Hello, world!\n",
      "2017-07-13 -1.0 2017-07-12 NaN  3  b  Hello, world!\n",
      "              A          B   C  D  E              F\n",
      "2017-07-14  3.0 2017-07-12 NaN  3  c  Hello, world!\n",
      "2017-07-15  5.0 2017-07-12 NaN  3  d  Hello, world!\n",
      "              A   C\n",
      "2017-07-12  1.0 NaN\n",
      "2017-07-13 -1.0 NaN\n",
      "2017-07-14  3.0 NaN\n",
      "2017-07-15  5.0 NaN\n",
      "              A   C\n",
      "2017-07-14  3.0 NaN\n",
      "2017-07-15  5.0 NaN\n",
      "             C\n",
      "2017-07-14 NaN\n"
     ]
    }
   ],
   "source": [
    "df2 = pd.DataFrame({\n",
    "    'A': [1.0, -1.0, 3.0, 5.0],\n",
    "    'B': pd.Timestamp('20170712'),\n",
    "    'C': pd.Series(1, index=list(range(0, 4)), dtype=np.float32),\n",
    "    'D': np.array([3] * 4, dtype=np.int32), \n",
    "    'E': pd.Categorical(['a', 'b', 'c', 'd']), \n",
    "    'F': 'Hello, world!'\n",
    "}, index=pd.date_range('20170712', periods=4))\n",
    "\n",
    "print df2['A']\n",
    "print df2[['A', 'D']]\n",
    "print df2[0:2]\n",
    "print df2['20170714':'20170715']\n",
    "print df2.loc[:, ['A', 'C']]\n",
    "print df2.loc['20170714':'20170715', ['A', 'C']]\n",
    "print df2.iloc[2:3, 2:3]"
   ]
  },
  {
   "cell_type": "code",
   "execution_count": 18,
   "metadata": {
    "collapsed": false
   },
   "outputs": [
    {
     "name": "stdout",
     "output_type": "stream",
     "text": [
      "          A         B         C         D         E\n",
      "0 -0.335232  1.276194  0.439640 -0.216133 -0.553942\n",
      "1  0.255352 -1.006005  0.831834  0.114425  0.129136\n",
      "2  1.872185  0.893548 -0.614891 -0.090052 -0.550175\n",
      "3 -0.226651 -0.263936  0.380694 -1.751246 -0.290925\n",
      "4 -0.428667 -0.609290 -1.577538  1.156464  0.875340\n",
      "5  0.303146 -1.159437  1.605086  0.857809  0.032918\n",
      "          A         B         C         D         E\n",
      "0 -0.335232  0.000000  0.439640 -0.216133 -0.553942\n",
      "1  0.255352 -1.006005  0.831834  0.114425  0.129136\n",
      "2  1.872185  0.893548 -0.614891 -0.090052 -0.550175\n",
      "3 -0.226651 -0.263936  0.380694 -1.751246 -0.290925\n",
      "4 -0.428667 -0.609290 -1.577538  1.156464  0.875340\n",
      "5  0.303146 -1.159437  1.605086  0.857809  0.032918\n",
      "          A         B         C         D         E\n",
      "0 -0.335232  0.000000  0.439640 -0.216133 -0.553942\n",
      "1  0.255352 -1.006005  0.831834  0.114425  0.129136\n",
      "2  1.872185  0.893548 -0.614891  0.000000 -0.550175\n",
      "3 -0.226651 -0.263936  0.380694 -1.751246 -0.290925\n",
      "4 -0.428667 -0.609290 -1.577538  1.156464  0.875340\n",
      "5  0.303146 -1.159437  1.605086  0.857809  0.032918\n",
      "          A         B         C         D         E   F\n",
      "0 -0.335232  0.000000  0.439640 -0.216133 -0.553942 NaN\n",
      "1  0.255352 -1.006005  0.831834  0.114425  0.129136 NaN\n",
      "2  1.872185  0.893548 -0.614891  0.000000 -0.550175 NaN\n",
      "3 -0.226651 -0.263936  0.380694 -1.751246 -0.290925 NaN\n",
      "4 -0.428667 -0.609290 -1.577538  1.156464  0.875340 NaN\n",
      "5  0.303146 -1.159437  1.605086  0.857809  0.032918 NaN\n",
      "       A      B      C      D      E     F\n",
      "0  False  False  False  False  False  True\n",
      "1  False  False  False  False  False  True\n",
      "2  False  False  False  False  False  True\n",
      "3  False  False  False  False  False  True\n",
      "4  False  False  False  False  False  True\n",
      "5  False  False  False  False  False  True\n",
      "          A         B         C         D         E    F\n",
      "0 -0.335232  0.000000  0.439640 -0.216133 -0.553942  3.0\n",
      "1  0.255352 -1.006005  0.831834  0.114425  0.129136  3.0\n",
      "2  1.872185  0.893548 -0.614891  0.000000 -0.550175  3.0\n",
      "3 -0.226651 -0.263936  0.380694 -1.751246 -0.290925  3.0\n",
      "4 -0.428667 -0.609290 -1.577538  1.156464  0.875340  3.0\n",
      "5  0.303146 -1.159437  1.605086  0.857809  0.032918  3.0\n",
      "Empty DataFrame\n",
      "Columns: [A, B, C, D, E, F]\n",
      "Index: []\n"
     ]
    }
   ],
   "source": [
    "df = pd.DataFrame(np.random.randn(6, 5), columns=['A', 'B', 'C', 'D', 'E'])\n",
    "print df\n",
    "\n",
    "df.at[0, 'B'] = 0\n",
    "print df\n",
    "df.iat[2, 3] = 0\n",
    "print df\n",
    "\n",
    "df2 = df.reindex(columns=list(df.columns) + ['F'])\n",
    "print df2\n",
    "print pd.isnull(df2)\n",
    "print df2.fillna(value=3)\n",
    "print df2.dropna(how='any')"
   ]
  },
  {
   "cell_type": "code",
   "execution_count": 19,
   "metadata": {
    "collapsed": false
   },
   "outputs": [
    {
     "name": "stdout",
     "output_type": "stream",
     "text": [
      "          A         B         C         D         E\n",
      "0 -0.133823  1.199226 -0.354892 -0.933898 -2.908744\n",
      "1  0.420013  0.900338 -0.923428  1.538126 -0.493639\n",
      "2 -0.146351  0.860704 -1.211362  0.290841 -0.591885\n",
      "3  1.367291 -0.095340  2.393400 -1.197095  1.439317\n",
      "4 -0.597621 -0.925601  0.319328 -0.379955 -0.721223\n",
      "5 -1.736568  0.592554  0.189031  0.126670 -0.831435\n",
      "A   -0.137843\n",
      "B    0.421980\n",
      "C    0.068679\n",
      "D   -0.092552\n",
      "E   -0.684602\n",
      "dtype: float64\n",
      "0   -0.626426\n",
      "1    0.288282\n",
      "2   -0.159611\n",
      "3    0.781514\n",
      "4   -0.461014\n",
      "5   -0.331949\n",
      "dtype: float64\n",
      "0    NaN\n",
      "1    NaN\n",
      "2    1.0\n",
      "3    3.0\n",
      "4    5.0\n",
      "5    NaN\n",
      "dtype: float64\n",
      "          A         B         C         D         E\n",
      "0       NaN       NaN       NaN       NaN       NaN\n",
      "1       NaN       NaN       NaN       NaN       NaN\n",
      "2 -1.146351 -0.139296 -2.211362 -0.709159 -1.591885\n",
      "3 -1.632709 -3.095340 -0.606600 -4.197095 -1.560683\n",
      "4 -5.597621 -5.925601 -4.680672 -5.379955 -5.721223\n",
      "5       NaN       NaN       NaN       NaN       NaN\n"
     ]
    }
   ],
   "source": [
    "df = pd.DataFrame(np.random.randn(6, 5), columns=['A', 'B', 'C', 'D', 'E'])\n",
    "\n",
    "print df\n",
    "print df.mean()\n",
    "print df.mean(1)\n",
    "\n",
    "s = pd.Series([1,3,5,np.nan,6,8], index=list(range(6))).shift(2)\n",
    "\n",
    "print s\n",
    "print df.sub(s, axis='index')"
   ]
  },
  {
   "cell_type": "code",
   "execution_count": 20,
   "metadata": {
    "collapsed": false
   },
   "outputs": [
    {
     "name": "stdout",
     "output_type": "stream",
     "text": [
      "          0         1         2         3\n",
      "0  0.723080 -0.236098 -2.061768 -1.880576\n",
      "1  0.507918  1.102639 -0.584823 -0.284423\n",
      "2  1.351477  1.542721 -0.394341  1.246176\n",
      "3 -0.206237  0.153873 -1.083871  0.477326\n",
      "4  0.151248  0.806924 -0.068644 -0.110810\n",
      "5 -1.284952  0.813135  0.206618  0.599698\n",
      "6 -1.201852  0.416820 -1.495119  0.147645\n",
      "7  1.803847  0.074773  0.181638  0.784507\n",
      "8  0.857705  0.461374 -1.031974  0.464391\n",
      "9  2.117292  1.674298  0.260554  0.042533\n",
      "          0         1         2         3\n",
      "0  0.723080 -0.236098 -2.061768 -1.880576\n",
      "1  0.507918  1.102639 -0.584823 -0.284423\n",
      "3 -0.206237  0.153873 -1.083871  0.477326\n",
      "4  0.151248  0.806924 -0.068644 -0.110810\n",
      "7  1.803847  0.074773  0.181638  0.784507\n",
      "8  0.857705  0.461374 -1.031974  0.464391\n",
      "9  2.117292  1.674298  0.260554  0.042533\n",
      "   key  lval  rval\n",
      "0  foo     1     4\n",
      "1  foo     1     5\n",
      "2  foo     2     4\n",
      "3  foo     2     5\n"
     ]
    }
   ],
   "source": [
    "df = pd.DataFrame(np.random.randn(10, 4))\n",
    "print df\n",
    "\n",
    "pieces = [df[:2], df[3:5], df[7:]]\n",
    "print pd.concat(pieces)\n",
    "\n",
    "left = pd.DataFrame({'key': ['foo', 'foo'], 'lval': [1, 2]})\n",
    "right = pd.DataFrame({'key': ['foo', 'foo'], 'rval': [4, 5]})\n",
    "\n",
    "print pd.merge(left, right, on='key')"
   ]
  },
  {
   "cell_type": "code",
   "execution_count": 21,
   "metadata": {
    "collapsed": false
   },
   "outputs": [
    {
     "name": "stdout",
     "output_type": "stream",
     "text": [
      "     A      B         C         D\n",
      "0  foo    one -0.656312 -0.749431\n",
      "1  bar    one -0.070883  0.159242\n",
      "2  foo    two  0.250658  0.598810\n",
      "3  bar  three  0.642869  0.273581\n",
      "4  foo    two  0.425929  0.199861\n",
      "5  bar    two -1.347106  0.405579\n",
      "6  foo    one -0.076715  1.552875\n",
      "7  foo  three -0.333657 -0.051842\n",
      "            C         D\n",
      "A                      \n",
      "bar -0.775121  0.838403\n",
      "foo -0.390097  1.550273\n",
      "                  C         D\n",
      "A   B                        \n",
      "bar one   -0.070883  0.159242\n",
      "    three  0.642869  0.273581\n",
      "    two   -1.347106  0.405579\n",
      "foo one   -0.733027  0.803444\n",
      "    three -0.333657 -0.051842\n",
      "    two    0.676587  0.798671\n"
     ]
    }
   ],
   "source": [
    "df = pd.DataFrame({'A' : ['foo', 'bar', 'foo', 'bar',\n",
    "                          'foo', 'bar', 'foo', 'foo'],\n",
    "                   'B' : ['one', 'one', 'two', 'three',\n",
    "                          'two', 'two', 'one', 'three'],\n",
    "                   'C' : np.random.randn(8),\n",
    "                   'D' : np.random.randn(8)})\n",
    "print df\n",
    "\n",
    "print df.groupby('A').sum()\n",
    "print df.groupby(['A','B']).sum()"
   ]
  },
  {
   "cell_type": "code",
   "execution_count": 22,
   "metadata": {
    "collapsed": false
   },
   "outputs": [
    {
     "data": {
      "image/png": "[encoded data removed]",
      "text/plain": [
       "<matplotlib.figure.Figure at 0x7f09e0a93fd0>"
      ]
     },
     "metadata": {},
     "output_type": "display_data"
    }
   ],
   "source": [
    "ts = pd.Series(np.random.randn(1000), index=pd.date_range('1/1/2010', periods=1000))\n",
    "ts = ts.cumsum()\n",
    "\n",
    "ts.plot()\n",
    "plt.show()"
   ]
  },
  {
   "cell_type": "code",
   "execution_count": 23,
   "metadata": {
    "collapsed": false,
    "scrolled": true
   },
   "outputs": [
    {
     "name": "stderr",
     "output_type": "stream",
     "text": [
      "/usr/local/lib/python2.7/dist-packages/matplotlib/legend.py:326: UserWarning: Unrecognized location \"bset\". Falling back on \"best\"; valid locations are\n",
      "\tright\n",
      "\tcenter left\n",
      "\tupper right\n",
      "\tlower right\n",
      "\tbest\n",
      "\tcenter\n",
      "\tlower left\n",
      "\tcenter right\n",
      "\tupper left\n",
      "\tupper center\n",
      "\tlower center\n",
      "\n",
      "  six.iterkeys(self.codes))))\n"
     ]
    },
    {
     "data": {
      "image/png": "[encoded data removed]",
      "text/plain": [
       "<matplotlib.figure.Figure at 0x7f09e08ae290>"
      ]
     },
     "metadata": {},
     "output_type": "display_data"
    }
   ],
   "source": [
    "df = pd.DataFrame(np.random.randn(1000, 4), index=ts.index, columns=['A', 'B', 'C', 'D'])\n",
    "df = df.cumsum()\n",
    "\n",
    "df.plot()\n",
    "plt.legend(loc='bset')\n",
    "plt.show()"
   ]
  },
  {
   "cell_type": "code",
   "execution_count": 24,
   "metadata": {
    "collapsed": false
   },
   "outputs": [
    {
     "name": "stdout",
     "output_type": "stream",
     "text": [
      "     Unnamed: 0         A         B         C         D\n",
      "0    2010-01-01  1.036018  1.119676  0.878373  0.288539\n",
      "1    2010-01-02 -0.517693  0.837539 -0.309275  0.257469\n",
      "2    2010-01-03  0.453071  0.105673  1.375749 -1.706116\n",
      "3    2010-01-04  0.659865 -1.910336  2.230850  0.298532\n",
      "4    2010-01-05 -1.816322  0.560571  0.395396 -0.632491\n",
      "5    2010-01-06 -1.152703 -1.641520 -0.374070 -0.577824\n",
      "6    2010-01-07  0.617026  0.404600  1.717266 -1.269679\n",
      "7    2010-01-08 -2.384665  0.351807 -1.537593  0.918268\n",
      "8    2010-01-09 -0.643590 -0.004899  2.122223 -0.256430\n",
      "9    2010-01-10  0.128875  0.443378 -0.667767  0.389998\n",
      "10   2010-01-11  1.769378  1.305462  0.985077  1.957668\n",
      "11   2010-01-12  1.818802 -1.001675  0.187242  1.357919\n",
      "12   2010-01-13 -0.173312 -0.610654 -1.606212 -2.748815\n",
      "13   2010-01-14 -0.246247 -0.923026  0.522542 -0.020527\n",
      "14   2010-01-15  0.646384  1.161445 -2.276925 -0.440924\n",
      "15   2010-01-16 -0.225081  2.161198  0.067173  1.643244\n",
      "16   2010-01-17  0.105944  1.125908 -1.075460 -0.605765\n",
      "17   2010-01-18  0.381493 -0.257504  1.227337 -0.754262\n",
      "18   2010-01-19 -0.748075 -0.249392 -2.657353  0.539731\n",
      "19   2010-01-20 -0.531248  1.318712  0.494367 -0.457445\n",
      "20   2010-01-21 -0.537911 -0.600757 -1.369462 -0.704838\n",
      "21   2010-01-22  2.086494 -1.073774 -0.868946  0.545648\n",
      "22   2010-01-23  0.527977  0.454691 -0.973628  0.819145\n",
      "23   2010-01-24 -0.065678  1.005732  0.547635 -0.798674\n",
      "24   2010-01-25 -0.842204 -1.081009  0.471239  0.867944\n",
      "25   2010-01-26 -1.208926  0.637660  0.989037  1.119472\n",
      "26   2010-01-27  0.363547  0.033943  0.183785  1.109452\n",
      "27   2010-01-28  0.165214 -0.649277 -1.825052  0.793279\n",
      "28   2010-01-29 -1.965886 -1.174454  0.831370 -0.908491\n",
      "29   2010-01-30  0.063137  0.740637  0.568435  0.185082\n",
      "..          ...       ...       ...       ...       ...\n",
      "970  2012-08-28 -0.669792 -1.245988  0.765221  0.361091\n",
      "971  2012-08-29 -0.259342 -0.683976 -0.202992  1.132311\n",
      "972  2012-08-30 -0.127926  1.089633  0.618517 -0.529831\n",
      "973  2012-08-31  0.491722  1.577529 -2.123580 -1.924974\n",
      "974  2012-09-01 -0.609650  3.341552 -2.266037  0.136827\n",
      "975  2012-09-02 -0.617295  0.023989 -0.411636  1.640366\n",
      "976  2012-09-03  0.394482 -1.501880 -0.761054 -0.535746\n",
      "977  2012-09-04 -0.927027 -1.253152  0.547893 -0.206078\n",
      "978  2012-09-05  2.134874  0.526087 -0.465216 -1.246010\n",
      "979  2012-09-06 -0.061683  1.374993 -0.946276 -0.541305\n",
      "980  2012-09-07  0.052386 -0.419276 -0.729808  1.604477\n",
      "981  2012-09-08  1.080898 -0.420899 -0.171075 -1.356823\n",
      "982  2012-09-09 -0.407694  1.519095 -0.874393 -0.357554\n",
      "983  2012-09-10  0.575014  0.159472  0.671658  1.430904\n",
      "984  2012-09-11 -0.369531 -0.608721 -0.282828 -0.309566\n",
      "985  2012-09-12  0.691247  0.217695 -0.394280  0.194530\n",
      "986  2012-09-13 -0.196241 -0.368315 -1.022359  0.472997\n",
      "987  2012-09-14 -0.047852 -0.133226 -0.546811 -1.682747\n",
      "988  2012-09-15  0.476644 -0.439662  0.906653 -1.580595\n",
      "989  2012-09-16 -0.885136 -1.024351 -1.732232 -2.072806\n",
      "990  2012-09-17 -0.526792 -0.654998  2.606806 -0.034298\n",
      "991  2012-09-18 -1.172983 -0.843782 -1.904314  1.139727\n",
      "992  2012-09-19 -0.414369 -0.583469  0.120218 -2.095553\n",
      "993  2012-09-20 -0.256181  0.627422  0.807189  0.218650\n",
      "994  2012-09-21  0.132727  2.440478  0.541850  0.526135\n",
      "995  2012-09-22 -0.625005 -1.089901  0.711279 -0.094087\n",
      "996  2012-09-23 -0.384815 -0.928871 -0.740311 -0.279427\n",
      "997  2012-09-24 -0.789215  0.926930 -0.522619  0.184930\n",
      "998  2012-09-25  0.921591  0.910171  0.122907  0.701155\n",
      "999  2012-09-26  1.091587  0.439471 -1.830218 -1.011043\n",
      "\n",
      "[1000 rows x 5 columns]\n"
     ]
    }
   ],
   "source": [
    "df = pd.DataFrame(np.random.randn(1000, 4), index=ts.index, columns=['A', 'B', 'C', 'D'])\n",
    "df.to_csv('test.csv')\n",
    "\n",
    "df2 = pd.read_csv('test.csv')\n",
    "print df2"
   ]
  },
  {
   "cell_type": "code",
   "execution_count": null,
   "metadata": {
    "collapsed": true
   },
   "outputs": [],
   "source": []
  }
 ],
 "metadata": {
  "anaconda-cloud": {},
  "kernelspec": {
   "display_name": "Python 2",
   "language": "python",
   "name": "python2"
  },
  "language_info": {
   "codemirror_mode": {
    "name": "ipython",
    "version": 2
   },
   "file_extension": ".py",
   "mimetype": "text/x-python",
   "name": "python",
   "nbconvert_exporter": "python",
   "pygments_lexer": "ipython2",
   "version": "2.7.12"
  }
 },
 "nbformat": 4,
 "nbformat_minor": 2
}

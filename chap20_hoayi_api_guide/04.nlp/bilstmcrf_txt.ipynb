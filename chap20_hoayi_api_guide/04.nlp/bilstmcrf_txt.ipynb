{
 "cells": [
  {
   "cell_type": "markdown",
   "metadata": {},
   "source": [
    "# SetUp Target Server Info"
   ]
  },
  {
   "cell_type": "code",
   "execution_count": 84,
   "metadata": {
    "collapsed": false
   },
   "outputs": [
    {
     "name": "stdout",
     "output_type": "stream",
     "text": [
      "done\n"
     ]
    }
   ],
   "source": [
    "import requests\n",
    "import json, os\n",
    "\n",
    "nn_id = 'lstmcrf021'  # put some key value you want to test\n",
    "\n",
    "url = \"{0}:{1}\".format(os.environ['HOSTNAME'] , \"8000\")\n",
    "print(\"done\")"
   ]
  },
  {
   "cell_type": "markdown",
   "metadata": {},
   "source": [
    "# Net & Version Create"
   ]
  },
  {
   "cell_type": "code",
   "execution_count": 85,
   "metadata": {
    "collapsed": false
   },
   "outputs": [
    {
     "name": "stdout",
     "output_type": "stream",
     "text": [
      "evaluation result : lstmcrf021\n",
      "evaluation result : lstmcrf021\n"
     ]
    }
   ],
   "source": [
    "####(1) 네트워크 생성 ####\n",
    "resp = requests.post('http://' + url + '/api/v1/type/common/target/nninfo/nnid/' + nn_id + '/',\n",
    "                     json={\n",
    "                         \"biz_cate\": \"MES\",\n",
    "                         \"biz_sub_cate\": \"M60\",\n",
    "                         \"nn_title\" : \"test\",\n",
    "                         \"nn_desc\": \"test desc\",\n",
    "                         \"use_flag\" : \"Y\",\n",
    "                         \"dir\": \"purpose?\",\n",
    "                         \"config\": \"N\"\n",
    "                     })\n",
    "data = json.loads(resp.json())\n",
    "print(\"evaluation result : {0}\".format(data))\n",
    "\n",
    "####(2) 버전 생성 ####\n",
    "resp = requests.post('http://' + url + '/api/v1/type/common/target/nninfo/nnid/' + nn_id + '/version/',\n",
    "                 json={\n",
    "                     \"nn_def_list_info_nn_id\": \"\",\n",
    "                     \"nn_wf_ver_info\": \"test version info\",\n",
    "                     \"condition\": \"1\",\n",
    "                     \"active_flag\": \"Y\"\n",
    "                 })\n",
    "data = json.loads(resp.json())\n",
    "print(\"evaluation result : {0}\".format(data))\n"
   ]
  },
  {
   "cell_type": "markdown",
   "metadata": {},
   "source": [
    "# Graph Flow 정의 "
   ]
  },
  {
   "cell_type": "code",
   "execution_count": 86,
   "metadata": {
    "collapsed": false
   },
   "outputs": [
    {
     "name": "stdout",
     "output_type": "stream",
     "text": [
      "evaluation result : bilstmcrf_iob\n"
     ]
    }
   ],
   "source": [
    "# Work Flow 틀을 구성하도로고 지시한다. (정해진 틀을 강제로 생성)\n",
    "resp = requests.post('http://' + url + '/api/v1/type/wf/target/init/mode/simple/' + nn_id +'/wfver/1/',\n",
    "                     json={\n",
    "                         \"type\": 'bilstmcrf_iob'\n",
    "                     })\n",
    "data = json.loads(resp.json())\n",
    "print(\"evaluation result : {0}\".format(data))"
   ]
  },
  {
   "cell_type": "markdown",
   "metadata": {},
   "source": [
    "# 데이터 업로드 "
   ]
  },
  {
   "cell_type": "code",
   "execution_count": 87,
   "metadata": {
    "collapsed": false
   },
   "outputs": [
    {
     "name": "stdout",
     "output_type": "stream",
     "text": [
      "evaluation result : ['1 file upload success']\n"
     ]
    }
   ],
   "source": [
    "return_dict = {}\n",
    "return_dict['test'] = open('../../data/ner_train.iob', 'rb')\n",
    "\n",
    "resp = requests.post('http://' + url + '/api/v1/type/wf/state/framedata/src/local/form/raw/prg/source/nnid/'+nn_id+'/ver/1/node/data_node/',\n",
    "                     files = return_dict)\n",
    "\n",
    "data = json.loads(resp.json())\n",
    "print(\"evaluation result : {0}\".format(data))"
   ]
  },
  {
   "cell_type": "markdown",
   "metadata": {},
   "source": [
    "# 데이터 노드 정의 "
   ]
  },
  {
   "cell_type": "code",
   "execution_count": 88,
   "metadata": {
    "collapsed": false
   },
   "outputs": [
    {
     "name": "stdout",
     "output_type": "stream",
     "text": [
      "evaluation result : /hoya_str_root/lstmcrf021/1/data_node\n"
     ]
    }
   ],
   "source": [
    "# (1) Train Data Node 의 속성을 정의\n",
    "# 어디서 Source 를 어떻게 가지고 올것인지 파라메터 정의 \n",
    "resp = requests.put('http://' + url + '/api/v1/type/wf/state/iobdata/src/local/form/iob/prg/source/nnid/'+nn_id+'/ver/1/node/data_node/',\n",
    "                     json={\n",
    "                         \"type\": \"local\",\n",
    "                         \"source_server\": \"local\",\n",
    "                         \"source_sql\": \"all\",\n",
    "                     })\n",
    "\n",
    "# 전처리는 어떤 것을 할지 정의\n",
    "resp = requests.put('http://' + url + '/api/v1/type/wf/state/iobdata/src/local/form/iob/prg/pre/nnid/'+nn_id+'/ver/1/node/data_node/',\n",
    "                      json={\n",
    "                          \"preprocess\":  \"None\",\n",
    "                          \"word_embed_model\" : \"w2v0003\"\n",
    "                      })\n",
    "# 전처리가 완료된 데이터는 어디에 저장을 할지 \n",
    "resp = requests.put('http://' + url + '/api/v1/type/wf/state/iobdata/src/local/form/iob/prg/store/nnid/'+nn_id+'/ver/1/node/data_node/',)\n",
    "\n",
    "data = json.loads(resp.json())\n",
    "print(\"evaluation result : {0}\".format(data))"
   ]
  },
  {
   "cell_type": "markdown",
   "metadata": {},
   "source": [
    "# 데이터 Feeder 정의"
   ]
  },
  {
   "cell_type": "code",
   "execution_count": 89,
   "metadata": {
    "collapsed": false
   },
   "outputs": [
    {
     "name": "stdout",
     "output_type": "stream",
     "text": [
      "evaluation result : {'char_embed_id': '', 'word_embed_id': '', 'language': 'kor', 'seperator': ' ', 'col_len': 2}\n"
     ]
    }
   ],
   "source": [
    "# (2) Network 에 데이터를 Feed하는 Node 의 속성을 정의 \n",
    "resp = requests.post('http://' + url + '/api/v1/type/wf/state/pre/detail/feed/src/iob/net/bilstmcrf/nnid/'+nn_id+'/ver/1/node/pre_feed_train/',\n",
    "                     json={\n",
    "                         \"seperator\" : \" \",\n",
    "                         \"col_len\" : 2,\n",
    "                         \"word_embed_id\" : \"\",\n",
    "                         \"char_embed_id\":  \"\",\n",
    "                         \"language\" : 'kor'\n",
    "                     })\n",
    "data = json.loads(resp.json())\n",
    "print(\"evaluation result : {0}\".format(data))"
   ]
  },
  {
   "cell_type": "markdown",
   "metadata": {},
   "source": [
    "# Bi-Lstm crf 모델 정의"
   ]
  },
  {
   "cell_type": "code",
   "execution_count": 90,
   "metadata": {
    "collapsed": false
   },
   "outputs": [
    {
     "name": "stdout",
     "output_type": "stream",
     "text": [
      "evaluation result : {'examples_to_show': 10, 'model_path': '/hoya_model_root/lstmcrf021/1/netconf_node', 'iter': 10, 'learning_rate': 0.01, 'batch_size': 10, 'n_hidden': [200, 100]}\n"
     ]
    }
   ],
   "source": [
    "resp = requests.put('http://' + url + '/api/v1/type/wf/state/netconf/detail/bilstmcrf/nnid/' + nn_id + '/ver/1/node/netconf_node/',\n",
    "                     json={\n",
    "                        \"learning_rate\" : 0.01,\n",
    "                        \"iter\" : 10,\n",
    "                        \"batch_size\" : 10,\n",
    "                        \"examples_to_show\" : 10,\n",
    "                        \"n_hidden\" : [200, 100] \n",
    "                     })\n",
    "data = json.loads(resp.json())\n",
    "print(\"evaluation result : {0}\".format(data))"
   ]
  },
  {
   "cell_type": "markdown",
   "metadata": {},
   "source": [
    "# Eval Process "
   ]
  },
  {
   "cell_type": "code",
   "execution_count": 91,
   "metadata": {
    "collapsed": false
   },
   "outputs": [
    {
     "name": "stdout",
     "output_type": "stream",
     "text": [
      "evaluation result : ['1 file upload success']\n",
      "evaluation result : {'source_parse_type': 'raw', 'source_path': '/hoya_src_root/lstmcrf021/1/test_data_node', 'source_sql': 'all', 'source_server': 'local', 'source_type': 'local'}\n",
      "evaluation result : None\n",
      "evaluation result : /hoya_str_root/lstmcrf021/1/test_data_node\n",
      "evaluation result : /hoya_str_root/lstmcrf021/1/test_data_node\n",
      "evaluation result : {'type': 'category'}\n"
     ]
    }
   ],
   "source": [
    "return_dict = {}\n",
    "return_dict['test'] = open('../../data/ner_train.iob', 'rb')\n",
    "\n",
    "resp = requests.post('http://' + url + '/api/v1/type/wf/state/iobdata/src/local/form/raw/prg/source/nnid/'+nn_id+'/ver/1/node/test_data_node/',\n",
    "                     files = return_dict)\n",
    "\n",
    "data = json.loads(resp.json())\n",
    "print(\"evaluation result : {0}\".format(data))\n",
    "\n",
    "# 데이터 - 소스 정의\n",
    "resp = requests.put('http://' + url + '/api/v1/type/wf/state/iobdata/src/local/form/raw/prg/source/nnid/'+nn_id+'/ver/1/node/test_data_node/',\n",
    "                     json={\n",
    "                         \"type\": \"local\",\n",
    "                         \"source_server\": \"local\",\n",
    "                         \"source_sql\": \"all\",\n",
    "                     })\n",
    "data = json.loads(resp.json())\n",
    "print(\"evaluation result : {0}\".format(data))\n",
    "\n",
    "# 데이터 - 전처리 정의\n",
    "resp = requests.put('http://' + url + '/api/v1/type/wf/state/iobdata/src/local/form/raw/prg/pre/nnid/'+nn_id+'/ver/1/node/test_data_node/',\n",
    "                      json={\n",
    "                          \"preprocess\":  \"None\",\n",
    "                          \"word_embed_model\" : \"w2v0003\"\n",
    "                      })\n",
    "data = json.loads(resp.json())\n",
    "print(\"evaluation result : {0}\".format(data))\n",
    "\n",
    "# 데이터 - 저장 정의\n",
    "resp = requests.put('http://' + url + '/api/v1/type/wf/state/iobdata/src/local/form/raw/prg/store/nnid/'+nn_id+'/ver/1/node/test_data_node/',)\n",
    "\n",
    "data = json.loads(resp.json())\n",
    "print(\"evaluation result : {0}\".format(data))\n",
    "\n",
    "\n",
    "# Feeder 정의\n",
    "resp = requests.post('http://' + url + '/api/v1/type/wf/state/pre/detail/feed/src/iob/net/bilstmcrf/nnid/'+nn_id+'/ver/1/node/pre_feed_test/',\n",
    "                     json={\n",
    "                         \"seperator\" : \" \",\n",
    "                         \"col_len\" : 2,\n",
    "                         \"word_embed_id\" : \"\",\n",
    "                         \"char_embed_id\":  \"\",\n",
    "                         \"language\" : 'kor'\n",
    "                     })\n",
    "print(\"evaluation result : {0}\".format(data))\n",
    "\n",
    "node_name = 'eval_node'\n",
    "resp = requests.put('http://' + url + '/api/v1/type/wf/state/eval/nnid/'+nn_id+'/ver/1/node/eval_node/',\n",
    "                    json={\n",
    "                        \"type\": \"category\",\n",
    "                    })\n",
    "\n",
    "data = json.loads(resp.json())\n",
    "print(\"evaluation result : {0}\".format(data))"
   ]
  },
  {
   "cell_type": "markdown",
   "metadata": {},
   "source": [
    "# Train "
   ]
  },
  {
   "cell_type": "code",
   "execution_count": 99,
   "metadata": {
    "collapsed": false
   },
   "outputs": [
    {
     "name": "stdout",
     "output_type": "stream",
     "text": [
      "evaluation result : [None, None, None, None, None, {'labels': ['PERSON', 'O', 'COMMAND', 'TARGET', 'O/'], 'predicts': [[7, 0, 0, 0, 0], [0, 0, 0, 0, 0], [0, 0, 1, 0, 0], [0, 0, 0, 0, 0], [0, 0, 0, 0, 0]]}]\n"
     ]
    }
   ],
   "source": [
    "# Run All Workflow\n",
    "resp = requests.post('http://' + url + '/api/v1/type/runmanager/state/train/nnid/'+nn_id+'/ver/1/')\n",
    "data = json.loads(resp.json())\n",
    "print(\"evaluation result : {0}\".format(data))"
   ]
  },
  {
   "cell_type": "markdown",
   "metadata": {
    "collapsed": true
   },
   "source": [
    "# Predict"
   ]
  },
  {
   "cell_type": "code",
   "execution_count": 81,
   "metadata": {
    "collapsed": false
   },
   "outputs": [
    {
     "name": "stdout",
     "output_type": "stream",
     "text": [
      "evaluation result(2) : ['B-PERSON', 'B-TARGET', 'O']\n"
     ]
    }
   ],
   "source": [
    "resp = requests.post('http://' + url + '/api/v1/type/service/state/predict/type/bilstmcrf/nnid/'+nn_id+'/ver/active/',\n",
    "                     json={\"input_data\" : \"이태영의 전화번호 검색\" , \"num\": 0, \"clean_ans\":False}\n",
    "                     )\n",
    "data = json.loads(resp.json())\n",
    "print(\"evaluation result(2) : {0}\".format(data))"
   ]
  },
  {
   "cell_type": "code",
   "execution_count": null,
   "metadata": {
    "collapsed": true
   },
   "outputs": [],
   "source": []
  },
  {
   "cell_type": "code",
   "execution_count": null,
   "metadata": {
    "collapsed": true
   },
   "outputs": [],
   "source": []
  }
 ],
 "metadata": {
  "anaconda-cloud": {},
  "kernelspec": {
   "display_name": "Python [conda root]",
   "language": "python",
   "name": "conda-root-py"
  },
  "language_info": {
   "codemirror_mode": {
    "name": "ipython",
    "version": 3
   },
   "file_extension": ".py",
   "mimetype": "text/x-python",
   "name": "python",
   "nbconvert_exporter": "python",
   "pygments_lexer": "ipython3",
   "version": "3.5.2"
  }
 },
 "nbformat": 4,
 "nbformat_minor": 1
}

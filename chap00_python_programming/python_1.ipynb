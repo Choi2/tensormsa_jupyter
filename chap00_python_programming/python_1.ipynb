{
 "cells": [
  {
   "cell_type": "markdown",
   "metadata": {},
   "source": []
  },
  {
   "cell_type": "code",
   "execution_count": 9,
   "metadata": {
    "collapsed": true
   },
   "outputs": [],
   "source": [
    "from itertools import islice\n",
    "import time"
   ]
  },
  {
   "cell_type": "code",
   "execution_count": 26,
   "metadata": {
    "collapsed": false
   },
   "outputs": [
    {
     "name": "stdout",
     "output_type": "stream",
     "text": [
      "2470\n",
      "2470\n",
      "list : <class 'list'> / generator : <class 'generator'>\n",
      "[None]\n",
      "[None, None]\n",
      "[None, None, None]\n",
      "None\n"
     ]
    }
   ],
   "source": [
    "print(sum([x*x for x in range(20)]))\n",
    "print(sum(x*x for x in range(20)))\n",
    "li = [x*x for x in range(20)]\n",
    "gen = (x*x for x in range(20))\n",
    "print(\"list : {0} / generator : {1}\".format(li.__class__, gen.__class__))\n",
    "print(list(islice((time.sleep(x) for x in range(3)), 1)))\n",
    "print(list(islice((time.sleep(x) for x in range(3)), 2)))\n",
    "print(list(islice((time.sleep(x) for x in range(3)), 3)))\n",
    "print([lambda: \"no sleep\", lambda: time.sleep(1), lambda: time.sleep(2)][2]())"
   ]
  }
 ],
 "metadata": {
  "anaconda-cloud": {},
  "kernelspec": {
   "display_name": "Python [conda root]",
   "language": "python",
   "name": "conda-root-py"
  },
  "language_info": {
   "codemirror_mode": {
    "name": "ipython",
    "version": 3
   },
   "file_extension": ".py",
   "mimetype": "text/x-python",
   "name": "python",
   "nbconvert_exporter": "python",
   "pygments_lexer": "ipython3",
   "version": "3.5.2"
  }
 },
 "nbformat": 4,
 "nbformat_minor": 1
}

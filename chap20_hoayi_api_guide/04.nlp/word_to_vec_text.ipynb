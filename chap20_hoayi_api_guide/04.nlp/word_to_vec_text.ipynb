{
 "cells": [
  {
   "cell_type": "markdown",
   "metadata": {
    "collapsed": true
   },
   "source": [
    "# Neural Network 정의\n",
    "nn_id : Neural Network ID<br>\n",
    "biz_cate : Business 대분류<br>\n",
    "biz_sub_cate : Business 소분류<br>\n",
    "nn_title : Neural Network Title<br>\n",
    "nn_desc : Neural Network Description<br>\n",
    "use_flag : 사용여부<br> \n",
    "dir : 문제유형<br>\n",
    "config : Custom 여부 "
   ]
  },
  {
   "cell_type": "code",
   "execution_count": 14,
   "metadata": {
    "collapsed": false
   },
   "outputs": [
    {
     "name": "stdout",
     "output_type": "stream",
     "text": [
      "1.evaluation result : nn00002\n"
     ]
    }
   ],
   "source": [
    "import requests\n",
    "import json, os\n",
    "\n",
    "url = \"{0}:{1}\".format(os.environ['HOSTNAME'] , \"8000\")\n",
    "\n",
    "nn_id = \"nn00002\"\n",
    "nn_wf_ver_id =\"1\"\n",
    "\n",
    "# Seq - 1\n",
    "resp = requests.post('http://' + url + '/api/v1/type/common/target/nninfo/nnid/' + nn_id + '/',\n",
    "                     json={\n",
    "                         \"biz_cate\": \"MES\",\n",
    "                         \"biz_sub_cate\": \"M60\",\n",
    "                         \"nn_title\" : \"test\",\n",
    "                         \"nn_desc\": \"test desc\",\n",
    "                         \"use_flag\" : \"Y\",\n",
    "                         \"dir\": \"purpose?\",\n",
    "                         \"config\": \"N\"\n",
    "                     })\n",
    "data = json.loads(resp.json())\n",
    "print(\"1.evaluation result : {0}\".format(data))"
   ]
  },
  {
   "cell_type": "markdown",
   "metadata": {},
   "source": [
    "# Work Flow Version 정의\n",
    "nn_def_list_info_nn_id :<br>\n",
    "nn_wf_ver_info : Work Flow Version Description<br>\n",
    "condition :<br>\n",
    "active_flag : 사용여부\n",
    "master_nn_ver_wflist_info insert"
   ]
  },
  {
   "cell_type": "code",
   "execution_count": 15,
   "metadata": {
    "collapsed": false
   },
   "outputs": [
    {
     "name": "stdout",
     "output_type": "stream",
     "text": [
      "2.evaluation result : nn00002\n"
     ]
    }
   ],
   "source": [
    "# Seq - 2\n",
    "resp = requests.post('http://' + url + '/api/v1/type/common/target/nninfo/nnid/' + nn_id + '/version/',\n",
    "                 json={\n",
    "                     \"nn_def_list_info_nn_id\": \"\",\n",
    "                     \"nn_wf_ver_info\": \"test version info\",\n",
    "                     \"condition\": \"1\",\n",
    "                     \"active_flag\": \"Y\"\n",
    "                 })\n",
    "data = json.loads(resp.json())\n",
    "print(\"2.evaluation result : {0}\".format(data))"
   ]
  },
  {
   "cell_type": "markdown",
   "metadata": {},
   "source": [
    "# Work Flow Node  Initialize\n",
    "type : Neural Network Type<br>\n",
    "1. Data Node<br>\n",
    "2. Neural Network Node<br>\n",
    "3. Evaluation Node<br>"
   ]
  },
  {
   "cell_type": "code",
   "execution_count": 16,
   "metadata": {
    "collapsed": false
   },
   "outputs": [
    {
     "name": "stdout",
     "output_type": "stream",
     "text": [
      "3.evaluation result : word2vec\n"
     ]
    }
   ],
   "source": [
    "# Seq - 3\n",
    "resp = requests.post('http://' + url + '/api/v1/type/wf/target/init/mode/simple/'+ nn_id + '/wfver/1/',\n",
    "                     json={\n",
    "                         \"type\": \"word2vec\"\n",
    "                     })\n",
    "data = json.loads(resp.json())\n",
    "print(\"3.evaluation result : {0}\".format(data))"
   ]
  },
  {
   "cell_type": "markdown",
   "metadata": {},
   "source": [
    "# Data Node Config\n",
    "type : Image Source Type<br>\n",
    "labels : Classfication Labels<br>\n",
    "source_path : Image Source Path<br>\n",
    "preprocess : Image Preprocess Config<br>\n",
    "store_path : Image Store Path"
   ]
  },
  {
   "cell_type": "code",
   "execution_count": 17,
   "metadata": {
    "collapsed": false
   },
   "outputs": [
    {
     "name": "stdout",
     "output_type": "stream",
     "text": [
      "4.evaluation result : ['1 file upload success']\n",
      "5.evaluation result : {'preprocess': 'mecab', 'store_path': '/hoya_str_root/nn00002/1/data_node', 'source_parse_type': 'raw', 'max_sentence_len': 10, 'source_path': '/hoya_src_root/nn00002/1/data_node', 'source_sql': 'all', 'source_type': 'local', 'source_server': 'local'}\n"
     ]
    }
   ],
   "source": [
    "# Seq - 4\n",
    "return_dict = {}\n",
    "return_dict['test'] = open('../../data/novel_1.txt', 'rb')\n",
    "\n",
    "resp = requests.post('http://' + url + '/api/v1/type/wf/state/textdata/src/local/form/raw/prg/source/nnid/'+nn_id+'/ver/1/node/data_node/',\n",
    "                     files = return_dict)\n",
    "\n",
    "data = json.loads(resp.json())\n",
    "print(\"4.evaluation result : {0}\".format(data))\n",
    "\n",
    "# Seq - 5\n",
    "resp = requests.put('http://' + url + '/api/v1/type/wf/state/textdata/src/local/form/raw/prg/source/nnid/'+ nn_id + '/ver/1/node/data_node/',\n",
    "                     json={\n",
    "                         \"source_server\": \"local\",\n",
    "                         \"source_sql\": \"all\",\n",
    "                         \"max_sentence_len\" : 10\n",
    "                     })\n",
    "data = json.loads(resp.json())\n",
    "print(\"5.evaluation result : {0}\".format(data))\n"
   ]
  },
  {
   "cell_type": "markdown",
   "metadata": {
    "collapsed": true
   },
   "source": [
    "# Select Preprocess Type\n",
    "preprocess : kkma, twiter, mecab, nltk<br>"
   ]
  },
  {
   "cell_type": "code",
   "execution_count": 18,
   "metadata": {
    "collapsed": false
   },
   "outputs": [
    {
     "name": "stdout",
     "output_type": "stream",
     "text": [
      "6.evaluation result : mecab\n",
      "7.evaluation result : /hoya_str_root/nn00002/1/data_node\n",
      "8.evaluation result : {'preprocess': 'mecab', 'store_path': '/hoya_str_root/nn00002/1/data_node', 'source_parse_type': 'raw', 'max_sentence_len': 10, 'source_path': '/hoya_src_root/nn00002/1/data_node', 'source_sql': 'all', 'source_type': 'local', 'source_server': 'local'}\n"
     ]
    }
   ],
   "source": [
    "# Seq - 6\n",
    "resp = requests.put('http://' + url + '/api/v1/type/wf/state/textdata/src/local/form/raw/prg/pre/nnid/'+ nn_id + '/ver/1/node/data_node/',\n",
    "                     json={\n",
    "                         \"preprocess\":  \"mecab\",\n",
    "                     })\n",
    "data = json.loads(resp.json())\n",
    "print(\"6.evaluation result : {0}\".format(data))\n",
    "\n",
    "# Seq - 7\n",
    "resp = requests.put('http://' + url + '/api/v1/type/wf/state/textdata/src/local/form/raw/prg/store/nnid/'+ nn_id + '/ver/1/node/data_node/')\n",
    "data = json.loads(resp.json())\n",
    "print(\"7.evaluation result : {0}\".format(data))\n",
    "\n",
    "# Seq - 8\n",
    "resp = requests.get('http://' + url + '/api/v1/type/wf/state/textdata/src/local/form/raw/prg/source/nnid/'+ nn_id + '/ver/1/node/data_node/')\n",
    "data = json.loads(resp.json())\n",
    "print(\"8.evaluation result : {0}\".format(data))"
   ]
  },
  {
   "cell_type": "markdown",
   "metadata": {},
   "source": [
    "# Neural Network Node Config\n",
    "model_path : Model Save Path<br>\n",
    "window_size : 문장 내의 현재 단어와 예측 단어 사이의 최대 거리.<br>\n",
    "vector_size : 백터사이즈.<br>\n",
    "batch_size : Batch Size (Vocabary Distance)<br>\n",
    "iter : Trainning Iteration<br>"
   ]
  },
  {
   "cell_type": "code",
   "execution_count": 19,
   "metadata": {
    "collapsed": false
   },
   "outputs": [
    {
     "name": "stdout",
     "output_type": "stream",
     "text": [
      "9.evaluation result : {'batch_size': 100, 'iter': 5, 'window_size': 5, 'model_path': '/hoya_model_root/nn00002/1/netconf_node', 'min_count': 1, 'vector_size': 100}\n"
     ]
    }
   ],
   "source": [
    "# Seq - 9\n",
    "resp = requests.put('http://' + url + '/api/v1/type/wf/state/netconf/detail/w2v/nnid/' + nn_id + '/ver/' + nn_wf_ver_id + '/node/netconf_node/',\n",
    "                     json={\n",
    "                        \"window_size\" : 5,\n",
    "                        \"vector_size\" : 100,\n",
    "                        \"batch_size\" : 100,\n",
    "                        \"iter\" : 5,\n",
    "                        \"min_count\" : 1\n",
    "                     })\n",
    "data = json.loads(resp.json())\n",
    "print(\"9.evaluation result : {0}\".format(data))"
   ]
  },
  {
   "cell_type": "markdown",
   "metadata": {},
   "source": [
    "# Eval Network Node Config"
   ]
  },
  {
   "cell_type": "code",
   "execution_count": 20,
   "metadata": {
    "collapsed": false
   },
   "outputs": [
    {
     "name": "stdout",
     "output_type": "stream",
     "text": [
      "10.evaluation result : ['1 file upload success']\n",
      "11.evaluation result : {'preprocess': 'mecab', 'store_path': '/hoya_str_root/nn00002/1/test_data_node', 'source_parse_type': 'raw', 'max_sentence_len': 50, 'source_path': '/hoya_src_root/nn00002/1/test_data_node', 'source_sql': 'all', 'source_type': 'local', 'source_server': 'local'}\n",
      "12.evaluation result : mecab\n",
      "13.evaluation result : /hoya_str_root/nn00002/1/test_data_node\n",
      "14.evaluation result : {'type': 'w2v'}\n"
     ]
    }
   ],
   "source": [
    "# Seq - 10\n",
    "return_dict = {}\n",
    "return_dict['test'] = open('../../data/novel_1.txt', 'rb')\n",
    "resp = requests.post('http://' + url + '/api/v1/type/wf/state/textdata/src/local/form/raw/prg/source/nnid/'+ nn_id + '/ver/1/node/test_data_node/',\n",
    "                     files = return_dict)\n",
    "data = json.loads(resp.json())\n",
    "print(\"10.evaluation result : {0}\".format(data))\n",
    "\n",
    "# Seq - 11\n",
    "resp = requests.put('http://' + url + '/api/v1/type/wf/state/textdata/src/local/form/raw/prg/source/nnid/'+ nn_id + '/ver/1/node/test_data_node/',\n",
    "                     json={\n",
    "                         \"source_server\": \"local\",\n",
    "                         \"source_sql\": \"all\",\n",
    "                         \"max_sentence_len\" : 50\n",
    "                     })\n",
    "data = json.loads(resp.json())\n",
    "print(\"11.evaluation result : {0}\".format(data))\n",
    "\n",
    "# Seq - 12\n",
    "resp = requests.put('http://' + url + '/api/v1/type/wf/state/textdata/src/local/form/raw/prg/pre/nnid/'+ nn_id + '/ver/1/node/test_data_node/',\n",
    "                     json={\n",
    "                         \"preprocess\":  \"mecab\",\n",
    "                     })\n",
    "data = json.loads(resp.json())\n",
    "print(\"12.evaluation result : {0}\".format(data))\n",
    "\n",
    "# Seq - 13\n",
    "resp = requests.put('http://' + url + '/api/v1/type/wf/state/textdata/src/local/form/raw/prg/store/nnid/'+ nn_id + '/ver/1/node/test_data_node/')\n",
    "data = json.loads(resp.json())\n",
    "print(\"13.evaluation result : {0}\".format(data))\n",
    "\n",
    "node_name = 'eval_node'\n",
    "resp = requests.put('http://' + url + '/api/v1/type/wf/state/eval/nnid/'+nn_id+'/ver/1/node/eval_node/',\n",
    "                    json={\n",
    "                        \"type\": \"w2v\",\n",
    "                    })\n",
    "data = json.loads(resp.json())\n",
    "print(\"14.evaluation result : {0}\".format(data))"
   ]
  },
  {
   "cell_type": "markdown",
   "metadata": {},
   "source": [
    "# Training"
   ]
  },
  {
   "cell_type": "code",
   "execution_count": 21,
   "metadata": {
    "collapsed": false
   },
   "outputs": [
    {
     "name": "stdout",
     "output_type": "stream",
     "text": [
      "14.evaluation result : [None, None, None, None, 0, {'word': [], 'x': [], 'y': []}]\n"
     ]
    }
   ],
   "source": [
    "# Seq - 14\n",
    "resp = requests.post('http://' + url + '/api/v1/type/runmanager/state/train/nnid/'+nn_id+'/ver/'+nn_wf_ver_id+'/')\n",
    "data = json.loads(resp.json())\n",
    "print(\"14.evaluation result : {0}\".format(data))"
   ]
  },
  {
   "cell_type": "markdown",
   "metadata": {},
   "source": [
    "# Prediction\n",
    "type :  sim\n",
    "val_1 : [철강,권오준,연구원,포스코]\n",
    "\n",
    "\n",
    "포스코-적자\n",
    "철강-포스코\n"
   ]
  },
  {
   "cell_type": "code",
   "execution_count": 10,
   "metadata": {
    "collapsed": false
   },
   "outputs": [
    {
     "name": "stdout",
     "output_type": "stream",
     "text": [
      "evaluation result : [[-0.27489280700683594, 0.7229669690132141, -0.6713303923606873, 0.49101710319519043, 0.6743159294128418, -1.057725429534912, -0.608081042766571, -1.4610708951950073, -0.5480546355247498, 0.28336894512176514, -0.02055896259844303, -0.08309847861528397, 0.10305346548557281, -0.3021060824394226, -0.4633725881576538, 0.06249808147549629, 0.34389528632164, -0.22020497918128967, 0.16219298541545868, -0.2104073464870453, 0.3119756579399109, -0.7591639757156372, -0.21586790680885315, -0.7515556812286377, -0.4552948474884033, -0.572806715965271, -0.8426693081855774, 0.500525951385498, 0.9535865783691406, 0.15838424861431122, 0.05084224045276642, -0.003196092089638114, 0.21282337605953217, 0.040152307599782944, -0.03554274141788483, 0.03711115941405296, 0.02579672634601593, -0.14450961351394653, -0.9367926120758057, 0.6668230891227722, 0.6761654615402222, -0.0005349979037418962, 1.28694486618042, 0.7951106429100037, -0.10339818894863129, 0.23255448043346405, -0.1296488344669342, 0.38396137952804565, 0.6238628625869751, 0.37625691294670105, 0.004911446012556553, -0.0662972703576088, 0.4313649833202362, -0.09997919946908951, 0.18712449073791504, 0.9665094017982483, 0.38479357957839966, -0.9670376181602478, -0.2862607538700104, 0.1820688545703888, 0.843651533126831, 0.347647488117218, 0.26360172033309937, 0.4175419509410858, 1.0283385515213013, -0.14882992208003998, -0.0604836530983448, 0.8984652757644653, -0.30715593695640564, -0.24603404104709625, 0.6059951782226562, 0.12525653839111328, -0.25087079405784607, -0.2703341245651245, 0.4415075480937958, 0.10940219461917877, 0.35129013657569885, 1.958992600440979, -0.05498883128166199, 1.0543159246444702, 0.3502737581729889, 0.28427067399024963, 1.3478319644927979, 0.5309044122695923, 0.3546673059463501, 0.7122783064842224, 0.7193942666053772, 0.24896511435508728, 0.02862812578678131, -0.7464190125465393, -0.8765880465507507, 0.5001797676086426, 1.0091922283172607, 0.17343670129776, -0.6996687650680542, 0.31967028975486755, -1.2025480270385742, 0.8168097138404846, 0.4394647181034088, 0.4799564480781555], [0.0002, 0.0002, 0.0002, 0.0002, 0.0002, 0.0002, 0.0002, 0.0002, 0.0002, 0.0002, 0.0002, 0.0002, 0.0002, 0.0002, 0.0002, 0.0002, 0.0002, 0.0002, 0.0002, 0.0002, 0.0002, 0.0002, 0.0002, 0.0002, 0.0002, 0.0002, 0.0002, 0.0002, 0.0002, 0.0002, 0.0002, 0.0002, 0.0002, 0.0002, 0.0002, 0.0002, 0.0002, 0.0002, 0.0002, 0.0002, 0.0002, 0.0002, 0.0002, 0.0002, 0.0002, 0.0002, 0.0002, 0.0002, 0.0002, 0.0002, 0.0002, 0.0002, 0.0002, 0.0002, 0.0002, 0.0002, 0.0002, 0.0002, 0.0002, 0.0002, 0.0002, 0.0002, 0.0002, 0.0002, 0.0002, 0.0002, 0.0002, 0.0002, 0.0002, 0.0002, 0.0002, 0.0002, 0.0002, 0.0002, 0.0002, 0.0002, 0.0002, 0.0002, 0.0002, 0.0002, 0.0002, 0.0002, 0.0002, 0.0002, 0.0002, 0.0002, 0.0002, 0.0002, 0.0002, 0.0002, 0.0002, 0.0002, 0.0002, 0.0002, 0.0002, 0.0002, 0.0002, 0.0002, 0.0002, 0.0002]]\n"
     ]
    }
   ],
   "source": [
    "# Run All Workflow\n",
    "resp = requests.post('http://' + url + '/api/v1/type/service/state/predict/type/w2v/nnid/' + nn_id + '/ver/active/',\n",
    "                     json={\n",
    "                         \"type\": \"vector\",\n",
    "                         \"val_1\":[\"포털\", \"한복\"],\n",
    "                         \"val_2\":[]\n",
    "                        }\n",
    "                     )\n",
    "data = json.loads(resp.json())\n",
    "print(\"evaluation result : {0}\".format(data))"
   ]
  },
  {
   "cell_type": "code",
   "execution_count": null,
   "metadata": {
    "collapsed": true
   },
   "outputs": [],
   "source": []
  }
 ],
 "metadata": {
  "anaconda-cloud": {},
  "kernelspec": {
   "display_name": "Python [conda root]",
   "language": "python",
   "name": "conda-root-py"
  },
  "language_info": {
   "codemirror_mode": {
    "name": "ipython",
    "version": 3
   },
   "file_extension": ".py",
   "mimetype": "text/x-python",
   "name": "python",
   "nbconvert_exporter": "python",
   "pygments_lexer": "ipython3",
   "version": "3.5.2"
  }
 },
 "nbformat": 4,
 "nbformat_minor": 1
}

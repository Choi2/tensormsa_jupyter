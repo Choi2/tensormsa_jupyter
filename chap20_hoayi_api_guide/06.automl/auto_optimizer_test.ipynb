{
 "cells": [
  {
   "cell_type": "markdown",
   "metadata": {},
   "source": [
    "# 네트워크 정의"
   ]
  },
  {
   "cell_type": "code",
   "execution_count": 1,
   "metadata": {
    "collapsed": false
   },
   "outputs": [
    {
     "name": "stdout",
     "output_type": "stream",
     "text": [
      "done\n"
     ]
    }
   ],
   "source": [
    "import requests\n",
    "import json, os\n",
    "\n",
    "nn_id = 'auto_wcnn029'  # put some key value you want to test\n",
    "\n",
    "url = \"{0}:{1}\".format(os.environ['HOSTNAME'] , \"8989\")\n",
    "print(\"done\")"
   ]
  },
  {
   "cell_type": "markdown",
   "metadata": {},
   "source": [
    "# 비지니스 정의"
   ]
  },
  {
   "cell_type": "code",
   "execution_count": 2,
   "metadata": {
    "collapsed": false
   },
   "outputs": [
    {
     "name": "stdout",
     "output_type": "stream",
     "text": [
      "evaluation result : auto_wcnn029 Network ID already exists\n"
     ]
    }
   ],
   "source": [
    "####(1) 네트워크 생성 ####\n",
    "resp = requests.post('http://' + url + '/api/v1/type/common/target/nninfo/nnid/' + nn_id + '/',\n",
    "                     json={\n",
    "                         \"biz_cate\": \"MES\",\n",
    "                         \"biz_sub_cate\": \"M60\",\n",
    "                         \"nn_title\" : \"test\",\n",
    "                         \"nn_desc\": \"test desc\",\n",
    "                         \"use_flag\" : \"Y\",\n",
    "                         \"dir\": \"resnet\",\n",
    "                         \"automl_parms\" : {},\n",
    "                         \"config\": \"N\"\n",
    "                     })\n",
    "data = json.loads(resp.json())\n",
    "print(\"evaluation result : {0}\".format(data))"
   ]
  },
  {
   "cell_type": "markdown",
   "metadata": {},
   "source": [
    "# 선택 가능한 Graph Flow List"
   ]
  },
  {
   "cell_type": "code",
   "execution_count": 3,
   "metadata": {
    "collapsed": false
   },
   "outputs": [
    {
     "name": "stdout",
     "output_type": "stream",
     "text": [
      "evaluation result : {'result': 'column master_auto_ml_rule.train_file_path does not exist\\nLINE 1: ...ted_by\", \"master_auto_ml_rule\".\"last_updated_by\", \"master_au...\\n                                                             ^\\n', 'status': '404'}\n"
     ]
    }
   ],
   "source": [
    "resp = requests.get('http://' + url + '/api/v1/type/automl/state/rule/graph_id/1/')\n",
    "data = json.loads(resp.json())\n",
    "print(\"evaluation result : {0}\".format(data))"
   ]
  },
  {
   "cell_type": "markdown",
   "metadata": {},
   "source": [
    "# 선택한 Graph Flow Format"
   ]
  },
  {
   "cell_type": "code",
   "execution_count": 4,
   "metadata": {
    "collapsed": false
   },
   "outputs": [
    {
     "name": "stdout",
     "output_type": "stream",
     "text": [
      "evaluation result : {'result': 'column master_auto_ml_rule.train_file_path does not exist\\nLINE 1: ...ted_by\", \"master_auto_ml_rule\".\"last_updated_by\", \"master_au...\\n                                                             ^\\n', 'status': '404'}\n"
     ]
    }
   ],
   "source": [
    "resp = requests.get('http://' + url + '/api/v1/type/automl/state/rule/graph_id/resnet/')\n",
    "data = json.loads(resp.json())\n",
    "print(\"evaluation result : {0}\".format(data))"
   ]
  },
  {
   "cell_type": "markdown",
   "metadata": {},
   "source": [
    "# (1) Set AutoML parm for ResidualNet "
   ]
  },
  {
   "cell_type": "code",
   "execution_count": 5,
   "metadata": {
    "collapsed": false
   },
   "outputs": [
    {
     "name": "stdout",
     "output_type": "stream",
     "text": [
      "evaluation result : {'netconf_node': {'labels': {'option': ['cat', 'dog'], 'type': 'list', 'auto': False}, 'config': {'num_classes': {'option': 2, 'type': 'int', 'auto': False}, 'optimizer': {'option': 'adam', 'type': 'sel', 'auto': False}, 'layeroutputs': {'option': 18, 'type': 'int', 'auto': [1, 152, 10]}, 'eval_type': {'option': 'category', 'type': 'str', 'auto': False}, 'learnrate': {'option': None, 'type': 'int', 'auto': [0.0001, 0.1, 0.001]}}, 'param': {'predictlog': {'option': 'N', 'type': 'sel', 'auto': False}, 'epoch': {'option': None, 'type': 'int', 'auto': [1, 3, 1]}, 'batch_size': {'option': None, 'type': 'int', 'auto': [1, 2, 1]}, 'traincnt': {'option': None, 'type': 'int', 'auto': [1, 4, 2]}, 'augmentation': {'option': 'Y', 'type': 'sel', 'auto': False}, 'predictcnt': {'option': 5, 'type': 'int', 'auto': False}}}, 'datasrc': {'preprocess': {'filesize': {'option': 1000000, 'type': 'int', 'auto': False}, 'yolo': {'option': 'N', 'type': 'sel', 'auto': False}, 'channel': {'option': 3, 'type': 'int', 'auto': False}, 'y_size': {'option': 32, 'type': 'int', 'auto': False}, 'x_size': {'option': 32, 'type': 'int', 'auto': False}}, 'type': {'option': 'imgdata', 'type': 'sel', 'auto': False}}, 'evaldata': {'preprocess': {'filesize': {'option': 1000000, 'type': 'int', 'auto': False}, 'yolo': {'option': 'N', 'type': 'sel', 'auto': False}, 'channel': {'option': 3, 'type': 'int', 'auto': False}, 'y_size': {'option': 32, 'type': 'int', 'auto': False}, 'x_size': {'option': 32, 'type': 'int', 'auto': False}}, 'type': {'option': 'imgdata', 'type': 'sel', 'auto': False}}}\n"
     ]
    }
   ],
   "source": [
    "resp = requests.put('http://' + url + '/api/v1/type/automl/state/conf/nnid/' + nn_id + '/',\n",
    "                     json={\"datasrc\": {\"type\": {\"auto\": False, \"type\": \"sel\", \"option\": \"imgdata\"}, \n",
    "                                       \"preprocess\": {\"yolo\": {\"auto\": False, \"type\": \"sel\", \"option\": \"N\"}, \n",
    "                                                      \"x_size\": {\"auto\": False, \"type\": \"int\", \"option\": 32}, \n",
    "                                                      \"y_size\": {\"auto\": False, \"type\": \"int\", \"option\": 32}, \n",
    "                                                      \"channel\": {\"auto\": False, \"type\": \"int\", \"option\": 3}, \n",
    "                                                      \"filesize\": {\"auto\": False, \"type\": \"int\", \"option\": 1000000}}}, \n",
    "                           \"evaldata\": {\"type\": {\"auto\": False, \"type\": \"sel\", \"option\": \"imgdata\"}, \n",
    "                                        \"preprocess\": {\"yolo\": {\"auto\": False, \"type\": \"sel\", \"option\": \"N\"}, \n",
    "                                                       \"x_size\": {\"auto\": False, \"type\": \"int\", \"option\": 32}, \n",
    "                                                       \"y_size\": {\"auto\": False, \"type\": \"int\", \"option\": 32}, \n",
    "                                                       \"channel\": {\"auto\": False, \"type\": \"int\", \"option\": 3}, \n",
    "                                                       \"filesize\": {\"auto\": False, \"type\": \"int\", \"option\": 1000000}}}, \n",
    "                           \"netconf_node\": {\"param\": {\"epoch\": {\"auto\": [1, 3, 1], \"type\": \"int\", \"option\": None}, \n",
    "                                                      \"traincnt\": {\"auto\": [1, 4, 2], \"type\": \"int\", \"option\": None}, \n",
    "                                                      \"batch_size\": {\"auto\": [1, 2, 1], \"type\": \"int\", \"option\": None}, \n",
    "                                                      \"predictcnt\": {\"auto\": False, \"type\": \"int\", \"option\": 5}, \n",
    "                                                      \"predictlog\": {\"auto\": False, \"type\": \"sel\", \"option\": \"N\"}, \n",
    "                                                      \"augmentation\": {\"auto\": False, \"type\": \"sel\", \"option\": \"Y\"}}, \n",
    "                                            \"config\": {\"learnrate\": {\"auto\": [0.0001, 0.1, 0.001], \"type\": \"int\", \"option\": None}, \n",
    "                                                       \"optimizer\": {\"auto\": False, \"type\": \"sel\", \"option\": \"adam\"}, \n",
    "                                                       \"num_classes\": {\"auto\": False, \"type\": \"int\", \"option\": 2}, \n",
    "                                                       \"layeroutputs\": {\"auto\": [1, 152, 10], \"type\": \"int\", \"option\": 18},\n",
    "                                                       \"eval_type\": {\"auto\": False, \"type\": \"str\", \"option\": 'category'}}, \n",
    "                                            \"labels\": {\"auto\": False, \"type\": \"list\", \"option\": ['cat','dog']}}})\n",
    "data = json.loads(resp.json())\n",
    "print(\"evaluation result : {0}\".format(data))"
   ]
  },
  {
   "cell_type": "markdown",
   "metadata": {},
   "source": [
    "# (2) Set AutoML parm for CharCNN"
   ]
  },
  {
   "cell_type": "code",
   "execution_count": null,
   "metadata": {
    "collapsed": true
   },
   "outputs": [],
   "source": []
  },
  {
   "cell_type": "markdown",
   "metadata": {},
   "source": [
    "# (3) Set AutoML parm for WDNN"
   ]
  },
  {
   "cell_type": "code",
   "execution_count": null,
   "metadata": {
    "collapsed": true
   },
   "outputs": [],
   "source": []
  },
  {
   "cell_type": "markdown",
   "metadata": {},
   "source": [
    "# (4) Set AutoML parm for Seq2Seq"
   ]
  },
  {
   "cell_type": "code",
   "execution_count": null,
   "metadata": {
    "collapsed": true
   },
   "outputs": [],
   "source": []
  },
  {
   "cell_type": "markdown",
   "metadata": {},
   "source": [
    "# (5) Set AutoML parm for Word2Vec"
   ]
  },
  {
   "cell_type": "code",
   "execution_count": null,
   "metadata": {
    "collapsed": true
   },
   "outputs": [],
   "source": []
  },
  {
   "cell_type": "markdown",
   "metadata": {},
   "source": [
    "# (6) Set AutoML parm for Doc2Vec"
   ]
  },
  {
   "cell_type": "code",
   "execution_count": null,
   "metadata": {
    "collapsed": true
   },
   "outputs": [],
   "source": []
  },
  {
   "cell_type": "markdown",
   "metadata": {},
   "source": [
    "# (7) Set AutoML parm for BilstmCrf"
   ]
  },
  {
   "cell_type": "code",
   "execution_count": null,
   "metadata": {
    "collapsed": true
   },
   "outputs": [],
   "source": []
  },
  {
   "cell_type": "markdown",
   "metadata": {},
   "source": [
    "# (8) Set AutoML parm for StackedAutoEncoder"
   ]
  },
  {
   "cell_type": "code",
   "execution_count": null,
   "metadata": {
    "collapsed": true
   },
   "outputs": [],
   "source": []
  },
  {
   "cell_type": "markdown",
   "metadata": {},
   "source": [
    "# Set AutoML runtime parameter"
   ]
  },
  {
   "cell_type": "code",
   "execution_count": 6,
   "metadata": {
    "collapsed": false
   },
   "outputs": [
    {
     "name": "stdout",
     "output_type": "stream",
     "text": [
      "evaluation result : {'population': 3, 'survive': 2, 'generation': 3}\n"
     ]
    }
   ],
   "source": [
    "resp = requests.post('http://' + url + '/api/v1/type/automl/state/parm/nnid/' + nn_id + '/',\n",
    "                     json={\n",
    "                         \"generation\": 3,\n",
    "                         \"population\": 3,\n",
    "                         \"survive\" : 2\n",
    "                     })\n",
    "data = json.loads(resp.json())\n",
    "print(\"evaluation result : {0}\".format(data))"
   ]
  },
  {
   "cell_type": "markdown",
   "metadata": {},
   "source": [
    "# Run AutoML"
   ]
  },
  {
   "cell_type": "code",
   "execution_count": 7,
   "metadata": {
    "collapsed": false
   },
   "outputs": [
    {
     "name": "stdout",
     "output_type": "stream",
     "text": [
      "evaluation result : None\n"
     ]
    }
   ],
   "source": [
    "resp = requests.post('http://' + url + '/api/v1/type/automl/state/train/nnid/' + nn_id + '/')\n",
    "data = json.loads(resp.json())\n",
    "print(\"evaluation result : {0}\".format(data))"
   ]
  },
  {
   "cell_type": "code",
   "execution_count": null,
   "metadata": {
    "collapsed": true
   },
   "outputs": [],
   "source": []
  },
  {
   "cell_type": "code",
   "execution_count": null,
   "metadata": {
    "collapsed": true
   },
   "outputs": [],
   "source": []
  },
  {
   "cell_type": "code",
   "execution_count": null,
   "metadata": {
    "collapsed": true
   },
   "outputs": [],
   "source": []
  }
 ],
 "metadata": {
  "anaconda-cloud": {},
  "kernelspec": {
   "display_name": "Python [conda root]",
   "language": "python",
   "name": "conda-root-py"
  },
  "language_info": {
   "codemirror_mode": {
    "name": "ipython",
    "version": 3
   },
   "file_extension": ".py",
   "mimetype": "text/x-python",
   "name": "python",
   "nbconvert_exporter": "python",
   "pygments_lexer": "ipython3",
   "version": "3.5.2"
  }
 },
 "nbformat": 4,
 "nbformat_minor": 1
}

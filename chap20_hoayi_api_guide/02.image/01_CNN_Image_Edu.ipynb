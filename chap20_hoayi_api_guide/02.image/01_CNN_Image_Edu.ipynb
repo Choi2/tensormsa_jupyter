{
 "cells": [
  {
   "cell_type": "markdown",
   "metadata": {},
   "source": [
    "# CNN Network : Create\n",
    "(CNN Network를 생성해 준다. ID가 같은 CNN Network가 있으면 재 생성 하지 않는다.)<br>\n",
    "\n",
    "nn_id : Neural Network ID<br>\n",
    "biz_cate : Business 대분류<br>\n",
    "biz_sub_cate : Business 소분류<br>\n",
    "nn_title : Neural Network Title<br>\n",
    "nn_desc : Neural Network Description<br>\n",
    "nn_wf_ver_info : Neural Network Workflow Info<br>\n",
    "use_flag : 사용여부<br>\n",
    "dir : 문제유형<br>\n",
    "config : Custom 여부<br>\n",
    "network_type : network<br>\n",
    "node_sub_menu : Trainning & Eval Data menu<br>"
   ]
  },
  {
   "cell_type": "code",
   "execution_count": 1,
   "metadata": {
    "collapsed": false
   },
   "outputs": [
    {
     "name": "stdout",
     "output_type": "stream",
     "text": [
      "insert nn_info evaluation result : nn00004\n"
     ]
    }
   ],
   "source": [
    "import requests\n",
    "import json, os\n",
    "\n",
    "url = \"{0}:{1}\".format(os.environ['HOSTNAME'] , \"8000\")\n",
    "\n",
    "nn_id = \"nn00004\"\n",
    "biz_cate = \"ERP\"\n",
    "biz_sub_cate = \"MRO\"\n",
    "nn_title = \"MRO Image Classification\"\n",
    "nn_desc = \"MRO Image Classification\"\n",
    "nn_wf_ver_info = \"MRO Image Classification\"\n",
    "use_flag = \"Y\"\n",
    "dirstr = \"purpose?\"\n",
    "config = \"N\"\n",
    "network_type = \"cnn\"\n",
    "node_sub_menu = \"data_image\"\n",
    "\n",
    "def spaceprint(val, cnt):\n",
    "    leng = len(str(val))\n",
    "    cnt = cnt - leng\n",
    "    restr = \"\"\n",
    "    for i in range(cnt):\n",
    "        restr += \" \"\n",
    "    restr = restr+str(val)\n",
    "    return restr\n",
    "\n",
    "#insert nn_info\n",
    "resp = requests.post('http://' + url + '/api/v1/type/common/target/nninfo/nnid/'+nn_id+ '/',\n",
    "                     json={\n",
    "                         \"nn_id\": nn_id,\n",
    "                         \"biz_cate\": biz_cate,\n",
    "                         \"biz_sub_cate\": biz_sub_cate,\n",
    "                         \"nn_title\" : nn_title,\n",
    "                         \"nn_desc\": nn_desc,\n",
    "                         \"use_flag\" : use_flag,\n",
    "                         \"dir\": dirstr,\n",
    "                         \"config\": config\n",
    "                     })\n",
    "data = json.loads(resp.json())\n",
    "print(\"insert nn_info evaluation result : {0}\".format(data))"
   ]
  },
  {
   "cell_type": "markdown",
   "metadata": {
    "collapsed": true
   },
   "source": [
    "# CNN Network WorkFlow : Create\n",
    "(CNN Network WorkFlow를 생성해 준다. 실행할 때마다 신규 버전을 새로 생성 한다.)<br>\n",
    "\n",
    "nn_def_list_info_nn_id : 값을 넘기지 않아도 됨.<br>\n",
    "nn_wf_ver_info : Work Flow Version Description<br>\n",
    "condition :<br>\n",
    "active_flag : 사용여부<br>\n"
   ]
  },
  {
   "cell_type": "code",
   "execution_count": 12,
   "metadata": {
    "collapsed": false
   },
   "outputs": [
    {
     "name": "stdout",
     "output_type": "stream",
     "text": [
      "insert nn_info Work Flow Create\n"
     ]
    }
   ],
   "source": [
    "resp = requests.post('http://' + url + '/api/v1/type/common/target/nninfo/nnid/'+nn_id+'/version/',\n",
    "                     json={\n",
    "                         \"nn_def_list_info_nn_id\": \"\",\n",
    "                         \"nn_wf_ver_info\": nn_wf_ver_info,\n",
    "                         \"condition\": \"1\",\n",
    "                         \"active_flag\": \"N\"\n",
    "                     })\n",
    "data = json.loads(resp.json())\n",
    "print(\"insert nn_info Work Flow Create\")"
   ]
  },
  {
   "cell_type": "markdown",
   "metadata": {
    "collapsed": true
   },
   "source": [
    "# CNN Network WorkFlow : Get Active Version \n",
    "(여러개의 CNN Network WorkFlow중 Active한 Version을 가져온다.)<br>"
   ]
  },
  {
   "cell_type": "code",
   "execution_count": 2,
   "metadata": {
    "collapsed": false
   },
   "outputs": [
    {
     "name": "stdout",
     "output_type": "stream",
     "text": [
      "Version=1 active=N\n",
      "Version=2 active=N\n",
      "Version=3 active=N\n",
      "Version=4 active=N\n",
      "Version=5 active=N\n",
      "Version=6 active=N\n",
      "Version=7 active=N\n",
      "Version=8 active=N\n",
      "Version=9 active=N\n",
      "Version=10 active=N\n",
      "Version=11 active=N\n",
      "Version=12 active=N\n",
      "Version=13 active=N\n",
      "Version=14 active=N\n",
      "Version=15 active=Y\n",
      "Active Version Workflow ID=15\n"
     ]
    }
   ],
   "source": [
    "# get workflow version info\n",
    "resp = requests.get('http://' + url + '/api/v1/type/common/target/nninfo/nnid/'+nn_id+'/version/')\n",
    "data = json.loads(resp.json())\n",
    "\n",
    "# get Active workflow version\n",
    "wf_ver_id = 0\n",
    "data = sorted(data, key=lambda k: k['pk'])\n",
    "for config in data:\n",
    "    print(\"Version=\"+str(config[\"pk\"])+\" active=\"+str(config[\"fields\"][\"active_flag\"]))\n",
    "    if config[\"fields\"][\"active_flag\"] == \"Y\":\n",
    "        wf_ver_id = config[\"pk\"]\n",
    "\n",
    "wf_ver_id = str(wf_ver_id)\n",
    "print(\"Active Version Workflow ID=\"+wf_ver_id)\n",
    "\n",
    "# get Max workflow version\n",
    "wf_ver_id = 0\n",
    "for i in data:\n",
    "    if i[\"pk\"] > wf_ver_id:\n",
    "        wf_ver_id = i[\"pk\"]\n",
    "\n",
    "wf_ver_id = str(wf_ver_id)"
   ]
  },
  {
   "cell_type": "markdown",
   "metadata": {
    "collapsed": true
   },
   "source": [
    "# CNN Network WorkFlow : Set Active Version\n",
    "(여러개의 CNN Network WorkFlow중 특정 Version을 Active 시킨다. Active한 Version은 한 개만 존재 할 수 있다.)<br>\n",
    "\n",
    "wf_ver_id : active version"
   ]
  },
  {
   "cell_type": "code",
   "execution_count": 3,
   "metadata": {
    "collapsed": false
   },
   "outputs": [
    {
     "name": "stdout",
     "output_type": "stream",
     "text": [
      "Update active workflow version info evaluation result : 10\n"
     ]
    }
   ],
   "source": [
    "# update workflow version info\n",
    "resp = requests.put('http://' + url + '/api/v1/type/common/target/nninfo/nnid/'+nn_id+'/version/',\n",
    "                     json={\n",
    "                         \"nn_wf_ver_id\": wf_ver_id,\n",
    "                         \"nn_def_list_info_nn_id\": \"\",\n",
    "                         \"nn_wf_ver_info\": nn_wf_ver_info,\n",
    "                         \"condition\": \"1\",\n",
    "                         \"active_flag\": \"Y\"\n",
    "                     })\n",
    "data = json.loads(resp.json())\n",
    "print(\"Update active workflow version info evaluation result : {0}\".format(data))"
   ]
  },
  {
   "cell_type": "markdown",
   "metadata": {
    "collapsed": true
   },
   "source": [
    "# CNN Network WorkFlow Node : Create\n",
    "(CNN Network WorkFlow Node를 생성해 준다. 기존 Node가 있으면 재 생성 하지 않는다.)<br>"
   ]
  },
  {
   "cell_type": "code",
   "execution_count": 16,
   "metadata": {
    "collapsed": false
   },
   "outputs": [
    {
     "name": "stdout",
     "output_type": "stream",
     "text": [
      "insert workflow version node info evaluation result : cnn\n"
     ]
    }
   ],
   "source": [
    "# insert workflow version node info\n",
    "resp = requests.post('http://' + url + '/api/v1/type/wf/target/init/mode/simple/'+nn_id+'/wfver/'+wf_ver_id+'/',\n",
    "                     json={\n",
    "                         \"type\": network_type\n",
    "                     })\n",
    "data = json.loads(resp.json())\n",
    "print(\"insert workflow version node info evaluation result : {0}\".format(data))"
   ]
  },
  {
   "cell_type": "markdown",
   "metadata": {
    "collapsed": true
   },
   "source": [
    "# CNN Network WorkFlow Node : Network Config Setup\n",
    "(CNN Network WorkFlow Node의 Network Config를 Setup 해준다.)<br>\n",
    "learnrate : Tensorflow의 Optimizer 학습 속도\n",
    "traincnt : 학습 카운트\n",
    "batch_size : 이미지 개수\n",
    "num_classes : 학습 Category 개수\n",
    "predictcnt : 예측 후 리턴 받는 Category 개수\n",
    "layeroutputs : 각 layer output size"
   ]
  },
  {
   "cell_type": "code",
   "execution_count": 3,
   "metadata": {
    "collapsed": false
   },
   "outputs": [
    {
     "name": "stdout",
     "output_type": "stream",
     "text": [
      "insert workflow node conf info evaluation result : {'param': {'epoch': 2, 'traincnt': 1, 'predictcnt': 10, 'batch_size': 10000}, 'config': {'layeroutputs': 32, 'num_classes': 10, 'learnrate': 0.001, 'type': 'category'}, 'layer1': {'type': 'cnn', 'padding': 'SAME', 'maxpoolmatrix': [2, 2], 'droprate': '0.8', 'cnnfilter': [3, 3], 'layercnt': 2, 'active': 'relu', 'maxpoolstride': [2, 2], 'cnnstride': [1, 1]}, 'labels': ['car', 'airplane', 'bolt', 'motor', 'glove'], 'layer2': {'type': 'cnn', 'padding': 'SAME', 'maxpoolmatrix': [2, 2], 'droprate': '0.8', 'cnnfilter': [3, 3], 'layercnt': 1, 'active': 'relu', 'maxpoolstride': [2, 2], 'cnnstride': [1, 1]}, 'out': {'padding': 'SAME', 'node_out': 625, 'active': 'softmax'}}\n"
     ]
    }
   ],
   "source": [
    "node = \"netconf_node\"\n",
    "resp = requests.put('http://' + url + '/api/v1/type/wf/state/netconf/detail/cnn/nnid/'+nn_id+'/ver/'+wf_ver_id+'/node/'+node+'/',\n",
    "                     json={\n",
    "                         \"param\":{\"epoch\":2\n",
    "                                  ,\"traincnt\": 1,\n",
    "                                     \"batch_size\":10000,\n",
    "                                     \"predictcnt\": 10\n",
    "                         },\n",
    "                         \"config\": {\"num_classes\":10,\n",
    "                                    \"learnrate\": 0.001,\n",
    "                                     \"layeroutputs\":32,\n",
    "                                     \"type\":\"category\"\n",
    "                                     }\n",
    "                         ,\"layer1\": {\"type\": \"cnn\",\n",
    "                                     \"active\": \"relu\",\n",
    "                                     \"cnnfilter\": [3, 3],\n",
    "                                     \"cnnstride\": [1, 1],\n",
    "                                     \"maxpoolmatrix\": [2, 2],\n",
    "                                     \"maxpoolstride\": [2, 2],\n",
    "                                     \"padding\": \"SAME\",\n",
    "                                     \"droprate\": \"0.8\",\n",
    "                                     \"layercnt\":2\n",
    "                                    }\n",
    "                         ,\"layer2\": {\"type\": \"cnn\",\n",
    "                                     \"active\": \"relu\",\n",
    "                                     \"cnnfilter\": [3, 3],\n",
    "                                     \"cnnstride\": [1, 1],\n",
    "                                     \"maxpoolmatrix\": [2, 2],\n",
    "                                     \"maxpoolstride\": [2, 2],\n",
    "                                     \"padding\": \"SAME\",\n",
    "                                     \"droprate\": \"0.8\",\n",
    "                                     \"layercnt\":1\n",
    "                                    }\n",
    "                          ,\"out\": {\"active\": \"softmax\",\n",
    "                                   \"node_out\": 625,\n",
    "                                   \"padding\": \"SAME\"\n",
    "                                }\n",
    "                           ,\"labels\":[]\n",
    "                        })\n",
    "netconf = json.loads(resp.json())\n",
    "print(\"insert workflow node conf info evaluation result : {0}\".format(netconf))"
   ]
  },
  {
   "cell_type": "markdown",
   "metadata": {
    "collapsed": true
   },
   "source": [
    "# CNN Network WorkFlow Node :  Data Config Setup\n",
    "(CNN Network WorkFlow Node의 Data Config를 Setup 해준다.)<br>\n",
    "x_size : 이미지 가로 크기<br>\n",
    "y_size : 이미지 세로 크기<br>\n",
    "channel : 3 컬러 1 흑백<br>\n",
    "labels : 입력 하지 않는다.<br>"
   ]
  },
  {
   "cell_type": "code",
   "execution_count": 5,
   "metadata": {
    "collapsed": false
   },
   "outputs": [
    {
     "name": "stdout",
     "output_type": "stream",
     "text": [
      "insert workflow node conf info evaluation result : {'source_path': '/hoya_src_root/nn00004/10/datasrc', 'store_path': '/hoya_str_root/nn00004/10/datasrc', 'preprocess': {'x_size': 32, 'y_size': 32, 'channel': 3}, 'labels': ['dog', 'cat', 'ca    t', 'motor', 'car', 'glove', 'airplane', 'bolt']}\n"
     ]
    }
   ],
   "source": [
    "node = \"datasrc\"\n",
    "resp = requests.put('http://' + url + '/api/v1/type/wf/state/imgdata/src/local/form/file/prg/source/nnid/'+nn_id+'/ver/'+wf_ver_id+'/node/'+node+'/',\n",
    "                     json={\n",
    "                            \"preprocess\": {\"x_size\": 32,\n",
    "                                        \"y_size\": 32,\n",
    "                                        \"channel\":3}\n",
    "                         \n",
    "\n",
    "                     })\n",
    "dataconf = json.loads(resp.json())\n",
    "print(\"insert workflow node conf info evaluation result : {0}\".format(dataconf))"
   ]
  },
  {
   "cell_type": "markdown",
   "metadata": {},
   "source": [
    "# CNN Network WorkFlow Node :  Eval Config Setup"
   ]
  },
  {
   "cell_type": "code",
   "execution_count": 6,
   "metadata": {
    "collapsed": false
   },
   "outputs": [
    {
     "name": "stdout",
     "output_type": "stream",
     "text": [
      "insert workflow node conf info evaluation result : {'modelname': 'model_nn00004_10', 'modelpath': '/hoya_model_root/nn00004/10/eval_node'}\n"
     ]
    }
   ],
   "source": [
    "node = \"eval_node\"\n",
    "resp = requests.put('http://' + url + '/api/v1/type/wf/state/netconf/detail/cnn/nnid/'+nn_id+'/ver/'+wf_ver_id+'/node/'+node+'/',json={})\n",
    "evalconf = json.loads(resp.json())\n",
    "print(\"insert workflow node conf info evaluation result : {0}\".format(evalconf))"
   ]
  },
  {
   "cell_type": "markdown",
   "metadata": {},
   "source": [
    "# CNN Network WorkFlow Node :  Eval Data Config Setup\n",
    "(CNN Network WorkFlow Node의 Data Config를 Setup 해준다.)<br>\n",
    "x_size : 이미지 가로 크기<br>\n",
    "y_size : 이미지 세로 크기<br>\n",
    "channel : 3 컬러 1 흑백<br>\n",
    "labels : 입력 하지 않는다.<br>"
   ]
  },
  {
   "cell_type": "code",
   "execution_count": 7,
   "metadata": {
    "collapsed": false
   },
   "outputs": [
    {
     "name": "stdout",
     "output_type": "stream",
     "text": [
      "insert workflow node conf info evaluation result : {'source_path': '/hoya_src_root/nn00004/10/evaldata', 'store_path': '/hoya_str_root/nn00004/10/evaldata', 'preprocess': {'x_size': 32, 'y_size': 32, 'channel': 3}, 'labels': ['motor', 'car', 'glove', 'airplane', 'bolt']}\n"
     ]
    }
   ],
   "source": [
    "node = 'evaldata'\n",
    "resp = requests.put('http://' + url + '/api/v1/type/wf/state/imgdata/src/local/form/file/prg/source/nnid/'+nn_id+'/ver/'+wf_ver_id+'/node/'+node+'/',\n",
    "                     json={\n",
    "                            \"preprocess\": {\"x_size\": 32,\n",
    "                                        \"y_size\": 32,\n",
    "                                        \"channel\":3}\n",
    "                     })\n",
    "edataconf = json.loads(resp.json())\n",
    "print(\"insert workflow node conf info evaluation result : {0}\".format(edataconf))"
   ]
  },
  {
   "cell_type": "markdown",
   "metadata": {
    "collapsed": true
   },
   "source": [
    " "
   ]
  },
  {
   "cell_type": "markdown",
   "metadata": {
    "collapsed": true
   },
   "source": [
    " "
   ]
  },
  {
   "cell_type": "markdown",
   "metadata": {},
   "source": [
    "# Trainning & Eval Data Transfer\n",
    "(CNN Network Train을 할 수 있게 Data를 특정 장소에 전송해 준다.)<br>"
   ]
  },
  {
   "cell_type": "code",
   "execution_count": 35,
   "metadata": {
    "collapsed": false
   },
   "outputs": [
    {
     "name": "stdout",
     "output_type": "stream",
     "text": [
      "get file node list\n",
      "{'nn_wf_node_name': 'datasrc', 'nn_wf_node_id': 'nn00004_41_datasrc', 'nn_wf_node_desc': 'Train Data Node'}\n",
      "{'nn_wf_node_name': 'evaldata', 'nn_wf_node_id': 'nn00004_41_evaldata', 'nn_wf_node_desc': 'Evaluation Data Node'}\n",
      "\n",
      "create file node list\n",
      "{'File1': {'File': 'File Create.(/hoya_src_root/nn00004/41/datasrc/sample_cnn_img.zip2)'}, 'File0': {'File': 'File Create.(/hoya_src_root/nn00004/41/datasrc/sample_cnn_img.zip2)'}}\n",
      "{'File1': {'File': 'File Create.(/hoya_src_root/nn00004/41/evaldata/sample_cnn_img.zip2)'}, 'File0': {'File': 'File Create.(/hoya_src_root/nn00004/41/evaldata/sample_cnn_img.zip2)'}}\n"
     ]
    }
   ],
   "source": [
    "# get workflow node list info (train, eval)\n",
    "resp = requests.get('http://' + url + '/api/v1/type/wf/state/data/detail/upload/file/nnid/'+nn_id+'/ver/'+wf_ver_id+'/dir/'+node_sub_menu+'/')\n",
    "datalist = json.loads(resp.json())\n",
    "\n",
    "print(\"get file node list\")\n",
    "for node in datalist:\n",
    "    print(datalist[node])\n",
    "print(\"\")\n",
    "\n",
    "# Train Folder에 Data를 위치 시킬지 Eval Folder에 Data를 위치 시킬지 결정후 전송해야 한다.\n",
    "print(\"create file node list\")\n",
    "for node in datalist:\n",
    "    typepath = datalist[node][\"nn_wf_node_name\"]\n",
    "\n",
    "    files = {'file1': open('/home/dev/hoyai/demo/data/cat_vs_dog.zip','rb'),\n",
    "             'file2': open('/home/dev/hoyai/demo/data/sample_cnn_img.zip','rb')}\n",
    "\n",
    "    resp = requests.post('http://' + url + '/api/v1/type/wf/state/data/detail/upload/file/nnid/'+nn_id+'/ver/'+wf_ver_id+'/dir/'+typepath+'/',\n",
    "                         files=files)\n",
    "    data = json.loads(resp.json())\n",
    "    print(data)"
   ]
  },
  {
   "cell_type": "markdown",
   "metadata": {},
   "source": [
    "# CNN Network Training\n",
    "(CNN Network Training을 실행한다.)<br>"
   ]
  },
  {
   "cell_type": "code",
   "execution_count": 8,
   "metadata": {
    "collapsed": false
   },
   "outputs": [
    {
     "name": "stdout",
     "output_type": "stream",
     "text": [
      "['Trainning .................................................']\n",
      "['Global Step:     1315, Training Batch Accuracy:  100.0%']\n",
      "\n",
      "['Trainning .................................................']\n",
      "['Global Step:     1316, Training Batch Accuracy:  99.19%']\n",
      "\n",
      "         ['     dog', '     cat', ' ca    t', '   motor', '     car', '   glove', 'airplane', '    bolt']\n",
      "         ================================================================================================\n",
      "     dog ['       0', '       0', '       0', '       0', '       0', '       0', '       0', '       0']\n",
      "     cat ['       0', '       0', '       0', '       0', '       0', '       0', '       0', '       0']\n",
      " ca    t ['       0', '       0', '       0', '       0', '       0', '       0', '       0', '       0']\n",
      "   motor ['       0', '       0', '       0', '     144', '       0', '       0', '       1', '       5']\n",
      "     car ['       0', '       0', '       0', '       2', '     142', '       1', '       2', '       3']\n",
      "   glove ['       0', '       0', '       0', '       1', '       0', '     144', '       0', '       2']\n",
      "airplane ['       0', '       0', '       0', '       0', '       1', '       1', '     142', '       3']\n",
      "    bolt ['       0', '       0', '       0', '       3', '       0', '       0', '       0', '     144']\n"
     ]
    }
   ],
   "source": [
    "resp = requests.post('http://' + url + '/api/v1/type/runmanager/state/train/nnid/'+nn_id+'/ver/'+wf_ver_id+'/')\n",
    "data = json.loads(resp.json())\n",
    "\n",
    "for train in data:\n",
    "    if train != None and train != \"\" and train != {} and train != \"status\" and train != \"result\":\n",
    "        try:\n",
    "            for tr in train[\"TrainResult\"]:\n",
    "                print(tr)\n",
    "        except:\n",
    "            maxcnt = 0\n",
    "            line = \"\"\n",
    "            for label in train[\"labels\"]:\n",
    "                if maxcnt<len(label):\n",
    "                    maxcnt = len(label)\n",
    "\n",
    "            for i in range(len(train[\"labels\"])):\n",
    "                for j in range(maxcnt+4):\n",
    "                    line += \"=\"\n",
    "\n",
    "            label_sub = []\n",
    "            for label in train[\"labels\"]:\n",
    "                label = spaceprint(label,maxcnt)\n",
    "                label_sub.append(label)\n",
    "\n",
    "            space = \"\"\n",
    "            for s in range(maxcnt):\n",
    "                space +=\" \"\n",
    "\n",
    "            print(space, label_sub)\n",
    "            print(space, line)\n",
    "            for i in range(len(train[\"labels\"])):\n",
    "                predict_sub = []\n",
    "                for j in range(len(train[\"predicts\"][i])):\n",
    "                    pred = spaceprint(train[\"predicts\"][i][j],maxcnt)\n",
    "\n",
    "                    predict_sub.append(pred)\n",
    "\n",
    "                print(spaceprint(train[\"labels\"][i],maxcnt), predict_sub)"
   ]
  },
  {
   "cell_type": "markdown",
   "metadata": {},
   "source": [
    "# CNN Network Predict\n",
    "(CNN Network Predict를 실행한다.)<br>"
   ]
  },
  {
   "cell_type": "code",
   "execution_count": 9,
   "metadata": {
    "collapsed": false
   },
   "outputs": [
    {
     "name": "stdout",
     "output_type": "stream",
     "text": [
      "FileName = 1glove.jpg\n",
      "['glove', 'motor', 'car', 'bolt', 'cat', 'dog', 'airplane', 'ca    t']\n",
      "[19.07092, 5.76438, 5.46667, 0.29189, -4.39018, -4.43267, -6.54681, -9.49485]\n",
      "\n",
      "FileName = 1motor.jpg\n",
      "['motor', 'bolt', 'car', 'airplane', 'glove', 'cat', 'ca    t', 'dog']\n",
      "[10.16726, 3.84742, 1.90861, 1.74771, 1.39918, -3.10327, -6.24498, -6.50998]\n",
      "\n",
      "FileName = 2motor.jpg\n",
      "['motor', 'car', 'bolt', 'cat', 'airplane', 'glove', 'ca    t', 'dog']\n",
      "[3.47767, 1.12429, 1.11521, -0.47072, -1.10687, -1.50571, -1.74819, -2.46043]\n",
      "\n",
      "FileName = 1car.jpg\n",
      "['car', 'cat', 'bolt', 'motor', 'airplane', 'glove', 'dog', 'ca    t']\n",
      "[26.53919, 9.05163, 3.93843, 0.26702, -0.09171, -1.74729, -6.97068, -8.76143]\n",
      "\n",
      "FileName = 2air.jpg\n",
      "['airplane', 'bolt', 'car', 'motor', 'glove', 'cat', 'ca    t', 'dog']\n",
      "[9.78897, 4.0355, 0.27341, -1.41575, -2.0793, -3.11359, -3.3978, -7.41948]\n",
      "\n",
      "FileName = 1bolt.jpg\n",
      "['bolt', 'car', 'glove', 'motor', 'airplane', 'cat', 'ca    t', 'dog']\n",
      "[20.41062, 4.08477, 2.86333, 2.74491, 2.29809, -8.4897, -13.66827, -18.03514]\n",
      "\n",
      "FileName = 2glove.jpg\n",
      "['glove', 'motor', 'bolt', 'dog', 'car', 'airplane', 'cat', 'ca    t']\n",
      "[17.23942, 3.55693, 2.76609, -0.56479, -1.29192, -2.32511, -3.2722, -4.98905]\n",
      "\n",
      "FileName = 2bolt.jpg\n",
      "['bolt', 'airplane', 'glove', 'cat', 'motor', 'car', 'ca    t', 'dog']\n",
      "[10.88089, 4.46361, 1.99351, -1.36922, -3.60854, -4.87556, -5.42416, -8.21524]\n",
      "\n",
      "FileName = 2car.jpg\n",
      "['car', 'airplane', 'motor', 'glove', 'bolt', 'cat', 'dog', 'ca    t']\n",
      "[16.67049, 3.81635, 2.91632, 2.89598, 1.28246, -4.81258, -5.24108, -5.3455]\n",
      "\n",
      "FileName = 1air.jpg\n",
      "['airplane', 'bolt', 'car', 'glove', 'motor', 'cat', 'ca    t', 'dog']\n",
      "[12.27505, 7.05286, 6.04333, -1.53659, -3.17629, -3.22637, -5.17893, -10.60348]\n",
      "\n"
     ]
    }
   ],
   "source": [
    "files = {\n",
    "         'files000001':  open('/home/dev/hoyai/demo/data/airplane/1air.jpg','rb')\n",
    "        ,'files000002':  open('/home/dev/hoyai/demo/data/airplane/2air.jpg','rb')\n",
    "        ,'files000003':  open('/home/dev/hoyai/demo/data/bolt/1bolt.jpg','rb')\n",
    "        ,'files000004':  open('/home/dev/hoyai/demo/data/bolt/2bolt.jpg','rb')\n",
    "        ,'files000005':  open('/home/dev/hoyai/demo/data/car/1car.jpg','rb')\n",
    "        ,'files000006':  open('/home/dev/hoyai/demo/data/car/2car.jpg','rb')\n",
    "        ,'files000007':  open('/home/dev/hoyai/demo/data/glove/1glove.jpg','rb')\n",
    "        ,'files000008':  open('/home/dev/hoyai/demo/data/glove/2glove.jpg','rb')\n",
    "        ,'files000009':  open('/home/dev/hoyai/demo/data/motor/1motor.jpg','rb')\n",
    "        ,'files000010':  open('/home/dev/hoyai/demo/data/motor/2motor.jpg','rb')\n",
    "        }\n",
    "restURL = 'http://' + url + '/api/v1/type/service/state/predict/type/'+network_type+'/nnid/'+nn_id+'/ver/'+wf_ver_id+'/'\n",
    "\n",
    "resp = requests.post(restURL,\n",
    "                     files=files\n",
    "                     )\n",
    "data = json.loads(resp.json())\n",
    "\n",
    "for train in data:\n",
    "    print(\"FileName = \"+train)\n",
    "    print(data[train]['key'])\n",
    "    print(data[train]['val'])\n",
    "    print('')"
   ]
  },
  {
   "cell_type": "code",
   "execution_count": null,
   "metadata": {
    "collapsed": true
   },
   "outputs": [],
   "source": [
    ""
   ]
  }
 ],
 "metadata": {
  "anaconda-cloud": {},
  "kernelspec": {
   "display_name": "Python [conda root]",
   "language": "python",
   "name": "conda-root-py"
  },
  "language_info": {
   "codemirror_mode": {
    "name": "ipython",
    "version": 3.0
   },
   "file_extension": ".py",
   "mimetype": "text/x-python",
   "name": "python",
   "nbconvert_exporter": "python",
   "pygments_lexer": "ipython3",
   "version": "3.5.2"
  }
 },
 "nbformat": 4,
 "nbformat_minor": 0
}
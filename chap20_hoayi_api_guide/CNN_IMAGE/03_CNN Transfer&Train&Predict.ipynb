{
 "cells": [
  {
   "cell_type": "markdown",
   "metadata": {},
   "source": [
    "# CNN Transfer&Train&Predict"
   ]
  },
  {
   "cell_type": "markdown",
   "metadata": {},
   "source": [
    " "
   ]
  },
  {
   "cell_type": "markdown",
   "metadata": {},
   "source": [
    "# Init Config Setup"
   ]
  },
  {
   "cell_type": "code",
   "execution_count": 21,
   "metadata": {
    "collapsed": false
   },
   "outputs": [
    {
     "name": "stdout",
     "output_type": "stream",
     "text": [
      "Network ID=nn00004\n",
      "Workflow Version=1\n",
      "\n",
      "Network Config : {'result': 'NN_WF_NODE_INFO matching query does not exist.', 'status': '404'}\n",
      "\n",
      "Train Data Config : {'result': 'NN_WF_NODE_INFO matching query does not exist.', 'status': '404'}\n",
      "\n",
      "Eval Config : {'result': 'NN_WF_NODE_INFO matching query does not exist.', 'status': '404'}\n",
      "\n",
      "Eval Data Config : {'result': 'NN_WF_NODE_INFO matching query does not exist.', 'status': '404'}\n",
      "\n"
     ]
    }
   ],
   "source": [
    "import requests\n",
    "import json, os\n",
    "\n",
    "url = \"{0}:{1}\".format(os.environ['HOSTNAME'] , \"8000\")\n",
    "\n",
    "nn_id = \"nn00004\"\n",
    "biz_cate = \"ERP\"\n",
    "biz_sub_cate = \"MRO\"\n",
    "nn_title = \"MRO Image Classification\"\n",
    "nn_desc = \"MRO Image Classification\"\n",
    "nn_wf_ver_info = \"MRO Image Classification\"\n",
    "use_flag = \"Y\"\n",
    "dirstr = \"purpose?\"\n",
    "config = \"N\"\n",
    "network_type = \"cnn\"\n",
    "node_sub_menu = \"data_image\"\n",
    "\n",
    "# get workflow version info\n",
    "resp = requests.get('http://' + url + '/api/v1/type/common/target/nninfo/nnid/'+nn_id+'/version/')\n",
    "data = json.loads(resp.json())\n",
    "\n",
    "# get Active workflow version\n",
    "wf_ver_id = 0\n",
    "data = sorted(data, key=lambda k: k['pk'])\n",
    "for config in data:\n",
    "    if config[\"fields\"][\"active_flag\"] == \"Y\":\n",
    "        wf_ver_id = config[\"pk\"]\n",
    "\n",
    "wf_ver_id = str(wf_ver_id)\n",
    "print(\"Network ID=\"+nn_id)\n",
    "print(\"Workflow Version=\"+wf_ver_id)\n",
    "print(\"\")\n",
    "\n",
    "node = \"netconf_node\"\n",
    "resp = requests.put('http://' + url + '/api/v1/type/wf/state/netconf/detail/cnn/nnid/'+nn_id+'/ver/'+wf_ver_id+'/node/'+node+'/',\n",
    "                     json={\n",
    "                         \"config\": {\"learnrate\": 0.001,\n",
    "                                     \"traincnt\": 100,\n",
    "                                     \"batch_size\":10000,\n",
    "                                     \"num_classes\":10,\n",
    "                                     \"predictcnt\": 10,\n",
    "                                     \"layeroutputs\":32\n",
    "                                     }\n",
    "                         ,\"layer1\": {\"type\": \"cnn\",\n",
    "                                     \"active\": \"relu\",\n",
    "                                     \"cnnfilter\": [3, 3],\n",
    "                                     \"cnnstride\": [1, 1],\n",
    "                                     \"maxpoolmatrix\": [2, 2],\n",
    "                                     \"maxpoolstride\": [2, 2],\n",
    "                                     \"padding\": \"SAME\",\n",
    "                                     \"droprate\": \"0.8\",\n",
    "                                     \"layercnt\":2\n",
    "                                    }\n",
    "                         ,\"layer2\": {\"type\": \"cnn\",\n",
    "                                     \"active\": \"relu\",\n",
    "                                     \"cnnfilter\": [3, 3],\n",
    "                                     \"cnnstride\": [1, 1],\n",
    "                                     \"maxpoolmatrix\": [2, 2],\n",
    "                                     \"maxpoolstride\": [2, 2],\n",
    "                                     \"padding\": \"SAME\",\n",
    "                                     \"droprate\": \"0.8\",\n",
    "                                     \"layercnt\":1\n",
    "                                    }\n",
    "                          ,\"out\": {\"active\": \"softmax\",\n",
    "                                   \"node_out\": 625,\n",
    "                                   \"padding\": \"SAME\"\n",
    "                                }\n",
    "                        })\n",
    "netconf = json.loads(resp.json())\n",
    "print(\"Network Config : {0}\".format(netconf))\n",
    "print(\"\")\n",
    "\n",
    "node = \"datasrc\"\n",
    "resp = requests.put('http://' + url + '/api/v1/type/wf/state/imgdata/src/local/form/file/prg/source/nnid/'+nn_id+'/ver/'+wf_ver_id+'/node/'+node+'/',\n",
    "                     json={\n",
    "                            \"preprocess\": {\"x_size\": 32,\n",
    "                                        \"y_size\": 32,\n",
    "                                        \"channel\":3}\n",
    "                         ,\"labels\":[]\n",
    "\n",
    "                     })\n",
    "dataconf = json.loads(resp.json())\n",
    "print(\"Train Data Config : {0}\".format(dataconf))\n",
    "print(\"\")\n",
    "\n",
    "node = \"eval_node\"\n",
    "resp = requests.put('http://' + url + '/api/v1/type/wf/state/netconf/detail/cnn/nnid/'+nn_id+'/ver/'+wf_ver_id+'/node/'+node+'/',json={})\n",
    "evalconf = json.loads(resp.json())\n",
    "print(\"Eval Config : {0}\".format(evalconf))\n",
    "print(\"\")\n",
    "\n",
    "node = 'evaldata'\n",
    "resp = requests.put('http://' + url + '/api/v1/type/wf/state/imgdata/src/local/form/file/prg/source/nnid/'+nn_id+'/ver/'+wf_ver_id+'/node/'+node+'/',\n",
    "                     json={\n",
    "                            \"preprocess\": {\"x_size\": 32,\n",
    "                                        \"y_size\": 32,\n",
    "                                        \"channel\":3}\n",
    "                         ,\"labels\":[]\n",
    "\n",
    "                     })\n",
    "edataconf = json.loads(resp.json())\n",
    "print(\"Eval Data Config : {0}\".format(edataconf))\n",
    "print(\"\")"
   ]
  },
  {
   "cell_type": "markdown",
   "metadata": {},
   "source": [
    "# Trainning & Eval Data Transfer\n",
    "(CNN Network Train을 할 수 있게 Data를 특정 장소에 전송해 준다.)<br>\n",
    "\n",
    "아래 API의 경우 Test Data인지 Train Data인지 선택할수 있는 Node 정보를 모두 가져와 준다."
   ]
  },
  {
   "cell_type": "code",
   "execution_count": 13,
   "metadata": {
    "collapsed": false
   },
   "outputs": [
    {
     "name": "stdout",
     "output_type": "stream",
     "text": [
      "get file node list\n",
      "{'nn_wf_node_id': 'nn00004_45_evaldata', 'nn_wf_node_desc': 'Evaluation Data Node', 'nn_wf_node_name': 'evaldata'}\n",
      "{'nn_wf_node_id': 'nn00004_45_datasrc', 'nn_wf_node_desc': 'Train Data Node', 'nn_wf_node_name': 'datasrc'}\n",
      "\n"
     ]
    }
   ],
   "source": [
    "# get workflow node list info (train, eval)\n",
    "resp = requests.get('http://' + url + '/api/v1/type/wf/state/data/detail/upload/file/nnid/'+nn_id+'/ver/'+wf_ver_id+'/dir/'+node_sub_menu+'/')\n",
    "datalist = json.loads(resp.json())\n",
    "\n",
    "print(\"get file node list\")\n",
    "for node in datalist:\n",
    "    print(datalist[node])\n",
    "print(\"\")"
   ]
  },
  {
   "cell_type": "markdown",
   "metadata": {},
   "source": [
    "아래 API는 한개의 파일을 Train Folder & Test Folder 에 넣어준다."
   ]
  },
  {
   "cell_type": "code",
   "execution_count": 15,
   "metadata": {
    "collapsed": false
   },
   "outputs": [
    {
     "name": "stdout",
     "output_type": "stream",
     "text": [
      "create file node list\n",
      "{'File1': {'File': 'File Create.(/hoya_src_root/nn00004/45/evaldata/cat_vs_dog.zip1)'}, 'File0': {'File': 'File Create.(/hoya_src_root/nn00004/45/evaldata/cat_vs_dog.zip1)'}}\n",
      "{'File1': {'File': 'File Create.(/hoya_src_root/nn00004/45/datasrc/cat_vs_dog.zip1)'}, 'File0': {'File': 'File Create.(/hoya_src_root/nn00004/45/datasrc/cat_vs_dog.zip1)'}}\n"
     ]
    }
   ],
   "source": [
    "# Train Folder에 Data를 위치 시킬지 Eval Folder에 Data를 위치 시킬지 결정후 전송해야 한다.\n",
    "print(\"create file node list\")\n",
    "for node in datalist:\n",
    "    typepath = datalist[node][\"nn_wf_node_name\"]\n",
    "\n",
    "    files = {'file1': open('/home/dev/hoyai/demo/data/cat_vs_dog.zip','rb'),\n",
    "             'file2': open('/home/dev/hoyai/demo/data/sample_cnn_img.zip','rb')}\n",
    "\n",
    "    resp = requests.post('http://' + url + '/api/v1/type/wf/state/data/detail/upload/file/nnid/'+nn_id+'/ver/'+wf_ver_id+'/dir/'+typepath+'/',\n",
    "                         files=files)\n",
    "    data = json.loads(resp.json())\n",
    "    print(data)"
   ]
  },
  {
   "cell_type": "markdown",
   "metadata": {},
   "source": [
    "# CNN Network Training\n",
    "(CNN Network Training을 실행한다.)<br> "
   ]
  },
  {
   "cell_type": "code",
   "execution_count": 16,
   "metadata": {
    "collapsed": false
   },
   "outputs": [
    {
     "name": "stdout",
     "output_type": "stream",
     "text": [
      "['Trainning .................................................']\n",
      "['Global Step:     100, Training Batch Accuracy:  88.24%']\n",
      "['Global Step:     110, Training Batch Accuracy:  88.24%']\n",
      "\n",
      "['Eval ......................................................']\n",
      "Category : motor          TotalCnt=3       TrueCnt=3       FalseCnt=0       True Percent(TrueCnt/TotalCnt*100)=100%\n",
      "Category : dog            TotalCnt=1       TrueCnt=1       FalseCnt=0       True Percent(TrueCnt/TotalCnt*100)=100%\n",
      "Category : car            TotalCnt=3       TrueCnt=3       FalseCnt=0       True Percent(TrueCnt/TotalCnt*100)=100%\n",
      "Category : glove          TotalCnt=3       TrueCnt=3       FalseCnt=0       True Percent(TrueCnt/TotalCnt*100)=100%\n",
      "Category : airplane       TotalCnt=3       TrueCnt=3       FalseCnt=0       True Percent(TrueCnt/TotalCnt*100)=100%\n",
      "Category : cat            TotalCnt=1       TrueCnt=1       FalseCnt=0       True Percent(TrueCnt/TotalCnt*100)=100%\n",
      "Category : bolt           TotalCnt=3       TrueCnt=3       FalseCnt=0       True Percent(TrueCnt/TotalCnt*100)=100%\n",
      "Total Category=7          TotalCnt=17      TrueCnt=17      FalseCnt=0       True Percent(TrueCnt/TotalCnt*100)=100%\n"
     ]
    }
   ],
   "source": [
    "resp = requests.post('http://' + url + '/api/v1/type/runmanager/state/train/nnid/'+nn_id+'/ver/'+wf_ver_id+'/')\n",
    "data = json.loads(resp.json())\n",
    "\n",
    "for train in data:\n",
    "    if train != None and train != \"\" and train != {} and train != \"status\" and train != \"result\" and train[\"TrainResult\"] != None:\n",
    "        for tr in train[\"TrainResult\"]:\n",
    "            print(tr)"
   ]
  },
  {
   "cell_type": "markdown",
   "metadata": {},
   "source": [
    "# CNN Network Predict\n",
    "(CNN Network Predict를 실행한다.)<br>"
   ]
  },
  {
   "cell_type": "code",
   "execution_count": 17,
   "metadata": {
    "collapsed": false
   },
   "outputs": [
    {
     "name": "stdout",
     "output_type": "stream",
     "text": [
      "FileName = 1motor.jpg\n",
      "['motor', 'car', 'airplane', 'dog', 'glove', 'bolt', 'cat']\n",
      "[35.10906, 28.90174, 13.77433, 4.07334, 0.53865, -1.49544, -13.53508]\n",
      "\n",
      "FileName = 2air.jpg\n",
      "['airplane', 'car', 'motor', 'glove', 'bolt', 'dog', 'cat']\n",
      "[57.53878, 21.61921, 20.72249, 12.43941, 11.22378, 1.07922, -24.2037]\n",
      "\n",
      "FileName = 2motor.jpg\n",
      "['motor', 'car', 'dog', 'airplane', 'bolt', 'cat', 'glove']\n",
      "[39.83002, 11.91049, 10.44144, 3.0295, 1.3743, 0.37578, -3.35737]\n",
      "\n",
      "FileName = 1glove.jpg\n",
      "['glove', 'bolt', 'dog', 'motor', 'airplane', 'cat', 'car']\n",
      "[72.53574, 20.38227, 18.40883, 16.00289, 5.77083, 2.65075, -3.82359]\n",
      "\n",
      "FileName = 2bolt.jpg\n",
      "['bolt', 'cat', 'glove', 'dog', 'car', 'airplane', 'motor']\n",
      "[178.34985, 33.94644, 28.75154, 22.39215, 9.56419, -27.73978, -47.6005]\n",
      "\n",
      "FileName = 2glove.jpg\n",
      "['glove', 'bolt', 'airplane', 'cat', 'motor', 'dog', 'car']\n",
      "[62.03537, 15.89537, 11.82494, 8.8921, 5.96741, -12.55621, -12.76021]\n",
      "\n",
      "FileName = 1car.jpg\n",
      "['car', 'motor', 'airplane', 'dog', 'bolt', 'glove', 'cat']\n",
      "[36.93323, 31.40663, 16.65626, 7.84685, 3.24903, -0.73121, -12.54749]\n",
      "\n",
      "FileName = 1bolt.jpg\n",
      "['bolt', 'car', 'glove', 'airplane', 'motor', 'cat', 'dog']\n",
      "[13.3501, 8.2036, 3.45417, 3.19569, 1.20568, 0.45736, -1.74363]\n",
      "\n",
      "FileName = 2car.jpg\n",
      "['car', 'motor', 'airplane', 'glove', 'dog', 'bolt', 'cat']\n",
      "[11.20543, 9.77409, 5.6847, 1.2512, 1.08082, 0.2565, -5.89411]\n",
      "\n",
      "FileName = 1air.jpg\n",
      "['airplane', 'car', 'motor', 'bolt', 'glove', 'dog', 'cat']\n",
      "[41.76894, 20.84825, 14.40738, 3.41629, 0.50018, -6.42537, -8.60133]\n",
      "\n"
     ]
    }
   ],
   "source": [
    "files = {\n",
    "         'files000001':  open('/home/dev/hoyai/demo/data/airplane/1air.jpg','rb')\n",
    "        ,'files000002':  open('/home/dev/hoyai/demo/data/airplane/2air.jpg','rb')\n",
    "        ,'files000003':  open('/home/dev/hoyai/demo/data/bolt/1bolt.jpg','rb')\n",
    "        ,'files000004':  open('/home/dev/hoyai/demo/data/bolt/2bolt.jpg','rb')\n",
    "        ,'files000005':  open('/home/dev/hoyai/demo/data/car/1car.jpg','rb')\n",
    "        ,'files000006':  open('/home/dev/hoyai/demo/data/car/2car.jpg','rb')\n",
    "        ,'files000007':  open('/home/dev/hoyai/demo/data/glove/1glove.jpg','rb')\n",
    "        ,'files000008':  open('/home/dev/hoyai/demo/data/glove/2glove.jpg','rb')\n",
    "        ,'files000009':  open('/home/dev/hoyai/demo/data/motor/1motor.jpg','rb')\n",
    "        ,'files000010':  open('/home/dev/hoyai/demo/data/motor/2motor.jpg','rb')\n",
    "        }\n",
    "restURL = 'http://' + url + '/api/v1/type/service/state/predict/type/'+network_type+'/nnid/'+nn_id+'/ver/'+wf_ver_id+'/'\n",
    "\n",
    "resp = requests.post(restURL,\n",
    "                     files=files\n",
    "                     )\n",
    "data = json.loads(resp.json())\n",
    "\n",
    "for train in data:\n",
    "    print(\"FileName = \"+train)\n",
    "    print(data[train]['key'])\n",
    "    print(data[train]['val'])\n",
    "    print('')"
   ]
  },
  {
   "cell_type": "code",
   "execution_count": null,
   "metadata": {
    "collapsed": true
   },
   "outputs": [],
   "source": []
  }
 ],
 "metadata": {
  "anaconda-cloud": {},
  "kernelspec": {
   "display_name": "Python [default]",
   "language": "python",
   "name": "python3"
  },
  "language_info": {
   "codemirror_mode": {
    "name": "ipython",
    "version": 3
   },
   "file_extension": ".py",
   "mimetype": "text/x-python",
   "name": "python",
   "nbconvert_exporter": "python",
   "pygments_lexer": "ipython3",
   "version": "3.5.2"
  }
 },
 "nbformat": 4,
 "nbformat_minor": 1
}

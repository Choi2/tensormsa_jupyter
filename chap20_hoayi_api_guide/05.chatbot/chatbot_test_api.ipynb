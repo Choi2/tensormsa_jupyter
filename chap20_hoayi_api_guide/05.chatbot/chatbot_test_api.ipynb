{
 "cells": [
  {
   "cell_type": "markdown",
   "metadata": {},
   "source": []
  },
  {
   "cell_type": "code",
   "execution_count": 31,
   "metadata": {
    "collapsed": false
   },
   "outputs": [
    {
     "name": "stdout",
     "output_type": "stream",
     "text": [
      "evaluation result : {\"request_type\": \"text\", \"service_type\": \"\", \"package_id\": \"abcd\", \"intent_history\": [], \"intent_id\": \"\", \"opt_sel_list\": {}, \"unique_id\": \"1111\", \"story_set_entity\": {}, \"intent_name\": \"\", \"input_data\": \" [\\uc774\\ub984] [\\uc9c1\\uae09] [\\uadfc\\ud0dc\\ucf54\\ub4dc]\", \"ontology_id\": \"\", \"ontology_set_parms\": {}, \"story_board_id\": \"\", \"ontology_req_parms\": {}, \"story_req_entity\": {}}\n"
     ]
    }
   ],
   "source": [
    "import requests\n",
    "import json, os\n",
    "url = \"{0}:{1}\".format(os.environ['HOSTNAME'] , \"8000\")\n",
    "\n",
    "resp = requests.put('http://' + url + '/api/v1/type/service/chatbot/2222/', \n",
    "                    json={  \"unique_id\" : \"1111\",\n",
    "                            \"package_id\" : \"abcd\",\n",
    "                            \"intent_id\" : \"\",\n",
    "                            \"intent_name\" : \"\",\n",
    "                            \"input_data\" : \"김승우 과장 휴가\",\n",
    "                            \"intent_history\" : [],\n",
    "                            \"request_type\" : \"text\",\n",
    "                            \"service_type\" : \"\",\n",
    "                            \"story_board_id\" : \"\", \n",
    "                            \"story_req_entity\" : {}, \n",
    "                            \"story_set_entity\" : {},\n",
    "                            \"opt_sel_list\" : {},\n",
    "                            \"ontology_id\" : \"\", \n",
    "                            \"ontology_req_parms\" : {}, \n",
    "                            \"ontology_set_parms\" : {}\n",
    "                          })\n",
    "data = json.loads(resp.json())\n",
    "print(\"evaluation result : {0}\".format(data))"
   ]
  },
  {
   "cell_type": "code",
   "execution_count": null,
   "metadata": {
    "collapsed": true
   },
   "outputs": [],
   "source": []
  }
 ],
 "metadata": {
  "anaconda-cloud": {},
  "kernelspec": {
   "display_name": "Python [conda root]",
   "language": "python",
   "name": "conda-root-py"
  },
  "language_info": {
   "codemirror_mode": {
    "name": "ipython",
    "version": 3
   },
   "file_extension": ".py",
   "mimetype": "text/x-python",
   "name": "python",
   "nbconvert_exporter": "python",
   "pygments_lexer": "ipython3",
   "version": "3.5.2"
  }
 },
 "nbformat": 4,
 "nbformat_minor": 1
}

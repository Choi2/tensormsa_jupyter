{
 "cells": [
  {
   "cell_type": "markdown",
   "metadata": {},
   "source": [
    "# CNN Network : Create\n",
    "(CNN Network를 생성해 준다. ID가 같은 CNN Network가 있으면 재 생성 하지 않는다.)<br>\n",
    "\n",
    "nn_id : Neural Network ID<br>\n",
    "biz_cate : Business 대분류<br>\n",
    "biz_sub_cate : Business 소분류<br>\n",
    "nn_title : Neural Network Title<br>\n",
    "nn_desc : Neural Network Description<br>\n",
    "use_flag : 사용여부<br>\n",
    "dir : 문제유형<br>\n",
    "config : Custom 여부<br>\n",
    "network_type : network<br>"
   ]
  },
  {
   "cell_type": "code",
   "execution_count": 2,
   "metadata": {
    "collapsed": false
   },
   "outputs": [
    {
     "name": "stdout",
     "output_type": "stream",
     "text": [
      "insert nn_info evaluation result : nn00004\n"
     ]
    }
   ],
   "source": [
    "import requests\n",
    "import json, os\n",
    "\n",
    "url = \"{0}:{1}\".format(os.environ['HOSTNAME'] , \"8000\")\n",
    "\n",
    "nn_id = \"nn00004\"\n",
    "biz_cate = \"ERP\"\n",
    "biz_sub_cate = \"MRO\"\n",
    "nn_title = \"MRO Image Classification\"\n",
    "nn_desc = \"MRO Image Classification\"\n",
    "nn_wf_ver_info = \"MRO Image Classification\"\n",
    "network_type = \"cnn\"\n",
    "\n",
    "#insert nn_info\n",
    "resp = requests.post('http://' + url + '/api/v1/type/common/target/nninfo/',\n",
    "                     json={\n",
    "                         \"nn_id\": nn_id,\n",
    "                         \"biz_cate\": biz_cate,\n",
    "                         \"biz_sub_cate\": biz_sub_cate,\n",
    "                         \"nn_title\" : nn_title,\n",
    "                         \"nn_desc\": nn_desc,\n",
    "                         \"use_flag\" : \"Y\",\n",
    "                         \"dir\": \"purpose?\",\n",
    "                         \"config\": \"N\"\n",
    "                     })\n",
    "data = json.loads(resp.json())\n",
    "print(\"insert nn_info evaluation result : {0}\".format(data))\n"
   ]
  },
  {
   "cell_type": "markdown",
   "metadata": {
    "collapsed": true
   },
   "source": [
    "# CNN Network WorkFlow : Create\n",
    "(CNN Network WorkFlow를 생성해 준다. 실행할 때마다 신규 버전을 새로 생성 한다.)<br>\n",
    "\n",
    "nn_def_list_info_nn_id :<br>\n",
    "nn_wf_ver_info : Work Flow Version Description<br>\n",
    "condition :<br>\n",
    "active_flag : 사용여부<br>\n"
   ]
  },
  {
   "cell_type": "code",
   "execution_count": 21,
   "metadata": {
    "collapsed": false
   },
   "outputs": [
    {
     "name": "stdout",
     "output_type": "stream",
     "text": [
      "insert nn_info Work Flow Create\n"
     ]
    }
   ],
   "source": [
    "resp = requests.post('http://' + url + '/api/v1/type/common/target/nninfo/'+nn_id+'/version/',\n",
    "                     json={\n",
    "                         \"nn_def_list_info_nn_id\": \"\",\n",
    "                         \"nn_wf_ver_info\": nn_wf_ver_info,\n",
    "                         \"condition\": \"1\",\n",
    "                         \"active_flag\": \"N\"\n",
    "                     })\n",
    "data = json.loads(resp.json())\n",
    "print(\"insert nn_info Work Flow Create\")"
   ]
  },
  {
   "cell_type": "markdown",
   "metadata": {
    "collapsed": true
   },
   "source": [
    "# CNN Network WorkFlow : Get Active Version \n",
    "(여러개의 CNN Network WorkFlow중 Active한 Version을 가져온다.)<br>"
   ]
  },
  {
   "cell_type": "code",
   "execution_count": 3,
   "metadata": {
    "collapsed": false
   },
   "outputs": [
    {
     "name": "stdout",
     "output_type": "stream",
     "text": [
      "Version=1 active=N\n",
      "Version=2 active=N\n",
      "Version=3 active=N\n",
      "Version=4 active=N\n",
      "Version=5 active=N\n",
      "Version=6 active=N\n",
      "Version=7 active=N\n",
      "Version=8 active=N\n",
      "Version=9 active=N\n",
      "Version=10 active=N\n",
      "Version=11 active=N\n",
      "Version=12 active=N\n",
      "Version=13 active=N\n",
      "Version=14 active=N\n",
      "Version=15 active=N\n",
      "Version=16 active=N\n",
      "Version=17 active=N\n",
      "Version=18 active=N\n",
      "Version=19 active=N\n",
      "Version=20 active=N\n",
      "Version=21 active=N\n",
      "Version=22 active=N\n",
      "Version=23 active=N\n",
      "Version=24 active=N\n",
      "Version=25 active=N\n",
      "Version=26 active=N\n",
      "Version=27 active=N\n",
      "Version=28 active=N\n",
      "Version=29 active=N\n",
      "Version=30 active=N\n",
      "Version=31 active=N\n",
      "Version=32 active=N\n",
      "Version=33 active=N\n",
      "Version=34 active=N\n",
      "Version=35 active=Y\n",
      "Active Version Workflow ID=35\n"
     ]
    }
   ],
   "source": [
    "# get workflow version info\n",
    "resp = requests.get('http://' + url + '/api/v1/type/common/target/nninfo/'+nn_id+'/version/')\n",
    "data = json.loads(resp.json())\n",
    "\n",
    "# get Active workflow version\n",
    "wf_ver_id = 0\n",
    "data = sorted(data, key=lambda k: k['pk'])\n",
    "for config in data:\n",
    "    print(\"Version=\"+str(config[\"pk\"])+\" active=\"+str(config[\"fields\"][\"active_flag\"]))\n",
    "    if config[\"fields\"][\"active_flag\"] == \"Y\":\n",
    "        wf_ver_id = config[\"pk\"]\n",
    "\n",
    "wf_ver_id = str(wf_ver_id)\n",
    "print(\"Active Version Workflow ID=\"+wf_ver_id)\n",
    "\n",
    "# get Max workflow version\n",
    "wf_ver_id = 0\n",
    "for i in data:\n",
    "    if i[\"pk\"] > wf_ver_id:\n",
    "        wf_ver_id = i[\"pk\"]\n",
    "\n",
    "wf_ver_id = str(wf_ver_id)"
   ]
  },
  {
   "cell_type": "markdown",
   "metadata": {
    "collapsed": true
   },
   "source": [
    "# CNN Network WorkFlow : Set Active Version\n",
    "(여러개의 CNN Network WorkFlow중 특정 Version을 Active 시킨다. Active한 Version은 한 개만 존재 할 수 있다.)<br>\n",
    "\n",
    "wf_ver_id : active version"
   ]
  },
  {
   "cell_type": "code",
   "execution_count": 4,
   "metadata": {
    "collapsed": false
   },
   "outputs": [
    {
     "name": "stdout",
     "output_type": "stream",
     "text": [
      "Update active workflow version info evaluation result : 35\n"
     ]
    }
   ],
   "source": [
    "# update workflow version info\n",
    "resp = requests.put('http://' + url + '/api/v1/type/common/target/nninfo/'+nn_id+'/version/',\n",
    "                     json={\n",
    "                         \"nn_wf_ver_id\": wf_ver_id,\n",
    "                         \"nn_def_list_info_nn_id\": \"\",\n",
    "                         \"nn_wf_ver_info\": nn_wf_ver_info,\n",
    "                         \"condition\": \"1\",\n",
    "                         \"active_flag\": \"Y\"\n",
    "                     })\n",
    "data = json.loads(resp.json())\n",
    "print(\"Update active workflow version info evaluation result : {0}\".format(data))"
   ]
  },
  {
   "cell_type": "markdown",
   "metadata": {
    "collapsed": true
   },
   "source": [
    "# CNN Network WorkFlow Node : Create\n",
    "(CNN Network WorkFlow Node를 생성해 준다. 기존 Node가 있으면 재 생성 하지 않는다.)<br>"
   ]
  },
  {
   "cell_type": "code",
   "execution_count": 24,
   "metadata": {
    "collapsed": false
   },
   "outputs": [
    {
     "name": "stdout",
     "output_type": "stream",
     "text": [
      "insert workflow version node info evaluation result : cnn\n"
     ]
    }
   ],
   "source": [
    "# insert workflow version node info\n",
    "resp = requests.post('http://' + url + '/api/v1/type/wf/target/init/mode/simple/'+nn_id+'/wfver/'+wf_ver_id+'/',\n",
    "                     json={\n",
    "                         \"type\": network_type\n",
    "                     })\n",
    "data = json.loads(resp.json())\n",
    "print(\"insert workflow version node info evaluation result : {0}\".format(data))"
   ]
  },
  {
   "cell_type": "markdown",
   "metadata": {
    "collapsed": true
   },
   "source": [
    "# CNN Network WorkFlow Node : Network Config Setup\n",
    "(CNN Network WorkFlow Node의 Network Config를 Setup 해준다.)<br>"
   ]
  },
  {
   "cell_type": "code",
   "execution_count": 5,
   "metadata": {
    "collapsed": false
   },
   "outputs": [
    {
     "name": "stdout",
     "output_type": "stream",
     "text": [
      "insert workflow node conf info evaluation result : {'layer1': {'type': 'cnn', 'layercnt': 2, 'padding': 'SAME', 'droprate': '0.8', 'maxpoolmatrix': [2, 2], 'cnnfilter': [3, 3], 'active': 'relu', 'cnnstride': [1, 1], 'maxpoolstride': [2, 2]}, 'config': {'batch_size': 10000, 'layeroutputs': 32, 'traincnt': 100, 'predictcnt': 10, 'learnrate': 0.001, 'num_classes': 10}, 'modelname': 'model_nn00004_35', 'modelpath': '/hoya_model_root/nn00004/35/netconf_node', 'layer2': {'type': 'cnn', 'layercnt': 1, 'padding': 'SAME', 'droprate': '0.8', 'maxpoolmatrix': [2, 2], 'cnnfilter': [3, 3], 'active': 'relu', 'cnnstride': [1, 1], 'maxpoolstride': [2, 2]}, 'out': {'padding': 'SAME', 'node_out': 625, 'active': 'softmax'}}\n"
     ]
    }
   ],
   "source": [
    "node = \"netconf_node\"\n",
    "resp = requests.put('http://' + url + '/api/v1/type/wf/state/netconf/detail/cnn/nnid/'+nn_id+'/ver/'+wf_ver_id+'/node/'+node+'/',\n",
    "                     json={\n",
    "                         \"config\": {\"learnrate\": 0.001,\n",
    "                                     \"traincnt\": 100,\n",
    "                                     \"batch_size\":10000,\n",
    "                                     \"num_classes\":10,\n",
    "                                     \"predictcnt\": 10,\n",
    "                                     \"layeroutputs\":32\n",
    "                                     }\n",
    "                         ,\"layer1\": {\"type\": \"cnn\",\n",
    "                                     \"active\": \"relu\",\n",
    "                                     \"cnnfilter\": [3, 3],\n",
    "                                     \"cnnstride\": [1, 1],\n",
    "                                     \"maxpoolmatrix\": [2, 2],\n",
    "                                     \"maxpoolstride\": [2, 2],\n",
    "                                     \"padding\": \"SAME\",\n",
    "                                     \"droprate\": \"0.8\",\n",
    "                                     \"layercnt\":2\n",
    "                                    }\n",
    "                         ,\"layer2\": {\"type\": \"cnn\",\n",
    "                                     \"active\": \"relu\",\n",
    "                                     \"cnnfilter\": [3, 3],\n",
    "                                     \"cnnstride\": [1, 1],\n",
    "                                     \"maxpoolmatrix\": [2, 2],\n",
    "                                     \"maxpoolstride\": [2, 2],\n",
    "                                     \"padding\": \"SAME\",\n",
    "                                     \"droprate\": \"0.8\",\n",
    "                                     \"layercnt\":1\n",
    "                                    }\n",
    "                          ,\"out\": {\"active\": \"softmax\",\n",
    "                                   \"node_out\": 625,\n",
    "                                   \"padding\": \"SAME\"\n",
    "                                }\n",
    "                        })\n",
    "netconf = json.loads(resp.json())\n",
    "print(\"insert workflow node conf info evaluation result : {0}\".format(netconf))"
   ]
  },
  {
   "cell_type": "markdown",
   "metadata": {
    "collapsed": true
   },
   "source": [
    "# CNN Network WorkFlow Node :  Data Config Setup"
   ]
  },
  {
   "cell_type": "code",
   "execution_count": 6,
   "metadata": {
    "collapsed": false
   },
   "outputs": [
    {
     "name": "stdout",
     "output_type": "stream",
     "text": [
      "insert workflow node conf info evaluation result : {'store_path': '/hoya_str_root/nn00004/35/datasrc', 'source_path': '/hoya_src_root/nn00004/35/datasrc', 'labels': ['motor', 'car', 'glove', 'airplane', 'bolt'], 'preprocess': {'channel': 3, 'y_size': 32, 'x_size': 32}}\n"
     ]
    }
   ],
   "source": [
    "node = \"datasrc\"\n",
    "resp = requests.put('http://' + url + '/api/v1/type/wf/state/imgdata/src/local/form/file/prg/source/nnid/'+nn_id+'/ver/'+wf_ver_id+'/node/'+node+'/',\n",
    "                     json={\n",
    "                            \"preprocess\": {\"x_size\": 32,\n",
    "                                        \"y_size\": 32,\n",
    "                                        \"channel\":3}\n",
    "                         ,\"labels\":[]\n",
    "\n",
    "                     })\n",
    "dataconf = json.loads(resp.json())\n",
    "print(\"insert workflow node conf info evaluation result : {0}\".format(dataconf))"
   ]
  },
  {
   "cell_type": "markdown",
   "metadata": {},
   "source": [
    "# CNN Network WorkFlow Node :  Eval Config Setup"
   ]
  },
  {
   "cell_type": "code",
   "execution_count": 7,
   "metadata": {
    "collapsed": false
   },
   "outputs": [
    {
     "name": "stdout",
     "output_type": "stream",
     "text": [
      "insert workflow node conf info evaluation result : {'modelname': 'model_nn00004_35', 'modelpath': '/hoya_model_root/nn00004/35/eval_node'}\n"
     ]
    }
   ],
   "source": [
    "node = \"eval_node\"\n",
    "resp = requests.put('http://' + url + '/api/v1/type/wf/state/netconf/detail/cnn/nnid/'+nn_id+'/ver/'+wf_ver_id+'/node/'+node+'/',json={})\n",
    "evalconf = json.loads(resp.json())\n",
    "print(\"insert workflow node conf info evaluation result : {0}\".format(evalconf))"
   ]
  },
  {
   "cell_type": "markdown",
   "metadata": {},
   "source": [
    "# CNN Network WorkFlow Node :  Eval Data Config Setup\n",
    "(CNN Network WorkFlow Node의 Data Config를 Setup 해준다.)<br>"
   ]
  },
  {
   "cell_type": "code",
   "execution_count": 8,
   "metadata": {
    "collapsed": false
   },
   "outputs": [
    {
     "name": "stdout",
     "output_type": "stream",
     "text": [
      "insert workflow node conf info evaluation result : {'store_path': '/hoya_str_root/nn00004/35/evaldata', 'source_path': '/hoya_src_root/nn00004/35/evaldata', 'labels': ['motor', 'car', 'glove', 'airplane', 'bolt'], 'preprocess': {'channel': 3, 'y_size': 32, 'x_size': 32}}\n"
     ]
    }
   ],
   "source": [
    "node = 'evaldata'\n",
    "resp = requests.put('http://' + url + '/api/v1/type/wf/state/imgdata/src/local/form/file/prg/source/nnid/'+nn_id+'/ver/'+wf_ver_id+'/node/'+node+'/',\n",
    "                     json={\n",
    "                            \"preprocess\": {\"x_size\": 32,\n",
    "                                        \"y_size\": 32,\n",
    "                                        \"channel\":3}\n",
    "                         ,\"labels\":[]\n",
    "\n",
    "                     })\n",
    "edataconf = json.loads(resp.json())\n",
    "print(\"insert workflow node conf info evaluation result : {0}\".format(edataconf))"
   ]
  },
  {
   "cell_type": "markdown",
   "metadata": {
    "collapsed": true
   },
   "source": [
    " "
   ]
  },
  {
   "cell_type": "markdown",
   "metadata": {
    "collapsed": true
   },
   "source": [
    " "
   ]
  },
  {
   "cell_type": "markdown",
   "metadata": {},
   "source": [
    "# Sample Data Insert\n",
    "(CNN Network Train을 할 수 있게 Sample Data를 특정 장소에 Copy 해준다..)<br>"
   ]
  },
  {
   "cell_type": "code",
   "execution_count": 29,
   "metadata": {
    "collapsed": false
   },
   "outputs": [
    {
     "name": "stdout",
     "output_type": "stream",
     "text": [
      "/hoya_src_root/nn00004/28/datasrc\n",
      "/hoya_src_root/nn00004/28/evaldata\n"
     ]
    }
   ],
   "source": [
    "import shutil\n",
    "sample_path = '/home/dev/hoyai/demo/data/sample_cnn_img.zip'\n",
    "source_path = dataconf[\"source_path\"]\n",
    "esource_path = edataconf[\"source_path\"]\n",
    "\n",
    "shutil.copy(sample_path, source_path)\n",
    "shutil.copy(sample_path, esource_path)\n",
    "print(source_path)\n",
    "print(esource_path)"
   ]
  },
  {
   "cell_type": "markdown",
   "metadata": {},
   "source": [
    "# CNN Network Training\n",
    "(CNN Network Training을 실행한다.)<br>"
   ]
  },
  {
   "cell_type": "code",
   "execution_count": 9,
   "metadata": {
    "collapsed": false
   },
   "outputs": [
    {
     "name": "stdout",
     "output_type": "stream",
     "text": [
      "['Trainning .................................................']\n",
      "['Global Step:     17900, Training Batch Accuracy:  100.0%']\n",
      "\n",
      "['Trainning .................................................']\n",
      "['Global Step:     18000, Training Batch Accuracy:  95.51%']\n",
      "\n",
      "['Eval ......................................................']\n",
      "Category : motor          TotalCnt=52             TrueCnt=51             FalseCnt=1              True Percent(TrueCnt/TotalCnt*100)=98%\n",
      "Category : car            TotalCnt=53             TrueCnt=48             FalseCnt=5              True Percent(TrueCnt/TotalCnt*100)=91%\n",
      "Category : glove          TotalCnt=50             TrueCnt=49             FalseCnt=1              True Percent(TrueCnt/TotalCnt*100)=98%\n",
      "Category : airplane       TotalCnt=53             TrueCnt=50             FalseCnt=3              True Percent(TrueCnt/TotalCnt*100)=94%\n",
      "Category : bolt           TotalCnt=52             TrueCnt=48             FalseCnt=4              True Percent(TrueCnt/TotalCnt*100)=92%\n",
      "Total Category=5          TotalCnt=260            TrueCnt=246            FalseCnt=14             True Percent(TrueCnt/TotalCnt*100)=95%\n"
     ]
    }
   ],
   "source": [
    "resp = requests.post('http://' + url + '/api/v1/type/runmanager/state/train/nnid/'+nn_id+'/ver/'+wf_ver_id+'/')\n",
    "data = json.loads(resp.json())\n",
    "\n",
    "for train in data:\n",
    "    if train != None and train != \"\" and train != {} and train != \"status\" and train != \"result\" and train[\"TrainResult\"] != None:\n",
    "        for tr in train[\"TrainResult\"]:\n",
    "            print(tr)\n"
   ]
  },
  {
   "cell_type": "markdown",
   "metadata": {},
   "source": [
    "# CNN Network Predict\n",
    "(CNN Network Predict를 실행한다.)<br>"
   ]
  },
  {
   "cell_type": "code",
   "execution_count": 10,
   "metadata": {
    "collapsed": false
   },
   "outputs": [
    {
     "name": "stdout",
     "output_type": "stream",
     "text": [
      "FileName = 2motor.jpg\n",
      "['motor', 'bolt', 'glove', 'car', 'airplane']\n",
      "[22.099, -3.39391, -4.24675, -6.67971, -11.85984]\n",
      "\n",
      "FileName = 1bolt.jpg\n",
      "['bolt', 'motor', 'car', 'glove', 'airplane']\n",
      "[22.14277, 0.44534, -2.07939, -4.87567, -5.42554]\n",
      "\n",
      "FileName = 2glove.jpg\n",
      "['glove', 'airplane', 'motor', 'bolt', 'car']\n",
      "[164.59926, 44.61897, -8.67816, -17.98602, -75.65124]\n",
      "\n",
      "FileName = 1air.jpg\n",
      "['airplane', 'car', 'bolt', 'motor', 'glove']\n",
      "[82.31516, 1.4017, -17.7197, -18.89334, -28.30679]\n",
      "\n",
      "FileName = 2car.jpg\n",
      "['car', 'airplane', 'bolt', 'glove', 'motor']\n",
      "[2.00353, 0.37027, -0.12335, -1.02132, -1.20768]\n",
      "\n",
      "FileName = 1motor.jpg\n",
      "['motor', 'bolt', 'airplane', 'car', 'glove']\n",
      "[1.0319, 0.37368, 0.23667, 0.01316, -0.98538]\n",
      "\n",
      "FileName = 2bolt.jpg\n",
      "['bolt', 'car', 'glove', 'motor', 'airplane']\n",
      "[25.67246, -4.43076, -10.34169, -12.02928, -13.87401]\n",
      "\n",
      "FileName = 2air.jpg\n",
      "['airplane', 'glove', 'car', 'motor', 'bolt']\n",
      "[162.49088, -2.04153, -10.74919, -48.76405, -74.81725]\n",
      "\n",
      "FileName = 1glove.jpg\n",
      "['glove', 'airplane', 'car', 'bolt', 'motor']\n",
      "[191.71233, 8.37027, -67.5066, -70.04235, -84.11617]\n",
      "\n",
      "FileName = 1car.jpg\n",
      "['motor', 'bolt', 'airplane', 'car', 'glove']\n",
      "[1.13089, 0.65942, 0.09942, 0.06683, -1.0906]\n",
      "\n"
     ]
    }
   ],
   "source": [
    "files = {\n",
    "         'files000001':  open('/home/dev/hoyai/demo/data/airplane/1air.jpg','rb')\n",
    "        ,'files000002':  open('/home/dev/hoyai/demo/data/airplane/2air.jpg','rb')\n",
    "        ,'files000003':  open('/home/dev/hoyai/demo/data/bolt/1bolt.jpg','rb')\n",
    "        ,'files000004':  open('/home/dev/hoyai/demo/data/bolt/2bolt.jpg','rb')\n",
    "        ,'files000005':  open('/home/dev/hoyai/demo/data/car/1car.jpg','rb')\n",
    "        ,'files000006':  open('/home/dev/hoyai/demo/data/car/2car.jpg','rb')\n",
    "        ,'files000007':  open('/home/dev/hoyai/demo/data/glove/1glove.jpg','rb')\n",
    "        ,'files000008':  open('/home/dev/hoyai/demo/data/glove/2glove.jpg','rb')\n",
    "        ,'files000009':  open('/home/dev/hoyai/demo/data/motor/1motor.jpg','rb')\n",
    "        ,'files000010':  open('/home/dev/hoyai/demo/data/motor/2motor.jpg','rb')\n",
    "        }\n",
    "restURL = 'http://' + url + '/api/v1/type/service/state/predict/type/'+network_type+'/nnid/'+nn_id+'/ver/'+wf_ver_id+'/'\n",
    "\n",
    "resp = requests.post(restURL,\n",
    "                     files=files,\n",
    "                     json={\n",
    "                         \"key\" : {\n",
    "                                  \"nn_id\": nn_id,\n",
    "                                  \"wf_ver_id\": wf_ver_id\n",
    "                                  }\n",
    "                     }\n",
    "                     )\n",
    "data = json.loads(resp.json())\n",
    "\n",
    "for train in data:\n",
    "    print(\"FileName = \"+train)\n",
    "    print(data[train]['key'])\n",
    "    print(data[train]['val'])\n",
    "    print('')"
   ]
  },
  {
   "cell_type": "code",
   "execution_count": null,
   "metadata": {
    "collapsed": true
   },
   "outputs": [],
   "source": []
  }
 ],
 "metadata": {
  "anaconda-cloud": {},
  "kernelspec": {
   "display_name": "Python [conda root]",
   "language": "python",
   "name": "conda-root-py"
  },
  "language_info": {
   "codemirror_mode": {
    "name": "ipython",
    "version": 3
   },
   "file_extension": ".py",
   "mimetype": "text/x-python",
   "name": "python",
   "nbconvert_exporter": "python",
   "pygments_lexer": "ipython3",
   "version": "3.5.2"
  }
 },
 "nbformat": 4,
 "nbformat_minor": 1
}

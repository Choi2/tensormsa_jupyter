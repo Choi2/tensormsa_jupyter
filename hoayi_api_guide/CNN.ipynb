{
 "cells": [
  {
   "cell_type": "markdown",
   "metadata": {},
   "source": [
    "# CNN Network : Create\n",
    "nn_id : Neural Network ID<br>\n",
    "biz_cate : Business 대분류<br>\n",
    "biz_sub_cate : Business 소분류<br>\n",
    "nn_title : Neural Network Title<br>\n",
    "nn_desc : Neural Network Description<br>\n",
    "use_flag : 사용여부<br>\n",
    "dir : 문제유형<br>\n",
    "config : Custom 여부<br>\n",
    "network_type : network<br>"
   ]
  },
  {
   "cell_type": "code",
   "execution_count": 63,
   "metadata": {
    "collapsed": false
   },
   "outputs": [
    {
     "name": "stdout",
     "output_type": "stream",
     "text": [
      "insert nn_info evaluation result : nn00004\n"
     ]
    }
   ],
   "source": [
    "import requests\n",
    "import json, os\n",
    "\n",
    "url = \"{0}:{1}\".format(os.environ['HOSTNAME'] , \"8000\")\n",
    "\n",
    "nn_id = \"nn00004\"\n",
    "biz_cate = \"ERP\"\n",
    "biz_sub_cate = \"MRO\"\n",
    "nn_title = \"MRO Image Classification\"\n",
    "nn_desc = \"MRO Image Classification\"\n",
    "nn_wf_ver_info = \"MRO Image Classification\"\n",
    "network_type = \"cnn\"\n",
    "\n",
    "#insert nn_info\n",
    "resp = requests.post('http://' + url + '/api/v1/type/common/target/nninfo/',\n",
    "                     json={\n",
    "                         \"nn_id\": nn_id,\n",
    "                         \"biz_cate\": biz_cate,\n",
    "                         \"biz_sub_cate\": biz_sub_cate,\n",
    "                         \"nn_title\" : nn_title,\n",
    "                         \"nn_desc\": nn_desc,\n",
    "                         \"use_flag\" : \"Y\",\n",
    "                         \"dir\": \"purpose?\",\n",
    "                         \"config\": \"N\"\n",
    "                     })\n",
    "data = json.loads(resp.json())\n",
    "print(\"insert nn_info evaluation result : {0}\".format(data))\n"
   ]
  },
  {
   "cell_type": "markdown",
   "metadata": {
    "collapsed": true
   },
   "source": [
    "# CNN Network WorkFlow : Create\n",
    "nn_def_list_info_nn_id :<br>\n",
    "nn_wf_ver_info : Work Flow Version Description<br>\n",
    "condition :<br>\n",
    "active_flag : 사용여부<br>\n"
   ]
  },
  {
   "cell_type": "code",
   "execution_count": 64,
   "metadata": {
    "collapsed": false
   },
   "outputs": [
    {
     "name": "stdout",
     "output_type": "stream",
     "text": [
      "insert nn_info Work Flow Create\n"
     ]
    }
   ],
   "source": [
    "resp = requests.post('http://' + url + '/api/v1/type/common/target/nninfo/'+nn_id+'/version/',\n",
    "                     json={\n",
    "                         \"nn_def_list_info_nn_id\": \"\",\n",
    "                         \"nn_wf_ver_info\": nn_wf_ver_info,\n",
    "                         \"condition\": \"1\",\n",
    "                         \"active_flag\": \"N\"\n",
    "                     })\n",
    "data = json.loads(resp.json())\n",
    "print(\"insert nn_info Work Flow Create\")"
   ]
  },
  {
   "cell_type": "markdown",
   "metadata": {
    "collapsed": true
   },
   "source": [
    "# CNN Network WorkFlow : Get Active Version "
   ]
  },
  {
   "cell_type": "code",
   "execution_count": 65,
   "metadata": {
    "collapsed": false
   },
   "outputs": [
    {
     "name": "stdout",
     "output_type": "stream",
     "text": [
      "Version=17 active=N\n",
      "Version=2 active=N\n",
      "Version=1 active=N\n",
      "Version=9 active=N\n",
      "Version=11 active=N\n",
      "Version=12 active=N\n",
      "Version=8 active=N\n",
      "Version=7 active=N\n",
      "Version=23 active=N\n",
      "Version=6 active=N\n",
      "Version=18 active=N\n",
      "Version=19 active=N\n",
      "Version=20 active=N\n",
      "Version=5 active=N\n",
      "Version=4 active=N\n",
      "Version=3 active=N\n",
      "Version=13 active=N\n",
      "Version=21 active=N\n",
      "Version=22 active=N\n",
      "Version=10 active=N\n",
      "Version=14 active=N\n",
      "Version=15 active=N\n",
      "Version=16 active=N\n",
      "Version=24 active=Y\n",
      "Version=25 active=N\n",
      "Active Version Workflow ID=24\n"
     ]
    }
   ],
   "source": [
    "# get workflow version info\n",
    "resp = requests.get('http://' + url + '/api/v1/type/common/target/nninfo/'+nn_id+'/version/')\n",
    "data = json.loads(resp.json())\n",
    "\n",
    "# get Active workflow version\n",
    "wf_ver_id = 0\n",
    "for config in data:\n",
    "    print(\"Version=\"+str(config[\"pk\"])+\" active=\"+str(config[\"fields\"][\"active_flag\"]))\n",
    "    if config[\"fields\"][\"active_flag\"] == \"Y\":\n",
    "        wf_ver_id = config[\"pk\"]\n",
    "\n",
    "wf_ver_id = str(wf_ver_id)\n",
    "print(\"Active Version Workflow ID=\"+wf_ver_id)\n",
    "\n",
    "# get Max workflow version\n",
    "wf_ver_id = 0\n",
    "for i in data:\n",
    "    if i[\"pk\"] > wf_ver_id:\n",
    "        wf_ver_id = i[\"pk\"]\n",
    "\n",
    "wf_ver_id = str(wf_ver_id)"
   ]
  },
  {
   "cell_type": "markdown",
   "metadata": {
    "collapsed": true
   },
   "source": [
    "# CNN Network WorkFlow : Set Active Version\n",
    "\n",
    "wf_ver_id : active version"
   ]
  },
  {
   "cell_type": "code",
   "execution_count": 66,
   "metadata": {
    "collapsed": false
   },
   "outputs": [
    {
     "name": "stdout",
     "output_type": "stream",
     "text": [
      "Update active workflow version info evaluation result : 25\n"
     ]
    }
   ],
   "source": [
    "# update workflow version info\n",
    "resp = requests.put('http://' + url + '/api/v1/type/common/target/nninfo/'+nn_id+'/version/',\n",
    "                     json={\n",
    "                         \"nn_wf_ver_id\": wf_ver_id,\n",
    "                         \"nn_def_list_info_nn_id\": \"\",\n",
    "                         \"nn_wf_ver_info\": nn_wf_ver_info,\n",
    "                         \"condition\": \"1\",\n",
    "                         \"active_flag\": \"Y\"\n",
    "                     })\n",
    "data = json.loads(resp.json())\n",
    "print(\"Update active workflow version info evaluation result : {0}\".format(data))"
   ]
  },
  {
   "cell_type": "markdown",
   "metadata": {
    "collapsed": true
   },
   "source": [
    "# CNN Network WorkFlow Node : Create"
   ]
  },
  {
   "cell_type": "code",
   "execution_count": 67,
   "metadata": {
    "collapsed": false
   },
   "outputs": [
    {
     "name": "stdout",
     "output_type": "stream",
     "text": [
      "insert workflow version node info evaluation result : cnn\n"
     ]
    }
   ],
   "source": [
    "# insert workflow version node info\n",
    "resp = requests.post('http://' + url + '/api/v1/type/wf/target/init/mode/simple/'+nn_id+'/wfver/'+wf_ver_id+'/',\n",
    "                     json={\n",
    "                         \"type\": network_type\n",
    "                     })\n",
    "data = json.loads(resp.json())\n",
    "print(\"insert workflow version node info evaluation result : {0}\".format(data))"
   ]
  },
  {
   "cell_type": "markdown",
   "metadata": {
    "collapsed": true
   },
   "source": [
    "# CNN Network WorkFlow Node : Network Config Setup"
   ]
  },
  {
   "cell_type": "code",
   "execution_count": 68,
   "metadata": {
    "collapsed": false
   },
   "outputs": [
    {
     "name": "stdout",
     "output_type": "stream",
     "text": [
      "insert workflow node conf info evaluation result : {'out': {'active': 'softmax', 'padding': 'SAME', 'cnnstride': '', 'node_out': 625, 'maxpoolmatrix': '', 'node_in': 128, 'maxpoolstride': '', 'regualizer': '', 'cnnfilter': '', 'droprate': ''}, 'layer2': {'active': 'relu', 'type': 'cnn', 'padding': 'SAME', 'cnnstride': [1, 1], 'node_out': 64, 'maxpoolmatrix': [2, 2], 'node_in': 32, 'maxpoolstride': [2, 2], 'regualizer': '', 'cnnfilter': [3, 3], 'droprate': '0.1'}, 'config': {'predictcnt': 2, 'num_classes': 1, 'batch_size': 10000, 'learnrate': 0.001, 'traincnt': 1}, 'modelname': 'model_nn00004_25', 'layer3': {'active': 'relu', 'type': 'cnn', 'padding': 'SAME', 'cnnstride': [1, 1], 'node_out': 128, 'maxpoolmatrix': [2, 2], 'node_in': 64, 'maxpoolstride': [2, 2], 'regualizer': '', 'cnnfilter': [3, 3], 'droprate': '0.1'}, 'modelpath': '/hoya_model_root/nn00004/25/netconf_node', 'layer1': {'active': 'relu', 'type': 'cnn', 'padding': 'SAME', 'cnnstride': [1, 1], 'node_out': 32, 'maxpoolmatrix': [2, 2], 'node_in': 1, 'maxpoolstride': [2, 2], 'regualizer': '', 'cnnfilter': [3, 3], 'droprate': '0.1'}, 'key': {'node': 'netconf_node', 'wf_ver_id': '25', 'nn_id': 'nn00004'}}\n"
     ]
    }
   ],
   "source": [
    "node = \"netconf_node\"\n",
    "\n",
    "resp = requests.put('http://' + url + '/api/v1/type/wf/state/netconf/detail/cnn/nnid/'+nn_id+'/ver/'+wf_ver_id+'/node/'+node+'/',\n",
    "                     json={\n",
    "                         \"key\" : {\"node\": node,\n",
    "                                  \"nn_id\": nn_id,\n",
    "                                  \"wf_ver_id\": wf_ver_id\n",
    "                                  }\n",
    "                         ,\"config\": {\"learnrate\": 0.001,\n",
    "                                 \"traincnt\": 1,\n",
    "                                 \"batch_size\":10000,\n",
    "                                 \"num_classes\":1,\n",
    "                                 \"predictcnt\": 2\n",
    "                                 }\n",
    "                         ,\"layer1\": {\n",
    "                                 \"type\": \"cnn\",\n",
    "                                 \"active\": \"relu\",\n",
    "                                 \"cnnfilter\": [3, 3],\n",
    "                                 \"cnnstride\": [1, 1],\n",
    "                                 \"maxpoolmatrix\": [2, 2],\n",
    "                                 \"maxpoolstride\": [2, 2],\n",
    "                                 \"node_in\": 1,\n",
    "                                 \"node_out\": 32,\n",
    "                                 \"regualizer\": \"\",\n",
    "                                 \"padding\": \"SAME\",\n",
    "                                 \"droprate\": \"0.1\"\n",
    "                                }\n",
    "                         ,\"layer2\": {\n",
    "                                 \"type\": \"cnn\",\n",
    "                                 \"active\": \"relu\",\n",
    "                                 \"cnnfilter\": [3, 3],\n",
    "                                 \"cnnstride\": [1, 1],\n",
    "                                 \"maxpoolmatrix\": [2, 2],\n",
    "                                 \"maxpoolstride\": [2, 2],\n",
    "                                 \"node_in\": 32,\n",
    "                                 \"node_out\": 64,\n",
    "                                 \"regualizer\": \"\",\n",
    "                                 \"padding\": \"SAME\",\n",
    "                                 \"droprate\": \"0.1\"\n",
    "                                }\n",
    "                         ,\"layer3\": {\n",
    "                                 \"type\": \"cnn\",\n",
    "                                 \"active\": \"relu\",\n",
    "                                 \"cnnfilter\": [3, 3],\n",
    "                                 \"cnnstride\": [1, 1],\n",
    "                                 \"maxpoolmatrix\": [2, 2],\n",
    "                                 \"maxpoolstride\": [2, 2],\n",
    "                                 \"node_in\": 64,\n",
    "                                 \"node_out\": 128,\n",
    "                                 \"regualizer\": \"\",\n",
    "                                 \"padding\": \"SAME\",\n",
    "                                 \"droprate\": \"0.1\"\n",
    "                                }\n",
    "                          ,\"out\": {\n",
    "                                 \"active\": \"softmax\",\n",
    "                                 \"cnnfilter\": \"\",\n",
    "                                 \"cnnstride\": \"\",\n",
    "                                 \"maxpoolmatrix\": \"\",\n",
    "                                 \"maxpoolstride\": \"\",\n",
    "                                 \"node_in\": 128,\n",
    "                                 \"node_out\": 625,\n",
    "                                 \"regualizer\": \"\",\n",
    "                                 \"padding\": \"SAME\",\n",
    "                                 \"droprate\": \"\"\n",
    "                                }\n",
    "                        })\n",
    "netconf = json.loads(resp.json())\n",
    "print(\"insert workflow node conf info evaluation result : {0}\".format(netconf))"
   ]
  },
  {
   "cell_type": "markdown",
   "metadata": {
    "collapsed": true
   },
   "source": [
    "# CNN Network WorkFlow Node :  Data Config Setup"
   ]
  },
  {
   "cell_type": "code",
   "execution_count": 74,
   "metadata": {
    "collapsed": false
   },
   "outputs": [
    {
     "name": "stdout",
     "output_type": "stream",
     "text": [
      "insert workflow node conf info evaluation result : {'preprocess': {'y_size': 32, 'x_size': 32, 'channel': 3}, 'source_path': '/hoya_src_root/nn00004/25/datasrc', 'labels': [], 'store_path': '/hoya_str_root/nn00004/25/datasrc', 'key': {'node': 'datasrc', 'wf_ver_id': '25', 'nn_id': 'nn00004'}}\n"
     ]
    }
   ],
   "source": [
    "node = \"datasrc\"\n",
    "\n",
    "resp = requests.put('http://' + url + '/api/v1/type/wf/state/imgdata/src/local/form/file/prg/source/nnid/'+nn_id+'/ver/'+wf_ver_id+'/node/'+node+'/',\n",
    "                     json={\n",
    "                            \"key\" : {\"node\": node,\n",
    "                                  \"nn_id\": nn_id,\n",
    "                                  \"wf_ver_id\": wf_ver_id\n",
    "                                  }\n",
    "                         ,\"preprocess\": {\"x_size\": 32,\n",
    "                                        \"y_size\": 32,\n",
    "                                        \"channel\":3}\n",
    "                         ,\"labels\":[]\n",
    "\n",
    "                     })\n",
    "dataconf = json.loads(resp.json())\n",
    "print(\"insert workflow node conf info evaluation result : {0}\".format(dataconf))"
   ]
  },
  {
   "cell_type": "markdown",
   "metadata": {},
   "source": [
    "# CNN Network WorkFlow Node :  Eval Config Setup"
   ]
  },
  {
   "cell_type": "code",
   "execution_count": 70,
   "metadata": {
    "collapsed": false
   },
   "outputs": [
    {
     "name": "stdout",
     "output_type": "stream",
     "text": [
      "insert workflow node conf info evaluation result : {'modelname': 'model_nn00004_25', 'modelpath': '/hoya_model_root/nn00004/25/eval_node', 'key': {'node': 'eval_node', 'wf_ver_id': '25', 'nn_id': 'nn00004'}}\n"
     ]
    }
   ],
   "source": [
    "node = \"eval_node\"\n",
    "\n",
    "resp = requests.put('http://' + url + '/api/v1/type/wf/state/netconf/detail/cnn/nnid/'+nn_id+'/ver/'+wf_ver_id+'/node/'+node+'/',\n",
    "                    json={\n",
    "                      \"key\" : {\"node\": node,\n",
    "                                  \"nn_id\": nn_id,\n",
    "                                  \"wf_ver_id\": wf_ver_id\n",
    "                                  }\n",
    "                    })\n",
    "evalconf = json.loads(resp.json())\n",
    "print(\"insert workflow node conf info evaluation result : {0}\".format(evalconf))"
   ]
  },
  {
   "cell_type": "markdown",
   "metadata": {},
   "source": [
    "# CNN Network WorkFlow Node :  Eval Data Config Setup"
   ]
  },
  {
   "cell_type": "code",
   "execution_count": 71,
   "metadata": {
    "collapsed": false
   },
   "outputs": [
    {
     "name": "stdout",
     "output_type": "stream",
     "text": [
      "insert workflow node conf info evaluation result : {'preprocess': {'y_size': 32, 'x_size': 32, 'channel': 3}, 'source_path': '/hoya_src_root/nn00004/25/evaldata', 'labels': [], 'store_path': '/hoya_str_root/nn00004/25/evaldata', 'key': {'node': 'evaldata', 'wf_ver_id': '25', 'nn_id': 'nn00004'}}\n"
     ]
    }
   ],
   "source": [
    "node = 'evaldata'\n",
    "resp = requests.put('http://' + url + '/api/v1/type/wf/state/imgdata/src/local/form/file/prg/source/nnid/'+nn_id+'/ver/'+wf_ver_id+'/node/'+node+'/',\n",
    "                     json={\n",
    "                            \"key\" : {\"node\": node,\n",
    "                                  \"nn_id\": nn_id,\n",
    "                                  \"wf_ver_id\": wf_ver_id\n",
    "                                  }\n",
    "                         ,\"preprocess\": {\"x_size\": 32,\n",
    "                                        \"y_size\": 32,\n",
    "                                        \"channel\":3}\n",
    "                         ,\"labels\":[]\n",
    "\n",
    "                     })\n",
    "edataconf = json.loads(resp.json())\n",
    "print(\"insert workflow node conf info evaluation result : {0}\".format(edataconf))"
   ]
  },
  {
   "cell_type": "markdown",
   "metadata": {},
   "source": [
    "# Sample Data Insert"
   ]
  },
  {
   "cell_type": "code",
   "execution_count": 86,
   "metadata": {
    "collapsed": false
   },
   "outputs": [
    {
     "name": "stdout",
     "output_type": "stream",
     "text": [
      "/hoya_src_root/nn00004/25/datasrc\n",
      "/hoya_src_root/nn00004/25/evaldata\n"
     ]
    }
   ],
   "source": [
    "import shutil\n",
    "sample_path = '/home/dev/hoyai/demo/data/sample_cnn_img.zip'\n",
    "source_path = dataconf[\"source_path\"]\n",
    "esource_path = edataconf[\"source_path\"]\n",
    "\n",
    "shutil.copy(sample_path, source_path)\n",
    "shutil.copy(sample_path, esource_path)\n",
    "print(source_path)\n",
    "print(esource_path)"
   ]
  },
  {
   "cell_type": "markdown",
   "metadata": {
    "collapsed": true
   },
   "source": [
    " "
   ]
  },
  {
   "cell_type": "markdown",
   "metadata": {
    "collapsed": true
   },
   "source": [
    " "
   ]
  },
  {
   "cell_type": "markdown",
   "metadata": {},
   "source": [
    "# CNN Network Training"
   ]
  },
  {
   "cell_type": "code",
   "execution_count": 87,
   "metadata": {
    "collapsed": false
   },
   "outputs": [
    {
     "name": "stdout",
     "output_type": "stream",
     "text": [
      "evaluation result : [None, None, None, None, None]\n"
     ]
    }
   ],
   "source": [
    "# Run Training\n",
    "resp = requests.post('http://' + url + '/api/v1/type/runmanager/state/train/nnid/'+nn_id+'/ver/'+wf_ver_id+'/')\n",
    "data = json.loads(resp.json())\n",
    "print(\"evaluation result : {0}\".format(data))"
   ]
  },
  {
   "cell_type": "markdown",
   "metadata": {},
   "source": [
    "# CNN Network Predict"
   ]
  },
  {
   "cell_type": "code",
   "execution_count": 43,
   "metadata": {
    "collapsed": false
   },
   "outputs": [
    {
     "name": "stdout",
     "output_type": "stream",
     "text": [
      "evaluation result : None\n"
     ]
    }
   ],
   "source": [
    "files = {\n",
    "         'files000001':  open('/home/dev/hoyai/demo/data/airplane/1air.jpg','rb')\n",
    "        ,'files000002':  open('/home/dev/hoyai/demo/data/airplane/2air.jpg','rb')\n",
    "        ,'files000003':  open('/home/dev/hoyai/demo/data/bolt/1bolt.jpg','rb')\n",
    "        ,'files000004':  open('/home/dev/hoyai/demo/data/bolt/2bolt.jpg','rb')\n",
    "        ,'files000005':  open('/home/dev/hoyai/demo/data/car/1car.jpg','rb')\n",
    "        ,'files000006':  open('/home/dev/hoyai/demo/data/car/2car.jpg','rb')\n",
    "        ,'files000007':  open('/home/dev/hoyai/demo/data/glove/1glove.jpg','rb')\n",
    "        ,'files000008':  open('/home/dev/hoyai/demo/data/glove/2glove.jpg','rb')\n",
    "        ,'files000009':  open('/home/dev/hoyai/demo/data/motor/1motor.jpg','rb')\n",
    "        ,'files000010':  open('/home/dev/hoyai/demo/data/motor/2motor.jpg','rb')\n",
    "        }\n",
    "restURL = 'http://' + url + '/api/v1/type/service/state/predict/type/'+network_type+'/nnid/'+nn_id+'/ver/'+wf_ver_id+'/'\n",
    "\n",
    "resp = requests.post(restURL,\n",
    "                     files=files,\n",
    "                     json={\n",
    "                         \"key\" : {\n",
    "                                  \"nn_id\": nn_id,\n",
    "                                  \"wf_ver_id\": wf_ver_id\n",
    "                                  }\n",
    "                     }\n",
    "                     )\n",
    "data = json.loads(resp.json())\n",
    "print(\"evaluation result : {0}\".format(data))"
   ]
  },
  {
   "cell_type": "code",
   "execution_count": null,
   "metadata": {
    "collapsed": true
   },
   "outputs": [],
   "source": []
  },
  {
   "cell_type": "code",
   "execution_count": null,
   "metadata": {
    "collapsed": true
   },
   "outputs": [],
   "source": []
  },
  {
   "cell_type": "code",
   "execution_count": null,
   "metadata": {
    "collapsed": true
   },
   "outputs": [],
   "source": []
  }
 ],
 "metadata": {
  "anaconda-cloud": {},
  "kernelspec": {
   "display_name": "Python [conda root]",
   "language": "python",
   "name": "conda-root-py"
  },
  "language_info": {
   "codemirror_mode": {
    "name": "ipython",
    "version": 3
   },
   "file_extension": ".py",
   "mimetype": "text/x-python",
   "name": "python",
   "nbconvert_exporter": "python",
   "pygments_lexer": "ipython3",
   "version": "3.5.2"
  }
 },
 "nbformat": 4,
 "nbformat_minor": 1
}

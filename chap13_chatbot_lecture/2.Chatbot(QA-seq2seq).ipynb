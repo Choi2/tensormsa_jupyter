{
 "cells": [
  {
   "cell_type": "markdown",
   "metadata": {},
   "source": [
    "# Why Chatbot\n",
    "* 앱을 새로 깔 필요가 없음\n",
    "* 앱을 깔필요가 없으니 배울 것도 없음\n",
    "* 편한 UX - 그냥 텍스트 치면됨\n",
    "* 즉각적인 Feedback\n",
    "\n",
    "## Seq2Seq를 활용한 간단한 Q/A 봇을 만들어보자\n",
    "![이미지](http://suriyadeepan.github.io/img/seq2seq/seq2seq2.png)\n",
    "* Python 3.5, Tensorflow 1.1, Konlpy (Mecab),Word2Vec (Gensim), matplotlib (Graph)"
   ]
  },
  {
   "cell_type": "code",
   "execution_count": 210,
   "metadata": {
    "collapsed": false
   },
   "outputs": [
    {
     "name": "stdout",
     "output_type": "stream",
     "text": [
      "3.5.2 |Anaconda 4.2.0 (64-bit)| (default, Jul  2 2016, 17:53:06) \n",
      "[GCC 4.4.7 20120313 (Red Hat 4.4.7-1)]\n",
      "1.2.1\n"
     ]
    }
   ],
   "source": [
    "# -*- coding: utf-8 -*-\n",
    "import tensorflow as tf\n",
    "import numpy as np\n",
    "\n",
    "print (sys.version)\n",
    "print (tf.__version__)"
   ]
  },
  {
   "cell_type": "markdown",
   "metadata": {},
   "source": [
    "### seq2seq를 위한 Data 구성\n",
    "* ABC를 입력했을때 WXYZ가 출력되게 구성\n",
    "* operator사용 value값 기준 정렬"
   ]
  },
  {
   "cell_type": "code",
   "execution_count": 211,
   "metadata": {
    "collapsed": false
   },
   "outputs": [],
   "source": [
    "# 질문에 따른 답변 정의\n",
    "train_data = [\n",
    "                ['안녕??', '만나서 반가워'],\n",
    "                ['넌누구니??', '나는 AI 봇이란다.'],\n",
    "                ['피자 주문 할께?', '페파로니 주문해줘'],\n",
    "                ['음료는 멀로', '콜라로 해줘']\n",
    "            ]\n",
    "char_array = []\n",
    "all_char = ''\n",
    "for text in train_data:\n",
    "    all_char = all_char + ''.join(text)\n",
    "char_array = list(set(all_char)) + ['[',']','P']\n",
    "\n",
    "max_input_text = max(len(s[0]) for s in train_data)\n",
    "max_output_text = max(len(s[1]) for s in train_data)"
   ]
  },
  {
   "cell_type": "code",
   "execution_count": 212,
   "metadata": {
    "collapsed": false
   },
   "outputs": [
    {
     "name": "stdout",
     "output_type": "stream",
     "text": [
      "{'워': 0, '안': 21, '라': 1, '구': 23, '나': 17, '콜': 2, '.': 22, '료': 4, '만': 26, '는': 27, 'A': 6, '봇': 35, '피': 28, '이': 31, '[': 38, '줘': 30, '문': 29, '다': 7, '?': 8, ' ': 9, '멀': 10, '해': 11, '서': 12, '음': 32, '넌': 24, '께': 25, '페': 13, '란': 36, 'I': 3, '할': 15, 'P': 40, ']': 39, '녕': 16, '반': 18, '자': 19, '가': 34, '니': 5, '파': 14, '누': 20, '주': 37, '로': 33}\n",
      "{'워': 0, '안': 21, '라': 1, '구': 23, '나': 17, '콜': 2, '.': 22, '료': 4, '만': 26, '는': 27, 'A': 6, '봇': 35, '피': 28, '이': 31, '[': 38, '줘': 30, '문': 29, '다': 7, '?': 8, ' ': 9, '멀': 10, '해': 11, '서': 12, '음': 32, '넌': 24, '께': 25, '페': 13, '란': 36, 'I': 3, '할': 15, 'P': 40, ']': 39, '녕': 16, '반': 18, '자': 19, '가': 34, '니': 5, '파': 14, '누': 20, '주': 37, '로': 33}\n",
      "Char List : {'워': 0, '안': 21, '라': 1, '구': 23, '나': 17, '콜': 2, '.': 22, '료': 4, '만': 26, '는': 27, 'A': 6, '봇': 35, '피': 28, '이': 31, '[': 38, '줘': 30, '문': 29, '다': 7, '?': 8, ' ': 9, '멀': 10, '해': 11, '서': 12, '음': 32, '넌': 24, '께': 25, '페': 13, '란': 36, 'I': 3, '할': 15, 'P': 40, ']': 39, '녕': 16, '반': 18, '자': 19, '가': 34, '니': 5, '파': 14, '누': 20, '주': 37, '로': 33}\n",
      "Char Size : 41\n"
     ]
    }
   ],
   "source": [
    "# enumerate 방법 사용 index : value 정렬\n",
    "num_dic = {n: i for i, n in enumerate(char_array)}\n",
    "print(num_dic)\n",
    "\n",
    "dic_len = len(num_dic)\n",
    "\n",
    "print(num_dic)\n",
    "\n",
    "print (\"Char List : \" + str(num_dic))\n",
    "print (\"Char Size : \" + str(dic_len))"
   ]
  },
  {
   "cell_type": "markdown",
   "metadata": {},
   "source": [
    "### One Hot Encodeing\n",
    "* ABCWXYZ[]의 정렬하여 1의 값으로 정렬 <br>\n",
    "A [1, 0, 0, 0, 0, 0, 0, 0, 0, 0] <br>\n",
    "B [0, 1, 0, 0, 0, 0, 0, 0, 0, 0] <br>\n",
    "C [0, 0, 1, 0, 0, 0, 0, 0, 0, 0] <br>"
   ]
  },
  {
   "cell_type": "code",
   "execution_count": 213,
   "metadata": {
    "collapsed": false
   },
   "outputs": [],
   "source": [
    "def make_train_data(train_data):\n",
    "    input_batch = []\n",
    "    output_batch = []\n",
    "    target_batch = []\n",
    "\n",
    "    for seq in train_data:\n",
    "        # 인코더 셀의 입력값. 입력단어의 글자들을 한글자씩 떼어 배열로 만든다.\n",
    "        input = [num_dic[n] for n in seq[0]+'P' * (max_input_text - len(seq[0]))]# + 'P' * (max_input_text - len(seq[0]))\n",
    "        # 디코더 셀의 입력값. 시작을 나타내는 [ 심볼을 맨 앞에 붙여준다.\n",
    "        output = [num_dic[n] for n in ('[' + seq[1] + 'P' * (max_output_text - len(seq[1])))]# + 'P' * (max_output_text - len(seq[1]))\n",
    "        # 학습을 위해 비교할 디코더 셀의 출력값. 끝나는 것을 알려주기 위해 마지막에 ] 를 붙인다.\n",
    "        target = [num_dic[n] for n in (seq[1] + 'P' * (max_output_text - len(seq[1])) + ']' )]# + 'P' * (max_output_text - len(seq[1])) + ']'\n",
    "        input_batch.append(np.eye(dic_len)[input])\n",
    "        output_batch.append(np.eye(dic_len)[output])\n",
    "        # 출력값만 one-hot 인코딩이 아님 (sparse_softmax_cross_entropy_with_logits 사용)\n",
    "        target_batch.append(target)\n",
    "    return input_batch, output_batch, target_batch\n",
    "#make_train_data(train_data)"
   ]
  },
  {
   "cell_type": "markdown",
   "metadata": {},
   "source": [
    "### 모델 저장을 위한 함수\n",
    "* 현재폴더의 model폴더를 만들어 모델을 저장한다 \n",
    "* 모델이 존재할 경우 삭제하고 새로 만든다"
   ]
  },
  {
   "cell_type": "code",
   "execution_count": 214,
   "metadata": {
    "collapsed": true
   },
   "outputs": [],
   "source": [
    "file_path = './model'\n",
    "def model_file(file_path, flag):\n",
    "    if(flag):\n",
    "        import os\n",
    "        saver = tf.train.Saver(tf.global_variables())\n",
    "\n",
    "        if(not os.path.exists(file_path)):\n",
    "            os.makedirs(file_path)\n",
    "        saver.save(sess, ''.join(file_path + \"/.model\"))\n",
    "        print(\"Model Saved\")\n",
    "    else:\n",
    "        import shutil\n",
    "        try:\n",
    "            shutil.rmtree(file_path)\n",
    "            print(\"Model Deleted\")\n",
    "        except OSError as e:\n",
    "            if e.errno == 2:\n",
    "                # 파일이나 디렉토리가 없음!\n",
    "                print ('No such file or directory to remove')\n",
    "                pass\n",
    "            else:\n",
    "                raise"
   ]
  },
  {
   "cell_type": "markdown",
   "metadata": {},
   "source": [
    "### Tensorflow Graph 생성\n",
    "* seq2seq모델의 Graph 생성\n",
    "* 동일한 크기의 encoder과 decoder의 크기로 학습"
   ]
  },
  {
   "cell_type": "code",
   "execution_count": 215,
   "metadata": {
    "collapsed": false
   },
   "outputs": [],
   "source": [
    "# 옵션 설정\n",
    "learning_rate = 0.01\n",
    "n_hidden = 128\n",
    "total_epoch = 100\n",
    "# one hot 위한 사이즈\n",
    "n_class = n_input = dic_len\n",
    "\n",
    "# 그래프 초기화 \n",
    "tf.reset_default_graph()\n",
    "# Seq2Seq 모델은 인코더의 입력과 디코더의 입력의 형식이 같다.\n",
    "enc_input = tf.placeholder(tf.float32, [None, None, n_input])\n",
    "dec_input = tf.placeholder(tf.float32, [None, None, n_input])\n",
    "targets = tf.placeholder(tf.int64, [None, None])\n",
    "\n",
    "# 인코더\n",
    "with tf.variable_scope(\"encoder\"):\n",
    "    enc_cell = tf.contrib.rnn.BasicLSTMCell(n_hidden)\n",
    "    enc_cell = tf.contrib.rnn.DropoutWrapper(enc_cell, output_keep_prob=0.5)\n",
    "    # scope.reuse_variables()\n",
    "    outputs, enc_states = tf.nn.dynamic_rnn(enc_cell, enc_input,\n",
    "                                            dtype=tf.float32)\n",
    "\n",
    "# 디코더\n",
    "with tf.variable_scope(\"decoder\"):\n",
    "    dec_cell = tf.contrib.rnn.BasicLSTMCell(n_hidden)\n",
    "    dec_cell = tf.contrib.rnn.DropoutWrapper(dec_cell, output_keep_prob=0.5)\n",
    "    # Seq2Seq 모델 구현\n",
    "    outputs, dec_states = tf.nn.dynamic_rnn(dec_cell, dec_input,\n",
    "                                            initial_state=enc_states,\n",
    "                                            dtype=tf.float32)\n",
    "\n",
    "model = tf.layers.dense(outputs, n_class, activation=None)\n",
    "\n",
    "cost = tf.reduce_mean(\n",
    "    tf.nn.sparse_softmax_cross_entropy_with_logits(\n",
    "        logits=model, labels=targets))\n",
    "\n",
    "optimizer = tf.train.AdamOptimizer(learning_rate).minimize(cost)\n",
    "\n",
    "sess = tf.Session()\n",
    "sess.run(tf.global_variables_initializer())\n",
    "input_batch, output_batch, target_batch = make_train_data(train_data)\n",
    "\n"
   ]
  },
  {
   "cell_type": "markdown",
   "metadata": {},
   "source": [
    "### 학습결과 출력\n",
    "* matplotlib 활용 학습 결과 출력"
   ]
  },
  {
   "cell_type": "code",
   "execution_count": 216,
   "metadata": {
    "collapsed": false
   },
   "outputs": [
    {
     "data": {
      "image/png": "[encoded data removed]",
      "text/plain": [
       "<matplotlib.figure.Figure at 0x7f79796b3b38>"
      ]
     },
     "metadata": {},
     "output_type": "display_data"
    }
   ],
   "source": [
    "import matplotlib.pyplot as plt\n",
    "\n",
    "def display_train():\n",
    "    plot_X = []\n",
    "    plot_Y = []\n",
    "    for epoch in range(total_epoch):\n",
    "        _, loss = sess.run([optimizer, cost],\n",
    "                           feed_dict={enc_input: input_batch,\n",
    "                                      dec_input: output_batch,\n",
    "                                      targets: target_batch})\n",
    "        plot_X.append(epoch + 1)\n",
    "        plot_Y.append(loss)\n",
    "    # Graphic display\n",
    "    plt.plot(plot_X, plot_Y, label='cost')\n",
    "    plt.show()\n",
    "\n",
    "display_train()"
   ]
  },
  {
   "cell_type": "markdown",
   "metadata": {},
   "source": [
    "### 예측 수행"
   ]
  },
  {
   "cell_type": "code",
   "execution_count": 217,
   "metadata": {
    "collapsed": false
   },
   "outputs": [
    {
     "name": "stdout",
     "output_type": "stream",
     "text": [
      "Model Saved\n",
      "Predict : 넌누구니?? -> 나는 AII봇이란다..\n",
      "Predict : 피자 주문 할레? -> 페파로니 주문해해\n",
      "Predict : 음료는 멀 -> 콜라로 해줘\n",
      "Model Deleted\n"
     ]
    }
   ],
   "source": [
    "# 최적화가 끝난 뒤, 변수를 저장합니다.\n",
    "model_file(file_path, True)\n",
    "\n",
    "# 단어를 입력받아 번역 단어를 예측하고 디코딩하는 함수\n",
    "def predict(word):\n",
    "    input_batch, output_batch, target_batch = make_train_data([word])\n",
    "    # 결과가 [batch size, time step, input] 으로 나오기 때문에,\n",
    "    # 2번째 차원인 input 차원을 argmax 로 취해 가장 확률이 높은 글자를 예측 값으로 만든다.\n",
    "    # http://pythonkim.tistory.com/73\n",
    "    prediction = tf.argmax(model, 2)\n",
    "    result = sess.run(prediction,\n",
    "                      feed_dict={enc_input: input_batch,\n",
    "                                 dec_input: output_batch,\n",
    "                                 targets: target_batch})\n",
    "    # 결과 값인 숫자의 인덱스에 해당하는 글자를 가져와 글자 배열을 만든다.\n",
    "    decoded = [char_array[i] for i in result[0]]\n",
    "    if 'P' in decoded:\n",
    "        end = decoded.index('P')\n",
    "        decoded = decoded[:end]\n",
    "    elif ']' in decoded:\n",
    "        end = decoded.index(']')\n",
    "        decoded = decoded[:end] \n",
    "    return decoded\n",
    "\n",
    "print (\"Predict : 넌누구니?? -> \" + ''.join(predict(['넌누구?',''])))\n",
    "print (\"Predict : 피자 주문 할레? -> \" + ''.join(predict(['피자 주문 할께?',''])))\n",
    "print (\"Predict : 음료는 멀 -> \" + ''.join(predict(['음료는 멀로',''])))\n",
    "\n",
    "model_file(file_path, False)"
   ]
  },
  {
   "cell_type": "code",
   "execution_count": null,
   "metadata": {
    "collapsed": true
   },
   "outputs": [],
   "source": []
  }
 ],
 "metadata": {
  "anaconda-cloud": {},
  "kernelspec": {
   "display_name": "Python [conda root]",
   "language": "python",
   "name": "conda-root-py"
  },
  "language_info": {
   "codemirror_mode": {
    "name": "ipython",
    "version": 3
   },
   "file_extension": ".py",
   "mimetype": "text/x-python",
   "name": "python",
   "nbconvert_exporter": "python",
   "pygments_lexer": "ipython3",
   "version": "3.5.2"
  }
 },
 "nbformat": 4,
 "nbformat_minor": 1
}

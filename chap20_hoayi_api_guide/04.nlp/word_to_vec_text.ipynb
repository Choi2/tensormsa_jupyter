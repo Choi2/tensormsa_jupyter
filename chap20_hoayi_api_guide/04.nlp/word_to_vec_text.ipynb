{
 "cells": [
  {
   "cell_type": "markdown",
   "metadata": {
    "collapsed": true
   },
   "source": [
    "# Neural Network 정의\n",
    "nn_id : Neural Network ID<br>\n",
    "biz_cate : Business 대분류<br>\n",
    "biz_sub_cate : Business 소분류<br>\n",
    "nn_title : Neural Network Title<br>\n",
    "nn_desc : Neural Network Description<br>\n",
    "use_flag : 사용여부<br> \n",
    "dir : 문제유형<br>\n",
    "config : Custom 여부 "
   ]
  },
  {
   "cell_type": "code",
   "execution_count": 4,
   "metadata": {
    "collapsed": false
   },
   "outputs": [
    {
     "name": "stdout",
     "output_type": "stream",
     "text": [
      "1.evaluation result : w2v0005\n"
     ]
    }
   ],
   "source": [
    "##### import requests\n",
    "import json, os\n",
    "\n",
    "url = \"{0}:{1}\".format(os.environ['HOSTNAME'] , \"8000\")\n",
    "\n",
    "nn_id = \"w2v0005\"\n",
    "nn_wf_ver_id =\"1\"\n",
    "\n",
    "# Seq - 1\n",
    "resp = requests.post('http://' + url + '/api/v1/type/common/target/nninfo/nnid/' + nn_id + '/',\n",
    "                     json={\n",
    "                         \"biz_cate\": \"MES\",\n",
    "                         \"biz_sub_cate\": \"M60\",\n",
    "                         \"nn_title\" : \"test\",\n",
    "                         \"nn_desc\": \"test desc\",\n",
    "                         \"use_flag\" : \"Y\",\n",
    "                         \"dir\": \"purpose?\",\n",
    "                         \"config\": \"N\"\n",
    "                     })\n",
    "data = json.loads(resp.json())\n",
    "print(\"1.evaluation result : {0}\".format(data))"
   ]
  },
  {
   "cell_type": "markdown",
   "metadata": {},
   "source": [
    "# Work Flow Version 정의\n",
    "nn_def_list_info_nn_id :<br>\n",
    "nn_wf_ver_info : Work Flow Version Description<br>\n",
    "condition :<br>\n",
    "active_flag : 사용여부\n",
    "master_nn_ver_wflist_info insert"
   ]
  },
  {
   "cell_type": "code",
   "execution_count": 5,
   "metadata": {
    "collapsed": false
   },
   "outputs": [
    {
     "name": "stdout",
     "output_type": "stream",
     "text": [
      "2.evaluation result : w2v0005\n"
     ]
    }
   ],
   "source": [
    "# Seq - 2\n",
    "resp = requests.post('http://' + url + '/api/v1/type/common/target/nninfo/nnid/' + nn_id + '/version/',\n",
    "                 json={\n",
    "                     \"nn_def_list_info_nn_id\": \"\",\n",
    "                     \"nn_wf_ver_info\": \"test version info\",\n",
    "                     \"condition\": \"1\",\n",
    "                     \"active_flag\": \"Y\"\n",
    "                 })\n",
    "data = json.loads(resp.json())\n",
    "print(\"2.evaluation result : {0}\".format(data))"
   ]
  },
  {
   "cell_type": "markdown",
   "metadata": {},
   "source": [
    "# Work Flow Node  Initialize\n",
    "type : Neural Network Type<br>\n",
    "1. Data Node<br>\n",
    "2. Neural Network Node<br>\n",
    "3. Evaluation Node<br>"
   ]
  },
  {
   "cell_type": "code",
   "execution_count": 6,
   "metadata": {
    "collapsed": false
   },
   "outputs": [
    {
     "name": "stdout",
     "output_type": "stream",
     "text": [
      "3.evaluation result : word2vec\n"
     ]
    }
   ],
   "source": [
    "# Seq - 3\n",
    "resp = requests.post('http://' + url + '/api/v1/type/wf/target/init/mode/simple/'+ nn_id + '/wfver/1/',\n",
    "                     json={\n",
    "                         \"type\": \"word2vec\"\n",
    "                     })\n",
    "data = json.loads(resp.json())\n",
    "print(\"3.evaluation result : {0}\".format(data))"
   ]
  },
  {
   "cell_type": "markdown",
   "metadata": {},
   "source": [
    "# Data Node Config\n",
    "type : Image Source Type<br>\n",
    "labels : Classfication Labels<br>\n",
    "source_path : Image Source Path<br>\n",
    "preprocess : Image Preprocess Config<br>\n",
    "store_path : Image Store Path"
   ]
  },
  {
   "cell_type": "code",
   "execution_count": 7,
   "metadata": {
    "collapsed": false
   },
   "outputs": [
    {
     "name": "stdout",
     "output_type": "stream",
     "text": [
      "4.evaluation result : ['1 file upload success']\n",
      "5.evaluation result : {'source_server': 'local', 'max_sentence_len': 10, 'source_parse_type': 'raw', 'source_path': '/hoya_src_root/w2v0005/1/data_node', 'source_type': 'local', 'source_sql': 'all'}\n"
     ]
    }
   ],
   "source": [
    "# Seq - 4\n",
    "return_dict = {}\n",
    "return_dict['test'] = open('../../data/novel_1.txt', 'rb')\n",
    "\n",
    "resp = requests.post('http://' + url + '/api/v1/type/wf/state/textdata/src/local/form/raw/prg/source/nnid/'+nn_id+'/ver/1/node/data_node/',\n",
    "                     files = return_dict)\n",
    "\n",
    "data = json.loads(resp.json())\n",
    "print(\"4.evaluation result : {0}\".format(data))\n",
    "\n",
    "# Seq - 5\n",
    "resp = requests.put('http://' + url + '/api/v1/type/wf/state/textdata/src/local/form/raw/prg/source/nnid/'+ nn_id + '/ver/1/node/data_node/',\n",
    "                     json={\n",
    "                         \"source_server\": \"local\",\n",
    "                         \"source_sql\": \"all\",\n",
    "                         \"max_sentence_len\" : 10\n",
    "                     })\n",
    "data = json.loads(resp.json())\n",
    "print(\"5.evaluation result : {0}\".format(data))\n"
   ]
  },
  {
   "cell_type": "markdown",
   "metadata": {
    "collapsed": true
   },
   "source": [
    "# Select Preprocess Type\n",
    "preprocess : kkma, twiter, mecab, nltk<br>"
   ]
  },
  {
   "cell_type": "code",
   "execution_count": 8,
   "metadata": {
    "collapsed": false
   },
   "outputs": [
    {
     "name": "stdout",
     "output_type": "stream",
     "text": [
      "6.evaluation result : mecab\n",
      "7.evaluation result : /hoya_str_root/w2v0005/1/data_node\n",
      "8.evaluation result : {'source_server': 'local', 'source_path': '/hoya_src_root/w2v0005/1/data_node', 'preprocess': 'mecab', 'source_parse_type': 'raw', 'max_sentence_len': 10, 'source_type': 'local', 'store_path': '/hoya_str_root/w2v0005/1/data_node', 'source_sql': 'all'}\n"
     ]
    }
   ],
   "source": [
    "# Seq - 6\n",
    "resp = requests.put('http://' + url + '/api/v1/type/wf/state/textdata/src/local/form/raw/prg/pre/nnid/'+ nn_id + '/ver/1/node/data_node/',\n",
    "                     json={\n",
    "                         \"preprocess\":  \"mecab\",\n",
    "                     })\n",
    "data = json.loads(resp.json())\n",
    "print(\"6.evaluation result : {0}\".format(data))\n",
    "\n",
    "# Seq - 7\n",
    "resp = requests.put('http://' + url + '/api/v1/type/wf/state/textdata/src/local/form/raw/prg/store/nnid/'+ nn_id + '/ver/1/node/data_node/')\n",
    "data = json.loads(resp.json())\n",
    "print(\"7.evaluation result : {0}\".format(data))\n",
    "\n",
    "# Seq - 8\n",
    "resp = requests.get('http://' + url + '/api/v1/type/wf/state/textdata/src/local/form/raw/prg/source/nnid/'+ nn_id + '/ver/1/node/data_node/')\n",
    "data = json.loads(resp.json())\n",
    "print(\"8.evaluation result : {0}\".format(data))"
   ]
  },
  {
   "cell_type": "markdown",
   "metadata": {},
   "source": [
    "# Neural Network Node Config\n",
    "model_path : Model Save Path<br>\n",
    "window_size : 문장 내의 현재 단어와 예측 단어 사이의 최대 거리.<br>\n",
    "vector_size : 백터사이즈.<br>\n",
    "batch_size : Batch Size (Vocabary Distance)<br>\n",
    "iter : Trainning Iteration<br>"
   ]
  },
  {
   "cell_type": "code",
   "execution_count": 9,
   "metadata": {
    "collapsed": false
   },
   "outputs": [
    {
     "name": "stdout",
     "output_type": "stream",
     "text": [
      "9.evaluation result : {'vector_size': 100, 'window_size': 5, 'model_path': '/hoya_model_root/w2v0005/1/netconf_node', 'batch_size': 100, 'min_count': 1, 'iter': 5}\n"
     ]
    }
   ],
   "source": [
    "# Seq - 9\n",
    "resp = requests.put('http://' + url + '/api/v1/type/wf/state/netconf/detail/w2v/nnid/' + nn_id + '/ver/' + nn_wf_ver_id + '/node/netconf_node/',\n",
    "                     json={\n",
    "                        \"window_size\" : 5,\n",
    "                        \"vector_size\" : 100,\n",
    "                        \"batch_size\" : 100,\n",
    "                        \"iter\" : 5,\n",
    "                        \"min_count\" : 1\n",
    "                     })\n",
    "data = json.loads(resp.json())\n",
    "print(\"9.evaluation result : {0}\".format(data))"
   ]
  },
  {
   "cell_type": "markdown",
   "metadata": {},
   "source": [
    "# Eval Network Node Config"
   ]
  },
  {
   "cell_type": "code",
   "execution_count": 10,
   "metadata": {
    "collapsed": false
   },
   "outputs": [
    {
     "name": "stdout",
     "output_type": "stream",
     "text": [
      "10.evaluation result : ['1 file upload success']\n",
      "11.evaluation result : {'source_server': 'local', 'max_sentence_len': 50, 'source_parse_type': 'raw', 'source_path': '/hoya_src_root/w2v0005/1/test_data_node', 'source_type': 'local', 'source_sql': 'all'}\n",
      "12.evaluation result : mecab\n",
      "13.evaluation result : /hoya_str_root/w2v0005/1/test_data_node\n",
      "14.evaluation result : {'type': 'w2v'}\n"
     ]
    }
   ],
   "source": [
    "# Seq - 10\n",
    "return_dict = {}\n",
    "return_dict['test'] = open('../../data/novel_1.txt', 'rb')\n",
    "resp = requests.post('http://' + url + '/api/v1/type/wf/state/textdata/src/local/form/raw/prg/source/nnid/'+ nn_id + '/ver/1/node/test_data_node/',\n",
    "                     files = return_dict)\n",
    "data = json.loads(resp.json())\n",
    "print(\"10.evaluation result : {0}\".format(data))\n",
    "\n",
    "# Seq - 11\n",
    "resp = requests.put('http://' + url + '/api/v1/type/wf/state/textdata/src/local/form/raw/prg/source/nnid/'+ nn_id + '/ver/1/node/test_data_node/',\n",
    "                     json={\n",
    "                         \"source_server\": \"local\",\n",
    "                         \"source_sql\": \"all\",\n",
    "                         \"max_sentence_len\" : 50\n",
    "                     })\n",
    "data = json.loads(resp.json())\n",
    "print(\"11.evaluation result : {0}\".format(data))\n",
    "\n",
    "# Seq - 12\n",
    "resp = requests.put('http://' + url + '/api/v1/type/wf/state/textdata/src/local/form/raw/prg/pre/nnid/'+ nn_id + '/ver/1/node/test_data_node/',\n",
    "                     json={\n",
    "                         \"preprocess\":  \"mecab\",\n",
    "                     })\n",
    "data = json.loads(resp.json())\n",
    "print(\"12.evaluation result : {0}\".format(data))\n",
    "\n",
    "# Seq - 13\n",
    "resp = requests.put('http://' + url + '/api/v1/type/wf/state/textdata/src/local/form/raw/prg/store/nnid/'+ nn_id + '/ver/1/node/test_data_node/')\n",
    "data = json.loads(resp.json())\n",
    "print(\"13.evaluation result : {0}\".format(data))\n",
    "\n",
    "node_name = 'eval_node'\n",
    "resp = requests.put('http://' + url + '/api/v1/type/wf/state/eval/nnid/'+nn_id+'/ver/1/node/eval_node/',\n",
    "                    json={\n",
    "                        \"type\": \"w2v\",\n",
    "                    })\n",
    "data = json.loads(resp.json())\n",
    "print(\"14.evaluation result : {0}\".format(data))"
   ]
  },
  {
   "cell_type": "markdown",
   "metadata": {},
   "source": [
    "# Training"
   ]
  },
  {
   "cell_type": "code",
   "execution_count": 11,
   "metadata": {
    "collapsed": false
   },
   "outputs": [
    {
     "name": "stdout",
     "output_type": "stream",
     "text": [
      "14.evaluation result : [None, None, None, None, True, {'x': [], 'y': [], 'word': []}]\n"
     ]
    }
   ],
   "source": [
    "# Seq - 14\n",
    "resp = requests.post('http://' + url + '/api/v1/type/runmanager/state/train/nnid/'+nn_id+'/ver/'+nn_wf_ver_id+'/')\n",
    "data = json.loads(resp.json())\n",
    "print(\"14.evaluation result : {0}\".format(data))"
   ]
  },
  {
   "cell_type": "markdown",
   "metadata": {},
   "source": [
    "# Prediction\n",
    "type :  sim\n",
    "val_1 : [철강,권오준,연구원,포스코]\n",
    "\n",
    "\n",
    "포스코-적자\n",
    "철강-포스코\n"
   ]
  },
  {
   "cell_type": "code",
   "execution_count": 12,
   "metadata": {
    "collapsed": false
   },
   "outputs": [
    {
     "name": "stdout",
     "output_type": "stream",
     "text": [
      "evaluation result : [[0.01969406194984913, -0.09804179519414902, 0.1542636752128601, 0.2112734019756317, -0.037264686077833176, 0.10920611768960953, -0.1596326380968094, -0.023802446201443672, -0.020082926377654076, -0.16287624835968018, 0.11105943471193314, 0.12063600867986679, 0.055013664066791534, -0.0608241893351078, 0.003094926942139864, 0.09242644160985947, 0.04621683061122894, 0.03490554168820381, 0.05245642736554146, 0.06112836301326752, 0.06081978231668472, 0.10848554223775864, -0.09712579846382141, 0.05378593131899834, 0.1518940031528473, 0.1037895530462265, -0.1779768317937851, 0.03627336397767067, -0.04067004844546318, 0.12469716370105743, 0.11134537309408188, -0.03336101397871971, 0.06870795786380768, -0.06295514851808548, 0.15352946519851685, -0.11334399878978729, 0.18121683597564697, -0.07570145279169083, 0.18824899196624756, -0.027422551065683365, 0.013871768489480019, 0.05743801221251488, -0.06971363723278046, -0.08156920224428177, 0.016776004806160927, 0.11713533848524094, -0.016238071024417877, 0.06754310429096222, -0.0709703117609024, -0.18431943655014038, 0.0868731364607811, 0.13314814865589142, -0.08757363259792328, -0.31758973002433777, 0.10540641099214554, -0.053717661648988724, -0.030997253954410553, -0.15057773888111115, -0.003943033050745726, -0.14167502522468567, -0.1806940883398056, 0.3023865520954132, 0.14319273829460144, 0.24675118923187256, -0.044816020876169205, -0.06091814115643501, 0.057220712304115295, -0.03526046499609947, -0.15630125999450684, 0.14825284481048584, -0.11920709908008575, 0.022581757977604866, 0.1172805204987526, -0.156855970621109, 0.04874395206570625, -0.004448169842362404, -0.03587086871266365, -0.1686984747648239, 0.0178881473839283, 0.14731165766716003, 0.08064007759094238, -0.1186898946762085, -0.07072772830724716, 0.004780800547450781, 0.18429093062877655, -0.038146309554576874, 0.07930325716733932, 0.18171167373657227, -0.1468982696533203, 0.015983354300260544, 0.15976059436798096, 0.0018693630117923021, -0.05964387580752373, -0.08949343115091324, 0.23319298028945923, 0.048166073858737946, -0.0153447100892663, 0.014025557786226273, -0.04631911963224411, -0.0054176002740859985], [-0.007171990815550089, -0.08736070990562439, 0.24856442213058472, 0.1571837216615677, 0.16874752938747406, 0.07555404305458069, -0.14602543413639069, -0.03753770515322685, 0.13034772872924805, -0.02651212178170681, 0.14857780933380127, 0.14833246171474457, 0.018037285655736923, -0.14809824526309967, -0.05854528397321701, 0.12729878723621368, 0.012568242847919464, 0.07763342559337616, 0.10054557025432587, 0.06478344649076462, 0.1545524001121521, 0.009101428091526031, -0.12017674744129181, 0.1231256052851677, 0.22110873460769653, 0.010695938020944595, -0.12592940032482147, -0.05020952224731445, 0.05977462977170944, 0.095872662961483, 0.19776642322540283, 0.010030844248831272, 0.04447752237319946, 0.04203808307647705, 0.18586647510528564, -0.1942605823278427, 0.21780350804328918, 0.032223284244537354, 0.2746666669845581, -0.09047122299671173, 0.03360595554113388, -0.03600827977061272, -0.04122953861951828, -0.054771941155195236, 0.11526083946228027, 0.14654752612113953, -0.0011299593606963754, 0.11845240741968155, -0.046381041407585144, -0.14001381397247314, 0.00583024974912405, 0.1646624058485031, -0.12186133116483688, -0.2921191155910492, 0.09416953474283218, 0.029900239780545235, -0.11350110173225403, -0.18855561316013336, 0.10557426512241364, 0.05937407165765762, -0.08450929075479507, 0.28149181604385376, 0.10278485715389252, 0.22608603537082672, -0.04654941335320473, -0.08492961525917053, -0.014353346079587936, -0.048126041889190674, -0.08008582144975662, 0.3168815076351166, -0.2555341422557831, -0.09909138083457947, 0.23232914507389069, 0.02578173577785492, 0.08924391865730286, 0.011732266284525394, 0.00010734121315181255, -0.12953290343284607, -0.006340694613754749, 0.16894453763961792, 0.06899742782115936, -0.09807051718235016, 0.0365544818341732, 0.07074569910764694, 0.30088040232658386, -0.14181309938430786, 0.17937256395816803, 0.1552526354789734, -0.07995240390300751, -0.03189997747540474, 0.21203801035881042, 0.014409683644771576, 0.003194407094269991, -0.08418047428131104, 0.2447178065776825, -0.003165328875184059, -0.0030925991013646126, -0.015133061446249485, -0.18209631741046906, 0.0009958500741049647]]\n"
     ]
    }
   ],
   "source": [
    "# Run All Workflow\n",
    "resp = requests.post('http://' + url + '/api/v1/type/service/state/predict/type/w2v/nnid/' + nn_id + '/ver/active/',\n",
    "                     json={\n",
    "                         \"type\": \"vector\",\n",
    "                         \"val_1\":[\"김승우\", \"이미지\"],\n",
    "                         \"val_2\":[]\n",
    "                        }\n",
    "                     )\n",
    "data = json.loads(resp.json())\n",
    "print(\"evaluation result : {0}\".format(data))"
   ]
  },
  {
   "cell_type": "code",
   "execution_count": null,
   "metadata": {
    "collapsed": true
   },
   "outputs": [],
   "source": []
  }
 ],
 "metadata": {
  "anaconda-cloud": {},
  "kernelspec": {
   "display_name": "Python [conda root]",
   "language": "python",
   "name": "conda-root-py"
  },
  "language_info": {
   "codemirror_mode": {
    "name": "ipython",
    "version": 3
   },
   "file_extension": ".py",
   "mimetype": "text/x-python",
   "name": "python",
   "nbconvert_exporter": "python",
   "pygments_lexer": "ipython3",
   "version": "3.5.2"
  }
 },
 "nbformat": 4,
 "nbformat_minor": 1
}

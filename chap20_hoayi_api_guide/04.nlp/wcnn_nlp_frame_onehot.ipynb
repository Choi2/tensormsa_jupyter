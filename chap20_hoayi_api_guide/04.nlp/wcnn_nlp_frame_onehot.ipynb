{
 "cells": [
  {
   "cell_type": "markdown",
   "metadata": {},
   "source": [
    "# Wide and CNN\n",
    "Google 에서 발표현 Wide and Deep 을 약간 변형한 형태로 Wide(Logistic)과 Cnn(Deep)을 Combine 형태의 Network 를 개발하였다. <br> \n",
    "여기서는 자연어를 Wide and Cnn 을 사용하여 Classification 하는 것을 테스트 하고자 한다. "
   ]
  },
  {
   "cell_type": "code",
   "execution_count": 177,
   "metadata": {
    "collapsed": false
   },
   "outputs": [
    {
     "name": "stdout",
     "output_type": "stream",
     "text": [
      "done\n"
     ]
    }
   ],
   "source": [
    "import requests\n",
    "import json, os\n",
    "\n",
    "nn_id = 'nn902993'  # put some key value you want to test\n",
    "\n",
    "url = \"{0}:{1}\".format(os.environ['HOSTNAME'] , \"8000\")\n",
    "print(\"done\")"
   ]
  },
  {
   "cell_type": "markdown",
   "metadata": {},
   "source": [
    "# 네트워크 및 그래프 버전 생성 \n"
   ]
  },
  {
   "cell_type": "code",
   "execution_count": 178,
   "metadata": {
    "collapsed": false
   },
   "outputs": [
    {
     "name": "stdout",
     "output_type": "stream",
     "text": [
      "evaluation result : nn902993\n",
      "evaluation result : nn902993\n"
     ]
    }
   ],
   "source": [
    "####(1) 네트워크 생성 ####\n",
    "resp = requests.post('http://' + url + '/api/v1/type/common/target/nninfo/nnid/' + nn_id + '/',\n",
    "                     json={\n",
    "                         \"biz_cate\": \"MES\",\n",
    "                         \"biz_sub_cate\": \"M60\",\n",
    "                         \"nn_title\" : \"test\",\n",
    "                         \"nn_desc\": \"test desc\",\n",
    "                         \"use_flag\" : \"Y\",\n",
    "                         \"dir\": \"purpose?\",\n",
    "                         \"config\": \"N\"\n",
    "                     })\n",
    "data = json.loads(resp.json())\n",
    "print(\"evaluation result : {0}\".format(data))\n",
    "\n",
    "####(2) 버전 생성 ####\n",
    "resp = requests.post('http://' + url + '/api/v1/type/common/target/nninfo/nnid/' + nn_id + '/version/',\n",
    "                 json={\n",
    "                     \"nn_def_list_info_nn_id\": \"\",\n",
    "                     \"nn_wf_ver_info\": \"test version info\",\n",
    "                     \"condition\": \"1\",\n",
    "                     \"active_flag\": \"Y\"\n",
    "                 })\n",
    "data = json.loads(resp.json())\n",
    "print(\"evaluation result : {0}\".format(data))\n"
   ]
  },
  {
   "cell_type": "markdown",
   "metadata": {},
   "source": [
    "# 그래프 플로우 정의"
   ]
  },
  {
   "cell_type": "code",
   "execution_count": 179,
   "metadata": {
    "collapsed": false
   },
   "outputs": [
    {
     "name": "stdout",
     "output_type": "stream",
     "text": [
      "evaluation result : wcnn\n"
     ]
    }
   ],
   "source": [
    "# Work Flow 틀을 구성하도로고 지시한다. (정해진 틀을 강제로 생성)\n",
    "resp = requests.post('http://' + url + '/api/v1/type/wf/target/init/mode/simple/' + nn_id +'/wfver/1/',\n",
    "                     json={\n",
    "                         \"type\": 'wcnn'\n",
    "                     })\n",
    "data = json.loads(resp.json())\n",
    "print(\"evaluation result : {0}\".format(data))"
   ]
  },
  {
   "cell_type": "markdown",
   "metadata": {},
   "source": [
    "# 데이터 업로드"
   ]
  },
  {
   "cell_type": "code",
   "execution_count": 180,
   "metadata": {
    "collapsed": false
   },
   "outputs": [
    {
     "name": "stdout",
     "output_type": "stream",
     "text": [
      "evaluation result : ['1 file upload success']\n"
     ]
    }
   ],
   "source": [
    "import os\n",
    "\n",
    "return_dict = {}\n",
    "return_dict['test'] = open('../../data/seq2seq_several_case.csv', 'rb')\n",
    "\n",
    "resp = requests.post('http://' + url + '/api/v1/type/wf/state/framedata/src/local/form/raw/prg/source/nnid/'+nn_id+'/ver/1/node/data_node/',\n",
    "                     files = return_dict)\n",
    "\n",
    "data = json.loads(resp.json())\n",
    "print(\"evaluation result : {0}\".format(data))"
   ]
  },
  {
   "cell_type": "markdown",
   "metadata": {},
   "source": [
    "# 데이터 노드 정의"
   ]
  },
  {
   "cell_type": "code",
   "execution_count": 181,
   "metadata": {
    "collapsed": false
   },
   "outputs": [
    {
     "name": "stdout",
     "output_type": "stream",
     "text": [
      "evaluation result : /hoya_str_root/nn902993/1/data_node\n"
     ]
    }
   ],
   "source": [
    "# (1) Train Data Node 의 속성을 정의\n",
    "# 어디서 Source 를 어떻게 가지고 올것인지 파라메터 정의 \n",
    "resp = requests.put('http://' + url + '/api/v1/type/wf/state/framedata/src/local/form/raw/prg/source/nnid/'+nn_id+'/ver/1/node/data_node/',\n",
    "                     json={\n",
    "                         \"type\": \"csv\",\n",
    "                         \"source_server\": \"local\",\n",
    "                         \"source_sql\": \"all\",\n",
    "                     })\n",
    "\n",
    "# 전처리는 어떤 것을 할지 정의\n",
    "resp = requests.put('http://' + url + '/api/v1/type/wf/state/framedata/src/local/form/raw/prg/pre/nnid/'+nn_id+'/ver/1/node/data_node/',\n",
    "                      json={\n",
    "                          \"preprocess\":  \"none\",\n",
    "                      })\n",
    "# 전처리가 완료된 데이터는 어디에 저장을 할지 \n",
    "resp = requests.put('http://' + url + '/api/v1/type/wf/state/framedata/src/local/form/raw/prg/store/nnid/'+nn_id+'/ver/1/node/data_node/',)\n",
    "\n",
    "data = json.loads(resp.json())\n",
    "print(\"evaluation result : {0}\".format(data))"
   ]
  },
  {
   "cell_type": "markdown",
   "metadata": {},
   "source": [
    "# 데이터 Feeder 정의"
   ]
  },
  {
   "cell_type": "code",
   "execution_count": 182,
   "metadata": {
    "collapsed": false
   },
   "outputs": [
    {
     "name": "stdout",
     "output_type": "stream",
     "text": [
      "evaluation result : {'encode_column': 'encode', 'preprocess': 'mecab', 'embed_type': 'onehot', 'decode_column': 'decode', 'vocab_size': 100, 'channel': 1, 'encode_len': 15, 'lable_size': 13}\n"
     ]
    }
   ],
   "source": [
    "# (2) Network 에 데이터를 Feed하는 Node 의 속성을 정의 \n",
    "resp = requests.post('http://' + url + '/api/v1/type/wf/state/pre/detail/feed/src/frame/net/wcnn/nnid/'+nn_id+'/ver/1/node/pre_feed_train/',\n",
    "                     json={\n",
    "                         \"encode_column\" : \"encode\",\n",
    "                         \"decode_column\" : \"decode\",\n",
    "                         \"channel\" : 1,\n",
    "                         \"encode_len\" : 15,\n",
    "                         \"preprocess\": \"mecab\",\n",
    "                         \"vocab_size\" : 100,\n",
    "                         \"lable_size\" : 13, \n",
    "                         \"embed_type\" : 'onehot'\n",
    "                     })\n",
    "data = json.loads(resp.json())\n",
    "print(\"evaluation result : {0}\".format(data))"
   ]
  },
  {
   "cell_type": "markdown",
   "metadata": {},
   "source": [
    "# 네트워크 정의"
   ]
  },
  {
   "cell_type": "code",
   "execution_count": 183,
   "metadata": {
    "collapsed": false
   },
   "outputs": [
    {
     "name": "stdout",
     "output_type": "stream",
     "text": [
      "evaluation result : {'out': {'padding': 'SAME', 'active': 'softmax', 'node_out': 625}, 'layers': [{'padding': 'SAME', 'droprate': '0.8', 'maxpoolstride': [2, 2], 'active': 'relu', 'maxpoolmatrix': [2, 2], 'layercnt': 2, 'cnnfilter': [3, 3], 'cnnstride': [1, 1]}, {'padding': 'SAME', 'droprate': '0.8', 'maxpoolstride': [2, 2], 'active': 'relu', 'maxpoolmatrix': [1, 1], 'layercnt': 1, 'cnnfilter': [3, 3], 'cnnstride': [1, 1]}], 'labels': [], 'param': {'batch_size': 25000, 'predictcnt': 10, 'epoch': 30, 'traincnt': 1}, 'model_path': '/hoya_model_root/nn902993/1/netconf_node', 'config': {'layeroutputs': 32, 'num_classes': 10, 'learnrate': 0.001, 'eval_type': 'category', 'net_type': 'cnn', 'optimizer': 'AdamOptimizer'}}\n"
     ]
    }
   ],
   "source": [
    "resp = requests.put('http://' + url + '/api/v1/type/wf/state/netconf/detail/wcnn/nnid/'+nn_id+'/ver/1/node/netconf_node/',\n",
    "                     json={\n",
    "                         \"param\":{\"epoch\": 30\n",
    "                                  ,\"traincnt\": 1\n",
    "                                  ,\"batch_size\":25000\n",
    "                                  ,\"predictcnt\": 10\n",
    "                         },\n",
    "                         \"config\": {\"num_classes\":10,\n",
    "                                    \"learnrate\": 0.001,\n",
    "                                    \"layeroutputs\":32,\n",
    "                                    \"net_type\":\"cnn\",\n",
    "                                    \"eval_type\":\"category\",\n",
    "                                    \"optimizer\":\"AdamOptimizer\" #RMSPropOptimizer\n",
    "                                     }\n",
    "                         ,\"layers\": [\n",
    "                                    {\"active\": \"relu\",\n",
    "                                     \"cnnfilter\": [3, 3],\n",
    "                                     \"cnnstride\": [1, 1],\n",
    "                                     \"maxpoolmatrix\": [2, 2],\n",
    "                                     \"maxpoolstride\": [2, 2],\n",
    "                                     \"padding\": \"SAME\",\n",
    "                                     \"droprate\": \"0.8\",\n",
    "                                     \"layercnt\":2\n",
    "                                    },\n",
    "                                    {\"active\": \"relu\",\n",
    "                                     \"cnnfilter\": [3, 3],\n",
    "                                     \"cnnstride\": [1, 1],\n",
    "                                     \"maxpoolmatrix\": [1, 1],\n",
    "                                     \"maxpoolstride\": [2, 2],\n",
    "                                     \"padding\": \"SAME\",\n",
    "                                     \"droprate\": \"0.8\",\n",
    "                                     \"layercnt\":1\n",
    "                                    }\n",
    "                                   ]\n",
    "                         ,\"out\": {\"active\": \"softmax\",\n",
    "                                   \"node_out\": 625,\n",
    "                                   \"padding\": \"SAME\"\n",
    "                                }\n",
    "                         ,\"labels\":[]\n",
    "                        })\n",
    "data = json.loads(resp.json())\n",
    "print(\"evaluation result : {0}\".format(data))\n"
   ]
  },
  {
   "cell_type": "markdown",
   "metadata": {},
   "source": [
    "# 테스트 프로세스 정의"
   ]
  },
  {
   "cell_type": "code",
   "execution_count": 184,
   "metadata": {
    "collapsed": false
   },
   "outputs": [
    {
     "name": "stdout",
     "output_type": "stream",
     "text": [
      "evaluation result : ['1 file upload success']\n",
      "evaluation result : {'source_parse_type': 'raw', 'max_sentence_len': 0, 'multi_node_flag': None, 'source_path': '/hoya_src_root/nn902993/1/test_data_node', 'type': 'csv', 'source_sql': 'all', 'predict_path': '/hoya_src_root/nn902993/1/predict', 'source_type': 'local', 'source_server': 'local'}\n",
      "evaluation result : none\n",
      "evaluation result : /hoya_str_root/nn902993/1/test_data_node\n",
      "evaluation result : {'encode_column': 'encode', 'preprocess': 'mecab', 'embed_type': 'onehot', 'decode_column': 'decode', 'vocab_size': 100, 'channel': 1, 'encode_len': 15, 'lable_size': 10}\n",
      "evaluation result : {'type': 'category'}\n"
     ]
    }
   ],
   "source": [
    "# upload files for test\n",
    "return_dict = {}\n",
    "return_dict['test'] = open('../../data/seq2seq_several_case.csv', 'rb')\n",
    "\n",
    "resp = requests.post('http://' + url + '/api/v1/type/wf/state/framedata/src/local/form/raw/prg/source/nnid/'+nn_id+'/ver/1/node/test_data_node/',\n",
    "                     files = return_dict)\n",
    "\n",
    "data = json.loads(resp.json())\n",
    "print(\"evaluation result : {0}\".format(data))\n",
    "\n",
    "# 데이터 - 소스 정의\n",
    "resp = requests.put('http://' + url + '/api/v1/type/wf/state/framedata/src/local/form/raw/prg/source/nnid/'+nn_id+'/ver/1/node/test_data_node/',\n",
    "                     json={\n",
    "                         \"type\": \"csv\",\n",
    "                         \"source_server\": \"local\",\n",
    "                         \"source_sql\": \"all\",\n",
    "                     })\n",
    "data = json.loads(resp.json())\n",
    "print(\"evaluation result : {0}\".format(data))\n",
    "\n",
    "# 데이터 - 전처리 정의\n",
    "resp = requests.put('http://' + url + '/api/v1/type/wf/state/framedata/src/local/form/raw/prg/pre/nnid/'+nn_id+'/ver/1/node/test_data_node/',\n",
    "                      json={\n",
    "                          \"preprocess\":  \"none\",\n",
    "                      })\n",
    "data = json.loads(resp.json())\n",
    "print(\"evaluation result : {0}\".format(data))\n",
    "\n",
    "# 데이터 - 저장 정의\n",
    "resp = requests.put('http://' + url + '/api/v1/type/wf/state/framedata/src/local/form/raw/prg/store/nnid/'+nn_id+'/ver/1/node/test_data_node/',)\n",
    "\n",
    "data = json.loads(resp.json())\n",
    "print(\"evaluation result : {0}\".format(data))\n",
    "\n",
    "\n",
    "# Feeder 정의\n",
    "resp = requests.put('http://' + url + '/api/v1/type/wf/state/pre/detail/feed/src/frame/net/wcnn/nnid/'+nn_id+'/ver/1/node/pre_feed_test/',\n",
    "                     json={\n",
    "                         \"encode_column\" : \"encode\",\n",
    "                         \"decode_column\" : \"decode\",\n",
    "                         \"channel\" : 1,\n",
    "                         \"encode_len\" : 15,\n",
    "                         \"preprocess\": \"mecab\",\n",
    "                         \"vocab_size\" : 100,\n",
    "                         \"embed_type\" : 'onehot',\n",
    "                         \"lable_size\" : 10\n",
    "                     })\n",
    "data = json.loads(resp.json())\n",
    "print(\"evaluation result : {0}\".format(data))\n",
    "\n",
    "node_name = 'eval_node'\n",
    "resp = requests.put('http://' + url + '/api/v1/type/wf/state/eval/nnid/'+nn_id+'/ver/1/node/'+node_name+'/',\n",
    "                    json={\n",
    "                        \"type\": \"category\",\n",
    "                    })\n",
    "\n",
    "data = json.loads(resp.json())\n",
    "print(\"evaluation result : {0}\".format(data))"
   ]
  },
  {
   "cell_type": "markdown",
   "metadata": {
    "collapsed": true
   },
   "source": [
    "# Train"
   ]
  },
  {
   "cell_type": "code",
   "execution_count": 185,
   "metadata": {
    "collapsed": false
   },
   "outputs": [
    {
     "name": "stdout",
     "output_type": "stream",
     "text": [
      "evaluation result : {'status': '404', 'result': \"error on eval wcnn : object of type 'NoneType' has no len()\"}\n"
     ]
    }
   ],
   "source": [
    "# Run All Workflow\n",
    "resp = requests.post('http://' + url + '/api/v1/type/runmanager/state/train/nnid/'+nn_id+'/ver/1/')\n",
    "data = json.loads(resp.json())\n",
    "print(\"evaluation result : {0}\".format(data))"
   ]
  },
  {
   "cell_type": "markdown",
   "metadata": {
    "collapsed": true
   },
   "source": [
    "# Predict"
   ]
  },
  {
   "cell_type": "code",
   "execution_count": 192,
   "metadata": {
    "collapsed": false
   },
   "outputs": [
    {
     "name": "stdout",
     "output_type": "stream",
     "text": [
      "evaluation result(6) : [6]\n",
      "evaluation result(2) : [2]\n",
      "evaluation result(2) : [2]\n",
      "evaluation result(3) : [3]\n",
      "evaluation result(2) : [3]\n",
      "evaluation result(6) : [6]\n",
      "evaluation result(4) : [4]\n",
      "evaluation result(6) : [6]\n",
      "evaluation result(8) : [8]\n",
      "evaluation result(9) : [9]\n",
      "evaluation result(10) : [10]\n",
      "evaluation result(11) : [11]\n",
      "evaluation result(12) : [12]\n",
      "evaluation result(2) : [2]\n"
     ]
    }
   ],
   "source": [
    "resp = requests.post('http://' + url + '/api/v1/type/service/state/predict/type/wcnn/nnid/'+nn_id+'/ver/active/',\n",
    "                     json={\"input_data\" : \"[이름] 의 [직급] 전화 번호 아니\" }\n",
    "                     )\n",
    "data = json.loads(resp.json())\n",
    "print(\"evaluation result(6) : {0}\".format(data)) \n",
    "\n",
    "resp = requests.post('http://' + url + '/api/v1/type/service/state/predict/type/wcnn/nnid/'+nn_id+'/ver/active/',\n",
    "                     json={\"input_data\" : \"[이름]을 찾아줘\" , \"num\": 3, \"clean_ans\":False}\n",
    "                     )\n",
    "data = json.loads(resp.json())\n",
    "print(\"evaluation result(2) : {0}\".format(data))\n",
    "\n",
    "resp = requests.post('http://' + url + '/api/v1/type/service/state/predict/type/wcnn/nnid/'+nn_id+'/ver/active/',\n",
    "                     json={\"input_data\" : \"[이름][직급]을 찾아주라\" , \"num\": 3, \"clean_ans\":False}\n",
    "                     )\n",
    "data = json.loads(resp.json())\n",
    "print(\"evaluation result(2) : {0}\".format(data))\n",
    "\n",
    "resp = requests.post('http://' + url + '/api/v1/type/service/state/predict/type/wcnn/nnid/'+nn_id+'/ver/active/',\n",
    "                     json={\"input_data\" : \"담당자 검색 해 줄레\" , \"num\": 3, \"clean_ans\":False}\n",
    "                     )\n",
    "data = json.loads(resp.json())\n",
    "print(\"evaluation result(3) : {0}\".format(data))\n",
    "\n",
    "resp = requests.post('http://' + url + '/api/v1/type/service/state/predict/type/wcnn/nnid/'+nn_id+'/ver/active/',\n",
    "                     json={\"input_data\" : \"[이름] [직급] 찾 아 줘 \" , \"num\": 0, \"clean_ans\":True}\n",
    "                     )\n",
    "data = json.loads(resp.json())\n",
    "print(\"evaluation result(2) : {0}\".format(data))\n",
    "\n",
    "resp = requests.post('http://' + url + '/api/v1/type/service/state/predict/type/wcnn/nnid/'+nn_id+'/ver/active/',\n",
    "                     json={\"input_data\" : \"[이름] 의 [직급] 찾 아 줘 \" , \"num\": 0, \"clean_ans\":True}\n",
    "                     )\n",
    "data = json.loads(resp.json())\n",
    "print(\"evaluation result(6) : {0}\".format(data))\n",
    "\n",
    "resp = requests.post('http://' + url + '/api/v1/type/service/state/predict/type/wcnn/nnid/'+nn_id+'/ver/active/',\n",
    "                     json={\"input_data\" : \"[이름] [근태코드] 갔 어\" , \"num\": 0, \"clean_ans\":True}\n",
    "                     )\n",
    "data = json.loads(resp.json())\n",
    "print(\"evaluation result(4) : {0}\".format(data))\n",
    "\n",
    "resp = requests.post('http://' + url + '/api/v1/type/service/state/predict/type/wcnn/nnid/'+nn_id+'/ver/active/',\n",
    "                     json={\"input_data\" : \"[이름] 의 [직급] 알 고 있 냐\" , \"num\": 0, \"clean_ans\":True}\n",
    "                     )\n",
    "data = json.loads(resp.json())\n",
    "print(\"evaluation result(6) : {0}\".format(data))\n",
    "\n",
    "resp = requests.post('http://' + url + '/api/v1/type/service/state/predict/type/wcnn/nnid/'+nn_id+'/ver/active/',\n",
    "                     json={\"input_data\" : \"[이름] 의 사진\" , \"num\": 0, \"clean_ans\":True}\n",
    "                     )\n",
    "data = json.loads(resp.json())\n",
    "print(\"evaluation result(8) : {0}\".format(data))\n",
    "\n",
    "resp = requests.post('http://' + url + '/api/v1/type/service/state/predict/type/wcnn/nnid/'+nn_id+'/ver/active/',\n",
    "                     json={\"input_data\" : \"[이름] 의 집 전화\" , \"num\": 0, \"clean_ans\":True}\n",
    "                     )\n",
    "data = json.loads(resp.json())\n",
    "print(\"evaluation result(9) : {0}\".format(data))\n",
    "\n",
    "resp = requests.post('http://' + url + '/api/v1/type/service/state/predict/type/wcnn/nnid/'+nn_id+'/ver/active/',\n",
    "                     json={\"input_data\" : \"[이름] 의 휴대 전화\" , \"num\": 0, \"clean_ans\":True}\n",
    "                     )\n",
    "data = json.loads(resp.json())\n",
    "print(\"evaluation result(10) : {0}\".format(data))\n",
    "\n",
    "resp = requests.post('http://' + url + '/api/v1/type/service/state/predict/type/wcnn/nnid/'+nn_id+'/ver/active/',\n",
    "                     json={\"input_data\" : \"[이름] 의 교대근무 조\" , \"num\": 0, \"clean_ans\":True}\n",
    "                     )\n",
    "data = json.loads(resp.json())\n",
    "print(\"evaluation result(11) : {0}\".format(data))\n",
    "\n",
    "resp = requests.post('http://' + url + '/api/v1/type/service/state/predict/type/wcnn/nnid/'+nn_id+'/ver/active/',\n",
    "                     json={\"input_data\" : \"[이름] 의 직번은\" , \"num\": 0, \"clean_ans\":True}\n",
    "                     )\n",
    "data = json.loads(resp.json())\n",
    "print(\"evaluation result(12) : {0}\".format(data))\n",
    "\n",
    "\n",
    "resp = requests.post('http://' + url + '/api/v1/type/service/state/predict/type/wcnn/nnid/'+nn_id+'/ver/active/',\n",
    "                     json={\"input_data\" : \"[이름] 의 [직급]\" , \"num\": 0, \"clean_ans\":True}\n",
    "                     )\n",
    "data = json.loads(resp.json())\n",
    "print(\"evaluation result(2) : {0}\".format(data))"
   ]
  },
  {
   "cell_type": "code",
   "execution_count": null,
   "metadata": {
    "collapsed": true
   },
   "outputs": [],
   "source": []
  },
  {
   "cell_type": "code",
   "execution_count": null,
   "metadata": {
    "collapsed": true
   },
   "outputs": [],
   "source": []
  }
 ],
 "metadata": {
  "anaconda-cloud": {},
  "kernelspec": {
   "display_name": "Python [conda root]",
   "language": "python",
   "name": "conda-root-py"
  },
  "language_info": {
   "codemirror_mode": {
    "name": "ipython",
    "version": 3
   },
   "file_extension": ".py",
   "mimetype": "text/x-python",
   "name": "python",
   "nbconvert_exporter": "python",
   "pygments_lexer": "ipython3",
   "version": "3.5.2"
  }
 },
 "nbformat": 4,
 "nbformat_minor": 1
}

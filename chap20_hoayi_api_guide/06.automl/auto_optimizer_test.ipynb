{
 "cells": [
  {
   "cell_type": "markdown",
   "metadata": {},
   "source": [
    "# 네트워크 정의"
   ]
  },
  {
   "cell_type": "code",
   "execution_count": 71,
   "metadata": {
    "collapsed": false
   },
   "outputs": [
    {
     "name": "stdout",
     "output_type": "stream",
     "text": [
      "done\n"
     ]
    }
   ],
   "source": [
    "import requests\n",
    "import json, os\n",
    "\n",
    "nn_id = 'auto_wcnn018'  # put some key value you want to test\n",
    "\n",
    "url = \"{0}:{1}\".format(os.environ['HOSTNAME'] , \"8000\")\n",
    "print(\"done\")"
   ]
  },
  {
   "cell_type": "markdown",
   "metadata": {},
   "source": [
    "# 비지니스 정의"
   ]
  },
  {
   "cell_type": "code",
   "execution_count": 72,
   "metadata": {
    "collapsed": false
   },
   "outputs": [
    {
     "name": "stdout",
     "output_type": "stream",
     "text": [
      "evaluation result : auto_wcnn018\n"
     ]
    }
   ],
   "source": [
    "####(1) 네트워크 생성 ####\n",
    "resp = requests.post('http://' + url + '/api/v1/type/common/target/nninfo/nnid/' + nn_id + '/',\n",
    "                     json={\n",
    "                         \"biz_cate\": \"MES\",\n",
    "                         \"biz_sub_cate\": \"M60\",\n",
    "                         \"nn_title\" : \"test\",\n",
    "                         \"nn_desc\": \"test desc\",\n",
    "                         \"use_flag\" : \"Y\",\n",
    "                         \"dir\": \"wcnn\",\n",
    "                         \"automl_parms\" : {},\n",
    "                         \"config\": \"N\"\n",
    "                     })\n",
    "data = json.loads(resp.json())\n",
    "print(\"evaluation result : {0}\".format(data))"
   ]
  },
  {
   "cell_type": "markdown",
   "metadata": {},
   "source": [
    "# 선택 가능한 Graph Flow List"
   ]
  },
  {
   "cell_type": "code",
   "execution_count": 73,
   "metadata": {
    "collapsed": false
   },
   "outputs": [
    {
     "name": "stdout",
     "output_type": "stream",
     "text": [
      "evaluation result : []\n"
     ]
    }
   ],
   "source": [
    "resp = requests.get('http://' + url + '/api/v1/type/automl/state/rule/graph_id/all/')\n",
    "data = json.loads(resp.json())\n",
    "print(\"evaluation result : {0}\".format(data))"
   ]
  },
  {
   "cell_type": "markdown",
   "metadata": {},
   "source": [
    "# 선택한 Graph Flow Format"
   ]
  },
  {
   "cell_type": "code",
   "execution_count": 74,
   "metadata": {
    "collapsed": false
   },
   "outputs": [
    {
     "name": "stdout",
     "output_type": "stream",
     "text": [
      "evaluation result : [{'pre_feed_test': {'format': {'lable_size': {'auto': False, 'type': 'int', 'option': None}, 'channel': {'auto': False, 'type': 'sel', 'option': [1, 2, 3]}, 'preprocess': {'auto': False, 'type': 'sel', 'option': ['None', 'Mecab', 'Twitter', 'kkma']}, 'char_max_len': {'auto': False, 'type': 'int', 'option': None}, 'encode_column': {'auto': False, 'type': 'str', 'option': None}, 'embed_type': {'auto': False, 'type': 'sel', 'option': ['onehot', 'word2vec', 'fasttext', 'glove']}, 'vocab_size': {'auto': False, 'type': 'int', 'option': None}, 'encode_len': {'auto': [5, 20, 2], 'type': 'int', 'option': None}, 'decode_column': {'auto': False, 'type': 'str', 'option': None}, 'char_encode': {'auto': [0, 1, 1], 'type': 'sel', 'option': [True, False]}}}, 'eval_node': {'format': {'type': {'auto': False, 'type': 'sel', 'option': ['Category', 'regression', 'w2v', 'seq2seq']}}}, 'data_node': {'format': {'preprocess': {'auto': False, 'type': 'sel', 'option': ['None', 'Mecab', 'Twitter', 'kkma']}, 'type': {'auto': False, 'type': 'sel', 'option': ['csv', 'txt', 'iob']}, 'source_server': {'auto': False, 'type': 'sel', 'option': ['local']}, 'source_sql': {'auto': False, 'type': 'sel', 'option': ['all']}}}, 'test_data_node': {'format': {'preprocess': {'auto': False, 'type': 'sel', 'option': ['None', 'Mecab', 'Twitter', 'kkma']}, 'type': {'auto': False, 'type': 'sel', 'option': ['csv', 'txt', 'iob']}, 'source_server': {'auto': False, 'type': 'sel', 'option': ['local']}, 'source_sql': {'auto': False, 'type': 'sel', 'option': ['all']}}}, 'netconf_node': {'format': {'param': {'epoch': {'auto': [1, 10, 1], 'type': 'int', 'option': None}, 'batch_size': {'auto': [5, 100, 10], 'type': 'int', 'option': None}, 'predictcnt': {'auto': [5, 100, 10], 'type': 'int', 'option': None}, 'traincnt': {'auto': [1, 0, 2], 'type': 'int', 'option': None}}, 'config': {'optimizer': {'auto': False, 'type': 'sel', 'option': ['AdamOptimizer']}, 'learnrate': {'auto': [0.0001, 0.1, 0.001], 'type': 'int', 'option': None}, 'layeroutputs': {'auto': [5, 100, 10], 'type': 'int', 'option': None}, 'eval_type': {'auto': False, 'type': 'sel', 'option': ['category']}, 'num_classes': {'auto': False, 'type': 'int', 'option': None}}, 'labels': [], 'out': {'padding': {'auto': [0, 1, 1], 'type': 'sel', 'option': ['SAME', 'NONE']}, 'node_out': {'auto': [500, 1000, 50], 'type': 'int', 'option': None}, 'active': {'auto': [0, 1, 1], 'type': 'sel', 'option': ['relu', 'tanh', 'sigmoid', 'softmax']}}, 'layers': [{'cnnfilter': {'auto': False, 'type': 'list', 'option': [15, 15]}, 'padding': {'auto': [0, 1, 1], 'type': 'sel', 'option': ['SAME', 'NONE']}, 'cnnstride': {'auto': False, 'type': 'list', 'option': [1, 1]}, 'maxpoolmatrix': {'auto': False, 'type': 'list', 'option': [2, 2]}, 'learnrate': {'auto': [0.0001, 0.1, 0.001], 'type': 'int', 'option': None}, 'maxpoolstride': {'auto': False, 'type': 'list', 'option': [2, 2]}, 'layercnt': {'auto': [1, 5, 1], 'type': 'int', 'option': None}, 'active': {'auto': [0, 1, 1], 'type': 'sel', 'option': ['relu', 'tanh', 'sigmoid', 'softmax']}}]}}, 'pre_feed_train': {'format': {'lable_size': {'auto': False, 'type': 'int', 'option': None}, 'channel': {'auto': False, 'type': 'sel', 'option': [1, 2, 3]}, 'preprocess': {'auto': False, 'type': 'sel', 'option': ['None', 'Mecab', 'Twitter', 'kkma']}, 'char_max_len': {'auto': [5, 10, 1], 'type': 'int', 'option': None}, 'encode_column': {'auto': False, 'type': 'str', 'option': None}, 'embed_type': {'auto': False, 'type': 'sel', 'option': ['onehot', 'word2vec', 'fasttext', 'glove']}, 'vocab_size': {'auto': False, 'type': 'int', 'option': None}, 'encode_len': {'auto': [5, 10, 1], 'type': 'int', 'option': None}, 'decode_column': {'auto': False, 'type': 'str', 'option': None}, 'char_encode': {'auto': [0, 1, 1], 'type': 'sel', 'option': [True, False]}}}}]\n"
     ]
    }
   ],
   "source": [
    "resp = requests.get('http://' + url + '/api/v1/type/automl/state/rule/graph_id/charcnn_csv/')\n",
    "data = json.loads(resp.json())\n",
    "print(\"evaluation result : {0}\".format(data))"
   ]
  },
  {
   "cell_type": "markdown",
   "metadata": {},
   "source": [
    "# Set AutoML Info "
   ]
  },
  {
   "cell_type": "code",
   "execution_count": 75,
   "metadata": {
    "collapsed": false
   },
   "outputs": [
    {
     "name": "stdout",
     "output_type": "stream",
     "text": [
      "evaluation result : {'pre_feed_test': {'format': {'lable_size': {'auto': False, 'type': 'int', 'option': None}, 'channel': {'auto': False, 'type': 'sel', 'option': [1, 2, 3]}, 'preprocess': {'auto': False, 'type': 'sel', 'option': ['None', 'Mecab', 'Twitter', 'kkma']}, 'char_max_len': {'auto': False, 'type': 'int', 'option': None}, 'encode_column': {'auto': False, 'type': 'str', 'option': None}, 'embed_type': {'auto': False, 'type': 'sel', 'option': ['onehot', 'word2vec', 'fasttext', 'glove']}, 'vocab_size': {'auto': False, 'type': 'int', 'option': None}, 'encode_len': {'auto': [5, 20, 2], 'type': 'int', 'option': None}, 'decode_column': {'auto': False, 'type': 'str', 'option': None}, 'char_encode': {'auto': [0, 1, 1], 'type': 'sel', 'option': [True, False]}}}, 'eval_node': {'format': {'type': {'auto': False, 'type': 'sel', 'option': ['Category', 'regression', 'w2v', 'seq2seq']}}}, 'data_node': {'format': {'preprocess': {'auto': False, 'type': 'sel', 'option': ['None', 'Mecab', 'Twitter', 'kkma']}, 'type': {'auto': False, 'type': 'sel', 'option': ['csv', 'txt', 'iob']}, 'source_server': {'auto': False, 'type': 'sel', 'option': ['local']}, 'source_sql': {'auto': False, 'type': 'sel', 'option': ['all']}}}, 'test_data_node': {'format': {'preprocess': {'auto': False, 'type': 'sel', 'option': ['None', 'Mecab', 'Twitter', 'kkma']}, 'type': {'auto': False, 'type': 'sel', 'option': ['csv', 'txt', 'iob']}, 'source_server': {'auto': False, 'type': 'sel', 'option': ['local']}, 'source_sql': {'auto': False, 'type': 'sel', 'option': ['all']}}}, 'netconf_node': {'format': {'param': {'epoch': {'auto': [1, 10, 1], 'type': 'int', 'option': None}, 'batch_size': {'auto': [5, 100, 10], 'type': 'int', 'option': None}, 'predictcnt': {'auto': [5, 100, 10], 'type': 'int', 'option': None}, 'traincnt': {'auto': [1, 0, 2], 'type': 'int', 'option': None}}, 'config': {'optimizer': {'auto': False, 'type': 'sel', 'option': ['AdamOptimizer']}, 'learnrate': {'auto': [0.0001, 0.1, 0.001], 'type': 'int', 'option': None}, 'layeroutputs': {'auto': [5, 100, 10], 'type': 'int', 'option': None}, 'eval_type': {'auto': False, 'type': 'sel', 'option': ['category']}, 'num_classes': {'auto': False, 'type': 'int', 'option': None}}, 'layers': [{'cnnfilter': {'auto': False, 'type': 'list', 'option': [15, 15]}, 'padding': {'auto': [0, 1, 1], 'type': 'sel', 'option': ['SAME', 'NONE']}, 'cnnstride': {'auto': False, 'type': 'list', 'option': [1, 1]}, 'maxpoolmatrix': {'auto': False, 'type': 'list', 'option': [2, 2]}, 'learnrate': {'auto': [0.0001, 0.1, 0.001], 'type': 'int', 'option': None}, 'maxpoolstride': {'auto': False, 'type': 'list', 'option': [2, 2]}, 'layercnt': {'auto': [1, 5, 1], 'type': 'int', 'option': None}, 'active': {'auto': [0, 1, 1], 'type': 'sel', 'option': ['relu', 'tanh', 'sigmoid', 'softmax']}}], 'out': {'padding': {'auto': [0, 1, 1], 'type': 'sel', 'option': ['SAME', 'NONE']}, 'node_out': {'auto': [500, 1000, 50], 'type': 'int', 'option': None}, 'active': {'auto': [0, 1, 1], 'type': 'sel', 'option': ['relu', 'tanh', 'sigmoid', 'softmax']}}, 'labels': []}}, 'pre_feed_train': {'format': {'lable_size': {'auto': False, 'type': 'int', 'option': None}, 'channel': {'auto': False, 'type': 'sel', 'option': [1, 2, 3]}, 'preprocess': {'auto': False, 'type': 'sel', 'option': ['None', 'Mecab', 'Twitter', 'kkma']}, 'char_max_len': {'auto': [5, 10, 1], 'type': 'int', 'option': None}, 'encode_column': {'auto': False, 'type': 'str', 'option': None}, 'embed_type': {'auto': False, 'type': 'sel', 'option': ['onehot', 'word2vec', 'fasttext', 'glove']}, 'vocab_size': {'auto': False, 'type': 'int', 'option': None}, 'encode_len': {'auto': [5, 10, 1], 'type': 'int', 'option': None}, 'decode_column': {'auto': False, 'type': 'str', 'option': None}, 'char_encode': {'auto': [0, 1, 1], 'type': 'sel', 'option': [True, False]}}}}\n"
     ]
    }
   ],
   "source": [
    "resp = requests.get('http://' + url + '/api/v1/type/automl/state/rule/graph_id/charcnn_csv/')\n",
    "test_data = json.loads(resp.json())\n",
    "\n",
    "resp = requests.put('http://' + url + '/api/v1/type/automl/state/conf/nnid/' + nn_id + '/',\n",
    "                     json=test_data[0])\n",
    "data = json.loads(resp.json())\n",
    "print(\"evaluation result : {0}\".format(data))"
   ]
  },
  {
   "cell_type": "markdown",
   "metadata": {},
   "source": [
    "# Set AutoML runtime parameter"
   ]
  },
  {
   "cell_type": "code",
   "execution_count": 82,
   "metadata": {
    "collapsed": false
   },
   "outputs": [
    {
     "name": "stdout",
     "output_type": "stream",
     "text": [
      "evaluation result : {'population': 5, 'generation': 15, 'survive': 4}\n"
     ]
    }
   ],
   "source": [
    "resp = requests.post('http://' + url + '/api/v1/type/automl/state/parm/nnid/' + nn_id + '/',\n",
    "                     json={\n",
    "                         \"generation\": 15,\n",
    "                         \"population\": 5,\n",
    "                         \"survive\" : 4\n",
    "                     })\n",
    "data = json.loads(resp.json())\n",
    "print(\"evaluation result : {0}\".format(data))"
   ]
  },
  {
   "cell_type": "markdown",
   "metadata": {},
   "source": [
    "# Run AutoML"
   ]
  },
  {
   "cell_type": "code",
   "execution_count": 83,
   "metadata": {
    "collapsed": false
   },
   "outputs": [
    {
     "name": "stdout",
     "output_type": "stream",
     "text": [
      "evaluation result : [{'nn_wf_ver_id': 60, 'flag': False, 'generation': 10, 'falg': True, 'acc': 0.9569870751240958, 'nn_id': 'auto_wcnn018'}, {'nn_wf_ver_id': 64, 'flag': False, 'generation': 14, 'falg': True, 'acc': 0.7331895166217852, 'nn_id': 'auto_wcnn018'}, {'nn_wf_ver_id': 63, 'flag': False, 'generation': 13, 'falg': True, 'acc': 0.6354456707682342, 'nn_id': 'auto_wcnn018'}, {'nn_wf_ver_id': 62, 'flag': False, 'generation': 12, 'falg': True, 'acc': 0.34797252262211587, 'nn_id': 'auto_wcnn018'}]\n"
     ]
    }
   ],
   "source": [
    "resp = requests.post('http://' + url + '/api/v1/type/automl/state/train/nnid/' + nn_id + '/')\n",
    "data = json.loads(resp.json())\n",
    "print(\"evaluation result : {0}\".format(data))"
   ]
  },
  {
   "cell_type": "code",
   "execution_count": null,
   "metadata": {
    "collapsed": true
   },
   "outputs": [],
   "source": []
  },
  {
   "cell_type": "code",
   "execution_count": null,
   "metadata": {
    "collapsed": true
   },
   "outputs": [],
   "source": []
  },
  {
   "cell_type": "code",
   "execution_count": null,
   "metadata": {
    "collapsed": true
   },
   "outputs": [],
   "source": []
  }
 ],
 "metadata": {
  "anaconda-cloud": {},
  "kernelspec": {
   "display_name": "Python [conda root]",
   "language": "python",
   "name": "conda-root-py"
  },
  "language_info": {
   "codemirror_mode": {
    "name": "ipython",
    "version": 3
   },
   "file_extension": ".py",
   "mimetype": "text/x-python",
   "name": "python",
   "nbconvert_exporter": "python",
   "pygments_lexer": "ipython3",
   "version": "3.5.2"
  }
 },
 "nbformat": 4,
 "nbformat_minor": 1
}

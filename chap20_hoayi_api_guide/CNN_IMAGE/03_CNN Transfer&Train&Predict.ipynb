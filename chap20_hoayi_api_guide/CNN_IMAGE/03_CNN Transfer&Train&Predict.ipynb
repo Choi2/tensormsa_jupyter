{
 "cells": [
  {
   "cell_type": "markdown",
   "metadata": {},
   "source": [
    "# CNN Transfer&Train&Predict"
   ]
  },
  {
   "cell_type": "markdown",
   "metadata": {},
   "source": [
    " "
   ]
  },
  {
   "cell_type": "markdown",
   "metadata": {},
   "source": [
    "# Init Config Setup"
   ]
  },
  {
   "cell_type": "code",
   "execution_count": 13,
   "metadata": {
    "collapsed": false
   },
   "outputs": [
    {
     "name": "stdout",
     "output_type": "stream",
     "text": [
      "Network ID=nn00004\n",
      "Workflow Version=10\n",
      "\n",
      "Network Config : {'layer2': {'maxpoolstride': [2, 2], 'droprate': '0.8', 'maxpoolmatrix': [2, 2], 'type': 'cnn', 'layercnt': 1, 'padding': 'SAME', 'cnnfilter': [3, 3], 'cnnstride': [1, 1], 'active': 'relu'}, 'out': {'padding': 'SAME', 'node_out': 625, 'active': 'softmax'}, 'param': {'predictcnt': 10, 'traincnt': 1, 'batch_size': 10000}, 'modelpath': '/hoya_model_root/nn00004/10/netconf_node', 'modelname': 'model_nn00004_10', 'layer1': {'maxpoolstride': [2, 2], 'droprate': '0.8', 'maxpoolmatrix': [2, 2], 'type': 'cnn', 'layercnt': 2, 'padding': 'SAME', 'cnnfilter': [3, 3], 'cnnstride': [1, 1], 'active': 'relu'}, 'config': {'type': 'category', 'learnrate': 0.001, 'layeroutputs': 32, 'num_classes': 10}}\n",
      "\n",
      "Train Data Config : {'preprocess': {'y_size': 32, 'x_size': 32, 'channel': 3}, 'source_path': '/hoya_src_root/nn00004/10/datasrc', 'store_path': '/hoya_str_root/nn00004/10/datasrc', 'labels': ['dog', 'cat', 'ca    t', 'motor', 'car', 'glove', 'airplane', 'bolt']}\n",
      "\n",
      "Eval Config : {'modelname': 'model_nn00004_10', 'modelpath': '/hoya_model_root/nn00004/10/eval_node'}\n",
      "\n",
      "Eval Data Config : {'preprocess': {'y_size': 32, 'x_size': 32, 'channel': 3}, 'source_path': '/hoya_src_root/nn00004/10/evaldata', 'store_path': '/hoya_str_root/nn00004/10/evaldata', 'labels': ['motor', 'car', 'glove', 'airplane', 'bolt']}\n",
      "\n"
     ]
    }
   ],
   "source": [
    "import requests\n",
    "import json, os\n",
    "\n",
    "url = \"{0}:{1}\".format(os.environ['HOSTNAME'] , \"8000\")\n",
    "\n",
    "nn_id = \"nn00004\"\n",
    "biz_cate = \"ERP\"\n",
    "biz_sub_cate = \"MRO\"\n",
    "nn_title = \"MRO Image Classification\"\n",
    "nn_desc = \"MRO Image Classification\"\n",
    "nn_wf_ver_info = \"MRO Image Classification\"\n",
    "use_flag = \"Y\"\n",
    "dirstr = \"purpose?\"\n",
    "config = \"N\"\n",
    "network_type = \"cnn\"\n",
    "node_sub_menu = \"data_image\"\n",
    "\n",
    "# get workflow version info\n",
    "resp = requests.get('http://' + url + '/api/v1/type/common/target/nninfo/nnid/'+nn_id+'/version/')\n",
    "data = json.loads(resp.json())\n",
    "\n",
    "# get Active workflow version\n",
    "wf_ver_id = 0\n",
    "data = sorted(data, key=lambda k: k['pk'])\n",
    "for config in data:\n",
    "    if config[\"fields\"][\"active_flag\"] == \"Y\":\n",
    "        wf_ver_id = config[\"pk\"]\n",
    "\n",
    "wf_ver_id = str(wf_ver_id)\n",
    "print(\"Network ID=\"+nn_id)\n",
    "print(\"Workflow Version=\"+wf_ver_id)\n",
    "print(\"\")\n",
    "\n",
    "def spaceprint(val, cnt):\n",
    "    leng = len(str(val))\n",
    "    cnt = cnt - leng\n",
    "    restr = \"\"\n",
    "    for i in range(cnt):\n",
    "        restr += \" \"\n",
    "    restr = restr+str(val)\n",
    "    return restr\n",
    "\n",
    "node = \"netconf_node\"\n",
    "resp = requests.put('http://' + url + '/api/v1/type/wf/state/netconf/detail/cnn/nnid/'+nn_id+'/ver/'+wf_ver_id+'/node/'+node+'/',\n",
    "                     json={\n",
    "                         \"param\":{\"traincnt\": 1,\n",
    "                                     \"batch_size\":10000,\n",
    "                                     \"predictcnt\": 10\n",
    "                         },\n",
    "                         \"config\": {\"num_classes\":10,\n",
    "                                    \"learnrate\": 0.001,\n",
    "                                     \"layeroutputs\":32,\n",
    "                                     \"type\":\"category\"\n",
    "                                     }\n",
    "                         ,\"layer1\": {\"type\": \"cnn\",\n",
    "                                     \"active\": \"relu\",\n",
    "                                     \"cnnfilter\": [3, 3],\n",
    "                                     \"cnnstride\": [1, 1],\n",
    "                                     \"maxpoolmatrix\": [2, 2],\n",
    "                                     \"maxpoolstride\": [2, 2],\n",
    "                                     \"padding\": \"SAME\",\n",
    "                                     \"droprate\": \"0.8\",\n",
    "                                     \"layercnt\":2\n",
    "                                    }\n",
    "                         ,\"layer2\": {\"type\": \"cnn\",\n",
    "                                     \"active\": \"relu\",\n",
    "                                     \"cnnfilter\": [3, 3],\n",
    "                                     \"cnnstride\": [1, 1],\n",
    "                                     \"maxpoolmatrix\": [2, 2],\n",
    "                                     \"maxpoolstride\": [2, 2],\n",
    "                                     \"padding\": \"SAME\",\n",
    "                                     \"droprate\": \"0.8\",\n",
    "                                     \"layercnt\":1\n",
    "                                    }\n",
    "                          ,\"out\": {\"active\": \"softmax\",\n",
    "                                   \"node_out\": 625,\n",
    "                                   \"padding\": \"SAME\"\n",
    "                                }\n",
    "                        })\n",
    "netconf = json.loads(resp.json())\n",
    "print(\"Network Config : {0}\".format(netconf))\n",
    "print(\"\")\n",
    "\n",
    "node = \"datasrc\"\n",
    "resp = requests.put('http://' + url + '/api/v1/type/wf/state/imgdata/src/local/form/file/prg/source/nnid/'+nn_id+'/ver/'+wf_ver_id+'/node/'+node+'/',\n",
    "                     json={\n",
    "                            \"preprocess\": {\"x_size\": 32,\n",
    "                                        \"y_size\": 32,\n",
    "                                        \"channel\":3}\n",
    "                         ,\"labels\":[]\n",
    "\n",
    "                     })\n",
    "dataconf = json.loads(resp.json())\n",
    "print(\"Train Data Config : {0}\".format(dataconf))\n",
    "print(\"\")\n",
    "\n",
    "node = \"eval_node\"\n",
    "resp = requests.put('http://' + url + '/api/v1/type/wf/state/netconf/detail/cnn/nnid/'+nn_id+'/ver/'+wf_ver_id+'/node/'+node+'/',json={})\n",
    "evalconf = json.loads(resp.json())\n",
    "print(\"Eval Config : {0}\".format(evalconf))\n",
    "print(\"\")\n",
    "\n",
    "node = 'evaldata'\n",
    "resp = requests.put('http://' + url + '/api/v1/type/wf/state/imgdata/src/local/form/file/prg/source/nnid/'+nn_id+'/ver/'+wf_ver_id+'/node/'+node+'/',\n",
    "                     json={\n",
    "                            \"preprocess\": {\"x_size\": 32,\n",
    "                                        \"y_size\": 32,\n",
    "                                        \"channel\":3}\n",
    "                         ,\"labels\":[]\n",
    "\n",
    "                     })\n",
    "edataconf = json.loads(resp.json())\n",
    "print(\"Eval Data Config : {0}\".format(edataconf))\n",
    "print(\"\")"
   ]
  },
  {
   "cell_type": "markdown",
   "metadata": {},
   "source": [
    "# Trainning & Eval Data Transfer\n",
    "(CNN Network Train을 할 수 있게 Data를 특정 장소에 전송해 준다.)<br>\n",
    "\n",
    "아래 API의 경우 Test Data인지 Train Data인지 선택할수 있는 Node 정보를 모두 가져와 준다."
   ]
  },
  {
   "cell_type": "code",
   "execution_count": 24,
   "metadata": {
    "collapsed": false
   },
   "outputs": [
    {
     "name": "stdout",
     "output_type": "stream",
     "text": [
      "get file node list\n",
      "{'nn_wf_node_id': 'nn00004_2_datasrc', 'nn_wf_node_name': 'datasrc', 'nn_wf_node_desc': 'Train Data Node'}\n",
      "{'nn_wf_node_id': 'nn00004_2_evaldata', 'nn_wf_node_name': 'evaldata', 'nn_wf_node_desc': 'Evaluation Data Node'}\n",
      "\n"
     ]
    }
   ],
   "source": [
    "# get workflow node list info (train, eval)\n",
    "resp = requests.get('http://' + url + '/api/v1/type/wf/state/data/detail/upload/file/nnid/'+nn_id+'/ver/'+wf_ver_id+'/dir/'+node_sub_menu+'/')\n",
    "datalist = json.loads(resp.json())\n",
    "\n",
    "print(\"get file node list\")\n",
    "for node in datalist:\n",
    "    print(datalist[node])\n",
    "print(\"\")"
   ]
  },
  {
   "cell_type": "markdown",
   "metadata": {},
   "source": [
    "아래 API는 한개의 파일을 Train Folder & Test Folder 에 넣어준다."
   ]
  },
  {
   "cell_type": "code",
   "execution_count": 25,
   "metadata": {
    "collapsed": false
   },
   "outputs": [
    {
     "name": "stdout",
     "output_type": "stream",
     "text": [
      "create file node list\n",
      "{'File1': {'File': 'File Create.(/hoya_src_root/nn00004/2/datasrc/sample_cnn_img.zip)'}, 'File0': {'File': 'File Create.(/hoya_src_root/nn00004/2/datasrc/sample_cnn_img.zip)'}}\n",
      "{'File1': {'File': 'File Create.(/hoya_src_root/nn00004/2/evaldata/sample_cnn_img.zip)'}, 'File0': {'File': 'File Create.(/hoya_src_root/nn00004/2/evaldata/sample_cnn_img.zip)'}}\n"
     ]
    }
   ],
   "source": [
    "# Train Folder에 Data를 위치 시킬지 Eval Folder에 Data를 위치 시킬지 결정후 전송해야 한다.\n",
    "print(\"create file node list\")\n",
    "for node in datalist:\n",
    "    typepath = datalist[node][\"nn_wf_node_name\"]\n",
    "\n",
    "    files = {'file1': open('/home/dev/hoyai/demo/data/cat_vs_dog.zip','rb'),\n",
    "             'file2': open('/home/dev/hoyai/demo/data/sample_cnn_img.zip','rb')}\n",
    "\n",
    "    resp = requests.post('http://' + url + '/api/v1/type/wf/state/data/detail/upload/file/nnid/'+nn_id+'/ver/'+wf_ver_id+'/dir/'+typepath+'/',\n",
    "                         files=files)\n",
    "    data = json.loads(resp.json())\n",
    "    print(data)"
   ]
  },
  {
   "cell_type": "markdown",
   "metadata": {},
   "source": [
    "# CNN Network Training\n",
    "(CNN Network Training을 실행한다.)<br> "
   ]
  },
  {
   "cell_type": "code",
   "execution_count": 16,
   "metadata": {
    "collapsed": false
   },
   "outputs": [
    {
     "name": "stdout",
     "output_type": "stream",
     "text": [
      "['Trainning .................................................']\n",
      "['Global Step:     1311, Training Batch Accuracy:  100.0%']\n",
      "\n",
      "['Trainning .................................................']\n",
      "['Global Step:     1312, Training Batch Accuracy:  95.95%']\n",
      "\n",
      "         ['     dog', '     cat', ' ca    t', '   motor', '     car', '   glove', 'airplane', '    bolt']\n",
      "         ================================================================================================\n",
      "     dog ['       0', '       0', '       0', '       0', '       0', '       0', '       0', '       0']\n",
      "     cat ['       0', '       0', '       0', '       0', '       0', '       0', '       0', '       0']\n",
      " ca    t ['       0', '       0', '       0', '       0', '       0', '       0', '       0', '       0']\n",
      "   motor ['       0', '       0', '       0', '     145', '       0', '       2', '       0', '       3']\n",
      "     car ['       0', '       0', '       0', '       2', '     146', '       1', '       0', '       1']\n",
      "   glove ['       0', '       0', '       0', '       1', '       0', '     143', '       0', '       3']\n",
      "airplane ['       0', '       0', '       0', '       0', '       1', '       0', '     144', '       2']\n",
      "    bolt ['       0', '       0', '       0', '       1', '       1', '       0', '       0', '     145']\n"
     ]
    }
   ],
   "source": [
    "resp = requests.post('http://' + url + '/api/v1/type/runmanager/state/train/nnid/'+nn_id+'/ver/'+wf_ver_id+'/')\n",
    "data = json.loads(resp.json())\n",
    "\n",
    "for train in data:\n",
    "    if train != None and train != \"\" and train != {} and train != \"status\" and train != \"result\":\n",
    "        try:\n",
    "            for tr in train[\"TrainResult\"]:\n",
    "                print(tr)\n",
    "        except:\n",
    "            maxcnt = 0\n",
    "            line = \"\"\n",
    "            for label in train[\"labels\"]:\n",
    "                if maxcnt<len(label):\n",
    "                    maxcnt = len(label)\n",
    "\n",
    "            for i in range(len(train[\"labels\"])):\n",
    "                for j in range(maxcnt+4):\n",
    "                    line += \"=\"\n",
    "\n",
    "            label_sub = []\n",
    "            for label in train[\"labels\"]:\n",
    "                label = spaceprint(label,maxcnt)\n",
    "                label_sub.append(label)\n",
    "\n",
    "            space = \"\"\n",
    "            for s in range(maxcnt):\n",
    "                space +=\" \"\n",
    "\n",
    "            print(space, label_sub)\n",
    "            print(space, line)\n",
    "            for i in range(len(train[\"labels\"])):\n",
    "                predict_sub = []\n",
    "                for j in range(len(train[\"predicts\"][i])):\n",
    "                    pred = spaceprint(train[\"predicts\"][i][j],maxcnt)\n",
    "\n",
    "                    predict_sub.append(pred)\n",
    "\n",
    "                print(spaceprint(train[\"labels\"][i],maxcnt), predict_sub)"
   ]
  },
  {
   "cell_type": "markdown",
   "metadata": {},
   "source": [
    "# CNN Network Predict\n",
    "(CNN Network Predict를 실행한다.)<br>"
   ]
  },
  {
   "cell_type": "code",
   "execution_count": 17,
   "metadata": {
    "collapsed": false
   },
   "outputs": [
    {
     "name": "stdout",
     "output_type": "stream",
     "text": [
      "FileName = 2motor.jpg\n",
      "['motor', 'car', 'bolt', 'cat', 'airplane', 'glove', 'ca    t', 'dog']\n",
      "[3.42963, 1.09599, 1.07893, -0.47218, -1.03896, -1.50153, -1.71871, -2.4775]\n",
      "\n",
      "FileName = 2bolt.jpg\n",
      "['bolt', 'airplane', 'glove', 'cat', 'motor', 'car', 'ca    t', 'dog']\n",
      "[10.74874, 4.62584, 2.06559, -1.35931, -3.55601, -4.81932, -5.37274, -8.20261]\n",
      "\n",
      "FileName = 1motor.jpg\n",
      "['motor', 'bolt', 'car', 'airplane', 'glove', 'cat', 'ca    t', 'dog']\n",
      "[10.17206, 3.69104, 1.93304, 1.9272, 1.47043, -3.12427, -6.1851, -6.47375]\n",
      "\n",
      "FileName = 2glove.jpg\n",
      "['glove', 'motor', 'bolt', 'dog', 'car', 'airplane', 'cat', 'ca    t']\n",
      "[17.20678, 3.5709, 2.57347, -0.6, -1.32183, -2.21896, -3.23434, -4.89102]\n",
      "\n",
      "FileName = 1bolt.jpg\n",
      "['bolt', 'car', 'glove', 'motor', 'airplane', 'cat', 'ca    t', 'dog']\n",
      "[19.97056, 4.01947, 2.99323, 2.86635, 2.61407, -8.42671, -13.5161, -17.85664]\n",
      "\n",
      "FileName = 2air.jpg\n",
      "['airplane', 'bolt', 'car', 'motor', 'glove', 'cat', 'ca    t', 'dog']\n",
      "[9.8252, 3.99287, 0.22043, -1.38896, -2.12879, -3.0912, -3.34524, -7.37352]\n",
      "\n",
      "FileName = 1car.jpg\n",
      "['car', 'cat', 'bolt', 'motor', 'airplane', 'glove', 'dog', 'ca    t']\n",
      "[26.548, 8.95259, 3.6068, 0.20022, 0.19202, -1.66395, -6.9062, -8.67238]\n",
      "\n",
      "FileName = 2car.jpg\n",
      "['car', 'airplane', 'glove', 'motor', 'bolt', 'cat', 'dog', 'ca    t']\n",
      "[16.55986, 4.09262, 2.8397, 2.83237, 1.10444, -4.81386, -5.22469, -5.28113]\n",
      "\n",
      "FileName = 1air.jpg\n",
      "['airplane', 'bolt', 'car', 'glove', 'motor', 'cat', 'ca    t', 'dog']\n",
      "[12.30258, 6.9042, 6.03013, -1.50766, -3.09836, -3.22747, -5.10453, -10.52332]\n",
      "\n",
      "FileName = 1glove.jpg\n",
      "['glove', 'motor', 'car', 'bolt', 'dog', 'cat', 'airplane', 'ca    t']\n",
      "[19.07352, 5.82316, 5.51746, 0.06548, -4.3815, -4.41928, -6.39849, -9.44066]\n",
      "\n"
     ]
    }
   ],
   "source": [
    "files = {\n",
    "         'files000001':  open('/home/dev/hoyai/demo/data/airplane/1air.jpg','rb')\n",
    "        ,'files000002':  open('/home/dev/hoyai/demo/data/airplane/2air.jpg','rb')\n",
    "        ,'files000003':  open('/home/dev/hoyai/demo/data/bolt/1bolt.jpg','rb')\n",
    "        ,'files000004':  open('/home/dev/hoyai/demo/data/bolt/2bolt.jpg','rb')\n",
    "        ,'files000005':  open('/home/dev/hoyai/demo/data/car/1car.jpg','rb')\n",
    "        ,'files000006':  open('/home/dev/hoyai/demo/data/car/2car.jpg','rb')\n",
    "        ,'files000007':  open('/home/dev/hoyai/demo/data/glove/1glove.jpg','rb')\n",
    "        ,'files000008':  open('/home/dev/hoyai/demo/data/glove/2glove.jpg','rb')\n",
    "        ,'files000009':  open('/home/dev/hoyai/demo/data/motor/1motor.jpg','rb')\n",
    "        ,'files000010':  open('/home/dev/hoyai/demo/data/motor/2motor.jpg','rb')\n",
    "        }\n",
    "restURL = 'http://' + url + '/api/v1/type/service/state/predict/type/'+network_type+'/nnid/'+nn_id+'/ver/'+wf_ver_id+'/'\n",
    "\n",
    "resp = requests.post(restURL,\n",
    "                     files=files\n",
    "                     )\n",
    "data = json.loads(resp.json())\n",
    "\n",
    "for train in data:\n",
    "    print(\"FileName = \"+train)\n",
    "    print(data[train]['key'])\n",
    "    print(data[train]['val'])\n",
    "    print('')"
   ]
  },
  {
   "cell_type": "code",
   "execution_count": null,
   "metadata": {
    "collapsed": true
   },
   "outputs": [],
   "source": []
  }
 ],
 "metadata": {
  "anaconda-cloud": {},
  "kernelspec": {
   "display_name": "Python [default]",
   "language": "python",
   "name": "python3"
  },
  "language_info": {
   "codemirror_mode": {
    "name": "ipython",
    "version": 3
   },
   "file_extension": ".py",
   "mimetype": "text/x-python",
   "name": "python",
   "nbconvert_exporter": "python",
   "pygments_lexer": "ipython3",
   "version": "3.5.2"
  }
 },
 "nbformat": 4,
 "nbformat_minor": 0
}
